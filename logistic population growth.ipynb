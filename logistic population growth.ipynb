{
 "cells": [
  {
   "cell_type": "markdown",
   "metadata": {},
   "source": [
    "### Logistic Population Growth\n",
    "\n",
    "&nbsp;\n",
    "\n",
    "The logistic population growth model captures the growth of populations over time. It is a modification of the exponential growth model. It assumes limited amount of resources may inhibit population growth as the population approaches maximum capacity of the habitat. The equation is written below.\n",
    "\n",
    "$\\frac{dN}{dt} = r_{max} \\times \\frac {(K-N)} {K} \\times N $\n",
    "\n",
    "where\n",
    "\n",
    "$N$ denotes the population size\n",
    "\n",
    "$r_{max}$ denotes the intrinsic growth rate of the population (the rate at which the population would grow in the absence of limiting factors)\n",
    "\n",
    "$K$ denotes maximum capacity (carrying capacity) of the environment\n",
    "\n",
    "$t$ denotes time interval (could be discrete or continuous)\n",
    "\n",
    "&nbsp;\n",
    "\n",
    "Refer to the link below for more details of population growth model\n",
    "\n",
    "https://www.khanacademy.org/science/ap-biology/ecology-ap/population-ecology-ap/a/exponential-logistic-growth#:~:text=In%20logistic%20growth%2C%20a%20population's,produces%20an%20S%2Dshaped%20curve."
   ]
  },
  {
   "cell_type": "code",
   "execution_count": 1,
   "metadata": {},
   "outputs": [],
   "source": [
    "import numpy as np\n",
    "from scipy.integrate import odeint\n",
    "from scipy.optimize import minimize\n",
    "import matplotlib.pyplot as plt\n",
    "import pandas as pd"
   ]
  },
  {
   "cell_type": "markdown",
   "metadata": {},
   "source": [
    "### get data"
   ]
  },
  {
   "cell_type": "markdown",
   "metadata": {},
   "source": [
    "This script uses Tasmanian devils on Maria Island as an example. The Tasmanian devil experiment on Maria Island began in 2012 and involves the relocation of healthy Tasmanian devils from mainland Tasmania to Maria Island. The goal of the program is to establish a healthy population of Tasmanian devils on Maria Island that can eventually be reintroduced to the mainland to help bolster the wild population. Maria island is effectively the perfect spot without any external mortality factors. Thus, it is the best dataset for logistic population growth.\n",
    "\n",
    "Event Timeline\n",
    "\n",
    "* 2012 Nov +15\n",
    "* 2012 Dec -1\n",
    "* 2013 Nov +13\n",
    "* 2016 May -16\n",
    "* 2017 Nov +8\n",
    "* 2017 Jun -33\n",
    "* 2018 Jun -30\n",
    "\n",
    "Reference to Mark Recapture Estimate Data\n",
    "\n",
    "McLennan, E.A., Belov, K., Hogg, C.J. and Grueber, C.E., 2022. How much is enough? Sampling intensity influences estimates of reproductive variance in an introduced population. Ecological Applications, 32(1), p.e02462.\n",
    "\n",
    "https://esajournals.onlinelibrary.wiley.com/doi/abs/10.1002/eap.2462\n",
    "\n",
    "Reference to Removal Data\n",
    "\n",
    "Hogg, C.J., McLennan, E.A., Wise, P., Lee, A.V., Pemberton, D., Fox, S., Belov, K. and Grueber, C.E., 2020. Preserving the demographic and genetic integrity of a single source population during multiple translocations. Biological Conservation, 241, p.108318.\n",
    "\n",
    "https://www.sciencedirect.com/science/article/abs/pii/S0006320719308110\n",
    "\n"
   ]
  },
  {
   "cell_type": "code",
   "execution_count": 2,
   "metadata": {},
   "outputs": [],
   "source": [
    "target=[15, 14, 27, 99, 92, 96, 103]"
   ]
  },
  {
   "cell_type": "markdown",
   "metadata": {},
   "source": [
    "### functions"
   ]
  },
  {
   "cell_type": "code",
   "execution_count": 3,
   "metadata": {},
   "outputs": [],
   "source": [
    "#discrete time logistic population growth\n",
    "def logistic_growth(population,t,unknown):    \n",
    "    r_max,K=unknown\n",
    "    N=population[0]\n",
    "    dNdt=r_max*(K-N)*N/K    \n",
    "    return [dNdt]"
   ]
  },
  {
   "cell_type": "code",
   "execution_count": 4,
   "metadata": {},
   "outputs": [],
   "source": [
    "#form a dynamic system\n",
    "#Details of estimation of dynamic system parameters can be found in the link below\n",
    "# https://github.com/je-suis-tm/graph-theory/blob/master/Epidemic%20Outbreak%20project/Differential%20Equation/SARS%20differential.ipynb\n",
    "def dynamicsystem(unknown):\n",
    "    \n",
    "    t=range(len(target))\n",
    "        \n",
    "    #create a list to store fitted values\n",
    "    fitted=[None]*len(t)\n",
    "    \n",
    "    #initial value\n",
    "    fitted[0]=target[0]\n",
    "    \n",
    "    #population zero\n",
    "    N0=target[0]\n",
    "    \n",
    "    #there has been population manipulation throughout the process\n",
    "    deduction={0:-1,2:13,5:-16,6:-27}\n",
    "    \n",
    "    #compute the fitted value via iterations\n",
    "    for i in range(1,len(t)):\n",
    "        \n",
    "        interval=[t[i-1],t[i]]\n",
    "        \n",
    "        #wildlife addition and removal\n",
    "        if t[i-1] in deduction.keys():\n",
    "            N0+=deduction[t[i-1]]\n",
    "            \n",
    "        ans=odeint(func=logistic_growth,y0=N0,t=interval,args=(unknown,))\n",
    "            \n",
    "        #each iteration, the last fitted value becomes the initial value\n",
    "        N0=ans[-1]\n",
    "        \n",
    "        #update fitted via each iteration\n",
    "        fitted[i]=ans[-1][0]\n",
    "                \n",
    "    return fitted"
   ]
  },
  {
   "cell_type": "code",
   "execution_count": 5,
   "metadata": {},
   "outputs": [],
   "source": [
    "#the cost of least square is the sum of squared error\n",
    "def costfunction(unknown):    \n",
    "    fitted=dynamicsystem(unknown)    \n",
    "    cost=np.square(np.subtract(np.array(fitted),np.array(target))).sum()\n",
    "    return cost"
   ]
  },
  {
   "cell_type": "code",
   "execution_count": 6,
   "metadata": {},
   "outputs": [],
   "source": [
    "#using non linear least square to estimate the parameters of dynamic system\n",
    "def estimate(r_max_guess=0.5,K_guess=500,diagnosis=False,**kwargs):\n",
    "       \n",
    "    #sum of squared error from initial guess\n",
    "    sse=costfunction((r_max_guess,K_guess))\n",
    "    \n",
    "    if diagnosis:\n",
    "        print(f'Initial SSE: {round(sse,2)}')\n",
    "    \n",
    "    lse=minimize(costfunction,x0=(r_max_guess,K_guess),\n",
    "                 method='Nelder-Mead')\n",
    "        \n",
    "    if lse.success:   \n",
    "        \n",
    "        #sum of squared error from successful result\n",
    "        r_max,K=lse.x\n",
    "        sse=costfunction((r_max,K))\n",
    "        \n",
    "        if diagnosis:\n",
    "            print(f'Result SSE: {round(sse,2)}')\n",
    "        \n",
    "        return r_max,K\n",
    "        \n",
    "    else:\n",
    "        if diagnosis:\n",
    "            print(lse)\n",
    "        return 0,0"
   ]
  },
  {
   "cell_type": "markdown",
   "metadata": {},
   "source": [
    "### run"
   ]
  },
  {
   "cell_type": "code",
   "execution_count": 7,
   "metadata": {},
   "outputs": [],
   "source": [
    "r_max,K=estimate()"
   ]
  },
  {
   "cell_type": "code",
   "execution_count": 8,
   "metadata": {},
   "outputs": [
    {
     "data": {
      "image/png": "[encoded data removed]",
      "text/plain": [
       "<Figure size 432x288 with 1 Axes>"
      ]
     },
     "metadata": {
      "needs_background": "light"
     },
     "output_type": "display_data"
    }
   ],
   "source": [
    "plt.plot(range(2012,2019),dynamicsystem((r_max,K)),label='fitted')\n",
    "plt.scatter(range(2012,2019),target,c='red',label='actual')\n",
    "plt.title('Maria Island Logistic Population Growth')\n",
    "plt.xlabel('Year')\n",
    "plt.ylabel('Number of Tasmanian devils')\n",
    "plt.legend()\n",
    "plt.show()"
   ]
  },
  {
   "cell_type": "code",
   "execution_count": null,
   "metadata": {},
   "outputs": [],
   "source": []
  }
 ],
 "metadata": {
  "kernelspec": {
   "display_name": "Python 3",
   "language": "python",
   "name": "python3"
  },
  "language_info": {
   "codemirror_mode": {
    "name": "ipython",
    "version": 3
   },
   "file_extension": ".py",
   "mimetype": "text/x-python",
   "name": "python",
   "nbconvert_exporter": "python",
   "pygments_lexer": "ipython3",
   "version": "3.6.5"
  },
  "toc": {
   "base_numbering": 1,
   "nav_menu": {},
   "number_sections": true,
   "sideBar": true,
   "skip_h1_title": false,
   "title_cell": "Table of Contents",
   "title_sidebar": "Contents",
   "toc_cell": false,
   "toc_position": {},
   "toc_section_display": true,
   "toc_window_display": false
  }
 },
 "nbformat": 4,
 "nbformat_minor": 5
}
