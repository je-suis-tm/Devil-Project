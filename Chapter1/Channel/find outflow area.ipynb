{
 "cells": [
  {
   "cell_type": "code",
   "execution_count": 1,
   "id": "1c9873d9",
   "metadata": {},
   "outputs": [],
   "source": [
    "import numpy as np\n",
    "import os\n",
    "import matplotlib.pyplot as plt\n",
    "import pandas as pd\n",
    "os.chdir('C:/Users/tm/Downloads/utas/thesis/chapter1/channel')"
   ]
  },
  {
   "cell_type": "code",
   "execution_count": 2,
   "id": "418afb83",
   "metadata": {},
   "outputs": [],
   "source": [
    "#global vars\n",
    "gridlen=40\n",
    "radius=12"
   ]
  },
  {
   "cell_type": "code",
   "execution_count": 3,
   "id": "fbdb451b",
   "metadata": {},
   "outputs": [],
   "source": [
    "#read data\n",
    "df=pd.read_csv('mask.csv',header=None)"
   ]
  },
  {
   "cell_type": "code",
   "execution_count": 4,
   "id": "cee4ca57",
   "metadata": {},
   "outputs": [],
   "source": [
    "#prepare\n",
    "arr=np.array(df).flatten()"
   ]
  },
  {
   "cell_type": "code",
   "execution_count": 5,
   "id": "9d2c7f44",
   "metadata": {},
   "outputs": [],
   "source": [
    "#convert lattice to adjacency list\n",
    "check_matrix=arr.reshape(gridlen,gridlen)\n",
    "adj_list={}\n",
    "\n",
    "for i in range(gridlen**2):\n",
    "    current_tile=[i//gridlen,i%gridlen]\n",
    "    \n",
    "    if check_matrix[current_tile[0],current_tile[1]]!=255:\n",
    "        adj_list[i]=[]\n",
    "        \n",
    "        up=[current_tile[0]-1,current_tile[1]]\n",
    "        down=[current_tile[0]+1,current_tile[1]]\n",
    "        left=[current_tile[0],current_tile[1]-1]\n",
    "        right=[current_tile[0],current_tile[1]+1]\n",
    "\n",
    "        \n",
    "        if up[0]>=0 and check_matrix[current_tile[0]-1,current_tile[1]]!=255:\n",
    "            adj_list[i].append(i-gridlen)\n",
    "\n",
    "        if down[0]<gridlen and check_matrix[current_tile[0]+1,current_tile[1]]!=255:\n",
    "            adj_list[i].append(i+gridlen)\n",
    "        \n",
    "        if left[1]>=0 and check_matrix[current_tile[0],current_tile[1]-1]!=255:\n",
    "            adj_list[i].append(i-1)\n",
    "\n",
    "        if right[1]<gridlen and check_matrix[current_tile[0],current_tile[1]+1]!=255:\n",
    "            adj_list[i].append(i+1)\n",
    "            "
   ]
  },
  {
   "cell_type": "code",
   "execution_count": 6,
   "id": "02c14c81",
   "metadata": {},
   "outputs": [],
   "source": [
    "#use bfs to identify the grids required for validation within the radius\n",
    "counter=0\n",
    "stop=False\n",
    "lvl={}\n",
    "lvl[0]=np.where(np.isnan(arr))[0].tolist()\n",
    "radius=12\n",
    "while not stop:\n",
    "    \n",
    "    queue=[]\n",
    "    counter+=1\n",
    "    if counter==radius:\n",
    "        stop=True\n",
    "    for i in list(lvl.values())[-1]:\n",
    "        queue+=adj_list[i]\n",
    "    lvl[counter]=list(set(queue))\n",
    "\n",
    "validation_target=sorted(list(set([j for i in lvl.values() for j in i])))"
   ]
  },
  {
   "cell_type": "code",
   "execution_count": 7,
   "id": "38deabcb",
   "metadata": {},
   "outputs": [],
   "source": [
    "#result\n",
    "dispersal_cells=[i for i in validation_target if arr[i]==0]"
   ]
  },
  {
   "cell_type": "code",
   "execution_count": 8,
   "id": "30b057c7",
   "metadata": {},
   "outputs": [],
   "source": [
    "distance_matrix=[]\n",
    "for i in dispersal_cells:    \n",
    "    mindist=999\n",
    "    for j in np.where(np.isnan(arr))[0]:\n",
    "        p1=(i//gridlen,i%gridlen)\n",
    "        p2=(j//gridlen,j%gridlen)\n",
    "        \n",
    "        dist=((p1[0]-p2[0])**2+(p1[1]-p2[1])**2)**0.5\n",
    "        if mindist>dist:\n",
    "            mindist=dist\n",
    "    distance_matrix.append(mindist)"
   ]
  },
  {
   "cell_type": "code",
   "execution_count": 9,
   "id": "12999d4c",
   "metadata": {},
   "outputs": [],
   "source": [
    "#create dataframe for outflow area\n",
    "selected=pd.DataFrame(dispersal_cells,columns=['ID'])\n",
    "selected['selected']=dispersal_cells\n",
    "selected['distance']=distance_matrix\n",
    "selected.to_csv('./poems/selected.csv',index=False)"
   ]
  },
  {
   "cell_type": "code",
   "execution_count": 10,
   "id": "deb032da",
   "metadata": {},
   "outputs": [
    {
     "data": {
      "text/plain": [
       "<matplotlib.image.AxesImage at 0x1ed635068b0>"
      ]
     },
     "execution_count": 10,
     "metadata": {},
     "output_type": "execute_result"
    },
    {
     "data": {
      "image/png": "[encoded data removed]",
      "text/plain": [
       "<Figure size 640x480 with 1 Axes>"
      ]
     },
     "metadata": {},
     "output_type": "display_data"
    }
   ],
   "source": [
    "#viz\n",
    "viz=np.array(df)\n",
    "\n",
    "for i in dispersal_cells:\n",
    "    viz[i//gridlen,i%gridlen]=150\n",
    "\n",
    "plt.imshow(viz)"
   ]
  },
  {
   "cell_type": "code",
   "execution_count": null,
   "id": "85217938",
   "metadata": {},
   "outputs": [],
   "source": []
  }
 ],
 "metadata": {
  "kernelspec": {
   "display_name": "Python 3 (ipykernel)",
   "language": "python",
   "name": "python3"
  },
  "language_info": {
   "codemirror_mode": {
    "name": "ipython",
    "version": 3
   },
   "file_extension": ".py",
   "mimetype": "text/x-python",
   "name": "python",
   "nbconvert_exporter": "python",
   "pygments_lexer": "ipython3",
   "version": "3.8.17"
  },
  "toc": {
   "base_numbering": 1,
   "nav_menu": {},
   "number_sections": true,
   "sideBar": true,
   "skip_h1_title": false,
   "title_cell": "Table of Contents",
   "title_sidebar": "Contents",
   "toc_cell": false,
   "toc_position": {},
   "toc_section_display": true,
   "toc_window_display": false
  }
 },
 "nbformat": 4,
 "nbformat_minor": 5
}
