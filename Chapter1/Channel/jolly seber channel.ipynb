{
 "cells": [
  {
   "cell_type": "markdown",
   "id": "18003931",
   "metadata": {},
   "source": [
    "### Jolly Seber \n",
    "\n",
    "&nbsp;\n",
    "\n",
    "Jolly-Seber model a statistical method to estimate the size of animal populations based upon mark-recapture data. The process is straight forward. In the first step, a sample of the population is captured and marked with chips or tags. After marking, the captured individuals are released back into the wild. After an interval of time, another sample is taken which may include both previously captured (marked) and new (unmarked) individuals. The model assumes equal capture probability between marked and unmarked so the ratio between marked and unmarked can derive the potential population size. However, the model assumes closed population without migration, birth or death. Many advanced models take into account of individual heterogeneity in capture and survival probabilities and time-varying capture and survival rates. These models can provide more accurate and precise population estimates while addressing the limitations of the basic Jolly-Seber model."
   ]
  },
  {
   "cell_type": "code",
   "execution_count": 1,
   "id": "06c08072",
   "metadata": {},
   "outputs": [],
   "source": [
    "import os\n",
    "import pandas as pd\n",
    "import numpy as np\n",
    "import statsmodels.api as sm\n",
    "from pyproj import Proj\n",
    "import math\n",
    "import pyodbc\n",
    "os.chdir('C:/Users/tm/Downloads/utas/WildlifeDatabases')"
   ]
  },
  {
   "cell_type": "markdown",
   "id": "1b944701",
   "metadata": {},
   "source": [
    "### cleanse"
   ]
  },
  {
   "cell_type": "code",
   "execution_count": 2,
   "id": "47a97a18",
   "metadata": {},
   "outputs": [],
   "source": [
    "#  './arthur river/ARV_database_2022_11_CS.accdb','./black river/BRI_database_2022_11_CS.accdb',\n",
    "#          './freycinet/FNP_database_2022_11_KJS.accdb','./takone/TKN_database_2022_11_KJS.accdb',\n",
    "#          './west pencil pine/WPP_September_2022_11_KJS.accdb','./wukalina/Wukalina_NOV2020_SN.accdb'\n",
    "#  './crabtree/CBT_database_2022_11_KJS.accdb','./franklin/FRA_database_devil_2022_11_KJS.accdb',"
   ]
  },
  {
   "cell_type": "code",
   "execution_count": 3,
   "id": "62d670eb",
   "metadata": {},
   "outputs": [
    {
     "name": "stderr",
     "output_type": "stream",
     "text": [
      "C:\\Users\\tm\\AppData\\Local\\Temp\\ipykernel_19604\\1923287904.py:11: UserWarning: pandas only supports SQLAlchemy connectable (engine/connection) or database string URI or sqlite3 DBAPI2 connection. Other DBAPI2 objects are not tested. Please consider using SQLAlchemy.\n",
      "  traps=pd.concat([traps,pd.read_sql('select * from traps',conn)])\n",
      "C:\\Users\\tm\\AppData\\Local\\Temp\\ipykernel_19604\\1923287904.py:12: UserWarning: pandas only supports SQLAlchemy connectable (engine/connection) or database string URI or sqlite3 DBAPI2 connection. Other DBAPI2 objects are not tested. Please consider using SQLAlchemy.\n",
      "  traphist=pd.concat([traphist,pd.read_sql('select * from traphistory',conn)])\n"
     ]
    }
   ],
   "source": [
    "traphist=pd.DataFrame(columns=['ID', 'TrapID', 'DateOfUse', 'Event', 'CaptureType', 'Microchip',\n",
    "       'Comment'])\n",
    "\n",
    "traps=pd.DataFrame(columns=['TrapID', 'Northing', 'Easting', 'Comments', 'TrapLine', 'Researcher'])\n",
    "\n",
    "for i in [\n",
    "         './woodbridge sandfly/Channel_database_devil_2022_06_KJS.accdb',\n",
    "        ]:\n",
    "\n",
    "    conn = pyodbc.connect(r'Driver={Microsoft Access Driver (*.mdb, *.accdb)};DBQ='+f'{i};')\n",
    "    traps=pd.concat([traps,pd.read_sql('select * from traps',conn)])\n",
    "    traphist=pd.concat([traphist,pd.read_sql('select * from traphistory',conn)])\n",
    "    traps.reset_index(inplace=True,drop=True)\n",
    "    traphist.reset_index(inplace=True,drop=True)"
   ]
  },
  {
   "cell_type": "code",
   "execution_count": 4,
   "id": "c9dc7e0d",
   "metadata": {},
   "outputs": [],
   "source": [
    "#focus on recapture\n",
    "traphist=traphist[traphist['Event'].isin(['Tasmanian devil','Tasmanian Devil',])].copy()\n",
    "\n",
    "#remove null microchip\n",
    "traphist=traphist.loc[traphist['Microchip'].dropna().index]\n",
    "\n",
    "#remove duplicates\n",
    "traphist=traphist.loc[traphist[['Microchip','DateOfUse']].drop_duplicates().index]"
   ]
  },
  {
   "cell_type": "code",
   "execution_count": 5,
   "id": "9d0351c8",
   "metadata": {},
   "outputs": [],
   "source": [
    "#sort by date\n",
    "grande=traphist[['Microchip','DateOfUse',]].sort_values(\n",
    "    ['Microchip','DateOfUse'])\n",
    "grande.reset_index(inplace=True,drop=True)\n",
    "\n",
    "#datetimeindex\n",
    "grande['DateOfUse']=pd.to_datetime(grande['DateOfUse'])"
   ]
  },
  {
   "cell_type": "code",
   "execution_count": 6,
   "id": "f1578c5c",
   "metadata": {},
   "outputs": [],
   "source": [
    "#for each year,each devil only counts once\n",
    "grande['year']=grande['DateOfUse'].dt.year\n",
    "pop_raw=grande.loc[grande[['year','Microchip']].drop_duplicates().index]"
   ]
  },
  {
   "cell_type": "code",
   "execution_count": 7,
   "id": "41ef2a49",
   "metadata": {},
   "outputs": [],
   "source": [
    "#sort by year\n",
    "pop_raw=pop_raw.sort_values(['year','Microchip'])"
   ]
  },
  {
   "cell_type": "code",
   "execution_count": 8,
   "id": "1d7b8e98",
   "metadata": {},
   "outputs": [],
   "source": [
    "#create a dictionary which host last capture and recent capture date\n",
    "dic={}\n",
    "for i in pop_raw['year'].unique():\n",
    "    for j in pop_raw['year'].unique():\n",
    "        if i<j:\n",
    "            dic[(i,j)]=0"
   ]
  },
  {
   "cell_type": "code",
   "execution_count": 9,
   "id": "1175e82b",
   "metadata": {},
   "outputs": [],
   "source": [
    "#find last capture and recent capture date for each individual\n",
    "for i in pop_raw['Microchip'].unique():\n",
    "    subset=pop_raw[pop_raw['Microchip']==i].copy()\n",
    "    if len(subset)>=2:\n",
    "        dic[tuple(subset['year'].iloc[:2].tolist())]+=1"
   ]
  },
  {
   "cell_type": "code",
   "execution_count": 10,
   "id": "1d823f95",
   "metadata": {},
   "outputs": [],
   "source": [
    "#compute recaptured animals in that year\n",
    "total_marked=[sum([dic[j] for j in dic if j[1]==i]) for i in pop_raw['year'].unique()]\n",
    "\n",
    "#compute total caught animals in that year\n",
    "total_caught=pop_raw.groupby('year').count()['Microchip'].tolist()\n",
    "\n",
    "#compute the difference between caught and recaptured\n",
    "total_unmarked=[total_caught[i]-total_marked[i] for i in range(len(total_caught))]\n",
    "\n",
    "#always release animals caught\n",
    "total_released=total_caught"
   ]
  },
  {
   "cell_type": "code",
   "execution_count": 11,
   "id": "96ee5864",
   "metadata": {},
   "outputs": [],
   "source": [
    "total_caught_after=[]\n",
    "total_recapture=[]\n",
    "for i in pop_raw['year'].unique():\n",
    "    year_before=[j for j in pop_raw['year'].unique() if j<i]\n",
    "    year_after=[j for j in pop_raw['year'].unique() if j>i]\n",
    "    \n",
    "    #compute the animals caught before that year and recaptured after that year\n",
    "    total_caught_after.append(sum([dic[(j,k)] for j in year_before for k in year_after]))\n",
    "    \n",
    "    #compute the animals caught that year and recaptured after that year\n",
    "    total_recapture.append(sum([dic[(i,k)] for k in year_after]))"
   ]
  },
  {
   "cell_type": "code",
   "execution_count": 12,
   "id": "5ac5fd99",
   "metadata": {},
   "outputs": [],
   "source": [
    "#estimate the population\n",
    "pop_est=[]\n",
    "for i in range(len(total_caught_after)):\n",
    "    portions_animals_marked=((total_marked[i]+1)/(total_released[i]+1))\n",
    "    estimated_marked_population=((total_released[i]+1)*total_caught_after[i])/(total_recapture[i]+1)+total_marked[i]\n",
    "    num=estimated_marked_population/portions_animals_marked\n",
    "    pop_est.append(num)"
   ]
  },
  {
   "cell_type": "code",
   "execution_count": 13,
   "id": "5ce158bc",
   "metadata": {
    "scrolled": false
   },
   "outputs": [
    {
     "data": {
      "text/html": [
       "<div>\n",
       "<style scoped>\n",
       "    .dataframe tbody tr th:only-of-type {\n",
       "        vertical-align: middle;\n",
       "    }\n",
       "\n",
       "    .dataframe tbody tr th {\n",
       "        vertical-align: top;\n",
       "    }\n",
       "\n",
       "    .dataframe thead th {\n",
       "        text-align: right;\n",
       "    }\n",
       "</style>\n",
       "<table border=\"1\" class=\"dataframe\">\n",
       "  <thead>\n",
       "    <tr style=\"text-align: right;\">\n",
       "      <th></th>\n",
       "      <th>year</th>\n",
       "      <th>population</th>\n",
       "    </tr>\n",
       "  </thead>\n",
       "  <tbody>\n",
       "    <tr>\n",
       "      <th>0</th>\n",
       "      <td>2005</td>\n",
       "      <td>0.000000</td>\n",
       "    </tr>\n",
       "    <tr>\n",
       "      <th>1</th>\n",
       "      <td>2011</td>\n",
       "      <td>0.000000</td>\n",
       "    </tr>\n",
       "    <tr>\n",
       "      <th>2</th>\n",
       "      <td>2012</td>\n",
       "      <td>7.000000</td>\n",
       "    </tr>\n",
       "    <tr>\n",
       "      <th>3</th>\n",
       "      <td>2013</td>\n",
       "      <td>0.000000</td>\n",
       "    </tr>\n",
       "    <tr>\n",
       "      <th>4</th>\n",
       "      <td>2014</td>\n",
       "      <td>0.000000</td>\n",
       "    </tr>\n",
       "    <tr>\n",
       "      <th>5</th>\n",
       "      <td>2018</td>\n",
       "      <td>0.000000</td>\n",
       "    </tr>\n",
       "    <tr>\n",
       "      <th>6</th>\n",
       "      <td>2019</td>\n",
       "      <td>108.444444</td>\n",
       "    </tr>\n",
       "    <tr>\n",
       "      <th>7</th>\n",
       "      <td>2020</td>\n",
       "      <td>113.050000</td>\n",
       "    </tr>\n",
       "    <tr>\n",
       "      <th>8</th>\n",
       "      <td>2021</td>\n",
       "      <td>120.489796</td>\n",
       "    </tr>\n",
       "    <tr>\n",
       "      <th>9</th>\n",
       "      <td>2022</td>\n",
       "      <td>56.318182</td>\n",
       "    </tr>\n",
       "  </tbody>\n",
       "</table>\n",
       "</div>"
      ],
      "text/plain": [
       "   year  population\n",
       "0  2005    0.000000\n",
       "1  2011    0.000000\n",
       "2  2012    7.000000\n",
       "3  2013    0.000000\n",
       "4  2014    0.000000\n",
       "5  2018    0.000000\n",
       "6  2019  108.444444\n",
       "7  2020  113.050000\n",
       "8  2021  120.489796\n",
       "9  2022   56.318182"
      ]
     },
     "execution_count": 13,
     "metadata": {},
     "output_type": "execute_result"
    }
   ],
   "source": [
    "export=pd.DataFrame()\n",
    "\n",
    "export['year']=pop_raw['year'].unique()\n",
    "\n",
    "export['population']=pop_est\n",
    "\n",
    "export.to_csv('C:/Users/tm/Downloads/utas/thesis/chapter1/channel/poems/population.csv',index=False)\n",
    "\n",
    "export"
   ]
  },
  {
   "cell_type": "code",
   "execution_count": null,
   "id": "700a8459",
   "metadata": {},
   "outputs": [],
   "source": []
  }
 ],
 "metadata": {
  "kernelspec": {
   "display_name": "Python 3 (ipykernel)",
   "language": "python",
   "name": "python3"
  },
  "language_info": {
   "codemirror_mode": {
    "name": "ipython",
    "version": 3
   },
   "file_extension": ".py",
   "mimetype": "text/x-python",
   "name": "python",
   "nbconvert_exporter": "python",
   "pygments_lexer": "ipython3",
   "version": "3.11.4"
  },
  "toc": {
   "base_numbering": 1,
   "nav_menu": {},
   "number_sections": true,
   "sideBar": true,
   "skip_h1_title": false,
   "title_cell": "Table of Contents",
   "title_sidebar": "Contents",
   "toc_cell": false,
   "toc_position": {},
   "toc_section_display": true,
   "toc_window_display": false
  }
 },
 "nbformat": 4,
 "nbformat_minor": 5
}
