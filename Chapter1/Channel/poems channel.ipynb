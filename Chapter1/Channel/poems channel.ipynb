{
 "cells": [
  {
   "cell_type": "markdown",
   "id": "764f1bc0",
   "metadata": {},
   "source": [
    "## Setup\n",
    "\n",
    "As before, We begin by loading the necessary packages and setting a\n",
    "temporary output directory."
   ]
  },
  {
   "cell_type": "code",
   "execution_count": 1,
   "id": "1a72af09",
   "metadata": {},
   "outputs": [],
   "source": [
    "setwd('C:/Users/tm/Downloads/utas/thesis/chapter1/channel/poems')\n",
    "library(poems)\n",
    "OUTPUT_DIR='C:/Users/tm/Downloads/utas/thesis/chapter1/channel/poems'\n",
    "\n",
    "# function to round to any arbitrary value\n",
    "round_any <- function(x, accuracy, f = round) {\n",
    "  f(x/ accuracy) * accuracy\n",
    "}"
   ]
  },
  {
   "cell_type": "markdown",
   "id": "e7142b55",
   "metadata": {},
   "source": [
    "### read data"
   ]
  },
  {
   "cell_type": "code",
   "execution_count": 2,
   "id": "787ba9a0",
   "metadata": {},
   "outputs": [],
   "source": [
    "#this is the land area of channel\n",
    "baselayer=read.csv('baselayer.csv')\n",
    "baselayer=subset(baselayer, grid == 0)\n",
    "landarea=c(as.numeric(row.names(baselayer)))"
   ]
  },
  {
   "cell_type": "code",
   "execution_count": 3,
   "id": "60634fd8",
   "metadata": {},
   "outputs": [],
   "source": [
    "#this is the reindexed validation area of channel against land area\n",
    "identity=read.csv('identity.csv')"
   ]
  },
  {
   "cell_type": "code",
   "execution_count": 4,
   "id": "ce7e7dbf",
   "metadata": {},
   "outputs": [],
   "source": [
    "#population size\n",
    "#estimated via cormack jolly seber\n",
    "# https://github.com/je-suis-tm/Devil-Project/blob/main/Chapter1/Channel/jolly%20seber%20channel.ipynb\n",
    "population_est=read.csv('population.csv')\n",
    "population_size=as.array(population_est$population)"
   ]
  },
  {
   "cell_type": "code",
   "execution_count": 5,
   "id": "ff8240fd",
   "metadata": {},
   "outputs": [],
   "source": [
    "#areas that are 12 km from the border\n",
    "# https://github.com/je-suis-tm/Devil-Project/blob/main/Chapter1/Channel/find%20outflow%20area.ipynb\n",
    "outflow_area=read.csv('selected.csv')\n",
    "outflow_selected=as.array(outflow_area$selected)\n",
    "outflow_distance=as.array(outflow_area$distance)"
   ]
  },
  {
   "cell_type": "code",
   "execution_count": 6,
   "id": "9a1a8d81",
   "metadata": {},
   "outputs": [],
   "source": [
    "# Read CSV file into a vector\n",
    "flat_arr <- as.vector(as.matrix(read.csv(\"mask.csv\", header = FALSE)))\n",
    "\n",
    "# Find indices where elements are NA (null)\n",
    "border <- which(is.na(flat_arr))"
   ]
  },
  {
   "cell_type": "code",
   "execution_count": 7,
   "id": "3692918f",
   "metadata": {},
   "outputs": [],
   "source": [
    "#this is the validation area of channel\n",
    "valid=read.csv('validation.csv')\n",
    "valid=subset(valid, target == 1)\n",
    "validation_target=c(as.numeric(row.names(valid)))"
   ]
  },
  {
   "cell_type": "code",
   "execution_count": 8,
   "id": "ea2091e4",
   "metadata": {},
   "outputs": [],
   "source": [
    "#habitat suitability map\n",
    "#estimated via vegetation,altitude\n",
    "# https://github.com/je-suis-tm/Devil-Project/blob/main/Chapter1/Channel/habitat%20suitability%20channel.ipynb\n",
    "suitability=read.csv('suitability.csv')\n",
    "\n",
    "#set the floor of habitat suitability to 0.7\n",
    "suitability$pred=(suitability$pred-min(suitability$pred))/(max(suitability$pred)-min(suitability$pred))*(1-0.7)+0.7"
   ]
  },
  {
   "cell_type": "markdown",
   "id": "bee74a1d",
   "metadata": {},
   "source": [
    "### known variables"
   ]
  },
  {
   "cell_type": "code",
   "execution_count": 9,
   "id": "7058cb80",
   "metadata": {},
   "outputs": [],
   "source": [
    "#dispersal portion and avg distance\n",
    "known_dispersal_p = 0.33074\n",
    "known_dispersal_b = 9.81105"
   ]
  },
  {
   "cell_type": "code",
   "execution_count": 10,
   "id": "ac00767b",
   "metadata": {},
   "outputs": [],
   "source": [
    "#baseline matrix\n",
    "# https://github.com/je-suis-tm/Devil-Project/blob/main/Chapter1/Tasman/baseline%20matrix%20tasman.ipynb\n",
    "leslie_matrix=c(0.        , 0.489, 1.4539, 1.947, 1.5079,0.547 ,\n",
    "                1, 0.        , 0.        , 0.        ,\n",
    "       0.        , 0.        , 0.        , 0.976 , 0.        ,\n",
    "       0.        , 0.        , 0.        , 0.        , 0.        ,\n",
    "       0.899, 0.        , 0.        , 0.        , 0.        ,\n",
    "       0.        , 0.        , 0.84, 0.        , 0.        ,\n",
    "       0.        , 0.        , 0.        , 0.        , 0.791,\n",
    "       0.791      )\n",
    "agegroup=c(\"y0\",\"y1\",\"y2\",\"y3\",\"y4\",\"y5\")"
   ]
  },
  {
   "cell_type": "code",
   "execution_count": 11,
   "id": "f0ce24ca",
   "metadata": {},
   "outputs": [],
   "source": [
    "#how many grid cells\n",
    "gridlen=40\n",
    "\n",
    "#coordinates extreme value\n",
    "lonmin=146.87034933151315\n",
    "lonmax=147.3427777451974\n",
    "latmin=-43.307913\n",
    "latmax=-42.95820098835541"
   ]
  },
  {
   "cell_type": "code",
   "execution_count": 12,
   "id": "f546b72b",
   "metadata": {},
   "outputs": [],
   "source": [
    "#years of simulation\n",
    "simulation_years=7\n",
    "\n",
    "#simulation timeframe per round\n",
    "simulation_intervals=1\n",
    "\n",
    "#number of simulations\n",
    "num_of_sims=100"
   ]
  },
  {
   "cell_type": "code",
   "execution_count": 13,
   "id": "b3f75c48",
   "metadata": {},
   "outputs": [],
   "source": [
    "#area name\n",
    "areaname='Channel'"
   ]
  },
  {
   "cell_type": "markdown",
   "id": "539ad71a",
   "metadata": {},
   "source": [
    "### Step 1: Build the population model for the study region\n",
    "\n",
    "##### Study region"
   ]
  },
  {
   "cell_type": "code",
   "execution_count": 14,
   "id": "ef4e3203",
   "metadata": {},
   "outputs": [
    {
     "data": {
      "text/html": [
       "0.011810710342106"
      ],
      "text/latex": [
       "0.011810710342106"
      ],
      "text/markdown": [
       "0.011810710342106"
      ],
      "text/plain": [
       "[1] 0.01181071"
      ]
     },
     "metadata": {},
     "output_type": "display_data"
    },
    {
     "data": {
      "text/html": [
       "0.00874280029111478"
      ],
      "text/latex": [
       "0.00874280029111478"
      ],
      "text/markdown": [
       "0.00874280029111478"
      ],
      "text/plain": [
       "[1] 0.0087428"
      ]
     },
     "metadata": {},
     "output_type": "display_data"
    }
   ],
   "source": [
    "(lonmax-lonmin)/gridlen\n",
    "(latmax-latmin)/gridlen"
   ]
  },
  {
   "cell_type": "code",
   "execution_count": 15,
   "id": "6dbf0a2d",
   "metadata": {},
   "outputs": [
    {
     "data": {
      "image/png": "[encoded data removed]",
      "text/plain": [
       "Plot with title \"Channel\""
      ]
     },
     "metadata": {
      "image/png": {
       "height": 420,
       "width": 420
      }
     },
     "output_type": "display_data"
    }
   ],
   "source": [
    "#build the raster of channel\n",
    "coordinates <- data.frame(x = rep(seq(lonmin, lonmax, 0.011910710342106035), gridlen),\n",
    "                          y = rep(seq(latmin, latmax, 0.008842800291114784),each= gridlen))\n",
    "template_raster <- Region$new(coordinates = coordinates)$region_raster # full extent\n",
    "template_raster[][-landarea] <- NA \n",
    "\n",
    "region <- Region$new(template_raster = template_raster)\n",
    "\n",
    "raster::plot(region$region_raster, main = areaname,\n",
    "             xlab = \"Longitude (degrees)\", ylab = \"Latitude (degrees)\",\n",
    "             colNA = \"blue\",)"
   ]
  },
  {
   "cell_type": "code",
   "execution_count": 16,
   "id": "eaca1846",
   "metadata": {},
   "outputs": [
    {
     "data": {
      "image/png": "[encoded data removed]",
      "text/plain": [
       "Plot with title \"Validation Area\""
      ]
     },
     "metadata": {
      "image/png": {
       "height": 420,
       "width": 420
      }
     },
     "output_type": "display_data"
    }
   ],
   "source": [
    "# Example validation area\n",
    "example_vt_raster <- region$region_raster\n",
    "example_vt_raster[landarea] <- 50\n",
    "example_vt_raster[validation_target] <- 1000\n",
    "example_vt_raster[-landarea]<- NA\n",
    "raster::plot(example_vt_raster, main = \"Validation Area\",alpha=0.5,legend = FALSE,\n",
    "             xlab = \"Longitude (degrees)\", ylab = \"Latitude (degrees)\",\n",
    "             colNA = \"blue\")"
   ]
  },
  {
   "cell_type": "markdown",
   "id": "4bf76017",
   "metadata": {},
   "source": [
    "### Habitat suitability"
   ]
  },
  {
   "cell_type": "code",
   "execution_count": 17,
   "id": "5c738691",
   "metadata": {},
   "outputs": [
    {
     "data": {
      "image/png": "[encoded data removed]",
      "text/plain": [
       "Plot with title \"Example habitat suitability\""
      ]
     },
     "metadata": {
      "image/png": {
       "height": 420,
       "width": 420
      }
     },
     "output_type": "display_data"
    }
   ],
   "source": [
    "# Example habitat suitability\n",
    "example_hs=suitability$pred\n",
    "example_hs_raster <- region$region_raster\n",
    "example_hs_raster[region$region_indices] <- example_hs\n",
    "raster::plot(example_hs_raster, main = \"Example habitat suitability\",\n",
    "             xlab = \"Longitude (degrees)\", ylab = \"Latitude (degrees)\",\n",
    "             colNA = \"blue\")"
   ]
  },
  {
   "cell_type": "markdown",
   "id": "2b6472ab",
   "metadata": {},
   "source": [
    "### Environmental correlation\n",
    "\n",
    "Next, we'll define a distance-based spatial correlation for applying\n",
    "environmental stochasticity within our model. The generated correlation\n",
    "data is compacted for computational efficiency (with large-scale\n",
    "models)."
   ]
  },
  {
   "cell_type": "code",
   "execution_count": 18,
   "id": "d41a9d01",
   "metadata": {},
   "outputs": [],
   "source": [
    "# Distance-based environmental correlation (via a compacted Cholesky decomposition)\n",
    "env_corr <- SpatialCorrelation$new(region = region, \n",
    "                                   amplitude = 0.496, \n",
    "                                   breadth = 80, \n",
    "                                   distance_scale = 1000)\n",
    "correlation <- env_corr$get_compact_decomposition(decimals = 2)"
   ]
  },
  {
   "cell_type": "markdown",
   "id": "64878795",
   "metadata": {},
   "source": [
    "## Step 2: Setup the translocation function\n",
    "\n",
    "Here we generate a custom *Translocation* class object. This object can\n",
    "be used to translocate populations from one location to another, or as\n",
    "shown here, to introduce populations at defined locations and timesteps.\n",
    "The function could also be expanded to introduce varying number of\n",
    "animals at each site. For simplicity sake, this example releases the\n",
    "same number of animals at all locations.\n",
    "\n",
    "### Introduction times\n",
    "\n",
    "We also define the timesteps that the introductions should occur. These\n",
    "timesteps are sequential from 1, and are not defined by, for example,\n",
    "calendar years."
   ]
  },
  {
   "cell_type": "code",
   "execution_count": 19,
   "id": "811ffcec",
   "metadata": {
    "scrolled": true
   },
   "outputs": [],
   "source": [
    "intro_times <- c(2, 3, 4)"
   ]
  },
  {
   "cell_type": "markdown",
   "id": "2988ce54",
   "metadata": {},
   "source": [
    "### Introduction sites"
   ]
  },
  {
   "cell_type": "code",
   "execution_count": 20,
   "id": "ccc14316",
   "metadata": {},
   "outputs": [],
   "source": [
    "intro_cells <- outflow_selected"
   ]
  },
  {
   "cell_type": "code",
   "execution_count": 21,
   "id": "17ada77b",
   "metadata": {},
   "outputs": [],
   "source": [
    "compute_emigration_prob <- function(val, dispersal_p, dispersal_b, gridlen) {\n",
    "  # Define the function to integrate\n",
    "  dispersal_prob <- function(x) { dispersal_p * exp(-x / dispersal_b) }\n",
    "  \n",
    "  # Compute the integral from 0 to distance outside of channel\n",
    "  dispersal_integral_max <- integrate(dispersal_prob, lower = 0, upper = gridlen)$value\n",
    "  \n",
    "  # Compute emigration probability\n",
    "  outflow_prob <- 1 - integrate(dispersal_prob, lower = 0, upper = val)$value / dispersal_integral_max\n",
    "  \n",
    "  # Return the emigration probability\n",
    "  return(outflow_prob)\n",
    "}\n",
    "\n",
    "#compute emigration probability based on cumulative probability function\n",
    "intro_prob=sapply(outflow_distance, compute_emigration_prob, known_dispersal_p, \n",
    "                known_dispersal_b, gridlen)"
   ]
  },
  {
   "cell_type": "code",
   "execution_count": 22,
   "id": "4c10cdc5",
   "metadata": {},
   "outputs": [],
   "source": [
    "#since its a peninsula, only half of the direcitons are going outside of the peninsula\n",
    "intro_prob=intro_prob/2"
   ]
  },
  {
   "cell_type": "markdown",
   "id": "b6660a45",
   "metadata": {},
   "source": [
    "### Translocation function\n",
    "\n",
    "Here we define the custom `translocation` function. It's simply a `list`\n",
    "object, with a nested function that uses parameters from the model to\n",
    "make changes to the simulated populations. Model the inflow and the outflow of the population in the peninsula. Inflow is randomly determined whereas outflow is based on cumulated probability function of the dispersal outside of the border.\n"
   ]
  },
  {
   "cell_type": "code",
   "execution_count": 23,
   "id": "8da281fd",
   "metadata": {},
   "outputs": [],
   "source": [
    "# User-defined translocation function (list-nested) and alias ####\n",
    "\n",
    "translocation <- list(\n",
    "  \n",
    "  # Function parameters (passed to function in params list)\n",
    "  intro_cells = intro_cells, # cells where pops are introduced\n",
    "  intro_prob=intro_prob, #dispersal probability\n",
    "  intro_timesteps = intro_times, # timesteps when introduced\n",
    "  region_indices = region$region_indices,\n",
    "  \n",
    "translocation_function = function(params) {\n",
    "  # Unpack parameters (used at every time step)\n",
    "  intro_cells <- params$intro_cells\n",
    "  intro_timesteps <- params$intro_timesteps\n",
    "  intro_prob <- params$intro_prob\n",
    "  simulator <- params$simulator\n",
    "  stages <- params$stages\n",
    "  populations <- params$populations\n",
    "  abundances <- params$abundance\n",
    "  region_indices <- params$region_indices\n",
    "  tm <- params$tm # timestep\n",
    "  sa <- params$stage_abundance\n",
    "  \n",
    "  # if introduction at timestep, introduce pops\n",
    "  if (tm %in% intro_timesteps) {\n",
    "      \n",
    "    rand_prob=runif(length(intro_cells))\n",
    "    outflow_cells=intro_cells[intro_prob>rand_prob]\n",
    "      \n",
    "    # inflow of the population\n",
    "    inflow_n <- sample(0:2, length(which(region_indices == intro_cells[which(intro_timesteps == tm)])), replace = TRUE)\n",
    "      \n",
    "    # take stage abundance at timestep\n",
    "    new_sa <- array(sa, c(stages, populations))\n",
    "      \n",
    "      \n",
    "    #outflow       \n",
    "    outflow_loc <- which(region_indices == outflow_cells[which(intro_timesteps == tm)])\n",
    "    # add random number of individuals between 1 and 2 only if new_sa[outflow_loc] >= 0\n",
    "    new_sa[outflow_loc] <-  ifelse(new_sa[outflow_loc] >= 0, 0, new_sa[outflow_loc])\n",
    "      \n",
    "    #inflow\n",
    "    inflow_loc <- which(region_indices == intro_cells[which(intro_timesteps == tm)])\n",
    "      \n",
    "    # add random number of individuals \n",
    "    new_sa[inflow_loc] <-  new_sa[inflow_loc] + inflow_n     \n",
    "    \n",
    "    return(new_sa)\n",
    "      \n",
    "  } else {\n",
    "    # else return pops as they are\n",
    "    new_sa <- array(sa, c(stages, populations))\n",
    "    return(new_sa)\n",
    "  }\n",
    "  \n",
    "}\n",
    "\n",
    ")\n",
    "translocation_aliases <- list(intro_cells = \"translocation$intro_cells\",\n",
    "                              intro_times = \"translocation$intro_timesteps\",\n",
    "                              intro_prob = \"translocation$intro_prob\",\n",
    "                              region_indices = \"translocation$region_indices\")"
   ]
  },
  {
   "cell_type": "markdown",
   "id": "74221def",
   "metadata": {},
   "source": [
    "## Step 3: Build generators for dynamically generating model parameters\n",
    "\n"
   ]
  },
  {
   "cell_type": "markdown",
   "id": "f8d59344",
   "metadata": {},
   "source": [
    "### Dispersal generator\n",
    "\n",
    "This generator controls dispersal across our region based on mean\n",
    "dispersal distance and proportion of dispersers.\n"
   ]
  },
  {
   "cell_type": "code",
   "execution_count": 24,
   "id": "b936cf4c",
   "metadata": {
    "scrolled": true
   },
   "outputs": [
    {
     "name": "stderr",
     "output_type": "stream",
     "text": [
      "as(<dsCMatrix>, \"dgTMatrix\") is deprecated since Matrix 1.5-0; do as(as(., \"generalMatrix\"), \"TsparseMatrix\") instead\n",
      "\n"
     ]
    }
   ],
   "source": [
    "# Distance-based dispersal generator\n",
    "dispersal_gen <- DispersalGenerator$new(region = region,\n",
    "                                        dispersal_max_distance = 25, # in km \n",
    "                                        distance_scale = 1000,\n",
    "                                        dispersal_friction = DispersalFriction$new(),\n",
    "                                        inputs = c(\"dispersal_p\", \"dispersal_b\"),\n",
    "                                        decimals = 5)\n",
    "dispersal_gen$calculate_distance_data() # pre-calculate\n",
    "test_dispersal <- dispersal_gen$generate(input_values = list(dispersal_p = known_dispersal_p, \n",
    "                                                             dispersal_b = known_dispersal_b))\n",
    "#head(test_dispersal$dispersal_data[[1]])"
   ]
  },
  {
   "cell_type": "markdown",
   "id": "3bfece40",
   "metadata": {},
   "source": [
    "### Capacity generator"
   ]
  },
  {
   "cell_type": "code",
   "execution_count": 25,
   "id": "8a8faf1e",
   "metadata": {},
   "outputs": [],
   "source": [
    "# Initial abundance and carrying capacity generated via example habitat suitability\n",
    "capacity_gen <- Generator$new(description = \"Capacity generator\",\n",
    "                              example_hs = example_hs, # template attached\n",
    "                              inputs = c(\"initial_n\", \"density_max\"),\n",
    "                              outputs = c(\"initial_abundance\", \"carrying_capacity\"))\n",
    "capacity_gen$add_generative_requirements(list(initial_abundance = \"function\",\n",
    "                                              carrying_capacity = \"function\"))\n",
    "capacity_gen$add_function_template(\"initial_abundance\",\n",
    "                                   function_def = function(params) {\n",
    "                                       stats::rmultinom(1, size = params$initial_n,\n",
    "                                                      prob = params$example_hs)[,1]\n",
    "                                   },\n",
    "                                   call_params = c(\"initial_n\", \"example_hs\"))\n",
    "capacity_gen$add_function_template(\"carrying_capacity\",\n",
    "                                   function_def = function(params) {\n",
    "                                     round(params$density_max*params$example_hs)\n",
    "                                   },\n",
    "                                   call_params = c(\"density_max\", \"example_hs\"))\n",
    "# capacity_gen$generate(input_values = list(initial_n = 15, density_max = 15)) # test"
   ]
  },
  {
   "cell_type": "markdown",
   "id": "b7ebac51",
   "metadata": {},
   "source": [
    "### density dependent"
   ]
  },
  {
   "cell_type": "code",
   "execution_count": 26,
   "id": "2a13d418",
   "metadata": {},
   "outputs": [],
   "source": [
    "# Define neighborhoods (of up to 9 adjacent cells) based on a 1.414 km range from each \n",
    "# grid cell for density dependence calculations (using a dispersal generator)\n",
    "distance_data <- dispersal_gen$distance_data[[1]]\n",
    "nh_data <- distance_data[which(distance_data$distance_class <= 1.414), 2:1]\n",
    "\n",
    "neighborhoods <- as.list(1:length(landarea))\n",
    "for (i in 1:nrow(nh_data)) {\n",
    "  neighborhoods[[nh_data$source_pop[i]]] <- c(neighborhoods[[nh_data$source_pop[i]]],\n",
    "                                               nh_data$target_pop[i])\n",
    "}\n",
    "#neighborhoods[1:3] # examine"
   ]
  },
  {
   "cell_type": "code",
   "execution_count": 27,
   "id": "e891711b",
   "metadata": {},
   "outputs": [],
   "source": [
    "# User-defined function for Ricker logistic density dependence via neighborhoods\n",
    "density_dependence <- list(\n",
    "  neighborhoods = neighborhoods,\n",
    "  function (params) {\n",
    "    \n",
    "    # Apply logistic density dependence using neighborhoods\n",
    "    growth_rate_max <- params$growth_rate_max\n",
    "    nh_density_abundance <- unlist(lapply(params$neighborhoods,\n",
    "                                          function (nh_indices) {\n",
    "                                            sum(params$density_abundance[nh_indices])\n",
    "                                          }))\n",
    "    nh_carrying_capacity <- unlist(lapply(params$neighborhoods,\n",
    "                                          function (nh_indices) {\n",
    "                                            sum(params$carrying_capacity[nh_indices])\n",
    "                                          }))\n",
    "    occupied_indices <- params$occupied_indices\n",
    "    growth_rate <- growth_rate_max*(1 - (nh_density_abundance[occupied_indices]/\n",
    "                                           nh_carrying_capacity[occupied_indices]))\n",
    "    params$transition_array[, , occupied_indices] <-\n",
    "      params$apply_multipliers(params$transition_array[, , occupied_indices],\n",
    "                               params$calculate_multipliers(growth_rate))\n",
    "    \n",
    "    \n",
    "    # Remove fecundities for single thylacines\n",
    "    single_indices <- which(nh_density_abundance == 1)\n",
    "    params$transition_array[, , single_indices] <-\n",
    "      (params$transition_array[, , single_indices]*as.vector(+(!params$fecundity_mask)))\n",
    "    \n",
    "    return(params$transition_array)\n",
    "  }\n",
    ")"
   ]
  },
  {
   "cell_type": "markdown",
   "id": "c6a9a62d",
   "metadata": {},
   "source": [
    "## Step 4: Build a template model\n",
    "\n",
    "Using the generators we've built we can now test if our simple\n",
    "population model works as expected.\n",
    "\n",
    "[0. , 0.489, 1.4539, 1.947, 1.5079,0.547]\n",
    "\n",
    "[1.0, 0.0, 0.0, 0.0, 0.0, 0.0]\n",
    "\n",
    "[0.0, 0.976, 0.0, 0.0, 0.0, 0.0]\n",
    "\n",
    "[0.0, 0.0, 0.899, 0.0, 0.0, 0.0]\n",
    "\n",
    "[0.0, 0.0, 0.0, 0.84, 0.0, 0.0]\n",
    "\n",
    "[0.0, 0.0, 0.0, 0.0, 0.791, 0.0]"
   ]
  },
  {
   "cell_type": "code",
   "execution_count": 28,
   "id": "16e1bca3",
   "metadata": {},
   "outputs": [],
   "source": [
    "# Population (simulation) model template for fixed parameters\n",
    "stage_matrix <- matrix(leslie_matrix, nrow = length(agegroup), ncol = length(agegroup), byrow = TRUE,\n",
    "                       dimnames = list(agegroup,agegroup ))"
   ]
  },
  {
   "cell_type": "code",
   "execution_count": 29,
   "id": "af4e7d6d",
   "metadata": {},
   "outputs": [],
   "source": [
    "#stage_matrix # examine\n",
    "model_template <- PopulationModel$new(region = region,\n",
    "                                      time_steps = simulation_years, # years\n",
    "                                      years_per_step = simulation_intervals,\n",
    "                                      populations = region$region_cells, \n",
    "                                      stages = length(agegroup),\n",
    "                                      stage_matrix = stage_matrix,\n",
    "                                      demographic_stochasticity = TRUE,\n",
    "                                      standard_deviation = 0.05,                                      \n",
    "                                      density_dependence = density_dependence,\n",
    "                                      harvest = FALSE, # No harvest\n",
    "                                      dispersal = dispersal_gen,\n",
    "                                      translocation = translocation,\n",
    "                                      dispersal_source_n_k = list(threshold = 0.92, cutoff = 0),\n",
    "                                      simulation_order = c(\"translocation\", \"results\", \"transition\", \"dispersal\"),\n",
    "                                      random_seed = 20230210,\n",
    "                                      attribute_aliases = translocation_aliases,\n",
    "                                      results_selection = c(\"abundance\"))"
   ]
  },
  {
   "cell_type": "markdown",
   "id": "4f0a8ce5",
   "metadata": {},
   "source": [
    "## Step 5: Run multiple simulations\n",
    "\n",
    "In order to explore the model parameter space to find the best models,\n",
    "we generate Latin hypercube samples of model and generator parameters to\n",
    "be simulated, using the *LatinHypercubeSampler* class. This class has\n",
    "functionality for generating sample parameters via Uniform, Normal,\n",
    "Lognormal, Beta, and Triangular distributions. For our example we only\n",
    "generate 10 samples. Typically however, a user would need to generate\n",
    "thousands to tens of thousands, of samples.\n",
    "\n",
    "### Define the latin-hypercube for sampling"
   ]
  },
  {
   "cell_type": "code",
   "execution_count": 30,
   "id": "b68797eb",
   "metadata": {},
   "outputs": [],
   "source": [
    "# Generate sampled values for variable model parameters via LHS\n",
    "lhs_gen <- LatinHypercubeSampler$new()\n",
    "\n",
    "#logistic growth model 0.74\n",
    "# https://github.com/je-suis-tm/Devil-Project/blob/main/Chapter1/Channel/logistic%20population%20growth%20channel.ipynb\n",
    "lhs_gen$set_uniform_parameter(\"growth_rate_max\", lower = 0.2, upper = 0.9, decimals = 2)\n",
    "\n",
    "#max capacity 2\n",
    "lhs_gen$set_uniform_parameter(\"density_max\", lower = 0.1, upper = 3, decimals = 2)\n",
    "\n",
    "#automatically fetched\n",
    "lhs_gen$set_uniform_parameter(\"initial_n\", lower = as.integer(population_size[7]*0.5),\n",
    "                              upper = as.integer(population_size[7]*1.5), decimals = 0)\n",
    "lhs_gen$set_uniform_parameter(\"dispersal_p\", lower = known_dispersal_p*0.3, \n",
    "                              upper = known_dispersal_p*1.7, decimals = 4)\n",
    "lhs_gen$set_uniform_parameter(\"dispersal_b\", lower = as.integer(known_dispersal_b*0.5),\n",
    "                              upper = as.integer(known_dispersal_b*1.5), decimals = 2)\n",
    "sample_data <- lhs_gen$generate_samples(number = num_of_sims)\n",
    "\n",
    "#save as pickle\n",
    "save(sample_data, file=\"sample data.Rda\")"
   ]
  },
  {
   "cell_type": "markdown",
   "id": "c217bb8e",
   "metadata": {},
   "source": [
    "## Step 6: Extract results from simulations\n",
    "\n",
    "Now that the simulations have run, we can extract the modelled\n",
    "abundances. We now wish to collate summary results for each of our\n",
    "simulations via the *ResultsManager* class. This manager loads the\n",
    "results from each sample simulation into an intermediate\n",
    "*PopulationResults* class object, which dynamically generates further\n",
    "results. We need to define functions for calculating summary metrics, as\n",
    "well as any matrices (one row of values per simulation) that we may be\n",
    "interested in examining.\n",
    "\n",
    "We can see from above that the `run_output$summary` shows that there\n",
    "were a number of simulations that didn't complete successfully:"
   ]
  },
  {
   "cell_type": "code",
   "execution_count": 31,
   "id": "bac55db2",
   "metadata": {},
   "outputs": [
    {
     "data": {
      "text/html": [
       "'100 of 100 sample models ran and saved results successfully with warnings'"
      ],
      "text/latex": [
       "'100 of 100 sample models ran and saved results successfully with warnings'"
      ],
      "text/markdown": [
       "'100 of 100 sample models ran and saved results successfully with warnings'"
      ],
      "text/plain": [
       "[1] \"100 of 100 sample models ran and saved results successfully with warnings\""
      ]
     },
     "metadata": {},
     "output_type": "display_data"
    }
   ],
   "source": [
    "# Create a simulation manager and run the sampled model simulations\n",
    "sim_manager <- SimulationManager$new(sample_data = sample_data,\n",
    "                                     model_template = model_template,\n",
    "                                     generators = list(capacity_gen, dispersal_gen),\n",
    "                                     parallel_cores = 2,\n",
    "                                     results_dir = OUTPUT_DIR)\n",
    "run_output <- sim_manager$run(results_dir = tempdir())\n",
    "run_output$summary\n",
    "#dir(OUTPUT_DIR, \"*.RData\") # includes result files \n",
    "#dir(OUTPUT_DIR, \"*.txt\") # plus simulation log"
   ]
  },
  {
   "cell_type": "markdown",
   "id": "b4f2d5f1",
   "metadata": {},
   "source": [
    "\n",
    "\n",
    "### Extract results\n"
   ]
  },
  {
   "cell_type": "code",
   "execution_count": 32,
   "id": "9d1a68e7",
   "metadata": {},
   "outputs": [],
   "source": [
    "#validation area id\n",
    "iden=identity$ID"
   ]
  },
  {
   "cell_type": "code",
   "execution_count": 33,
   "id": "4a13ac45",
   "metadata": {},
   "outputs": [
    {
     "data": {
      "text/html": [
       "'100 of 100 summary metrics/matrices generated from sample results successfully'"
      ],
      "text/latex": [
       "'100 of 100 summary metrics/matrices generated from sample results successfully'"
      ],
      "text/markdown": [
       "'100 of 100 summary metrics/matrices generated from sample results successfully'"
      ],
      "text/plain": [
       "[1] \"100 of 100 summary metrics/matrices generated from sample results successfully\""
      ]
     },
     "metadata": {},
     "output_type": "display_data"
    }
   ],
   "source": [
    "results_manager <- ResultsManager$new(simulation_manager = sim_manager,\n",
    "                                      simulation_results = PopulationResults$new(),\n",
    "                                      summary_metrics = c(\"p2\",\"p3\",\"p4\"),\n",
    "                                      summary_matrices = c(\"n\"),\n",
    "                                      iden=identity$ID,\n",
    "                                      summary_functions = list(\n",
    "                                          \n",
    "                                          #results refer to actual output rdata file\n",
    "                                        p2 = function(results,iden) {\n",
    "                                          sum(results$abundance[iden,2])                                            \n",
    "                                        },                                          \n",
    "                                        p3 = function(results,iden) {\n",
    "                                          sum(results$abundance[iden,3])\n",
    "                                        },\n",
    "                                        p4 = function(results,iden) {\n",
    "                                          sum(results$abundance[iden,4])\n",
    "                                        },\n",
    "                                        n = \"abundance\"),\n",
    "                                      parallel_cores = 2)\n",
    "gen_output <- results_manager$generate()\n",
    "gen_output$summary\n",
    "#dir(OUTPUT_DIR, \"*.txt\") # plus generation log\n",
    "# results_manager$summary_metric_data\n",
    "# results_manager$summary_matrix_list"
   ]
  },
  {
   "cell_type": "code",
   "execution_count": 34,
   "id": "c9e5c85f",
   "metadata": {},
   "outputs": [],
   "source": [
    "#save as pickle\n",
    "save(results_manager, file=\"models.Rda\")"
   ]
  },
  {
   "cell_type": "markdown",
   "id": "64ab8b64",
   "metadata": {},
   "source": [
    "### validate"
   ]
  },
  {
   "cell_type": "code",
   "execution_count": 35,
   "id": "fae44d12",
   "metadata": {},
   "outputs": [],
   "source": [
    "#load pickle files so no need to retrain\n",
    "load(\"models.Rda\")\n",
    "load(\"sample data.Rda\")"
   ]
  },
  {
   "cell_type": "code",
   "execution_count": 36,
   "id": "845a6a47",
   "metadata": {
    "scrolled": true
   },
   "outputs": [
    {
     "data": {
      "text/html": [
       "<table class=\"dataframe\">\n",
       "<caption>A data.frame: 44 × 4</caption>\n",
       "<thead>\n",
       "\t<tr><th></th><th scope=col>index</th><th scope=col>p2</th><th scope=col>p3</th><th scope=col>p4</th></tr>\n",
       "\t<tr><th></th><th scope=col>&lt;int&gt;</th><th scope=col>&lt;dbl&gt;</th><th scope=col>&lt;dbl&gt;</th><th scope=col>&lt;dbl&gt;</th></tr>\n",
       "</thead>\n",
       "<tbody>\n",
       "\t<tr><th scope=row>1</th><td> 1</td><td>NA</td><td>NA</td><td>NA</td></tr>\n",
       "\t<tr><th scope=row>2</th><td> 2</td><td>NA</td><td>NA</td><td>NA</td></tr>\n",
       "\t<tr><th scope=row>3</th><td> 3</td><td>NA</td><td>NA</td><td>NA</td></tr>\n",
       "\t<tr><th scope=row>4</th><td> 4</td><td>NA</td><td>NA</td><td>NA</td></tr>\n",
       "\t<tr><th scope=row>5</th><td> 5</td><td>NA</td><td>NA</td><td>NA</td></tr>\n",
       "\t<tr><th scope=row>7</th><td> 7</td><td>NA</td><td>NA</td><td>NA</td></tr>\n",
       "\t<tr><th scope=row>8</th><td> 8</td><td>NA</td><td>NA</td><td>NA</td></tr>\n",
       "\t<tr><th scope=row>10</th><td>10</td><td>NA</td><td>NA</td><td>NA</td></tr>\n",
       "\t<tr><th scope=row>11</th><td>11</td><td>NA</td><td>NA</td><td>NA</td></tr>\n",
       "\t<tr><th scope=row>12</th><td>12</td><td>NA</td><td>NA</td><td>NA</td></tr>\n",
       "\t<tr><th scope=row>19</th><td>19</td><td>NA</td><td>NA</td><td>NA</td></tr>\n",
       "\t<tr><th scope=row>20</th><td>20</td><td>NA</td><td>NA</td><td>NA</td></tr>\n",
       "\t<tr><th scope=row>21</th><td>21</td><td>NA</td><td>NA</td><td>NA</td></tr>\n",
       "\t<tr><th scope=row>27</th><td>27</td><td>NA</td><td>NA</td><td>NA</td></tr>\n",
       "\t<tr><th scope=row>28</th><td>28</td><td>NA</td><td>NA</td><td>NA</td></tr>\n",
       "\t<tr><th scope=row>30</th><td>30</td><td>NA</td><td>NA</td><td>NA</td></tr>\n",
       "\t<tr><th scope=row>35</th><td>35</td><td>NA</td><td>NA</td><td>NA</td></tr>\n",
       "\t<tr><th scope=row>37</th><td>37</td><td>NA</td><td>NA</td><td>NA</td></tr>\n",
       "\t<tr><th scope=row>38</th><td>38</td><td>NA</td><td>NA</td><td>NA</td></tr>\n",
       "\t<tr><th scope=row>39</th><td>39</td><td>NA</td><td>NA</td><td>NA</td></tr>\n",
       "\t<tr><th scope=row>41</th><td>41</td><td>NA</td><td>NA</td><td>NA</td></tr>\n",
       "\t<tr><th scope=row>42</th><td>42</td><td>NA</td><td>NA</td><td>NA</td></tr>\n",
       "\t<tr><th scope=row>43</th><td>43</td><td>NA</td><td>NA</td><td>NA</td></tr>\n",
       "\t<tr><th scope=row>45</th><td>45</td><td>NA</td><td>NA</td><td>NA</td></tr>\n",
       "\t<tr><th scope=row>49</th><td>49</td><td>NA</td><td>NA</td><td>NA</td></tr>\n",
       "\t<tr><th scope=row>52</th><td>52</td><td>NA</td><td>NA</td><td>NA</td></tr>\n",
       "\t<tr><th scope=row>58</th><td>58</td><td>NA</td><td>NA</td><td>NA</td></tr>\n",
       "\t<tr><th scope=row>61</th><td>61</td><td>NA</td><td>NA</td><td>NA</td></tr>\n",
       "\t<tr><th scope=row>62</th><td>62</td><td>NA</td><td>NA</td><td>NA</td></tr>\n",
       "\t<tr><th scope=row>67</th><td>67</td><td>NA</td><td>NA</td><td>NA</td></tr>\n",
       "\t<tr><th scope=row>69</th><td>69</td><td>NA</td><td>NA</td><td>NA</td></tr>\n",
       "\t<tr><th scope=row>70</th><td>70</td><td>NA</td><td>NA</td><td>NA</td></tr>\n",
       "\t<tr><th scope=row>73</th><td>73</td><td>NA</td><td>NA</td><td>NA</td></tr>\n",
       "\t<tr><th scope=row>78</th><td>78</td><td>NA</td><td>NA</td><td>NA</td></tr>\n",
       "\t<tr><th scope=row>79</th><td>79</td><td>NA</td><td>NA</td><td>NA</td></tr>\n",
       "\t<tr><th scope=row>80</th><td>80</td><td>NA</td><td>NA</td><td>NA</td></tr>\n",
       "\t<tr><th scope=row>81</th><td>81</td><td>NA</td><td>NA</td><td>NA</td></tr>\n",
       "\t<tr><th scope=row>82</th><td>82</td><td>NA</td><td>NA</td><td>NA</td></tr>\n",
       "\t<tr><th scope=row>83</th><td>83</td><td>NA</td><td>NA</td><td>NA</td></tr>\n",
       "\t<tr><th scope=row>89</th><td>89</td><td>NA</td><td>NA</td><td>NA</td></tr>\n",
       "\t<tr><th scope=row>91</th><td>91</td><td>NA</td><td>NA</td><td>NA</td></tr>\n",
       "\t<tr><th scope=row>95</th><td>95</td><td>NA</td><td>NA</td><td>NA</td></tr>\n",
       "\t<tr><th scope=row>96</th><td>96</td><td>NA</td><td>NA</td><td>NA</td></tr>\n",
       "\t<tr><th scope=row>98</th><td>98</td><td>NA</td><td>NA</td><td>NA</td></tr>\n",
       "</tbody>\n",
       "</table>\n"
      ],
      "text/latex": [
       "A data.frame: 44 × 4\n",
       "\\begin{tabular}{r|llll}\n",
       "  & index & p2 & p3 & p4\\\\\n",
       "  & <int> & <dbl> & <dbl> & <dbl>\\\\\n",
       "\\hline\n",
       "\t1 &  1 & NA & NA & NA\\\\\n",
       "\t2 &  2 & NA & NA & NA\\\\\n",
       "\t3 &  3 & NA & NA & NA\\\\\n",
       "\t4 &  4 & NA & NA & NA\\\\\n",
       "\t5 &  5 & NA & NA & NA\\\\\n",
       "\t7 &  7 & NA & NA & NA\\\\\n",
       "\t8 &  8 & NA & NA & NA\\\\\n",
       "\t10 & 10 & NA & NA & NA\\\\\n",
       "\t11 & 11 & NA & NA & NA\\\\\n",
       "\t12 & 12 & NA & NA & NA\\\\\n",
       "\t19 & 19 & NA & NA & NA\\\\\n",
       "\t20 & 20 & NA & NA & NA\\\\\n",
       "\t21 & 21 & NA & NA & NA\\\\\n",
       "\t27 & 27 & NA & NA & NA\\\\\n",
       "\t28 & 28 & NA & NA & NA\\\\\n",
       "\t30 & 30 & NA & NA & NA\\\\\n",
       "\t35 & 35 & NA & NA & NA\\\\\n",
       "\t37 & 37 & NA & NA & NA\\\\\n",
       "\t38 & 38 & NA & NA & NA\\\\\n",
       "\t39 & 39 & NA & NA & NA\\\\\n",
       "\t41 & 41 & NA & NA & NA\\\\\n",
       "\t42 & 42 & NA & NA & NA\\\\\n",
       "\t43 & 43 & NA & NA & NA\\\\\n",
       "\t45 & 45 & NA & NA & NA\\\\\n",
       "\t49 & 49 & NA & NA & NA\\\\\n",
       "\t52 & 52 & NA & NA & NA\\\\\n",
       "\t58 & 58 & NA & NA & NA\\\\\n",
       "\t61 & 61 & NA & NA & NA\\\\\n",
       "\t62 & 62 & NA & NA & NA\\\\\n",
       "\t67 & 67 & NA & NA & NA\\\\\n",
       "\t69 & 69 & NA & NA & NA\\\\\n",
       "\t70 & 70 & NA & NA & NA\\\\\n",
       "\t73 & 73 & NA & NA & NA\\\\\n",
       "\t78 & 78 & NA & NA & NA\\\\\n",
       "\t79 & 79 & NA & NA & NA\\\\\n",
       "\t80 & 80 & NA & NA & NA\\\\\n",
       "\t81 & 81 & NA & NA & NA\\\\\n",
       "\t82 & 82 & NA & NA & NA\\\\\n",
       "\t83 & 83 & NA & NA & NA\\\\\n",
       "\t89 & 89 & NA & NA & NA\\\\\n",
       "\t91 & 91 & NA & NA & NA\\\\\n",
       "\t95 & 95 & NA & NA & NA\\\\\n",
       "\t96 & 96 & NA & NA & NA\\\\\n",
       "\t98 & 98 & NA & NA & NA\\\\\n",
       "\\end{tabular}\n"
      ],
      "text/markdown": [
       "\n",
       "A data.frame: 44 × 4\n",
       "\n",
       "| <!--/--> | index &lt;int&gt; | p2 &lt;dbl&gt; | p3 &lt;dbl&gt; | p4 &lt;dbl&gt; |\n",
       "|---|---|---|---|---|\n",
       "| 1 |  1 | NA | NA | NA |\n",
       "| 2 |  2 | NA | NA | NA |\n",
       "| 3 |  3 | NA | NA | NA |\n",
       "| 4 |  4 | NA | NA | NA |\n",
       "| 5 |  5 | NA | NA | NA |\n",
       "| 7 |  7 | NA | NA | NA |\n",
       "| 8 |  8 | NA | NA | NA |\n",
       "| 10 | 10 | NA | NA | NA |\n",
       "| 11 | 11 | NA | NA | NA |\n",
       "| 12 | 12 | NA | NA | NA |\n",
       "| 19 | 19 | NA | NA | NA |\n",
       "| 20 | 20 | NA | NA | NA |\n",
       "| 21 | 21 | NA | NA | NA |\n",
       "| 27 | 27 | NA | NA | NA |\n",
       "| 28 | 28 | NA | NA | NA |\n",
       "| 30 | 30 | NA | NA | NA |\n",
       "| 35 | 35 | NA | NA | NA |\n",
       "| 37 | 37 | NA | NA | NA |\n",
       "| 38 | 38 | NA | NA | NA |\n",
       "| 39 | 39 | NA | NA | NA |\n",
       "| 41 | 41 | NA | NA | NA |\n",
       "| 42 | 42 | NA | NA | NA |\n",
       "| 43 | 43 | NA | NA | NA |\n",
       "| 45 | 45 | NA | NA | NA |\n",
       "| 49 | 49 | NA | NA | NA |\n",
       "| 52 | 52 | NA | NA | NA |\n",
       "| 58 | 58 | NA | NA | NA |\n",
       "| 61 | 61 | NA | NA | NA |\n",
       "| 62 | 62 | NA | NA | NA |\n",
       "| 67 | 67 | NA | NA | NA |\n",
       "| 69 | 69 | NA | NA | NA |\n",
       "| 70 | 70 | NA | NA | NA |\n",
       "| 73 | 73 | NA | NA | NA |\n",
       "| 78 | 78 | NA | NA | NA |\n",
       "| 79 | 79 | NA | NA | NA |\n",
       "| 80 | 80 | NA | NA | NA |\n",
       "| 81 | 81 | NA | NA | NA |\n",
       "| 82 | 82 | NA | NA | NA |\n",
       "| 83 | 83 | NA | NA | NA |\n",
       "| 89 | 89 | NA | NA | NA |\n",
       "| 91 | 91 | NA | NA | NA |\n",
       "| 95 | 95 | NA | NA | NA |\n",
       "| 96 | 96 | NA | NA | NA |\n",
       "| 98 | 98 | NA | NA | NA |\n",
       "\n"
      ],
      "text/plain": [
       "   index p2 p3 p4\n",
       "1   1    NA NA NA\n",
       "2   2    NA NA NA\n",
       "3   3    NA NA NA\n",
       "4   4    NA NA NA\n",
       "5   5    NA NA NA\n",
       "7   7    NA NA NA\n",
       "8   8    NA NA NA\n",
       "10 10    NA NA NA\n",
       "11 11    NA NA NA\n",
       "12 12    NA NA NA\n",
       "19 19    NA NA NA\n",
       "20 20    NA NA NA\n",
       "21 21    NA NA NA\n",
       "27 27    NA NA NA\n",
       "28 28    NA NA NA\n",
       "30 30    NA NA NA\n",
       "35 35    NA NA NA\n",
       "37 37    NA NA NA\n",
       "38 38    NA NA NA\n",
       "39 39    NA NA NA\n",
       "41 41    NA NA NA\n",
       "42 42    NA NA NA\n",
       "43 43    NA NA NA\n",
       "45 45    NA NA NA\n",
       "49 49    NA NA NA\n",
       "52 52    NA NA NA\n",
       "58 58    NA NA NA\n",
       "61 61    NA NA NA\n",
       "62 62    NA NA NA\n",
       "67 67    NA NA NA\n",
       "69 69    NA NA NA\n",
       "70 70    NA NA NA\n",
       "73 73    NA NA NA\n",
       "78 78    NA NA NA\n",
       "79 79    NA NA NA\n",
       "80 80    NA NA NA\n",
       "81 81    NA NA NA\n",
       "82 82    NA NA NA\n",
       "83 83    NA NA NA\n",
       "89 89    NA NA NA\n",
       "91 91    NA NA NA\n",
       "95 95    NA NA NA\n",
       "96 96    NA NA NA\n",
       "98 98    NA NA NA"
      ]
     },
     "metadata": {},
     "output_type": "display_data"
    }
   ],
   "source": [
    "#showna\n",
    "validation_var=results_manager$summary_metric_data\n",
    "validation_var[!complete.cases(validation_var),]"
   ]
  },
  {
   "cell_type": "code",
   "execution_count": 37,
   "id": "59614abd",
   "metadata": {},
   "outputs": [],
   "source": [
    "#list of na\n",
    "remove_index=which(!complete.cases(validation_var))"
   ]
  },
  {
   "cell_type": "code",
   "execution_count": 38,
   "id": "77318cb1",
   "metadata": {},
   "outputs": [],
   "source": [
    "# Create a validator for selecting the 'best' example models\n",
    "if (length(remove_index)==0)    {\n",
    "    validator <- Validator$new(simulation_parameters = sample_data,\n",
    "                           simulation_summary_metrics =\n",
    "                             validation_var[-1],\n",
    "                           observed_metric_targets = c(p2=as.integer(population_size[8]/2),\n",
    "                                                       p3=as.integer(population_size[9]/2),\n",
    "                                                       p4=as.integer(population_size[10]/2)),\n",
    "                           output_dir = OUTPUT_DIR)\n",
    "\n",
    "} else    {\n",
    "    validator <- Validator$new(simulation_parameters = sample_data[-remove_index,],\n",
    "                           simulation_summary_metrics =\n",
    "                             validation_var[-remove_index,][-1],\n",
    "                           observed_metric_targets = c(p2=as.integer(population_size[8]/2),\n",
    "                                                       p3=as.integer(population_size[9]/2),\n",
    "                                                       p4=as.integer(population_size[10]/2)),\n",
    "                           output_dir = OUTPUT_DIR)\n",
    "}"
   ]
  },
  {
   "cell_type": "code",
   "execution_count": 39,
   "id": "e73504ba",
   "metadata": {},
   "outputs": [
    {
     "name": "stdout",
     "output_type": "stream",
     "text": [
      "12345678910\n",
      "12345678910\n"
     ]
    },
    {
     "name": "stderr",
     "output_type": "stream",
     "text": [
      "Warning message:\n",
      "\"Validation function generated warning: All parameters are \"none\" transformed.\"\n"
     ]
    }
   ],
   "source": [
    "validator$run(tolerance = 0.25, output_diagnostics = TRUE)"
   ]
  },
  {
   "cell_type": "code",
   "execution_count": 40,
   "id": "1a198d68",
   "metadata": {},
   "outputs": [],
   "source": [
    "#rescale weights as they dont sum up to one\n",
    "weights=validator$selected_simulations \n",
    "weights$weight=weights$weight/sum(weights$weight)"
   ]
  },
  {
   "cell_type": "code",
   "execution_count": 41,
   "id": "f6619e93",
   "metadata": {},
   "outputs": [
    {
     "data": {
      "text/html": [
       "<style>\n",
       ".dl-inline {width: auto; margin:0; padding: 0}\n",
       ".dl-inline>dt, .dl-inline>dd {float: none; width: auto; display: inline-block}\n",
       ".dl-inline>dt::after {content: \":\\0020\"; padding-right: .5ex}\n",
       ".dl-inline>dt:not(:first-of-type) {padding-left: .5ex}\n",
       "</style><dl class=dl-inline><dt>growth_rate_max</dt><dd>0.609590723045009</dd><dt>density_max</dt><dd>1.68189851512744</dd><dt>initial_n</dt><dd>112.74651246707</dd><dt>dispersal_p</dt><dd>0.302775928975057</dd><dt>dispersal_b</dt><dd>8.20469643140424</dd></dl>\n"
      ],
      "text/latex": [
       "\\begin{description*}\n",
       "\\item[growth\\textbackslash{}\\_rate\\textbackslash{}\\_max] 0.609590723045009\n",
       "\\item[density\\textbackslash{}\\_max] 1.68189851512744\n",
       "\\item[initial\\textbackslash{}\\_n] 112.74651246707\n",
       "\\item[dispersal\\textbackslash{}\\_p] 0.302775928975057\n",
       "\\item[dispersal\\textbackslash{}\\_b] 8.20469643140424\n",
       "\\end{description*}\n"
      ],
      "text/markdown": [
       "growth_rate_max\n",
       ":   0.609590723045009density_max\n",
       ":   1.68189851512744initial_n\n",
       ":   112.74651246707dispersal_p\n",
       ":   0.302775928975057dispersal_b\n",
       ":   8.20469643140424\n",
       "\n"
      ],
      "text/plain": [
       "growth_rate_max     density_max       initial_n     dispersal_p     dispersal_b \n",
       "      0.6095907       1.6818985     112.7465125       0.3027759       8.2046964 "
      ]
     },
     "metadata": {},
     "output_type": "display_data"
    }
   ],
   "source": [
    "#get result\n",
    "colSums(sample_data[weights$index,]*replicate(length(sample_data), weights$weight))"
   ]
  },
  {
   "cell_type": "code",
   "execution_count": 42,
   "id": "0eeede16",
   "metadata": {},
   "outputs": [
    {
     "data": {
      "text/html": [
       "'validation_diagnostics.pdf'"
      ],
      "text/latex": [
       "'validation\\_diagnostics.pdf'"
      ],
      "text/markdown": [
       "'validation_diagnostics.pdf'"
      ],
      "text/plain": [
       "[1] \"validation_diagnostics.pdf\""
      ]
     },
     "metadata": {},
     "output_type": "display_data"
    }
   ],
   "source": [
    "dir(OUTPUT_DIR, \"*.pdf\") # plus validation diagnostics (see abc library documentation)"
   ]
  },
  {
   "cell_type": "code",
   "execution_count": null,
   "id": "8eca09c5",
   "metadata": {},
   "outputs": [],
   "source": []
  }
 ],
 "metadata": {
  "kernelspec": {
   "display_name": "R",
   "language": "R",
   "name": "ir413"
  },
  "language_info": {
   "codemirror_mode": "r",
   "file_extension": ".r",
   "mimetype": "text/x-r-source",
   "name": "R",
   "pygments_lexer": "r",
   "version": "4.2.2"
  },
  "toc": {
   "base_numbering": 1,
   "nav_menu": {},
   "number_sections": true,
   "sideBar": true,
   "skip_h1_title": false,
   "title_cell": "Table of Contents",
   "title_sidebar": "Contents",
   "toc_cell": false,
   "toc_position": {},
   "toc_section_display": true,
   "toc_window_display": false
  }
 },
 "nbformat": 4,
 "nbformat_minor": 5
}
