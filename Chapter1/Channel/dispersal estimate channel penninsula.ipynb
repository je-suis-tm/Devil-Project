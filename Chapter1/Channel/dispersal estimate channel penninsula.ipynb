{
 "cells": [
  {
   "cell_type": "markdown",
   "id": "41c19cab",
   "metadata": {},
   "source": [
    "### Exponential Dispersal Function\n",
    "\n",
    "&nbsp;\n",
    "\n",
    "An exponential dispersal function describes the spatiotemporal dispersal of wildlife. The exponential function represents how the density decreases as you move away from its source. The model in this script is listed below.\n",
    "\n",
    "$$Y = p \\times \\mathrm{e}^{-\\frac{X}{b}}$$\n",
    "\n",
    "where\n",
    "\n",
    "Y denotes the probability of dispersal at a distance X from the source\n",
    "\n",
    "X denotes the distance from the source\n",
    "\n",
    "p denotes the proportion which does not disperse and stays at the source (X = 0)\n",
    "\n",
    "b denotes the average dispersal distance"
   ]
  },
  {
   "cell_type": "code",
   "execution_count": 1,
   "id": "06c08072",
   "metadata": {},
   "outputs": [],
   "source": [
    "import os\n",
    "import pandas as pd\n",
    "from pyproj import Proj\n",
    "import math\n",
    "import pyodbc\n",
    "import itertools\n",
    "from scipy.optimize import curve_fit\n",
    "import numpy as np\n",
    "os.chdir('C:/Users/tm/Downloads/utas/WildlifeDatabases')"
   ]
  },
  {
   "cell_type": "markdown",
   "id": "0d63deb3",
   "metadata": {},
   "source": [
    "### funcs"
   ]
  },
  {
   "cell_type": "code",
   "execution_count": 2,
   "id": "2d7cece3",
   "metadata": {},
   "outputs": [],
   "source": [
    "#gompertz curve equation\n",
    "def dispersal_func(X,p,b):\n",
    "    return p*np.exp(-X/b)\n",
    "\n",
    "#using mle to estimate\n",
    "def get_func_params(x,y):\n",
    "    popt,pcov=curve_fit(dispersal_func,x,y,p0=(0.5,np.mean(x)))\n",
    "    return popt"
   ]
  },
  {
   "cell_type": "code",
   "execution_count": 3,
   "id": "965a07bb",
   "metadata": {},
   "outputs": [],
   "source": [
    "#coordinates conversion\n",
    "def convert_easting_northing_to_lat_lon(easting, northing,):\n",
    "    proj = Proj('+proj=utm +zone=55 +south +ellps=GRS80 +units=m +no_defs')\n",
    "    lon, lat = proj(easting, northing, inverse=True)\n",
    "    return lat, lon\n",
    "\n",
    "#spherical distance computation by chatgpt\n",
    "def haversine_distance(lat1, lon1, lat2, lon2):\n",
    "    \n",
    "    # Convert degrees to radians\n",
    "    lat1_rad = math.radians(lat1)\n",
    "    lon1_rad = math.radians(lon1)\n",
    "    lat2_rad = math.radians(lat2)\n",
    "    lon2_rad = math.radians(lon2)\n",
    "\n",
    "    # Earth's radius in kilometers\n",
    "    radius = 6371\n",
    "\n",
    "    # Difference in latitudes and longitudes\n",
    "    delta_lat = lat2_rad - lat1_rad\n",
    "    delta_lon = lon2_rad - lon1_rad\n",
    "\n",
    "    # Haversine formula\n",
    "    a = math.sin(delta_lat / 2) ** 2 + math.cos(lat1_rad) * math.cos(lat2_rad) * math.sin(delta_lon / 2) ** 2\n",
    "    c = 2 * math.atan2(math.sqrt(a), math.sqrt(1 - a))\n",
    "\n",
    "    # Calculate distance\n",
    "    distance = radius * c\n",
    "\n",
    "    return distance\n"
   ]
  },
  {
   "cell_type": "markdown",
   "id": "12a9f74e",
   "metadata": {},
   "source": [
    "### read files"
   ]
  },
  {
   "cell_type": "code",
   "execution_count": 4,
   "id": "ab4e1737",
   "metadata": {},
   "outputs": [],
   "source": [
    "# ['./arthur river/ARV_database_2022_11_CS.accdb',\n",
    "#  './black river/BRI_database_2022_11_CS.accdb',\n",
    "#  './freycinet/FNP_database_2022_11_KJS.accdb',\n",
    "#  './takone/TKN_database_2022_11_KJS.accdb',\n",
    "#  './west pencil pine/WPP_September_2022_11_KJS.accdb',\n",
    "#  './wukalina/Wukalina_NOV2020_SN.accdb',\n",
    "# './crabtree/CBT_database_2022_11_KJS.accdb','./franklin/FRA_database_devil_2022_11_KJS.accdb']"
   ]
  },
  {
   "cell_type": "code",
   "execution_count": 5,
   "id": "92deb3f6",
   "metadata": {},
   "outputs": [
    {
     "name": "stderr",
     "output_type": "stream",
     "text": [
      "C:\\Users\\tm\\AppData\\Local\\Temp\\ipykernel_24592\\1422672365.py:11: UserWarning: pandas only supports SQLAlchemy connectable (engine/connection) or database string URI or sqlite3 DBAPI2 connection. Other DBAPI2 objects are not tested. Please consider using SQLAlchemy.\n",
      "  traps=pd.concat([traps,pd.read_sql('select * from traps',conn)])\n",
      "C:\\Users\\tm\\AppData\\Local\\Temp\\ipykernel_24592\\1422672365.py:12: UserWarning: pandas only supports SQLAlchemy connectable (engine/connection) or database string URI or sqlite3 DBAPI2 connection. Other DBAPI2 objects are not tested. Please consider using SQLAlchemy.\n",
      "  traphist=pd.concat([traphist,pd.read_sql('select * from traphistory',conn)])\n"
     ]
    }
   ],
   "source": [
    "traphist=pd.DataFrame(columns=['ID', 'TrapID', 'DateOfUse', 'Event', 'CaptureType', 'Microchip',\n",
    "       'Comment'])\n",
    "\n",
    "traps=pd.DataFrame(columns=['TrapID', 'Northing', 'Easting', 'Comments', 'TrapLine', 'Researcher'])\n",
    "\n",
    "for i in [\n",
    "         './woodbridge sandfly/Channel_database_devil_2022_06_KJS.accdb',\n",
    "        ]:\n",
    "\n",
    "    conn = pyodbc.connect(r'Driver={Microsoft Access Driver (*.mdb, *.accdb)};DBQ='+f'{i};')\n",
    "    traps=pd.concat([traps,pd.read_sql('select * from traps',conn)])\n",
    "    traphist=pd.concat([traphist,pd.read_sql('select * from traphistory',conn)])"
   ]
  },
  {
   "cell_type": "markdown",
   "id": "697a6c34",
   "metadata": {},
   "source": [
    "### cleanse"
   ]
  },
  {
   "cell_type": "code",
   "execution_count": 6,
   "id": "563b8781",
   "metadata": {},
   "outputs": [],
   "source": [
    "#focus on recapture\n",
    "traphist=traphist[traphist['Event'].isin(['Tasmanian devil','Tasmanian Devil',])].copy()\n",
    "target_ids=traphist['Microchip'][traphist['CaptureType']=='Recapture'].unique()\n",
    "traphist=traphist[traphist['Microchip'].isin(target_ids)]\n",
    "traps=traps[['TrapID','Northing', 'Easting']].drop_duplicates()"
   ]
  },
  {
   "cell_type": "code",
   "execution_count": 7,
   "id": "0c8647be",
   "metadata": {},
   "outputs": [],
   "source": [
    "#merge trap info\n",
    "grande=traphist.merge(traps,on='TrapID',how='left')\n",
    "\n",
    "#remove duplicates\n",
    "grande=grande.loc[grande['Northing'].dropna().index]\n",
    "grande=grande.loc[grande['Microchip'].dropna().index]\n",
    "grande=grande.drop_duplicates()\n",
    "grande=grande.sort_values(['Microchip',\"DateOfUse\"])\n",
    "grande.reset_index(inplace=True,drop=True)\n",
    "grande=grande.loc[grande[['DateOfUse','Microchip']].drop_duplicates().index]"
   ]
  },
  {
   "cell_type": "code",
   "execution_count": 8,
   "id": "51a05cca",
   "metadata": {
    "scrolled": true
   },
   "outputs": [],
   "source": [
    "#only preserves animals that have been recaptured more than 300 days apart\n",
    "target_ids=[]\n",
    "for i in grande['Microchip'].unique():\n",
    "    subset=grande[grande['Microchip']==i].copy()\n",
    "    if len(subset)==1:\n",
    "        continue\n",
    "    counting=(subset['DateOfUse'].iloc[-1]-subset['DateOfUse'].iloc[0]).days\n",
    "    if counting<300:\n",
    "        continue\n",
    "    target_ids.append(i)\n",
    "    \n",
    "#filter microchips\n",
    "grande=grande[grande['Microchip'].isin(target_ids)]"
   ]
  },
  {
   "cell_type": "code",
   "execution_count": 9,
   "id": "0c0825b2",
   "metadata": {
    "scrolled": true
   },
   "outputs": [],
   "source": [
    "#cleanse coordinates\n",
    "grande['Northing']=grande['Northing'].str.replace('5224370.09\\r\\n5224370.09','5224370.09')\n",
    "grande['Northing']=grande['Northing'].str.replace('0\\r\\n0','0')\n",
    "grande['Northing']=grande['Northing'].astype(float)\n",
    "\n",
    "grande['Easting']=grande['Easting'].str.replace('605373\\r\\n605373','605373')\n",
    "grande['Easting']=grande['Easting'].str.replace('0\\r\\n0','0')\n",
    "grande['Easting']=grande['Easting'].astype(float)"
   ]
  },
  {
   "cell_type": "code",
   "execution_count": 10,
   "id": "254ef4ac",
   "metadata": {},
   "outputs": [],
   "source": [
    "#convert coordinates\n",
    "grande['lat'],grande['lon']=convert_easting_northing_to_lat_lon(grande['Easting'], grande['Northing'])"
   ]
  },
  {
   "cell_type": "code",
   "execution_count": 11,
   "id": "bd869d6a",
   "metadata": {},
   "outputs": [],
   "source": [
    "#get year and label\n",
    "grande['year']=grande['DateOfUse'].dt.year"
   ]
  },
  {
   "cell_type": "code",
   "execution_count": 12,
   "id": "28f06872",
   "metadata": {},
   "outputs": [],
   "source": [
    "#prepare for trip identification\n",
    "grande=grande.sort_values('DateOfUse')\n",
    "grande['dif']=grande['DateOfUse'].diff().apply(lambda x:x.days)\n",
    "grande.reset_index(inplace=True,drop=True)\n",
    "grande['cumsum']=grande['dif'].cumsum()"
   ]
  },
  {
   "cell_type": "code",
   "execution_count": 13,
   "id": "361b9a59",
   "metadata": {},
   "outputs": [
    {
     "name": "stderr",
     "output_type": "stream",
     "text": [
      "C:\\Users\\tm\\AppData\\Local\\Temp\\ipykernel_24592\\315523233.py:9: SettingWithCopyWarning: \n",
      "A value is trying to be set on a copy of a slice from a DataFrame\n",
      "\n",
      "See the caveats in the documentation: https://pandas.pydata.org/pandas-docs/stable/user_guide/indexing.html#returning-a-view-versus-a-copy\n",
      "  grande['dif'].loc[:i]=0\n",
      "C:\\Users\\tm\\AppData\\Local\\Temp\\ipykernel_24592\\315523233.py:9: SettingWithCopyWarning: \n",
      "A value is trying to be set on a copy of a slice from a DataFrame\n",
      "\n",
      "See the caveats in the documentation: https://pandas.pydata.org/pandas-docs/stable/user_guide/indexing.html#returning-a-view-versus-a-copy\n",
      "  grande['dif'].loc[:i]=0\n",
      "C:\\Users\\tm\\AppData\\Local\\Temp\\ipykernel_24592\\315523233.py:9: SettingWithCopyWarning: \n",
      "A value is trying to be set on a copy of a slice from a DataFrame\n",
      "\n",
      "See the caveats in the documentation: https://pandas.pydata.org/pandas-docs/stable/user_guide/indexing.html#returning-a-view-versus-a-copy\n",
      "  grande['dif'].loc[:i]=0\n",
      "C:\\Users\\tm\\AppData\\Local\\Temp\\ipykernel_24592\\315523233.py:9: SettingWithCopyWarning: \n",
      "A value is trying to be set on a copy of a slice from a DataFrame\n",
      "\n",
      "See the caveats in the documentation: https://pandas.pydata.org/pandas-docs/stable/user_guide/indexing.html#returning-a-view-versus-a-copy\n",
      "  grande['dif'].loc[:i]=0\n",
      "C:\\Users\\tm\\AppData\\Local\\Temp\\ipykernel_24592\\315523233.py:9: SettingWithCopyWarning: \n",
      "A value is trying to be set on a copy of a slice from a DataFrame\n",
      "\n",
      "See the caveats in the documentation: https://pandas.pydata.org/pandas-docs/stable/user_guide/indexing.html#returning-a-view-versus-a-copy\n",
      "  grande['dif'].loc[:i]=0\n",
      "C:\\Users\\tm\\AppData\\Local\\Temp\\ipykernel_24592\\315523233.py:9: SettingWithCopyWarning: \n",
      "A value is trying to be set on a copy of a slice from a DataFrame\n",
      "\n",
      "See the caveats in the documentation: https://pandas.pydata.org/pandas-docs/stable/user_guide/indexing.html#returning-a-view-versus-a-copy\n",
      "  grande['dif'].loc[:i]=0\n",
      "C:\\Users\\tm\\AppData\\Local\\Temp\\ipykernel_24592\\315523233.py:9: SettingWithCopyWarning: \n",
      "A value is trying to be set on a copy of a slice from a DataFrame\n",
      "\n",
      "See the caveats in the documentation: https://pandas.pydata.org/pandas-docs/stable/user_guide/indexing.html#returning-a-view-versus-a-copy\n",
      "  grande['dif'].loc[:i]=0\n",
      "C:\\Users\\tm\\AppData\\Local\\Temp\\ipykernel_24592\\315523233.py:9: SettingWithCopyWarning: \n",
      "A value is trying to be set on a copy of a slice from a DataFrame\n",
      "\n",
      "See the caveats in the documentation: https://pandas.pydata.org/pandas-docs/stable/user_guide/indexing.html#returning-a-view-versus-a-copy\n",
      "  grande['dif'].loc[:i]=0\n",
      "C:\\Users\\tm\\AppData\\Local\\Temp\\ipykernel_24592\\315523233.py:9: SettingWithCopyWarning: \n",
      "A value is trying to be set on a copy of a slice from a DataFrame\n",
      "\n",
      "See the caveats in the documentation: https://pandas.pydata.org/pandas-docs/stable/user_guide/indexing.html#returning-a-view-versus-a-copy\n",
      "  grande['dif'].loc[:i]=0\n",
      "C:\\Users\\tm\\AppData\\Local\\Temp\\ipykernel_24592\\315523233.py:9: SettingWithCopyWarning: \n",
      "A value is trying to be set on a copy of a slice from a DataFrame\n",
      "\n",
      "See the caveats in the documentation: https://pandas.pydata.org/pandas-docs/stable/user_guide/indexing.html#returning-a-view-versus-a-copy\n",
      "  grande['dif'].loc[:i]=0\n",
      "C:\\Users\\tm\\AppData\\Local\\Temp\\ipykernel_24592\\315523233.py:9: SettingWithCopyWarning: \n",
      "A value is trying to be set on a copy of a slice from a DataFrame\n",
      "\n",
      "See the caveats in the documentation: https://pandas.pydata.org/pandas-docs/stable/user_guide/indexing.html#returning-a-view-versus-a-copy\n",
      "  grande['dif'].loc[:i]=0\n",
      "C:\\Users\\tm\\AppData\\Local\\Temp\\ipykernel_24592\\315523233.py:9: SettingWithCopyWarning: \n",
      "A value is trying to be set on a copy of a slice from a DataFrame\n",
      "\n",
      "See the caveats in the documentation: https://pandas.pydata.org/pandas-docs/stable/user_guide/indexing.html#returning-a-view-versus-a-copy\n",
      "  grande['dif'].loc[:i]=0\n",
      "C:\\Users\\tm\\AppData\\Local\\Temp\\ipykernel_24592\\315523233.py:9: SettingWithCopyWarning: \n",
      "A value is trying to be set on a copy of a slice from a DataFrame\n",
      "\n",
      "See the caveats in the documentation: https://pandas.pydata.org/pandas-docs/stable/user_guide/indexing.html#returning-a-view-versus-a-copy\n",
      "  grande['dif'].loc[:i]=0\n",
      "C:\\Users\\tm\\AppData\\Local\\Temp\\ipykernel_24592\\315523233.py:9: SettingWithCopyWarning: \n",
      "A value is trying to be set on a copy of a slice from a DataFrame\n",
      "\n",
      "See the caveats in the documentation: https://pandas.pydata.org/pandas-docs/stable/user_guide/indexing.html#returning-a-view-versus-a-copy\n",
      "  grande['dif'].loc[:i]=0\n",
      "C:\\Users\\tm\\AppData\\Local\\Temp\\ipykernel_24592\\315523233.py:9: SettingWithCopyWarning: \n",
      "A value is trying to be set on a copy of a slice from a DataFrame\n",
      "\n",
      "See the caveats in the documentation: https://pandas.pydata.org/pandas-docs/stable/user_guide/indexing.html#returning-a-view-versus-a-copy\n",
      "  grande['dif'].loc[:i]=0\n",
      "C:\\Users\\tm\\AppData\\Local\\Temp\\ipykernel_24592\\315523233.py:9: SettingWithCopyWarning: \n",
      "A value is trying to be set on a copy of a slice from a DataFrame\n",
      "\n",
      "See the caveats in the documentation: https://pandas.pydata.org/pandas-docs/stable/user_guide/indexing.html#returning-a-view-versus-a-copy\n",
      "  grande['dif'].loc[:i]=0\n",
      "C:\\Users\\tm\\AppData\\Local\\Temp\\ipykernel_24592\\315523233.py:9: SettingWithCopyWarning: \n",
      "A value is trying to be set on a copy of a slice from a DataFrame\n",
      "\n",
      "See the caveats in the documentation: https://pandas.pydata.org/pandas-docs/stable/user_guide/indexing.html#returning-a-view-versus-a-copy\n",
      "  grande['dif'].loc[:i]=0\n",
      "C:\\Users\\tm\\AppData\\Local\\Temp\\ipykernel_24592\\315523233.py:9: SettingWithCopyWarning: \n",
      "A value is trying to be set on a copy of a slice from a DataFrame\n",
      "\n",
      "See the caveats in the documentation: https://pandas.pydata.org/pandas-docs/stable/user_guide/indexing.html#returning-a-view-versus-a-copy\n",
      "  grande['dif'].loc[:i]=0\n",
      "C:\\Users\\tm\\AppData\\Local\\Temp\\ipykernel_24592\\315523233.py:9: SettingWithCopyWarning: \n",
      "A value is trying to be set on a copy of a slice from a DataFrame\n",
      "\n",
      "See the caveats in the documentation: https://pandas.pydata.org/pandas-docs/stable/user_guide/indexing.html#returning-a-view-versus-a-copy\n",
      "  grande['dif'].loc[:i]=0\n",
      "C:\\Users\\tm\\AppData\\Local\\Temp\\ipykernel_24592\\315523233.py:9: SettingWithCopyWarning: \n",
      "A value is trying to be set on a copy of a slice from a DataFrame\n",
      "\n",
      "See the caveats in the documentation: https://pandas.pydata.org/pandas-docs/stable/user_guide/indexing.html#returning-a-view-versus-a-copy\n",
      "  grande['dif'].loc[:i]=0\n",
      "C:\\Users\\tm\\AppData\\Local\\Temp\\ipykernel_24592\\315523233.py:9: SettingWithCopyWarning: \n",
      "A value is trying to be set on a copy of a slice from a DataFrame\n",
      "\n",
      "See the caveats in the documentation: https://pandas.pydata.org/pandas-docs/stable/user_guide/indexing.html#returning-a-view-versus-a-copy\n",
      "  grande['dif'].loc[:i]=0\n",
      "C:\\Users\\tm\\AppData\\Local\\Temp\\ipykernel_24592\\315523233.py:9: SettingWithCopyWarning: \n",
      "A value is trying to be set on a copy of a slice from a DataFrame\n",
      "\n",
      "See the caveats in the documentation: https://pandas.pydata.org/pandas-docs/stable/user_guide/indexing.html#returning-a-view-versus-a-copy\n",
      "  grande['dif'].loc[:i]=0\n",
      "C:\\Users\\tm\\AppData\\Local\\Temp\\ipykernel_24592\\315523233.py:9: SettingWithCopyWarning: \n",
      "A value is trying to be set on a copy of a slice from a DataFrame\n",
      "\n",
      "See the caveats in the documentation: https://pandas.pydata.org/pandas-docs/stable/user_guide/indexing.html#returning-a-view-versus-a-copy\n",
      "  grande['dif'].loc[:i]=0\n",
      "C:\\Users\\tm\\AppData\\Local\\Temp\\ipykernel_24592\\315523233.py:9: SettingWithCopyWarning: \n",
      "A value is trying to be set on a copy of a slice from a DataFrame\n",
      "\n",
      "See the caveats in the documentation: https://pandas.pydata.org/pandas-docs/stable/user_guide/indexing.html#returning-a-view-versus-a-copy\n",
      "  grande['dif'].loc[:i]=0\n",
      "C:\\Users\\tm\\AppData\\Local\\Temp\\ipykernel_24592\\315523233.py:9: SettingWithCopyWarning: \n",
      "A value is trying to be set on a copy of a slice from a DataFrame\n",
      "\n",
      "See the caveats in the documentation: https://pandas.pydata.org/pandas-docs/stable/user_guide/indexing.html#returning-a-view-versus-a-copy\n",
      "  grande['dif'].loc[:i]=0\n"
     ]
    }
   ],
   "source": [
    "#differentiate each trip\n",
    "tripnum=0\n",
    "arr=[]\n",
    "for i in grande.index:\n",
    "    if grande['cumsum'].loc[i]<=10:\n",
    "        arr.append(tripnum)\n",
    "    else:\n",
    "        tripnum+=1\n",
    "        grande['dif'].loc[:i]=0\n",
    "        grande['cumsum']=grande['dif'].cumsum()\n",
    "        arr.append(tripnum)\n",
    "grande['tripnum']=arr"
   ]
  },
  {
   "cell_type": "code",
   "execution_count": 14,
   "id": "17e35306",
   "metadata": {},
   "outputs": [],
   "source": [
    "#assign trip num for each year\n",
    "lastyear=1999\n",
    "lasttrip=1\n",
    "tripnum=0\n",
    "arr=[]\n",
    "for i in grande.index:\n",
    "    if grande['tripnum'].loc[i]==lasttrip:\n",
    "        pass\n",
    "    else:\n",
    "        lasttrip+=1\n",
    "        if grande['year'].loc[i]==lastyear:\n",
    "            tripnum+=1\n",
    "        else:\n",
    "            lastyear+=1\n",
    "            tripnum=0\n",
    "    arr.append(tripnum)   \n",
    "grande['year-trip']=arr"
   ]
  },
  {
   "cell_type": "code",
   "execution_count": 15,
   "id": "41ac565e",
   "metadata": {},
   "outputs": [],
   "source": [
    "#design trip name\n",
    "grande['trip name']=grande['year'].astype(str)+' trip'+grande['year-trip'].astype(str)"
   ]
  },
  {
   "cell_type": "code",
   "execution_count": 16,
   "id": "1134d646",
   "metadata": {},
   "outputs": [],
   "source": [
    "#get first and last date for trip name\n",
    "triprange=grande.groupby('tripnum').first()['DateOfUse'].astype(str)+' to '+grande.groupby('tripnum').last()['DateOfUse'].astype(str)\n",
    "mapping=dict(zip(grande['tripnum'].unique(),triprange))\n",
    "grande['trip range']=grande['tripnum'].apply(lambda x:mapping[x])"
   ]
  },
  {
   "cell_type": "markdown",
   "id": "b615f7c2",
   "metadata": {},
   "source": [
    "### compute X"
   ]
  },
  {
   "cell_type": "code",
   "execution_count": 17,
   "id": "f9591f13",
   "metadata": {},
   "outputs": [],
   "source": [
    "#compute the distance of annual dispersal\n",
    "output=pd.DataFrame(columns=['trip id', 'trip range', 'devil id', 'distance','trip coordinates'])\n",
    "freq=grande.copy()\n",
    "\n",
    "for i in freq['Microchip'].unique():\n",
    "    subset=freq[freq['Microchip']==i].copy()\n",
    "    combs=list(itertools.combinations(subset['DateOfUse'],2))\n",
    "\n",
    "    #for each trip, only takes the first date of captured\n",
    "    for ind,val in enumerate(combs):\n",
    "        dif=(val[1]-val[0]).days\n",
    "        if dif>330 and dif<390:\n",
    "            id0=subset['tripnum'][subset['DateOfUse']==val[0]].iloc[0]\n",
    "            id1=subset['tripnum'][subset['DateOfUse']==val[1]].iloc[0]\n",
    "            combs[ind]=[str(id0)+'-'+str(id1),val]            \n",
    "    result=[j for j in combs if type(j)==list]\n",
    "    \n",
    "    dataset=pd.DataFrame(result,columns=['trip id','trip range'])\n",
    "    dataset=dataset.loc[dataset['trip id'].drop_duplicates().index]\n",
    "    dataset['devil id']=i\n",
    "\n",
    "    #compute spherical distance\n",
    "    arr1=[]\n",
    "    arr2=[]\n",
    "    arr3=[]\n",
    "    for k in dataset.index:\n",
    "        startdate=dataset['trip range'].loc[k][0]\n",
    "        enddate=dataset['trip range'].loc[k][1]\n",
    "\n",
    "        lat1=subset['lat'][subset['DateOfUse']==startdate].iloc[0]\n",
    "        lon1=subset['lon'][subset['DateOfUse']==startdate].iloc[0]\n",
    "        lat2=subset['lat'][subset['DateOfUse']==enddate].iloc[0]\n",
    "        lon2=subset['lon'][subset['DateOfUse']==enddate].iloc[0]\n",
    "        \n",
    "\n",
    "        arr1.append(haversine_distance(lat1, lon1, lat2, lon2))\n",
    "        arr2.append((lat1, lon1, lat2, lon2))\n",
    "    dataset['distance']=arr1\n",
    "    dataset['trip coordinates']=arr2\n",
    "    \n",
    "    output=pd.concat([output,dataset])\n",
    "\n",
    "output.reset_index(inplace=True,drop=True)"
   ]
  },
  {
   "cell_type": "code",
   "execution_count": 18,
   "id": "5b1290f5",
   "metadata": {},
   "outputs": [],
   "source": [
    "#remove coordinates error\n",
    "output=output[output['distance']<50]"
   ]
  },
  {
   "cell_type": "markdown",
   "id": "ae2b5bb7",
   "metadata": {},
   "source": [
    "### compute Y"
   ]
  },
  {
   "cell_type": "code",
   "execution_count": 19,
   "id": "8d302695",
   "metadata": {},
   "outputs": [],
   "source": [
    "#group distance for probability computation\n",
    "output['grid dist']=output['distance'].apply(lambda x:round(x,0))"
   ]
  },
  {
   "cell_type": "code",
   "execution_count": 20,
   "id": "9f97e15e",
   "metadata": {},
   "outputs": [],
   "source": [
    "#compute the probability of distance\n",
    "prob=output.groupby(['grid dist']).count()[['trip id']]\n",
    "prob['trip id']=prob['trip id']/prob['trip id'].sum()\n",
    "prob.columns=['prob']\n",
    "prob.reset_index(inplace=True)"
   ]
  },
  {
   "cell_type": "code",
   "execution_count": 21,
   "id": "c3945ddd",
   "metadata": {},
   "outputs": [],
   "source": [
    "#merge\n",
    "output=output.merge(prob,on='grid dist',how='left')"
   ]
  },
  {
   "cell_type": "code",
   "execution_count": 22,
   "id": "ac96920e",
   "metadata": {},
   "outputs": [],
   "source": [
    "#convert km to m\n",
    "output['distance']*=1000"
   ]
  },
  {
   "cell_type": "code",
   "execution_count": 23,
   "id": "cd9ac725",
   "metadata": {},
   "outputs": [
    {
     "data": {
      "text/plain": [
       "array([3.30737883e-01, 9.81105178e+03])"
      ]
     },
     "execution_count": 23,
     "metadata": {},
     "output_type": "execute_result"
    }
   ],
   "source": [
    "#result\n",
    "get_func_params(output['distance'].tolist(),output['prob'].tolist())"
   ]
  },
  {
   "cell_type": "code",
   "execution_count": null,
   "id": "5a2aad14",
   "metadata": {},
   "outputs": [],
   "source": []
  }
 ],
 "metadata": {
  "kernelspec": {
   "display_name": "Python 3 (ipykernel)",
   "language": "python",
   "name": "python3"
  },
  "language_info": {
   "codemirror_mode": {
    "name": "ipython",
    "version": 3
   },
   "file_extension": ".py",
   "mimetype": "text/x-python",
   "name": "python",
   "nbconvert_exporter": "python",
   "pygments_lexer": "ipython3",
   "version": "3.11.4"
  },
  "toc": {
   "base_numbering": 1,
   "nav_menu": {},
   "number_sections": true,
   "sideBar": true,
   "skip_h1_title": false,
   "title_cell": "Table of Contents",
   "title_sidebar": "Contents",
   "toc_cell": false,
   "toc_position": {},
   "toc_section_display": true,
   "toc_window_display": false
  }
 },
 "nbformat": 4,
 "nbformat_minor": 5
}
