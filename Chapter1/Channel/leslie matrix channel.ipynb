{
 "cells": [
  {
   "cell_type": "markdown",
   "id": "18003931",
   "metadata": {},
   "source": [
    "### Leslie Matrix\n",
    "\n",
    "&nbsp;\n",
    "\n",
    "The Leslie matrix is a square matrix to model and analyze the dynamics of age-structured populations. It is a projection matrix to study the growth and stability of populations over time."
   ]
  },
  {
   "cell_type": "code",
   "execution_count": 1,
   "id": "06c08072",
   "metadata": {},
   "outputs": [],
   "source": [
    "import os\n",
    "import pandas as pd\n",
    "import numpy as np\n",
    "import statsmodels.api as sm\n",
    "import pyodbc\n",
    "os.chdir('C:/Users/tm/Downloads/utas/WildlifeDatabases')"
   ]
  },
  {
   "cell_type": "code",
   "execution_count": 2,
   "id": "1f70c87c",
   "metadata": {},
   "outputs": [],
   "source": [
    "#number of columns and rows in leslie matrix\n",
    "maxage=5"
   ]
  },
  {
   "cell_type": "markdown",
   "id": "1b944701",
   "metadata": {},
   "source": [
    "### cleanse"
   ]
  },
  {
   "cell_type": "code",
   "execution_count": 3,
   "id": "92deb3f6",
   "metadata": {
    "scrolled": true
   },
   "outputs": [
    {
     "name": "stderr",
     "output_type": "stream",
     "text": [
      "C:\\Users\\tm\\AppData\\Local\\Temp\\ipykernel_4304\\1800492046.py:10: UserWarning: pandas only supports SQLAlchemy connectable (engine/connection) or database string URI or sqlite3 DBAPI2 connection. Other DBAPI2 objects are not tested. Please consider using SQLAlchemy.\n",
      "  fundamentals=pd.concat([fundamentals,pd.read_sql('select [Microchip],[Sex],[YOB] from fundamentals',conn)])\n",
      "C:\\Users\\tm\\AppData\\Local\\Temp\\ipykernel_4304\\1800492046.py:11: UserWarning: pandas only supports SQLAlchemy connectable (engine/connection) or database string URI or sqlite3 DBAPI2 connection. Other DBAPI2 objects are not tested. Please consider using SQLAlchemy.\n",
      "  observations=pd.concat([observations,pd.read_sql(\n"
     ]
    }
   ],
   "source": [
    "#get data from access db\n",
    "fundamentals=pd.DataFrame(columns=['Microchip','Sex','YOB'])\n",
    "observations=pd.DataFrame(columns=['Microchip','TrappingDate','NumberActiveTeats'])\n",
    "\n",
    "for i in [\n",
    "         './woodbridge sandfly/Channel_database_devil_2022_06_KJS.accdb',\n",
    "        ]:\n",
    "\n",
    "    conn = pyodbc.connect(r'Driver={Microsoft Access Driver (*.mdb, *.accdb)};DBQ='+f'{i};')\n",
    "    fundamentals=pd.concat([fundamentals,pd.read_sql('select [Microchip],[Sex],[YOB] from fundamentals',conn)])\n",
    "    observations=pd.concat([observations,pd.read_sql(\n",
    "        'select [Microchip],[TrappingDate],[NumberActiveTeats] from observations',conn)]) \n",
    "    \n",
    "    fundamentals.reset_index(inplace=True,drop=True)\n",
    "    observations.reset_index(inplace=True,drop=True)"
   ]
  },
  {
   "cell_type": "code",
   "execution_count": 4,
   "id": "4d96e321",
   "metadata": {},
   "outputs": [
    {
     "name": "stderr",
     "output_type": "stream",
     "text": [
      "C:\\Users\\tm\\AppData\\Local\\Temp\\ipykernel_4304\\2126836536.py:6: SettingWithCopyWarning: \n",
      "A value is trying to be set on a copy of a slice from a DataFrame\n",
      "\n",
      "See the caveats in the documentation: https://pandas.pydata.org/pandas-docs/stable/user_guide/indexing.html#returning-a-view-versus-a-copy\n",
      "  observations['NumberActiveTeats'][observations['NumberActiveTeats']=='']=None\n"
     ]
    }
   ],
   "source": [
    "#datetime col\n",
    "observations['TrappingDate']=pd.to_datetime(observations['TrappingDate'])\n",
    "\n",
    "#cleanse problematic input\n",
    "observations['NumberActiveTeats']=observations['NumberActiveTeats'].str.replace('N/A','0')\n",
    "observations['NumberActiveTeats'][observations['NumberActiveTeats']=='']=None\n",
    "observations['NumberActiveTeats']=observations['NumberActiveTeats'].astype(float)\n",
    "\n",
    "#remove duplicates\n",
    "observations=observations.loc[observations[['Microchip','TrappingDate']].drop_duplicates().index]"
   ]
  },
  {
   "cell_type": "code",
   "execution_count": 5,
   "id": "bcf8a7d4",
   "metadata": {},
   "outputs": [],
   "source": [
    "#datetime col\n",
    "fundamentals['YOB']=pd.to_datetime(fundamentals['YOB'])\n",
    "\n",
    "#remove duplicates\n",
    "fundamentals=fundamentals.loc[fundamentals['Microchip'].drop_duplicates().index]\n",
    "\n",
    "#remove na\n",
    "fundamentals=fundamentals.dropna()"
   ]
  },
  {
   "cell_type": "code",
   "execution_count": 6,
   "id": "efc53722",
   "metadata": {},
   "outputs": [],
   "source": [
    "#merge\n",
    "grande=observations.merge(fundamentals,on='Microchip',how='left')\n",
    "\n",
    "#cleanse col names\n",
    "bereplaced={'Microchip':'INDIVIDUAL',\n",
    "'TrappingDate':'OBSERVATION_DATE',\n",
    "'YOB':'BIRTH_DATE',\n",
    "'NumberActiveTeats':'NUMBER_ACTIVE_TEATS',\n",
    "'Sex':'GENDER'}\n",
    "grande.columns=[bereplaced[i] for i in grande.columns]"
   ]
  },
  {
   "cell_type": "code",
   "execution_count": 7,
   "id": "0751b342",
   "metadata": {},
   "outputs": [],
   "source": [
    "#sort by date\n",
    "grande=grande.sort_values(['INDIVIDUAL','OBSERVATION_DATE'])\n",
    "\n",
    "#female parent only\n",
    "grande=grande[grande['GENDER']=='Female']\n",
    "\n",
    "#devils have maximum 4 teats\n",
    "grande=grande[grande['NUMBER_ACTIVE_TEATS']<=4]\n",
    "\n",
    "#female offspring only\n",
    "grande['NUMBER_ACTIVE_TEATS']/=2\n",
    "grande.reset_index(inplace=True,drop=True)\n",
    "\n",
    "#datetimeindex\n",
    "grande['OBSERVATION_DATE']=pd.to_datetime(grande['OBSERVATION_DATE'],format='mixed')\n",
    "grande['BIRTH_DATE']=pd.to_datetime(grande['BIRTH_DATE'])"
   ]
  },
  {
   "cell_type": "code",
   "execution_count": 8,
   "id": "faf94b1a",
   "metadata": {},
   "outputs": [],
   "source": [
    "#eliminate wrong birth date\n",
    "grande=grande[grande['OBSERVATION_DATE']>grande['BIRTH_DATE']]\n",
    "\n",
    "#eliminate null id\n",
    "grande=grande.loc[grande['INDIVIDUAL'].dropna().index]"
   ]
  },
  {
   "cell_type": "markdown",
   "id": "26b1c28a",
   "metadata": {},
   "source": [
    "### estimate transition rate"
   ]
  },
  {
   "cell_type": "code",
   "execution_count": 9,
   "id": "18cb7015",
   "metadata": {},
   "outputs": [],
   "source": [
    "#compute age\n",
    "grande['age']=(grande['OBSERVATION_DATE']-grande['BIRTH_DATE']).apply(lambda x:x.days//365)"
   ]
  },
  {
   "cell_type": "code",
   "execution_count": 10,
   "id": "f1578c5c",
   "metadata": {},
   "outputs": [],
   "source": [
    "#for each year,each devil only counts once\n",
    "grande['year']=grande['OBSERVATION_DATE'].dt.year\n",
    "agestructure=grande.loc[grande[['year','INDIVIDUAL']].drop_duplicates().index]"
   ]
  },
  {
   "cell_type": "code",
   "execution_count": 11,
   "id": "c0effb1f",
   "metadata": {},
   "outputs": [],
   "source": [
    "#count\n",
    "agesummary=agestructure.groupby('age').count()[['INDIVIDUAL']]\n",
    "agesummary.reset_index(inplace=True)"
   ]
  },
  {
   "cell_type": "code",
   "execution_count": 12,
   "id": "ac78529b",
   "metadata": {},
   "outputs": [],
   "source": [
    "#remove devil older than 10 yr which should be error\n",
    "agesummary=agesummary[agesummary['age']<=10]\n",
    "\n",
    "#move anything older than maxage yr into yr maxage category\n",
    "lastrow=agesummary['INDIVIDUAL'][agesummary['age']>=maxage].sum()\n",
    "agesummary['INDIVIDUAL'][agesummary['age']==maxage]=lastrow\n",
    "agesummary=agesummary.iloc[:maxage+1]"
   ]
  },
  {
   "cell_type": "code",
   "execution_count": 13,
   "id": "f4575766",
   "metadata": {},
   "outputs": [],
   "source": [
    "#estimate relationship between age and frequency\n",
    "#plus one to avoid log(0)\n",
    "agesummary['logage']=np.log(agesummary['age']+1)\n",
    "\n",
    "m=sm.OLS(agesummary['INDIVIDUAL'],sm.add_constant(agesummary['logage'])).fit()"
   ]
  },
  {
   "cell_type": "code",
   "execution_count": 14,
   "id": "5ed902d9",
   "metadata": {},
   "outputs": [],
   "source": [
    "#use fitted data to compute survivalship\n",
    "agesummary['smoothed data']=m.predict()\n",
    "agesummary['survivalship']=agesummary['smoothed data']/agesummary['smoothed data'].iloc[0]"
   ]
  },
  {
   "cell_type": "markdown",
   "id": "353eedc1",
   "metadata": {},
   "source": [
    "### estimate fecundity"
   ]
  },
  {
   "cell_type": "code",
   "execution_count": 15,
   "id": "1067ccbf",
   "metadata": {},
   "outputs": [],
   "source": [
    "#for each year,each devil only counts once\n",
    "fecundity=grande.groupby(['year','INDIVIDUAL']).max()[['NUMBER_ACTIVE_TEATS','age','GENDER']]\n",
    "fecundity.reset_index(inplace=True)"
   ]
  },
  {
   "cell_type": "code",
   "execution_count": 16,
   "id": "df992228",
   "metadata": {},
   "outputs": [],
   "source": [
    "#remove na female\n",
    "female=fecundity[fecundity['GENDER']=='Female'].copy()\n",
    "female=female.loc[female['NUMBER_ACTIVE_TEATS'].dropna().index]\n",
    "\n",
    "#set na male to zero\n",
    "male=fecundity[fecundity['GENDER']=='Male'].copy()\n",
    "fecundity=pd.concat([female,male])\n",
    "fecundity['NUMBER_ACTIVE_TEATS']=fecundity['NUMBER_ACTIVE_TEATS'].fillna(0)"
   ]
  },
  {
   "cell_type": "code",
   "execution_count": 17,
   "id": "8cc36ca3",
   "metadata": {},
   "outputs": [],
   "source": [
    "#comput mean fecundity\n",
    "reproduction=fecundity[['NUMBER_ACTIVE_TEATS','age']].groupby('age').mean()\n",
    "reproduction.reset_index(inplace=True)"
   ]
  },
  {
   "cell_type": "code",
   "execution_count": 18,
   "id": "2aec8f92",
   "metadata": {},
   "outputs": [
    {
     "name": "stderr",
     "output_type": "stream",
     "text": [
      "C:\\Users\\tm\\AppData\\Local\\Temp\\ipykernel_4304\\3778900559.py:6: SettingWithCopyWarning: \n",
      "A value is trying to be set on a copy of a slice from a DataFrame\n",
      "\n",
      "See the caveats in the documentation: https://pandas.pydata.org/pandas-docs/stable/user_guide/indexing.html#returning-a-view-versus-a-copy\n",
      "  reproduction['NUMBER_ACTIVE_TEATS'][reproduction['age']==maxage]=lastrow\n"
     ]
    }
   ],
   "source": [
    "#remove devil older than 10 yr which should be error\n",
    "reproduction=reproduction[reproduction['age']<=10]\n",
    "\n",
    "#move anything older than maxage yr into yr maxage category\n",
    "lastrow=reproduction['NUMBER_ACTIVE_TEATS'][reproduction['age']>=maxage].mean()\n",
    "reproduction['NUMBER_ACTIVE_TEATS'][reproduction['age']==maxage]=lastrow\n",
    "reproduction=reproduction.iloc[:maxage+1]"
   ]
  },
  {
   "cell_type": "markdown",
   "id": "208e7756",
   "metadata": {},
   "source": [
    "### compute leslie matrix"
   ]
  },
  {
   "cell_type": "code",
   "execution_count": 19,
   "id": "ac042ebb",
   "metadata": {},
   "outputs": [],
   "source": [
    "#generate leslie matrix\n",
    "lesliematrix=np.zeros((maxage+1,maxage+1))\n",
    "lesliematrix[0]=reproduction['NUMBER_ACTIVE_TEATS'].tolist()\n",
    "for i in range(1,maxage+1):\n",
    "    lesliematrix[i][i-1]=agesummary['survivalship'].iloc[i]"
   ]
  },
  {
   "cell_type": "code",
   "execution_count": 20,
   "id": "d7008ada",
   "metadata": {},
   "outputs": [
    {
     "name": "stdout",
     "output_type": "stream",
     "text": [
      "[0.         0.70098039 1.48630137 1.76785714 1.57142857 0.25      ]\n",
      "[0.70943304 0.         0.         0.         0.         0.        ]\n",
      "[0.         0.53946227 0.         0.         0.         0.        ]\n",
      "[0.         0.         0.41886608 0.         0.         0.        ]\n",
      "[0.         0.         0.         0.32532441 0.         0.        ]\n",
      "[0.         0.         0.         0.         0.24889531 0.        ]\n"
     ]
    }
   ],
   "source": [
    "#show no disease matrix\n",
    "for i in lesliematrix:\n",
    "    print(i)"
   ]
  },
  {
   "cell_type": "code",
   "execution_count": 21,
   "id": "6b88f4b1",
   "metadata": {},
   "outputs": [
    {
     "data": {
      "text/plain": [
       "1.1313860085388119"
      ]
     },
     "execution_count": 21,
     "metadata": {},
     "output_type": "execute_result"
    }
   ],
   "source": [
    "#dominant eigenvalue still smaller than one\n",
    "#the population eventually will decline\n",
    "max(np.abs(np.linalg.eigvals(lesliematrix)))"
   ]
  },
  {
   "cell_type": "code",
   "execution_count": 22,
   "id": "6458be1a",
   "metadata": {},
   "outputs": [
    {
     "data": {
      "text/plain": [
       "array([[0.        , 0.70098039, 1.48630137, 1.76785714, 1.57142857,\n",
       "        0.25      ],\n",
       "       [0.70943304, 0.        , 0.        , 0.        , 0.        ,\n",
       "        0.        ],\n",
       "       [0.        , 0.53946227, 0.        , 0.        , 0.        ,\n",
       "        0.        ],\n",
       "       [0.        , 0.        , 0.41886608, 0.        , 0.        ,\n",
       "        0.        ],\n",
       "       [0.        , 0.        , 0.        , 0.32532441, 0.        ,\n",
       "        0.        ],\n",
       "       [0.        , 0.        , 0.        , 0.        , 0.24889531,\n",
       "        0.        ]])"
      ]
     },
     "execution_count": 22,
     "metadata": {},
     "output_type": "execute_result"
    }
   ],
   "source": [
    "lesliematrix"
   ]
  },
  {
   "cell_type": "code",
   "execution_count": 23,
   "id": "15334e12",
   "metadata": {},
   "outputs": [
    {
     "data": {
      "text/plain": [
       "[0.0,\n",
       " 0.7009803921568627,\n",
       " 1.4863013698630136,\n",
       " 1.7678571428571428,\n",
       " 1.5714285714285714,\n",
       " 0.25,\n",
       " 0.7094330411487038,\n",
       " 0.0,\n",
       " 0.0,\n",
       " 0.0,\n",
       " 0.0,\n",
       " 0.0,\n",
       " 0.0,\n",
       " 0.539462266272108,\n",
       " 0.0,\n",
       " 0.0,\n",
       " 0.0,\n",
       " 0.0,\n",
       " 0.0,\n",
       " 0.0,\n",
       " 0.4188660822974074,\n",
       " 0.0,\n",
       " 0.0,\n",
       " 0.0,\n",
       " 0.0,\n",
       " 0.0,\n",
       " 0.0,\n",
       " 0.32532441479719504,\n",
       " 0.0,\n",
       " 0.0,\n",
       " 0.0,\n",
       " 0.0,\n",
       " 0.0,\n",
       " 0.0,\n",
       " 0.24889530742081187,\n",
       " 0.0]"
      ]
     },
     "execution_count": 23,
     "metadata": {},
     "output_type": "execute_result"
    }
   ],
   "source": [
    "lesliematrix.flatten().tolist()"
   ]
  },
  {
   "cell_type": "code",
   "execution_count": null,
   "id": "0fc709d4",
   "metadata": {},
   "outputs": [],
   "source": []
  }
 ],
 "metadata": {
  "kernelspec": {
   "display_name": "Python 3 (ipykernel)",
   "language": "python",
   "name": "python3"
  },
  "language_info": {
   "codemirror_mode": {
    "name": "ipython",
    "version": 3
   },
   "file_extension": ".py",
   "mimetype": "text/x-python",
   "name": "python",
   "nbconvert_exporter": "python",
   "pygments_lexer": "ipython3",
   "version": "3.11.4"
  },
  "toc": {
   "base_numbering": 1,
   "nav_menu": {},
   "number_sections": true,
   "sideBar": true,
   "skip_h1_title": false,
   "title_cell": "Table of Contents",
   "title_sidebar": "Contents",
   "toc_cell": false,
   "toc_position": {},
   "toc_section_display": true,
   "toc_window_display": false
  }
 },
 "nbformat": 4,
 "nbformat_minor": 5
}
