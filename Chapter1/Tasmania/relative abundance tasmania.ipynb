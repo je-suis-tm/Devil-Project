{
 "cells": [
  {
   "cell_type": "code",
   "execution_count": 1,
   "id": "d60823f5",
   "metadata": {},
   "outputs": [],
   "source": [
    "import sklearn.ensemble\n",
    "import rasterio\n",
    "from rasterio.features import rasterize\n",
    "from rasterio.transform import from_origin\n",
    "import geopandas as gpd\n",
    "from mpl_toolkits.basemap import Basemap\n",
    "from shapely.geometry import box\n",
    "import matplotlib.pyplot as plt\n",
    "import numpy as np\n",
    "import os\n",
    "import pandas as pd\n",
    "from pyproj import Proj\n",
    "import ast\n",
    "os.chdir('C:/Users/tm/Downloads/utas/thesis/chapter1/tasmania')"
   ]
  },
  {
   "cell_type": "markdown",
   "id": "e4f23aac",
   "metadata": {},
   "source": [
    "### functions"
   ]
  },
  {
   "cell_type": "code",
   "execution_count": 2,
   "id": "dc281b62",
   "metadata": {},
   "outputs": [],
   "source": [
    "#coordinates conversion\n",
    "def convert_easting_northing_to_lat_lon(easting, northing,):\n",
    "    proj = Proj('+proj=utm +zone=55 +south +ellps=GRS80 +units=m +no_defs')\n",
    "    lon, lat = proj(easting, northing, inverse=True)\n",
    "    return lat, lon"
   ]
  },
  {
   "cell_type": "code",
   "execution_count": 3,
   "id": "0e59e345",
   "metadata": {},
   "outputs": [],
   "source": [
    "#convert asc file to geopandas\n",
    "def asc2gpd(info,grid):\n",
    "\n",
    "    #seperate text and int\n",
    "    info['name']=[i.split(' ')[0] for i in info[0]]\n",
    "    info['val']=[float(i.split(' ')[-1] )for i in info[0]]\n",
    "\n",
    "    #convert to int for lower left x,y, nodatavalue and cell size\n",
    "    xllcorner=info['val'][info['name']=='xllcorner'].item()\n",
    "    xllcorner=int(xllcorner)\n",
    "    yllcorner=info['val'][info['name']=='yllcorner'].item()\n",
    "    yllcorner=int(round(yllcorner))\n",
    "    cellsize=info['val'][info['name']=='cellsize'].item()\n",
    "    cellsize=int(cellsize)\n",
    "    nodataval=info['val'][info['name']=='NODATA_value'].item()\n",
    "    nodataval=int(nodataval)\n",
    "\n",
    "    #get coordinates in matrix form\n",
    "    nrow=range(yllcorner,yllcorner+cellsize*grid.shape[0],cellsize)\n",
    "    ncol=range(xllcorner,xllcorner+cellsize*grid.shape[1],cellsize)\n",
    "\n",
    "    #flip y coordinates\n",
    "    flatarr=[(i,j) for j in nrow for i in ncol]\n",
    "    y=np.flip(np.array([i[1] for i in flatarr]).reshape(grid.shape),axis=0).flatten().tolist()\n",
    "\n",
    "    #create geopandas\n",
    "    export=pd.DataFrame()\n",
    "    export['coords']=list(zip([i[0] for i in flatarr],y))\n",
    "    export['altitude']=grid.flatten()\n",
    "    export['coords'] = export['coords'].apply(shapely.geometry.Point)\n",
    "    output=gpd.GeoDataFrame(export, geometry='coords')\n",
    "\n",
    "    #remove nodata point\n",
    "    output=output[output['altitude']!=nodataval]    \n",
    "    \n",
    "    return output"
   ]
  },
  {
   "cell_type": "markdown",
   "id": "6e2d9ac5",
   "metadata": {},
   "source": [
    "### global variables"
   ]
  },
  {
   "cell_type": "code",
   "execution_count": 4,
   "id": "66385648",
   "metadata": {},
   "outputs": [],
   "source": [
    "lonmin=144.165967\n",
    "latmin=-43.833736\n",
    "lonmax=148.576978\n",
    "latmax=-40.349895\n",
    "lat_centre =-42.10904672752227 ; lon_centre = 146.6417533511285;\n",
    "gridlen=35\n",
    "\n",
    "radius=1.2\n",
    "bbox=box(lonmin,latmin,lonmax,latmax)"
   ]
  },
  {
   "cell_type": "markdown",
   "id": "3aa07eca",
   "metadata": {},
   "source": [
    "### island map"
   ]
  },
  {
   "cell_type": "code",
   "execution_count": 5,
   "id": "90d86fdf",
   "metadata": {},
   "outputs": [],
   "source": [
    "df_baselayer=pd.read_csv('./poems/baselayer.csv')"
   ]
  },
  {
   "cell_type": "markdown",
   "id": "9b6e9e75",
   "metadata": {},
   "source": [
    "### devils"
   ]
  },
  {
   "cell_type": "code",
   "execution_count": 6,
   "id": "d83533cb",
   "metadata": {},
   "outputs": [],
   "source": [
    "#read data\n",
    "rel_abun=pd.read_csv('./data/rel_abun.csv')\n",
    "rel_abun['id']=rel_abun['id'].apply(lambda x:ast.literal_eval(x))\n",
    "\n",
    "#convert to matrix\n",
    "devil=np.array([[np.nan]*gridlen]*gridlen)\n",
    "for i in rel_abun.index:\n",
    "    devil[rel_abun.at[i,'id']]=rel_abun.at[i,'rel_abun']\n",
    "devil=np.flip(devil,axis=0)"
   ]
  },
  {
   "cell_type": "markdown",
   "id": "92afc32b",
   "metadata": {},
   "source": [
    "### disease arrival"
   ]
  },
  {
   "cell_type": "code",
   "execution_count": 7,
   "id": "b6d6e7ec",
   "metadata": {},
   "outputs": [],
   "source": [
    "#read\n",
    "arrival=pd.read_csv('./data/disease arrival.csv')\n",
    "arrival['id']=arrival['id'].apply(lambda x:ast.literal_eval(x))\n",
    "arrival=arrival.merge(rel_abun[['id','disease length']],on='id',how='left')"
   ]
  },
  {
   "cell_type": "code",
   "execution_count": 8,
   "id": "bf9442ac",
   "metadata": {},
   "outputs": [],
   "source": [
    "#convert to matrix\n",
    "dismat=np.array([[np.nan]*gridlen]*gridlen)\n",
    "for i in arrival.index:\n",
    "    dismat[arrival.at[i,'id']]=arrival.at[i,'disease length']\n",
    "dismat=np.flip(dismat,axis=0)"
   ]
  },
  {
   "cell_type": "markdown",
   "id": "3f851da6",
   "metadata": {},
   "source": [
    "### vegetation"
   ]
  },
  {
   "cell_type": "code",
   "execution_count": 9,
   "id": "2e555ae1",
   "metadata": {},
   "outputs": [],
   "source": [
    "vegdata=pd.read_csv('./poems/vegdata.csv')"
   ]
  },
  {
   "cell_type": "markdown",
   "id": "8749b73c",
   "metadata": {},
   "source": [
    "### elevation"
   ]
  },
  {
   "cell_type": "code",
   "execution_count": 10,
   "id": "e7bec567",
   "metadata": {},
   "outputs": [],
   "source": [
    "height=pd.read_csv('./poems/height.csv')"
   ]
  },
  {
   "cell_type": "code",
   "execution_count": 11,
   "id": "cfb3b99a",
   "metadata": {},
   "outputs": [],
   "source": [
    "#remove grid cells outside of the areas\n",
    "for i in range(len(height)):\n",
    "    if int(height['id'][i].split(',')[0].split('(')[-1])>=gridlen or \\\n",
    "    int(height['id'][i].split(',')[-1].split(')')[0])>=gridlen or \\\n",
    "    int(height['id'][i].split(',')[0].split('(')[-1])<0 or int(height['id'][i].split(',')[-1].split(')')[0])<0:\n",
    "        height.drop(i,inplace=True)"
   ]
  },
  {
   "cell_type": "code",
   "execution_count": 12,
   "id": "5828224f",
   "metadata": {},
   "outputs": [],
   "source": [
    "#generate raster\n",
    "altitude=np.zeros(devil.shape)\n",
    "for i in range(len(height)):\n",
    "    altitude[eval(height.at[i,'id'])]=height.at[i,'altitude']\n",
    "altitude=np.flip(altitude,axis=0)"
   ]
  },
  {
   "cell_type": "code",
   "execution_count": 13,
   "id": "336b0629",
   "metadata": {},
   "outputs": [
    {
     "data": {
      "image/png": "[encoded data removed]",
      "text/plain": [
       "<Figure size 640x480 with 1 Axes>"
      ]
     },
     "metadata": {},
     "output_type": "display_data"
    }
   ],
   "source": [
    "#viz\n",
    "plt.imshow(altitude)\n",
    "plt.title('altitude map')\n",
    "plt.axis('off')\n",
    "plt.show()"
   ]
  },
  {
   "cell_type": "markdown",
   "id": "310ec108",
   "metadata": {},
   "source": [
    "### matrix form"
   ]
  },
  {
   "cell_type": "code",
   "execution_count": 14,
   "id": "5d363cad",
   "metadata": {},
   "outputs": [],
   "source": [
    "#generate data\n",
    "data=pd.DataFrame()\n",
    "data['devil']=devil.flatten()\n",
    "data['index']=data['devil']\n",
    "data['altitude']=altitude.flatten()\n",
    "data['disease']=dismat.flatten()\n",
    "\n",
    "#convert array to binary\n",
    "arr=np.array(df_baselayer['grid'])\n",
    "arr[arr==0]=1\n",
    "arr[arr==255]=0\n",
    "data['base']=arr\n",
    "\n",
    "#get veg\n",
    "data=pd.concat([data,vegdata],axis=1)"
   ]
  },
  {
   "cell_type": "markdown",
   "id": "581fca03",
   "metadata": {},
   "source": [
    "### random forest"
   ]
  },
  {
   "cell_type": "code",
   "execution_count": 15,
   "id": "4375e8b8",
   "metadata": {
    "scrolled": true
   },
   "outputs": [],
   "source": [
    "#remove sea area\n",
    "land=data[data['base']==1]\n",
    "\n",
    "#only work on the cells with recorded devil capture\n",
    "training=land.loc[land['index'].dropna().index]"
   ]
  },
  {
   "cell_type": "code",
   "execution_count": 16,
   "id": "8255c538",
   "metadata": {},
   "outputs": [
    {
     "data": {
      "text/html": [
       "<style>#sk-container-id-1 {color: black;}#sk-container-id-1 pre{padding: 0;}#sk-container-id-1 div.sk-toggleable {background-color: white;}#sk-container-id-1 label.sk-toggleable__label {cursor: pointer;display: block;width: 100%;margin-bottom: 0;padding: 0.3em;box-sizing: border-box;text-align: center;}#sk-container-id-1 label.sk-toggleable__label-arrow:before {content: \"▸\";float: left;margin-right: 0.25em;color: #696969;}#sk-container-id-1 label.sk-toggleable__label-arrow:hover:before {color: black;}#sk-container-id-1 div.sk-estimator:hover label.sk-toggleable__label-arrow:before {color: black;}#sk-container-id-1 div.sk-toggleable__content {max-height: 0;max-width: 0;overflow: hidden;text-align: left;background-color: #f0f8ff;}#sk-container-id-1 div.sk-toggleable__content pre {margin: 0.2em;color: black;border-radius: 0.25em;background-color: #f0f8ff;}#sk-container-id-1 input.sk-toggleable__control:checked~div.sk-toggleable__content {max-height: 200px;max-width: 100%;overflow: auto;}#sk-container-id-1 input.sk-toggleable__control:checked~label.sk-toggleable__label-arrow:before {content: \"▾\";}#sk-container-id-1 div.sk-estimator input.sk-toggleable__control:checked~label.sk-toggleable__label {background-color: #d4ebff;}#sk-container-id-1 div.sk-label input.sk-toggleable__control:checked~label.sk-toggleable__label {background-color: #d4ebff;}#sk-container-id-1 input.sk-hidden--visually {border: 0;clip: rect(1px 1px 1px 1px);clip: rect(1px, 1px, 1px, 1px);height: 1px;margin: -1px;overflow: hidden;padding: 0;position: absolute;width: 1px;}#sk-container-id-1 div.sk-estimator {font-family: monospace;background-color: #f0f8ff;border: 1px dotted black;border-radius: 0.25em;box-sizing: border-box;margin-bottom: 0.5em;}#sk-container-id-1 div.sk-estimator:hover {background-color: #d4ebff;}#sk-container-id-1 div.sk-parallel-item::after {content: \"\";width: 100%;border-bottom: 1px solid gray;flex-grow: 1;}#sk-container-id-1 div.sk-label:hover label.sk-toggleable__label {background-color: #d4ebff;}#sk-container-id-1 div.sk-serial::before {content: \"\";position: absolute;border-left: 1px solid gray;box-sizing: border-box;top: 0;bottom: 0;left: 50%;z-index: 0;}#sk-container-id-1 div.sk-serial {display: flex;flex-direction: column;align-items: center;background-color: white;padding-right: 0.2em;padding-left: 0.2em;position: relative;}#sk-container-id-1 div.sk-item {position: relative;z-index: 1;}#sk-container-id-1 div.sk-parallel {display: flex;align-items: stretch;justify-content: center;background-color: white;position: relative;}#sk-container-id-1 div.sk-item::before, #sk-container-id-1 div.sk-parallel-item::before {content: \"\";position: absolute;border-left: 1px solid gray;box-sizing: border-box;top: 0;bottom: 0;left: 50%;z-index: -1;}#sk-container-id-1 div.sk-parallel-item {display: flex;flex-direction: column;z-index: 1;position: relative;background-color: white;}#sk-container-id-1 div.sk-parallel-item:first-child::after {align-self: flex-end;width: 50%;}#sk-container-id-1 div.sk-parallel-item:last-child::after {align-self: flex-start;width: 50%;}#sk-container-id-1 div.sk-parallel-item:only-child::after {width: 0;}#sk-container-id-1 div.sk-dashed-wrapped {border: 1px dashed gray;margin: 0 0.4em 0.5em 0.4em;box-sizing: border-box;padding-bottom: 0.4em;background-color: white;}#sk-container-id-1 div.sk-label label {font-family: monospace;font-weight: bold;display: inline-block;line-height: 1.2em;}#sk-container-id-1 div.sk-label-container {text-align: center;}#sk-container-id-1 div.sk-container {/* jupyter's `normalize.less` sets `[hidden] { display: none; }` but bootstrap.min.css set `[hidden] { display: none !important; }` so we also need the `!important` here to be able to override the default hidden behavior on the sphinx rendered scikit-learn.org. See: https://github.com/scikit-learn/scikit-learn/issues/21755 */display: inline-block !important;position: relative;}#sk-container-id-1 div.sk-text-repr-fallback {display: none;}</style><div id=\"sk-container-id-1\" class=\"sk-top-container\"><div class=\"sk-text-repr-fallback\"><pre>RandomForestRegressor(max_depth=50, n_estimators=1000)</pre><b>In a Jupyter environment, please rerun this cell to show the HTML representation or trust the notebook. <br />On GitHub, the HTML representation is unable to render, please try loading this page with nbviewer.org.</b></div><div class=\"sk-container\" hidden><div class=\"sk-item\"><div class=\"sk-estimator sk-toggleable\"><input class=\"sk-toggleable__control sk-hidden--visually\" id=\"sk-estimator-id-1\" type=\"checkbox\" checked><label for=\"sk-estimator-id-1\" class=\"sk-toggleable__label sk-toggleable__label-arrow\">RandomForestRegressor</label><div class=\"sk-toggleable__content\"><pre>RandomForestRegressor(max_depth=50, n_estimators=1000)</pre></div></div></div></div></div>"
      ],
      "text/plain": [
       "RandomForestRegressor(max_depth=50, n_estimators=1000)"
      ]
     },
     "execution_count": 16,
     "metadata": {},
     "output_type": "execute_result"
    }
   ],
   "source": [
    "#train and predict\n",
    "\n",
    "targets=[i for i in training.columns if i not in ['devil','base','index']]\n",
    "clf=sklearn.ensemble.RandomForestRegressor(n_estimators=1000,max_depth=50,)\n",
    "\n",
    "clf.fit(training[targets],training['index'])"
   ]
  },
  {
   "cell_type": "code",
   "execution_count": 17,
   "id": "26907f66",
   "metadata": {},
   "outputs": [
    {
     "name": "stderr",
     "output_type": "stream",
     "text": [
      "C:\\Users\\tm\\AppData\\Local\\Temp\\ipykernel_53260\\3832839134.py:1: SettingWithCopyWarning: \n",
      "A value is trying to be set on a copy of a slice from a DataFrame.\n",
      "Try using .loc[row_indexer,col_indexer] = value instead\n",
      "\n",
      "See the caveats in the documentation: https://pandas.pydata.org/pandas-docs/stable/user_guide/indexing.html#returning-a-view-versus-a-copy\n",
      "  land['disease']=1\n",
      "C:\\Users\\tm\\AppData\\Local\\Temp\\ipykernel_53260\\3832839134.py:2: SettingWithCopyWarning: \n",
      "A value is trying to be set on a copy of a slice from a DataFrame.\n",
      "Try using .loc[row_indexer,col_indexer] = value instead\n",
      "\n",
      "See the caveats in the documentation: https://pandas.pydata.org/pandas-docs/stable/user_guide/indexing.html#returning-a-view-versus-a-copy\n",
      "  land['pred']=clf.predict(land[targets])\n"
     ]
    }
   ],
   "source": [
    "land['disease']=1\n",
    "land['pred']=clf.predict(land[targets])\n",
    "\n",
    "data['pred']=land['pred']"
   ]
  },
  {
   "cell_type": "code",
   "execution_count": 18,
   "id": "a67bf26b",
   "metadata": {},
   "outputs": [
    {
     "data": {
      "text/plain": [
       "0.8652153874894946"
      ]
     },
     "execution_count": 18,
     "metadata": {},
     "output_type": "execute_result"
    }
   ],
   "source": [
    "#not bad for scarce data points\n",
    "clf.score(training[targets],training['index'])"
   ]
  },
  {
   "cell_type": "code",
   "execution_count": 19,
   "id": "7308bab7",
   "metadata": {},
   "outputs": [
    {
     "data": {
      "image/png": "[encoded data removed]",
      "text/plain": [
       "<Figure size 640x480 with 1 Axes>"
      ]
     },
     "metadata": {},
     "output_type": "display_data"
    }
   ],
   "source": [
    "plt.imshow(devil,cmap='RdBu_r')\n",
    "plt.axis('off')\n",
    "plt.title('empirical relative abundance map')\n",
    "plt.show()"
   ]
  },
  {
   "cell_type": "code",
   "execution_count": 20,
   "id": "9b2db444",
   "metadata": {},
   "outputs": [
    {
     "data": {
      "image/png": "[encoded data removed]",
      "text/plain": [
       "<Figure size 640x480 with 1 Axes>"
      ]
     },
     "metadata": {},
     "output_type": "display_data"
    }
   ],
   "source": [
    "#viz habitat suitability map\n",
    "plt.imshow(np.array(data['pred']).reshape(gridlen,gridlen),cmap='RdBu_r')\n",
    "plt.title('pre relative abundance map')\n",
    "plt.axis('off')\n",
    "plt.show()"
   ]
  },
  {
   "cell_type": "code",
   "execution_count": 21,
   "id": "f6bc0144",
   "metadata": {
    "scrolled": false
   },
   "outputs": [
    {
     "name": "stderr",
     "output_type": "stream",
     "text": [
      "C:\\Users\\tm\\AppData\\Local\\Temp\\ipykernel_53260\\1000287191.py:1: SettingWithCopyWarning: \n",
      "A value is trying to be set on a copy of a slice from a DataFrame\n",
      "\n",
      "See the caveats in the documentation: https://pandas.pydata.org/pandas-docs/stable/user_guide/indexing.html#returning-a-view-versus-a-copy\n",
      "  land['pred'].loc[land['index'].dropna().index]=land['index'][land['index'].dropna().index].tolist()\n"
     ]
    }
   ],
   "source": [
    "land['pred'].loc[land['index'].dropna().index]=land['index'][land['index'].dropna().index].tolist()"
   ]
  },
  {
   "cell_type": "code",
   "execution_count": 22,
   "id": "be78910c",
   "metadata": {},
   "outputs": [],
   "source": [
    "land[['pred']].dropna().to_csv('./poems/suitability.csv',index=False)"
   ]
  },
  {
   "cell_type": "code",
   "execution_count": 23,
   "id": "e79425bd",
   "metadata": {},
   "outputs": [],
   "source": [
    "#create map data\n",
    "arr=data['base'].to_numpy()\n",
    "arr[arr==0]=255\n",
    "arr[arr==1]=0\n",
    "df_baselayer=pd.DataFrame()\n",
    "df_baselayer['grid']=arr\n",
    "df_baselayer.to_csv('./poems/baselayer.csv',index=False)"
   ]
  },
  {
   "cell_type": "code",
   "execution_count": 24,
   "id": "494cb149",
   "metadata": {},
   "outputs": [],
   "source": [
    "#convert lattice to adjacency list\n",
    "check_matrix=arr.reshape(gridlen,gridlen)\n",
    "adj_list={}\n",
    "\n",
    "for i in range(gridlen**2):\n",
    "    current_tile=[i//gridlen,i%gridlen]\n",
    "    \n",
    "    if check_matrix[current_tile[0],current_tile[1]]==0:\n",
    "        adj_list[i]=[]\n",
    "        \n",
    "        up=[current_tile[0]-1,current_tile[1]]\n",
    "        down=[current_tile[0]+1,current_tile[1]]\n",
    "        left=[current_tile[0],current_tile[1]-1]\n",
    "        right=[current_tile[0],current_tile[1]+1]\n",
    "\n",
    "        \n",
    "        if up[0]>=0 and check_matrix[current_tile[0]-1,current_tile[1]]==0:\n",
    "            adj_list[i].append(i-gridlen)\n",
    "\n",
    "        if down[0]<gridlen and check_matrix[current_tile[0]+1,current_tile[1]]==0:\n",
    "            adj_list[i].append(i+gridlen)\n",
    "        \n",
    "        if left[1]>=0 and check_matrix[current_tile[0],current_tile[1]-1]==0:\n",
    "            adj_list[i].append(i-1)\n",
    "\n",
    "        if right[1]<gridlen and check_matrix[current_tile[0],current_tile[1]+1]==0:\n",
    "            adj_list[i].append(i+1)\n",
    "            "
   ]
  },
  {
   "cell_type": "code",
   "execution_count": 25,
   "id": "7e0eb8a7",
   "metadata": {},
   "outputs": [],
   "source": [
    "#use bfs to identify the grids required for validation within the radius\n",
    "counter=0\n",
    "stop=False\n",
    "lvl={}\n",
    "lvl[0]=training[training['index']!=0].index.tolist()\n",
    "while not stop:\n",
    "    \n",
    "    queue=[]\n",
    "    counter+=1\n",
    "    if counter>radius:\n",
    "        stop=True\n",
    "    for i in list(lvl.values())[-1]:\n",
    "        queue+=adj_list[i]\n",
    "    lvl[counter]=list(set(queue))\n",
    "\n",
    "validation_target=sorted(list(set([j for i in lvl.values() for j in i])))"
   ]
  },
  {
   "cell_type": "code",
   "execution_count": 26,
   "id": "f19738ad",
   "metadata": {},
   "outputs": [],
   "source": [
    "#create validation area file\n",
    "valid=pd.DataFrame(index=df_baselayer.index)\n",
    "valid['target']=0\n",
    "valid['target'].loc[validation_target]=1\n",
    "valid.to_csv('./poems/validation.csv',index=False)"
   ]
  },
  {
   "cell_type": "code",
   "execution_count": 27,
   "id": "e868fb65",
   "metadata": {},
   "outputs": [
    {
     "name": "stderr",
     "output_type": "stream",
     "text": [
      "C:\\Users\\tm\\AppData\\Local\\Temp\\ipykernel_53260\\617944699.py:2: SettingWithCopyWarning: \n",
      "A value is trying to be set on a copy of a slice from a DataFrame.\n",
      "Try using .loc[row_indexer,col_indexer] = value instead\n",
      "\n",
      "See the caveats in the documentation: https://pandas.pydata.org/pandas-docs/stable/user_guide/indexing.html#returning-a-view-versus-a-copy\n",
      "  land['ID']=range(len(land))\n"
     ]
    }
   ],
   "source": [
    "#reindex validation area against land area\n",
    "land['ID']=range(len(land))\n",
    "identity=pd.DataFrame()\n",
    "identity['ID']=land['ID'].loc[validation_target].tolist()\n",
    "identity.to_csv('./poems/identity.csv',index=False)"
   ]
  },
  {
   "cell_type": "code",
   "execution_count": null,
   "id": "4294ac4a",
   "metadata": {},
   "outputs": [],
   "source": []
  }
 ],
 "metadata": {
  "kernelspec": {
   "display_name": "Python 3 (ipykernel)",
   "language": "python",
   "name": "python3"
  },
  "language_info": {
   "codemirror_mode": {
    "name": "ipython",
    "version": 3
   },
   "file_extension": ".py",
   "mimetype": "text/x-python",
   "name": "python",
   "nbconvert_exporter": "python",
   "pygments_lexer": "ipython3",
   "version": "3.8.17"
  },
  "toc": {
   "base_numbering": 1,
   "nav_menu": {},
   "number_sections": true,
   "sideBar": true,
   "skip_h1_title": false,
   "title_cell": "Table of Contents",
   "title_sidebar": "Contents",
   "toc_cell": false,
   "toc_position": {
    "height": "calc(100% - 180px)",
    "left": "10px",
    "top": "150px",
    "width": "307.2px"
   },
   "toc_section_display": true,
   "toc_window_display": true
  }
 },
 "nbformat": 4,
 "nbformat_minor": 5
}
