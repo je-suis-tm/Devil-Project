{
 "cells": [
  {
   "cell_type": "markdown",
   "id": "2255287e",
   "metadata": {},
   "source": [
    "### Habitat Suitability\n",
    "\n",
    "&nbsp;\n",
    "\n",
    "Habitat suitability model predicts the abundance of a certain species in a particular area. Based on the availability of these environmental elements throughout a landscape, the model determines which environmental factors a species prefers or avoids. The result would be an index of habitat suitability based on these factors. The model in this script is listed below.\n",
    "\n",
    "$$Number of Animals Captured = \\alpha + \\beta_1 \\times Vegetation Type + \\beta_2 \\times Prey Presence  + \\beta_3 \\times Altitude $$\n",
    "\n",
    "where\n",
    "\n",
    "$\\alpha$,$\\beta$ denotes the coefficients of the model"
   ]
  },
  {
   "cell_type": "code",
   "execution_count": 1,
   "id": "d60823f5",
   "metadata": {},
   "outputs": [],
   "source": [
    "import pickle\n",
    "import sklearn.ensemble\n",
    "import shapely.geometry\n",
    "import cv2\n",
    "import geopandas as gpd\n",
    "from mpl_toolkits.basemap import Basemap\n",
    "import matplotlib.pyplot as plt\n",
    "import numpy as np\n",
    "import os\n",
    "import pandas as pd\n",
    "import pyodbc\n",
    "from pyproj import Proj\n",
    "os.chdir('C:/Users/tm/Downloads/utas/thesis/chapter1/tasmania')"
   ]
  },
  {
   "cell_type": "markdown",
   "id": "e4f23aac",
   "metadata": {},
   "source": [
    "### functions"
   ]
  },
  {
   "cell_type": "code",
   "execution_count": 2,
   "id": "dc281b62",
   "metadata": {},
   "outputs": [],
   "source": [
    "#coordinates conversion\n",
    "def convert_easting_northing_to_lat_lon(easting, northing,):\n",
    "    proj = Proj('+proj=utm +zone=55 +south +ellps=GRS80 +units=m +no_defs')\n",
    "    lon, lat = proj(easting, northing, inverse=True)\n",
    "    return lat, lon"
   ]
  },
  {
   "cell_type": "code",
   "execution_count": 3,
   "id": "0e59e345",
   "metadata": {},
   "outputs": [],
   "source": [
    "#convert asc file to geopandas\n",
    "def asc2gpd(info,grid):\n",
    "\n",
    "    #seperate text and int\n",
    "    info['name']=[i.split(' ')[0] for i in info[0]]\n",
    "    info['val']=[float(i.split(' ')[-1] )for i in info[0]]\n",
    "\n",
    "    #convert to int for lower left x,y, nodatavalue and cell size\n",
    "    xllcorner=info['val'][info['name']=='xllcorner'].item()\n",
    "    xllcorner=int(xllcorner)\n",
    "    yllcorner=info['val'][info['name']=='yllcorner'].item()\n",
    "    yllcorner=int(round(yllcorner))\n",
    "    cellsize=info['val'][info['name']=='cellsize'].item()\n",
    "    cellsize=int(cellsize)\n",
    "    nodataval=info['val'][info['name']=='NODATA_value'].item()\n",
    "    nodataval=int(nodataval)\n",
    "\n",
    "    #get coordinates in matrix form\n",
    "    nrow=range(yllcorner,yllcorner+cellsize*grid.shape[0],cellsize)\n",
    "    ncol=range(xllcorner,xllcorner+cellsize*grid.shape[1],cellsize)\n",
    "\n",
    "    #flip y coordinates\n",
    "    flatarr=[(i,j) for j in nrow for i in ncol]\n",
    "    y=np.flip(np.array([i[1] for i in flatarr]).reshape(grid.shape),axis=0).flatten().tolist()\n",
    "\n",
    "    #create geopandas\n",
    "    export=pd.DataFrame()\n",
    "    export['coords']=list(zip([i[0] for i in flatarr],y))\n",
    "    export['altitude']=grid.flatten()\n",
    "    export['coords'] = export['coords'].apply(shapely.geometry.Point)\n",
    "    output=gpd.GeoDataFrame(export, geometry='coords')\n",
    "\n",
    "    #remove nodata point\n",
    "    output=output[output['altitude']!=nodataval]    \n",
    "    \n",
    "    return output"
   ]
  },
  {
   "cell_type": "markdown",
   "id": "6e2d9ac5",
   "metadata": {},
   "source": [
    "### global variables"
   ]
  },
  {
   "cell_type": "code",
   "execution_count": 4,
   "id": "66385648",
   "metadata": {},
   "outputs": [],
   "source": [
    "lonmin=144.165967\n",
    "latmin=-43.833736\n",
    "lonmax=148.576978\n",
    "latmax=-40.349895\n",
    "lat_centre =-42.10904672752227 ; lon_centre = 146.6417533511285;\n",
    "gridlen=35\n",
    "\n",
    "radius=1.2"
   ]
  },
  {
   "cell_type": "markdown",
   "id": "47ddeb03",
   "metadata": {},
   "source": [
    "### island map"
   ]
  },
  {
   "cell_type": "code",
   "execution_count": null,
   "id": "a360f9f9",
   "metadata": {},
   "outputs": [],
   "source": []
  },
  {
   "cell_type": "code",
   "execution_count": 5,
   "id": "56bb0c82",
   "metadata": {},
   "outputs": [],
   "source": [
    "# #create map\n",
    "# #alternative projection could be crs4236 wgs84\n",
    "# carte=Basemap(llcrnrlon=lonmin,llcrnrlat=latmin,\n",
    "#               urcrnrlon=lonmax,urcrnrlat=latmax,\n",
    "#               resolution='f', projection='tmerc', \n",
    "#              lat_0=lat_centre,lon_0=lon_centre,)\n",
    "\n",
    "# carte.drawmapboundary(fill_color='w')\n",
    "# carte.fillcontinents(color='k',lake_color='w')\n",
    "# carte.drawcoastlines()\n",
    "# plt.savefig('./images/base.png',bbox_inches='tight',\n",
    "#                     pad_inches=-.05)\n",
    "# plt.clf()\n",
    "\n",
    "# #down scale image\n",
    "# baselayer=cv2.imread('./images/base.png',0)\n",
    "# baselayer=cv2.resize(baselayer,dsize=(gridlen,gridlen,),\n",
    "#                    interpolation=cv2.INTER_AREA)\n",
    "        \n",
    "\n",
    "# #manual dilution\n",
    "# baselayer[baselayer>=180]=255\n",
    "# baselayer[baselayer<180]=0\n",
    "# plt.imshow(baselayer)\n",
    "# plt.title('basemap layer map')\n",
    "# plt.axis('off')\n",
    "# plt.show()\n",
    "\n",
    "# df_baselayer=pd.DataFrame()\n",
    "# df_baselayer['grid']=baselayer.flatten()\n",
    "# df_baselayer.to_csv('./poems/baselayer.csv',index=False)"
   ]
  },
  {
   "cell_type": "code",
   "execution_count": 6,
   "id": "c1115b50",
   "metadata": {},
   "outputs": [],
   "source": [
    "df_baselayer=pd.read_csv('./poems/baselayer.csv')"
   ]
  },
  {
   "cell_type": "markdown",
   "id": "913dfc27",
   "metadata": {},
   "source": [
    "### NVA devil"
   ]
  },
  {
   "cell_type": "code",
   "execution_count": 7,
   "id": "dc2245f5",
   "metadata": {},
   "outputs": [],
   "source": [
    "os.chdir('C:/Users/tm/Downloads/utas/WildlifeDatabases')"
   ]
  },
  {
   "cell_type": "code",
   "execution_count": 8,
   "id": "d163c7f8",
   "metadata": {},
   "outputs": [
    {
     "name": "stderr",
     "output_type": "stream",
     "text": [
      "C:\\Users\\tm\\AppData\\Local\\Temp\\ipykernel_17824\\3408298040.py:14: UserWarning: pandas only supports SQLAlchemy connectable (engine/connection) or database string URI or sqlite3 DBAPI2 connection. Other DBAPI2 objects are not tested. Please consider using SQLAlchemy.\n",
      "  traps=pd.concat([traps,pd.read_sql('select * from traps',conn)])\n",
      "C:\\Users\\tm\\AppData\\Local\\Temp\\ipykernel_17824\\3408298040.py:15: UserWarning: pandas only supports SQLAlchemy connectable (engine/connection) or database string URI or sqlite3 DBAPI2 connection. Other DBAPI2 objects are not tested. Please consider using SQLAlchemy.\n",
      "  traphist=pd.concat([traphist,pd.read_sql('select * from traphistory',conn)])\n"
     ]
    }
   ],
   "source": [
    "traphist=pd.DataFrame(columns=['ID', 'TrapID', 'DateOfUse', 'Event', 'CaptureType', 'Microchip',\n",
    "       'Comment'])\n",
    "\n",
    "traps=pd.DataFrame(columns=['TrapID', 'Northing', 'Easting', 'Comments', 'TrapLine', 'Researcher'])\n",
    "\n",
    "for i in ['./crabtree/CBT_database_2024_04_CRS.accdb','./franklin/FRA_database_devil_2023_09_CRS.accdb',\n",
    "         './Woodbridge+Sandfly/Channel_database_devil_2023_11_ER.accdb',\n",
    "           './arthur river/ARV_database_2023_11_CRES.accdb','./black river/BRI_database_2022_11_KJS.accdb',\n",
    "         './freycinet/FNP_database_2023_11_CRES.accdb','./takone/TKN_database_2022_12_ACW.accdb',\n",
    "         './west pencil pine/WPP_Nov_2023_ER.accdb','./wukalina/Wukalina_NOV2020_SN.accdb',\n",
    "        ]:\n",
    "\n",
    "    conn = pyodbc.connect(r'Driver={Microsoft Access Driver (*.mdb, *.accdb)};DBQ='+f'{i};')\n",
    "    traps=pd.concat([traps,pd.read_sql('select * from traps',conn)])\n",
    "    traphist=pd.concat([traphist,pd.read_sql('select * from traphistory',conn)])\n",
    "    traps.reset_index(inplace=True,drop=True)\n",
    "    traphist.reset_index(inplace=True,drop=True)"
   ]
  },
  {
   "cell_type": "code",
   "execution_count": 9,
   "id": "9b5a4cbd",
   "metadata": {},
   "outputs": [],
   "source": [
    "#keep useful traps\n",
    "traps=traps[['TrapID', 'Northing', 'Easting']].drop_duplicates().dropna()\n",
    "\n",
    "#focus on recapture\n",
    "traphist=traphist[traphist['Event'].isin(['Tasmanian devil','Tasmanian Devil',])].copy()\n",
    "\n",
    "#remove null microchip\n",
    "traphist=traphist.loc[traphist['Microchip'].dropna().index]\n",
    "\n",
    "#remove duplicates\n",
    "traphist=traphist.loc[traphist[['Microchip','DateOfUse']].drop_duplicates().index]"
   ]
  },
  {
   "cell_type": "code",
   "execution_count": 10,
   "id": "4cd833c9",
   "metadata": {
    "scrolled": true
   },
   "outputs": [],
   "source": [
    "#merge\n",
    "subset=traphist.merge(traps[['TrapID', 'Northing', 'Easting']],on='TrapID',how='left')\n",
    "\n",
    "#remove empty coordinates\n",
    "subset=subset.loc[subset[['Northing','Easting']].dropna().index]"
   ]
  },
  {
   "cell_type": "code",
   "execution_count": 11,
   "id": "a44e0936",
   "metadata": {
    "scrolled": true
   },
   "outputs": [],
   "source": [
    "subset['Northing']=subset['Northing'].str.replace('5224370.09\\r\\n5224370.09','5224370.09')\n",
    "subset['Easting']=subset['Easting'].str.replace('605373\\r\\n605373','605373')\n",
    "subset['Easting']=subset['Easting'].str.replace('0\\r\\n0','0')\n",
    "subset['Northing']=subset['Northing'].astype(float)\n",
    "subset['Easting']=subset['Easting'].astype(float)"
   ]
  },
  {
   "cell_type": "code",
   "execution_count": 12,
   "id": "e16d62c8",
   "metadata": {},
   "outputs": [],
   "source": [
    "subset['lat'],subset['lon']=convert_easting_northing_to_lat_lon(subset['Easting'], subset['Northing'])"
   ]
  },
  {
   "cell_type": "code",
   "execution_count": 13,
   "id": "040ecfd7",
   "metadata": {},
   "outputs": [
    {
     "name": "stderr",
     "output_type": "stream",
     "text": [
      "No artists with labels found to put in legend.  Note that artists whose label start with an underscore are ignored when legend() is called with no argument.\n"
     ]
    },
    {
     "data": {
      "image/png": "[encoded data removed]",
      "text/plain": [
       "<Figure size 640x480 with 1 Axes>"
      ]
     },
     "metadata": {},
     "output_type": "display_data"
    }
   ],
   "source": [
    "#get channel penninsula\n",
    "carte=Basemap(llcrnrlon=lonmin,llcrnrlat=latmin,\n",
    "              urcrnrlon=lonmax,urcrnrlat=latmax,\n",
    "              resolution='f', projection='tmerc', \n",
    "             lat_0=lat_centre,lon_0=lon_centre,)\n",
    "\n",
    "carte.drawmapboundary(fill_color='w')\n",
    "carte.fillcontinents(color='k',lake_color='w')\n",
    "carte.drawcoastlines()\n",
    "carte.drawrivers()\n",
    "\n",
    "#differentiate dftd and dft2\n",
    "x,y=carte(subset['lon'].tolist(),\n",
    "          subset['lat'].tolist())\n",
    "plt.scatter(x,y,s=7,c='red',alpha=0.7)\n",
    "\n",
    "\n",
    "plt.legend()\n",
    "\n",
    "\n",
    "plt.show()"
   ]
  },
  {
   "cell_type": "code",
   "execution_count": 14,
   "id": "6ba0d9ea",
   "metadata": {},
   "outputs": [],
   "source": [
    "#locate where the devils are on a 20 by 20 raster\n",
    "lonunit=(lonmax-lonmin)/gridlen\n",
    "latunit=(latmax-latmin)/gridlen\n",
    "subset['lat num']=(subset['lat']-latmin)//latunit\n",
    "subset['lon num']=(subset['lon']-lonmin)//lonunit\n",
    "subset['coordinates']=list(zip(subset['lat num'].astype(int),subset['lon num'].astype(int)))\n",
    "\n",
    "#each individual in a given grid cell counts as one\n",
    "subset=subset.loc[subset[['Microchip','coordinates']].drop_duplicates().index]"
   ]
  },
  {
   "cell_type": "code",
   "execution_count": 15,
   "id": "f3fb9867",
   "metadata": {},
   "outputs": [],
   "source": [
    "#create matrix\n",
    "devilcount=subset.groupby(['coordinates']).count()\n",
    "devil=np.zeros((gridlen,gridlen))\n",
    "for i in range(len(devilcount)):\n",
    "    loc=devilcount.index[i]\n",
    "    if loc[0]>=gridlen or loc[0]<0 or loc[1]>=gridlen or loc[1]<0:\n",
    "        continue\n",
    "    devil[loc]=devilcount['Microchip'].iloc[i]\n",
    "\n",
    "#flip matrix vertically\n",
    "devil=np.flip(devil,0)"
   ]
  },
  {
   "cell_type": "code",
   "execution_count": 16,
   "id": "13eca59b",
   "metadata": {},
   "outputs": [
    {
     "data": {
      "image/png": "[encoded data removed]",
      "text/plain": [
       "<Figure size 640x480 with 1 Axes>"
      ]
     },
     "metadata": {},
     "output_type": "display_data"
    }
   ],
   "source": [
    "plt.imshow(devil)\n",
    "plt.title('devil occurance map')\n",
    "plt.axis('off')\n",
    "plt.show()"
   ]
  },
  {
   "cell_type": "markdown",
   "id": "3f851da6",
   "metadata": {},
   "source": [
    "### vegetation"
   ]
  },
  {
   "cell_type": "code",
   "execution_count": 17,
   "id": "56e95d23",
   "metadata": {},
   "outputs": [],
   "source": [
    "# os.chdir('C:/Users/tm/Downloads/utas/tasveg')\n",
    "\n",
    "# #convert stupid utm to lat lon\n",
    "# zips=gpd.read_file('aggr.shp')\n",
    "# # zips.plot()\n",
    "# # plt.title('tasveg')\n",
    "# # plt.xlabel('lon')\n",
    "# # plt.ylabel('lat')\n",
    "# # plt.show()\n",
    "\n",
    "\n",
    "# #crop to island\n",
    "# subset=zips.cx[lonmin:lonmax,\n",
    "#               latmin:latmax]\n",
    "\n",
    "# os.chdir('C:/Users/tm/Downloads/utas/thesis/chapter1/tasmania')\n",
    "\n",
    "# #plot each vegetation type\n",
    "# veg_group={}\n",
    "# for i in subset[\"VEG_GROUP\"].unique():\n",
    "#     subsub=subset[subset[\"VEG_GROUP\"]==i]\n",
    "#     ax=subsub.plot(column=\"VEG_GROUP\")\n",
    "#     ax.set_xlim((lonmin,lonmax))\n",
    "#     ax.set_ylim((latmin,latmax))\n",
    "#     ax.axis('off')    \n",
    "#     plt.savefig(f'./images/{i}.png',bbox_inches='tight',\n",
    "#                     pad_inches=-.05)\n",
    "#     plt.clf()    \n",
    "#     plt.clf()\n",
    "\n",
    "#     #down scale image\n",
    "#     vegtype=cv2.imread(f'./images/{i}.png',0)\n",
    "#     vegtype=cv2.resize(vegtype,dsize=(gridlen,gridlen),\n",
    "#                        interpolation=cv2.INTER_LANCZOS4)\n",
    "#     vegtype[vegtype<255]=0\n",
    "#     veg_group[i]=vegtype\n",
    "#     plt.imshow(veg_group[i])\n",
    "#     plt.title(i)\n",
    "#     plt.axis('off')\n",
    "#     plt.show()\n",
    "\n",
    "# #export to csv\n",
    "# vegdata=pd.DataFrame()\n",
    "# for i in veg_group:\n",
    "#     arr=veg_group[i].flatten()\n",
    "#     arr[arr==0]=1\n",
    "#     arr[arr==255]=0\n",
    "#     vegdata[i]=arr\n",
    "# vegdata.to_csv('./poems/vegdata.csv',index=False)"
   ]
  },
  {
   "cell_type": "code",
   "execution_count": 18,
   "id": "fe72d4e2",
   "metadata": {},
   "outputs": [],
   "source": [
    "os.chdir('C:/Users/tm/Downloads/utas/thesis/chapter1/tasmania')\n",
    "vegdata=pd.read_csv('./poems/vegdata.csv')"
   ]
  },
  {
   "cell_type": "markdown",
   "id": "8749b73c",
   "metadata": {},
   "source": [
    "### elevation"
   ]
  },
  {
   "cell_type": "code",
   "execution_count": 19,
   "id": "b02f2274",
   "metadata": {},
   "outputs": [],
   "source": [
    "# #convert coordinates\n",
    "# os.chdir('C:/Users/tm/Downloads/utas/taselevation')\n",
    "# output=pd.read_csv('./height.csv')\n",
    "\n",
    "# output['lat'],output['lon']=convert_easting_northing_to_lat_lon(output['easting'], output['northing'])\n",
    "\n",
    "# lonunit=(lonmax-lonmin)/gridlen\n",
    "# latunit=(latmax-latmin)/gridlen\n",
    "# output['lat num']=(output['lat']-latmin)//latunit\n",
    "# output['lon num']=(output['lon']-lonmin)//lonunit\n",
    "# output['id']=list(zip(output['lat num'].astype(int),output['lon num'].astype(int)))\n",
    "\n",
    "# #compute mean altitude by each cell\n",
    "# height=output[['id','altitude']].groupby('id').mean()['altitude']\n",
    "\n",
    "# #export\n",
    "# os.chdir('C:/Users/tm/Downloads/utas/thesis/chapter1/tasmania/poems')\n",
    "# pd.DataFrame(height).to_csv('height.csv')"
   ]
  },
  {
   "cell_type": "code",
   "execution_count": 20,
   "id": "e7bec567",
   "metadata": {},
   "outputs": [],
   "source": [
    "height=pd.read_csv('./poems/height.csv')"
   ]
  },
  {
   "cell_type": "code",
   "execution_count": 21,
   "id": "cfb3b99a",
   "metadata": {},
   "outputs": [],
   "source": [
    "for i in range(len(height)):\n",
    "    if int(height['id'][i].split(',')[0].split('(')[-1])>=gridlen or \\\n",
    "    int(height['id'][i].split(',')[-1].split(')')[0])>=gridlen or \\\n",
    "    int(height['id'][i].split(',')[0].split('(')[-1])<0 or int(height['id'][i].split(',')[-1].split(')')[0])<0:\n",
    "        height.drop(i,inplace=True)"
   ]
  },
  {
   "cell_type": "code",
   "execution_count": 22,
   "id": "5828224f",
   "metadata": {},
   "outputs": [],
   "source": [
    "#generate raster\n",
    "altitude=np.zeros(devil.shape)\n",
    "for i in range(len(height)):\n",
    "    altitude[eval(height.at[i,'id'])]=height.at[i,'altitude']\n",
    "altitude=np.flip(altitude,axis=0)"
   ]
  },
  {
   "cell_type": "code",
   "execution_count": 23,
   "id": "336b0629",
   "metadata": {},
   "outputs": [
    {
     "data": {
      "image/png": "[encoded data removed]",
      "text/plain": [
       "<Figure size 640x480 with 1 Axes>"
      ]
     },
     "metadata": {},
     "output_type": "display_data"
    }
   ],
   "source": [
    "#viz\n",
    "plt.imshow(altitude)\n",
    "plt.title('altitude map')\n",
    "plt.axis('off')\n",
    "plt.show()"
   ]
  },
  {
   "cell_type": "markdown",
   "id": "310ec108",
   "metadata": {},
   "source": [
    "### matrix form"
   ]
  },
  {
   "cell_type": "code",
   "execution_count": 24,
   "id": "5d363cad",
   "metadata": {},
   "outputs": [],
   "source": [
    "#generate data\n",
    "data=pd.DataFrame()\n",
    "data['devil']=devil.flatten()\n",
    "\n",
    "#create habitat suitability index\n",
    "#use log to reduce the scale\\\n",
    "data['devil'][data['devil']==0]=np.nan\n",
    "data['index']=np.log(data['devil']+1)/np.log(data['devil']).max()\n",
    "data['altitude']=altitude.flatten()"
   ]
  },
  {
   "cell_type": "code",
   "execution_count": 25,
   "id": "85e87ad2",
   "metadata": {},
   "outputs": [],
   "source": [
    "#convert array to binary\n",
    "arr=np.array(df_baselayer['grid'])\n",
    "arr[arr==0]=1\n",
    "arr[arr==255]=0\n",
    "data['base']=arr\n",
    "\n",
    "#get veg\n",
    "data=pd.concat([data,vegdata],axis=1)"
   ]
  },
  {
   "cell_type": "code",
   "execution_count": 26,
   "id": "cf97adee",
   "metadata": {},
   "outputs": [],
   "source": [
    "# #keep channel area and remove the rest\n",
    "# mask=pd.read_csv('mask.csv',header=None)\n",
    "# flatmask=np.array(mask).flatten()\n",
    "# actual_channel_ind=np.where(flatmask==0)[0]\n",
    "\n",
    "\n",
    "# data['base'].loc[list(set(data[data['base']==1].index).difference(set(actual_channel_ind)))]=0\n",
    "# data['index'][data['base']==0]=0"
   ]
  },
  {
   "cell_type": "markdown",
   "id": "581fca03",
   "metadata": {},
   "source": [
    "### random forest"
   ]
  },
  {
   "cell_type": "code",
   "execution_count": 27,
   "id": "4375e8b8",
   "metadata": {
    "scrolled": true
   },
   "outputs": [],
   "source": [
    "#remove sea area\n",
    "land=data[data['base']==1]\n",
    "\n",
    "#only work on the cells with recorded devil capture\n",
    "training=land.loc[land['index'].dropna().index]"
   ]
  },
  {
   "cell_type": "code",
   "execution_count": 28,
   "id": "26907f66",
   "metadata": {},
   "outputs": [
    {
     "name": "stderr",
     "output_type": "stream",
     "text": [
      "C:\\Users\\tm\\AppData\\Local\\Temp\\ipykernel_17824\\3513440024.py:8: SettingWithCopyWarning: \n",
      "A value is trying to be set on a copy of a slice from a DataFrame.\n",
      "Try using .loc[row_indexer,col_indexer] = value instead\n",
      "\n",
      "See the caveats in the documentation: https://pandas.pydata.org/pandas-docs/stable/user_guide/indexing.html#returning-a-view-versus-a-copy\n",
      "  land['pred']=clf.predict(land[targets])\n"
     ]
    }
   ],
   "source": [
    "#train and predict\n",
    "\n",
    "targets=[i for i in training.columns if i not in ['devil','base','index']]\n",
    "clf=sklearn.ensemble.RandomForestRegressor()\n",
    "\n",
    "clf.fit(training[targets],training['index'])\n",
    "\n",
    "land['pred']=clf.predict(land[targets])\n",
    "\n",
    "data['pred']=land['pred']"
   ]
  },
  {
   "cell_type": "code",
   "execution_count": 29,
   "id": "a67bf26b",
   "metadata": {},
   "outputs": [
    {
     "data": {
      "text/plain": [
       "0.8539252061104318"
      ]
     },
     "execution_count": 29,
     "metadata": {},
     "output_type": "execute_result"
    }
   ],
   "source": [
    "#not bad for scarce data points\n",
    "clf.score(training[targets],training['index'])"
   ]
  },
  {
   "cell_type": "code",
   "execution_count": 30,
   "id": "9b2db444",
   "metadata": {},
   "outputs": [
    {
     "data": {
      "image/png": "[encoded data removed]",
      "text/plain": [
       "<Figure size 640x480 with 1 Axes>"
      ]
     },
     "metadata": {},
     "output_type": "display_data"
    }
   ],
   "source": [
    "#viz habitat suitability map\n",
    "plt.imshow(np.array(data['pred']).reshape(gridlen,gridlen),cmap='RdBu_r')\n",
    "plt.title('habitat suitability map')\n",
    "plt.axis('off')\n",
    "plt.show()"
   ]
  },
  {
   "cell_type": "code",
   "execution_count": 31,
   "id": "f6bc0144",
   "metadata": {},
   "outputs": [
    {
     "name": "stderr",
     "output_type": "stream",
     "text": [
      "C:\\Users\\tm\\AppData\\Local\\Temp\\ipykernel_17824\\1000287191.py:1: SettingWithCopyWarning: \n",
      "A value is trying to be set on a copy of a slice from a DataFrame\n",
      "\n",
      "See the caveats in the documentation: https://pandas.pydata.org/pandas-docs/stable/user_guide/indexing.html#returning-a-view-versus-a-copy\n",
      "  land['pred'].loc[land['index'].dropna().index]=land['index'][land['index'].dropna().index].tolist()\n"
     ]
    }
   ],
   "source": [
    "land['pred'].loc[land['index'].dropna().index]=land['index'][land['index'].dropna().index].tolist()"
   ]
  },
  {
   "cell_type": "code",
   "execution_count": 32,
   "id": "be78910c",
   "metadata": {},
   "outputs": [],
   "source": [
    "land[['pred']].dropna().to_csv('./poems/suitability.csv',index=False)"
   ]
  },
  {
   "cell_type": "code",
   "execution_count": 33,
   "id": "e79425bd",
   "metadata": {},
   "outputs": [],
   "source": [
    "#create map data\n",
    "arr=data['base'].to_numpy()\n",
    "arr[arr==0]=255\n",
    "arr[arr==1]=0\n",
    "df_baselayer=pd.DataFrame()\n",
    "df_baselayer['grid']=arr\n",
    "df_baselayer.to_csv('./poems/baselayer.csv',index=False)"
   ]
  },
  {
   "cell_type": "code",
   "execution_count": 34,
   "id": "494cb149",
   "metadata": {},
   "outputs": [],
   "source": [
    "#convert lattice to adjacency list\n",
    "check_matrix=arr.reshape(gridlen,gridlen)\n",
    "adj_list={}\n",
    "\n",
    "for i in range(gridlen**2):\n",
    "    current_tile=[i//gridlen,i%gridlen]\n",
    "    \n",
    "    if check_matrix[current_tile[0],current_tile[1]]==0:\n",
    "        adj_list[i]=[]\n",
    "        \n",
    "        up=[current_tile[0]-1,current_tile[1]]\n",
    "        down=[current_tile[0]+1,current_tile[1]]\n",
    "        left=[current_tile[0],current_tile[1]-1]\n",
    "        right=[current_tile[0],current_tile[1]+1]\n",
    "\n",
    "        \n",
    "        if up[0]>=0 and check_matrix[current_tile[0]-1,current_tile[1]]==0:\n",
    "            adj_list[i].append(i-gridlen)\n",
    "\n",
    "        if down[0]<gridlen and check_matrix[current_tile[0]+1,current_tile[1]]==0:\n",
    "            adj_list[i].append(i+gridlen)\n",
    "        \n",
    "        if left[1]>=0 and check_matrix[current_tile[0],current_tile[1]-1]==0:\n",
    "            adj_list[i].append(i-1)\n",
    "\n",
    "        if right[1]<gridlen and check_matrix[current_tile[0],current_tile[1]+1]==0:\n",
    "            adj_list[i].append(i+1)\n",
    "            "
   ]
  },
  {
   "cell_type": "code",
   "execution_count": 35,
   "id": "7e0eb8a7",
   "metadata": {},
   "outputs": [],
   "source": [
    "#use bfs to identify the grids required for validation within the radius\n",
    "counter=0\n",
    "stop=False\n",
    "lvl={}\n",
    "lvl[0]=training[training['index']!=0].index.tolist()\n",
    "while not stop:\n",
    "    \n",
    "    queue=[]\n",
    "    counter+=1\n",
    "    if counter>radius:\n",
    "        stop=True\n",
    "    for i in list(lvl.values())[-1]:\n",
    "        queue+=adj_list[i]\n",
    "    lvl[counter]=list(set(queue))\n",
    "\n",
    "validation_target=sorted(list(set([j for i in lvl.values() for j in i])))"
   ]
  },
  {
   "cell_type": "code",
   "execution_count": 36,
   "id": "f19738ad",
   "metadata": {},
   "outputs": [],
   "source": [
    "#create validation area file\n",
    "valid=pd.DataFrame(index=df_baselayer.index)\n",
    "valid['target']=0\n",
    "valid['target'].loc[validation_target]=1\n",
    "valid.to_csv('./poems/validation.csv',index=False)"
   ]
  },
  {
   "cell_type": "code",
   "execution_count": 37,
   "id": "e868fb65",
   "metadata": {},
   "outputs": [
    {
     "name": "stderr",
     "output_type": "stream",
     "text": [
      "C:\\Users\\tm\\AppData\\Local\\Temp\\ipykernel_17824\\617944699.py:2: SettingWithCopyWarning: \n",
      "A value is trying to be set on a copy of a slice from a DataFrame.\n",
      "Try using .loc[row_indexer,col_indexer] = value instead\n",
      "\n",
      "See the caveats in the documentation: https://pandas.pydata.org/pandas-docs/stable/user_guide/indexing.html#returning-a-view-versus-a-copy\n",
      "  land['ID']=range(len(land))\n"
     ]
    }
   ],
   "source": [
    "#reindex validation area against land area\n",
    "land['ID']=range(len(land))\n",
    "identity=pd.DataFrame()\n",
    "identity['ID']=land['ID'].loc[validation_target].tolist()\n",
    "identity.to_csv('./poems/identity.csv',index=False)"
   ]
  },
  {
   "cell_type": "code",
   "execution_count": null,
   "id": "4294ac4a",
   "metadata": {},
   "outputs": [],
   "source": []
  }
 ],
 "metadata": {
  "kernelspec": {
   "display_name": "Python 3 (ipykernel)",
   "language": "python",
   "name": "python3"
  },
  "language_info": {
   "codemirror_mode": {
    "name": "ipython",
    "version": 3
   },
   "file_extension": ".py",
   "mimetype": "text/x-python",
   "name": "python",
   "nbconvert_exporter": "python",
   "pygments_lexer": "ipython3",
   "version": "3.8.17"
  },
  "toc": {
   "base_numbering": 1,
   "nav_menu": {},
   "number_sections": true,
   "sideBar": true,
   "skip_h1_title": false,
   "title_cell": "Table of Contents",
   "title_sidebar": "Contents",
   "toc_cell": false,
   "toc_position": {
    "height": "calc(100% - 180px)",
    "left": "10px",
    "top": "150px",
    "width": "307.2px"
   },
   "toc_section_display": true,
   "toc_window_display": true
  }
 },
 "nbformat": 4,
 "nbformat_minor": 5
}
