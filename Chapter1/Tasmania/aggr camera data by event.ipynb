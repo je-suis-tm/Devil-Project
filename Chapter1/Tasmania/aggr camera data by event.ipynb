{
 "cells": [
  {
   "cell_type": "code",
   "execution_count": 1,
   "id": "f8501124",
   "metadata": {},
   "outputs": [],
   "source": [
    "import os\n",
    "os.chdir('C:/Users/tm/Downloads/utas/thesis/chapter1/tasmania/data')\n",
    "\n",
    "import numpy as np\n",
    "from pyproj import Proj\n",
    "import pandas as pd\n",
    "import matplotlib.pyplot as plt\n",
    "import datetime as dt\n",
    "import geopandas as gpd\n",
    "import ast\n",
    "from shapely.geometry import box\n",
    "import rasterio\n",
    "from rasterio.features import rasterize\n",
    "from rasterio.transform import from_origin"
   ]
  },
  {
   "cell_type": "code",
   "execution_count": 2,
   "id": "6bfff11b",
   "metadata": {},
   "outputs": [],
   "source": [
    "#coordinates conversion\n",
    "def convert_easting_northing_to_lat_lon(easting, northing,):\n",
    "    proj = Proj('+proj=utm +zone=55 +south +ellps=GRS80 +units=m +no_defs')\n",
    "    lon, lat = proj(easting, northing, inverse=True)\n",
    "    return lat, lon"
   ]
  },
  {
   "cell_type": "code",
   "execution_count": 3,
   "id": "23925144",
   "metadata": {},
   "outputs": [],
   "source": [
    "#rescale value\n",
    "def rescale_value(old_value, min_old_value, max_old_value, min_new_value, max_new_value):\n",
    "    scaled_value = ((old_value - min_old_value) / (max_old_value - min_old_value)) * (\n",
    "        max_new_value - min_new_value) + min_new_value\n",
    "    return scaled_value"
   ]
  },
  {
   "cell_type": "markdown",
   "id": "00721b32",
   "metadata": {},
   "source": [
    "### global variables"
   ]
  },
  {
   "cell_type": "code",
   "execution_count": 4,
   "id": "cc13c066",
   "metadata": {},
   "outputs": [],
   "source": [
    "lonmin=144.165967\n",
    "latmin=-43.833736\n",
    "lonmax=148.576978\n",
    "latmax=-40.349895\n",
    "lat_centre=-42.10904672752227\n",
    "lon_centre=146.6417533511285\n",
    "gridlen=35\n",
    "bbox=box(lonmin,latmin,lonmax,latmax)"
   ]
  },
  {
   "cell_type": "markdown",
   "id": "c73aa0ef",
   "metadata": {},
   "source": [
    "### bioregion"
   ]
  },
  {
   "cell_type": "code",
   "execution_count": 5,
   "id": "fb83a4a7",
   "metadata": {},
   "outputs": [],
   "source": [
    "#read\n",
    "gdf=gpd.read_file('Interim_Biogeographic_Regionalisation_for_Australia_(IBRA)_Version_7_(Regions).geojson')"
   ]
  },
  {
   "cell_type": "code",
   "execution_count": 6,
   "id": "8a6d782f",
   "metadata": {},
   "outputs": [
    {
     "name": "stderr",
     "output_type": "stream",
     "text": [
      "C:\\Users\\tm\\Anaconda3\\lib\\site-packages\\shapely\\set_operations.py:133: RuntimeWarning: invalid value encountered in intersection\n",
      "  return lib.intersection(a, b, **kwargs)\n"
     ]
    }
   ],
   "source": [
    "#clip each shape\n",
    "clipped=[]\n",
    "code=[]\n",
    "for i in gdf.index:\n",
    "    clipped_geometry=gdf.at[i,'geometry'].intersection(bbox)\n",
    "    if not clipped_geometry.is_empty:\n",
    "        clipped.append(clipped_geometry)\n",
    "        code.append(gdf.at[i,'REG_CODE_7'])\n",
    "\n",
    "# Create a new GeoDataFrame from the clipped geometries\n",
    "clipped_gdf=gpd.GeoDataFrame(geometry=clipped,crs=gdf.crs)\n",
    "clipped_gdf['regcode']=code\n",
    "\n",
    "#map id\n",
    "mapping,clipped_gdf['id']=np.unique(clipped_gdf['regcode'],\n",
    "                                    return_inverse=True)"
   ]
  },
  {
   "cell_type": "code",
   "execution_count": 7,
   "id": "f3fc0d72",
   "metadata": {},
   "outputs": [],
   "source": [
    "# Define raster parameters\n",
    "out_shape=(gridlen,gridlen)  # Specify the shape of the output raster\n",
    "x_resolution=(clipped_gdf.total_bounds[2]-clipped_gdf.total_bounds[0])/out_shape[1]\n",
    "y_resolution=(clipped_gdf.total_bounds[3]-clipped_gdf.total_bounds[1])/out_shape[0]\n",
    "transform=from_origin(west=clipped_gdf.total_bounds[0],north=clipped_gdf.total_bounds[3],\n",
    "                        xsize=x_resolution,ysize=y_resolution,)\n",
    "\n",
    "# Create an empty array to store rasterized values\n",
    "raster_array=np.zeros(out_shape)  # You may need to adjust dtype\n",
    "\n",
    "# Define the attribute or property you want to rasterize\n",
    "attribute='id'\n",
    "\n",
    "# Rasterize GeoPandas DataFrame\n",
    "rasterized=rasterize(\n",
    "    [(geometry,value) for geometry,value in zip(clipped_gdf.geometry,clipped_gdf[attribute])],\n",
    "    out_shape=out_shape,\n",
    "    fill=np.nan,\n",
    "    transform=transform \n",
    ")"
   ]
  },
  {
   "cell_type": "code",
   "execution_count": 8,
   "id": "b7bb3f9c",
   "metadata": {},
   "outputs": [],
   "source": [
    "#create df\n",
    "#revert back to spatial coordinates\n",
    "bioreg=pd.DataFrame()\n",
    "bioreg['bioreg']=rasterized.flatten()\n",
    "bioreg['coordinates']=[(clipped_gdf.total_bounds[0]+x_resolution*i,clipped_gdf.total_bounds[-1]-y_resolution*j) for j in range(out_shape[0]) for i in range(out_shape[1]) ]\n",
    "bioreg['lat']=[i[1] for i in bioreg['coordinates']]\n",
    "bioreg['lon']=[i[0] for i in bioreg['coordinates']]\n",
    "\n",
    "#dropna\n",
    "bioreg=bioreg.dropna()"
   ]
  },
  {
   "cell_type": "code",
   "execution_count": 9,
   "id": "76a3c370",
   "metadata": {},
   "outputs": [],
   "source": [
    "#assign each coordinate to the grid cell id\n",
    "lonunit=(lonmax-lonmin)/gridlen\n",
    "latunit=(latmax-latmin)/gridlen\n",
    "bioreg['lat num']=(bioreg['lat']-latmin)//latunit\n",
    "bioreg['lon num']=(bioreg['lon']-lonmin)//lonunit\n",
    "bioreg['id']=list(zip(bioreg['lat num'].astype(int),bioreg['lon num'].astype(int)))\n",
    "bioreg.reset_index(inplace=True,drop=True)"
   ]
  },
  {
   "cell_type": "code",
   "execution_count": 10,
   "id": "f8fc82e1",
   "metadata": {},
   "outputs": [],
   "source": [
    "#remove areas outside of grid cell range\n",
    "for i in range(len(bioreg)):\n",
    "    if int(bioreg['id'][i][0])>=gridlen or \\\n",
    "    int(bioreg['id'][i][-1])>=gridlen or \\\n",
    "    int(bioreg['id'][i][0])<0 or int(bioreg['id'][i][-1])<0:\n",
    "        bioreg.drop(i,inplace=True)"
   ]
  },
  {
   "cell_type": "code",
   "execution_count": 11,
   "id": "df451073",
   "metadata": {},
   "outputs": [],
   "source": [
    "#get median bioreg code for each grid cell\n",
    "bioreg['id']=bioreg['id'].astype(str)\n",
    "bioreg=bioreg[['id','bioreg']].groupby(['id']).median()\n",
    "bioreg=bioreg.reset_index()\n",
    "\n",
    "#convert back to tuple\n",
    "bioreg['id']=bioreg['id'].apply(lambda x: ast.literal_eval(x))\n",
    "\n",
    "#rounding\n",
    "bioreg['bioreg']=bioreg['bioreg'].astype(int)"
   ]
  },
  {
   "cell_type": "markdown",
   "id": "04dbca06",
   "metadata": {},
   "source": [
    "### rowena"
   ]
  },
  {
   "cell_type": "code",
   "execution_count": 12,
   "id": "4f456eda",
   "metadata": {},
   "outputs": [],
   "source": [
    "#read\n",
    "rowena_loc=pd.read_csv('./rowena/devils_summary_20240418.csv')\n",
    "rowena_raw=pd.read_csv('./rowena/devils_obs_20240418.csv')"
   ]
  },
  {
   "cell_type": "code",
   "execution_count": 13,
   "id": "a1e80c53",
   "metadata": {},
   "outputs": [],
   "source": [
    "#datetime index\n",
    "rowena_raw['DateTimeAdjusted']=pd.to_datetime(rowena_raw['DateTimeAdjusted'],format='mixed')\n",
    "rowena_raw['val']=0\n",
    "\n",
    "#30 min interval\n",
    "rowena_raw=rowena_raw[['val','site_name', 'DateTimeAdjusted',]].groupby(['site_name']).apply(\n",
    "    lambda x: x.set_index('DateTimeAdjusted').resample('30T').mean()).dropna()\n",
    "rowena_raw.reset_index(inplace=True)\n",
    "\n",
    "#get date\n",
    "rowena_raw['date']=rowena_raw['DateTimeAdjusted'].dt.date\n",
    "\n",
    "#get total days of devils seen\n",
    "rowena_numerator=rowena_raw[['site_name','date']]\n",
    "rowena_numerator=rowena_numerator.groupby('site_name').count().reset_index()"
   ]
  },
  {
   "cell_type": "code",
   "execution_count": 14,
   "id": "edd70811",
   "metadata": {},
   "outputs": [],
   "source": [
    "#convert coordinates\n",
    "rowena_loc['lat'],rowena_loc['lon']=convert_easting_northing_to_lat_lon(\n",
    "    rowena_loc['Easting'], rowena_loc['Northing'],)\n",
    "\n",
    "#get total days of camera in use\n",
    "rowena_denominator=rowena_loc[['survey_effort_days','site_name',\n",
    "                              'lat', 'lon',]].drop_duplicates()\n",
    "rowena_denominator=rowena_denominator.groupby(['site_name','lat', 'lon',]).sum().reset_index()\n",
    "\n",
    "#compute relative abundance\n",
    "rowena_df=rowena_numerator.merge(rowena_denominator,on='site_name',how='left')\n",
    "rowena_df['rel_abun']=rowena_df['date']/rowena_df['survey_effort_days']"
   ]
  },
  {
   "cell_type": "code",
   "execution_count": 15,
   "id": "70d48566",
   "metadata": {},
   "outputs": [],
   "source": [
    "#datetime index\n",
    "rowena_loc['start_date']=pd.to_datetime(rowena_loc['start_date'],format='mixed')\n",
    "\n",
    "#get end date\n",
    "rowena_loc['end date']=rowena_loc['start_date']+rowena_loc['survey_effort_days'].apply(lambda x:dt.timedelta(days=x))\n",
    "\n",
    "#only take the first trip\n",
    "rowena_loc=rowena_loc.sort_values(['start_date','site_name'])\n",
    "rowena_extra=rowena_loc.groupby(['lat','lon',]).first()[['start_date','end date']].reset_index()\n",
    "\n",
    "#merge\n",
    "rowena_df=rowena_df.merge(rowena_extra,on=['lat','lon',],how='left')"
   ]
  },
  {
   "cell_type": "code",
   "execution_count": 16,
   "id": "aa9f2b6a",
   "metadata": {},
   "outputs": [],
   "source": [
    "#cleanse col name\n",
    "rowena_df.columns=rowena_df.columns.str.replace('start_date','start date')\n",
    "\n",
    "#dropna\n",
    "rowena_df=rowena_df[['start date', 'end date', 'date', 'lat', 'lon','rel_abun']].dropna()\n",
    "\n",
    "#standardize scaling\n",
    "rowena_df['rel_abun']=(rowena_df['rel_abun']-rowena_df['rel_abun'].min())/(\n",
    "    rowena_df['rel_abun'].max()-rowena_df['rel_abun'].min())"
   ]
  },
  {
   "cell_type": "markdown",
   "id": "3328b80f",
   "metadata": {},
   "source": [
    "### antje"
   ]
  },
  {
   "cell_type": "code",
   "execution_count": 17,
   "id": "7e8b3766",
   "metadata": {},
   "outputs": [],
   "source": [
    "#read\n",
    "antje_loc=pd.read_csv('./antje/ALL_CTtable_selectedVar_WoMichaelDriessenData.csv')\n",
    "antje_raw=pd.read_csv('./antje/TasmanianDevil_by_camera.csv')"
   ]
  },
  {
   "cell_type": "code",
   "execution_count": 18,
   "id": "fbc7d523",
   "metadata": {
    "scrolled": true
   },
   "outputs": [],
   "source": [
    "#filter cols\n",
    "antje_raw=antje_raw[['CameraID', 'Tasmanian_devil']].dropna()\n",
    "antje_loc=antje_loc[['CameraID', 'Setup_date', 'Retrieval_date','Lat',\n",
    "                     'long','CamEffortDays',]].dropna()\n",
    "\n",
    "#convert coordinates\n",
    "antje_loc['lat'],antje_loc['lon']=convert_easting_northing_to_lat_lon(\n",
    "    antje_loc['Lat'], antje_loc['long'],)"
   ]
  },
  {
   "cell_type": "code",
   "execution_count": 19,
   "id": "d0035c96",
   "metadata": {},
   "outputs": [],
   "source": [
    "#merge\n",
    "antje_df=antje_raw.merge(antje_loc,on='CameraID',how='left')\n",
    "\n",
    "#compute\n",
    "antje_df['rel_abun']=antje_df['Tasmanian_devil']/antje_df['CamEffortDays']\n",
    "\n",
    "#cleanse col name\n",
    "antje_df.columns=antje_df.columns.str.replace('Setup_date','start date')\n",
    "antje_df.columns=antje_df.columns.str.replace('Retrieval_date','end date')\n",
    "antje_df.columns=antje_df.columns.str.replace('Tasmanian_devil','date')\n",
    "\n",
    "#dropna\n",
    "antje_df=antje_df[['start date', 'end date', 'date', 'lat', 'lon','rel_abun']].dropna()\n",
    "\n",
    "#standardize scaling\n",
    "antje_df['rel_abun']=(antje_df['rel_abun']-antje_df['rel_abun'].min())/(\n",
    "    antje_df['rel_abun'].max()-antje_df['rel_abun'].min())"
   ]
  },
  {
   "cell_type": "markdown",
   "id": "a6b471a9",
   "metadata": {},
   "source": [
    "### barry"
   ]
  },
  {
   "cell_type": "code",
   "execution_count": 20,
   "id": "ecdd683f",
   "metadata": {
    "scrolled": true
   },
   "outputs": [],
   "source": [
    "#read\n",
    "barry_df=pd.read_csv('./barry/dev_abun.csv')\n",
    "\n",
    "#sort coordinates\n",
    "barry_df=barry_df.sort_values(['lon','lat'])\n",
    "\n",
    "#remove inf\n",
    "barry_df=barry_df[barry_df['rel_abun']!=float('inf')]\n",
    "\n",
    "# #get scale within 0-1\n",
    "# barry_df['rel_abun']*=10000\n",
    "# barry_df['rel_abun']=np.log(barry_df['rel_abun']\n",
    "#                            )/np.log(barry_df['rel_abun'].max())\n",
    "\n",
    "#unify\n",
    "barry_df['year']=2018\n",
    "\n",
    "#create start date\n",
    "barry_df['start date']=barry_df['year'].astype(str)+'-01-01'\n",
    "barry_df['start date']=pd.to_datetime(barry_df['start date'])\n",
    "del barry_df['year']\n",
    "\n",
    "#standardize scaling\n",
    "barry_df['rel_abun']=(barry_df['rel_abun']-barry_df['rel_abun'].min())/(barry_df['rel_abun'].max()-barry_df['rel_abun'].min())"
   ]
  },
  {
   "cell_type": "markdown",
   "id": "29e63d6c",
   "metadata": {},
   "source": [
    "### joanna"
   ]
  },
  {
   "cell_type": "code",
   "execution_count": 21,
   "id": "e112e3a2",
   "metadata": {},
   "outputs": [],
   "source": [
    "#read csv\n",
    "jo_raw=pd.read_csv('./joanna/Devil_data_20170106.csv')\n",
    "jo_loc=pd.read_csv('./joanna/SiteDetails20161219.csv')"
   ]
  },
  {
   "cell_type": "code",
   "execution_count": 22,
   "id": "5281f607",
   "metadata": {},
   "outputs": [
    {
     "name": "stderr",
     "output_type": "stream",
     "text": [
      "C:\\Users\\tm\\AppData\\Local\\Temp\\ipykernel_34224\\2158662480.py:6: UserWarning: Parsing dates in %d/%m/%Y format when dayfirst=False (the default) was specified. Pass `dayfirst=True` or specify a format to silence this warning.\n",
      "  jo_loc['start']=pd.to_datetime(jo_loc['start'])\n",
      "C:\\Users\\tm\\AppData\\Local\\Temp\\ipykernel_34224\\2158662480.py:7: UserWarning: Parsing dates in %d/%m/%Y format when dayfirst=False (the default) was specified. Pass `dayfirst=True` or specify a format to silence this warning.\n",
      "  jo_loc['retrieve']=pd.to_datetime(jo_loc['retrieve'])\n",
      "C:\\Users\\tm\\AppData\\Local\\Temp\\ipykernel_34224\\2158662480.py:8: UserWarning: Parsing dates in %d/%m/%Y format when dayfirst=False (the default) was specified. Pass `dayfirst=True` or specify a format to silence this warning.\n",
      "  jo_raw['Date']=pd.to_datetime(jo_raw['Date'])\n"
     ]
    }
   ],
   "source": [
    "#convert coordinates\n",
    "jo_loc['lat'],jo_loc['lon']=convert_easting_northing_to_lat_lon(\n",
    "    jo_loc['easting'], jo_loc['northing'],)\n",
    "\n",
    "#datetime index\n",
    "jo_loc['start']=pd.to_datetime(jo_loc['start'])\n",
    "jo_loc['retrieve']=pd.to_datetime(jo_loc['retrieve'])\n",
    "jo_raw['Date']=pd.to_datetime(jo_raw['Date'])\n",
    "\n",
    "#sort by date\n",
    "jo_loc=jo_loc.sort_values(['site','start'])\n",
    "\n",
    "#filter columns\n",
    "jo_loc=jo_loc[['lat','lon','site','start','retrieve']].dropna()\n",
    "\n",
    "#reset index\n",
    "jo_loc.reset_index(inplace=True,drop=True)"
   ]
  },
  {
   "cell_type": "code",
   "execution_count": 23,
   "id": "f52d6ee9",
   "metadata": {},
   "outputs": [],
   "source": [
    "#remove duplicates\n",
    "jo_raw=jo_raw[['Date','site','Definitive']].drop_duplicates()\n",
    "\n",
    "#Merge dataframes on 'site'\n",
    "jo_raw=jo_raw.merge(jo_loc,on='site',how='left')\n",
    "\n",
    "#Filter rows where 'Date' is between 'start' and 'retrieve'\n",
    "jo_aggr=jo_raw[(jo_raw['Date']>=jo_raw['start']) & (jo_raw['Date']<=jo_raw['retrieve'])]\n",
    "\n",
    "#cleanse col name\n",
    "jo_aggr.columns=jo_aggr.columns.str.replace('start','start date')\n",
    "jo_aggr.columns=jo_aggr.columns.str.replace('retrieve','end date')\n",
    "jo_aggr.columns=jo_aggr.columns.str.replace('Date','date')\n",
    "\n",
    "#dropna\n",
    "jo_aggr=jo_aggr[['start date', 'end date', 'date', 'lat', 'lon']].dropna()"
   ]
  },
  {
   "cell_type": "code",
   "execution_count": 24,
   "id": "e7bafd3c",
   "metadata": {},
   "outputs": [],
   "source": [
    "#get total days of camera in use\n",
    "jo_denominator=jo_aggr[['lat','lon','start date', 'end date',]].drop_duplicates()\n",
    "jo_denominator=jo_denominator[jo_denominator['start date']<jo_denominator['end date']]\n",
    "jo_denominator['delta']=(jo_denominator['end date']-jo_denominator['start date']).dt.days\n",
    "jo_denominator=jo_denominator[['delta', 'lat', 'lon']].groupby(['lat', 'lon']).sum().reset_index()\n",
    "\n",
    "#get total days of devils seen\n",
    "jo_numerator=jo_aggr[['date', 'lat', 'lon']]\n",
    "jo_numerator=jo_numerator.groupby(['lat', 'lon']).count().reset_index()\n",
    "\n",
    "#merge and compute\n",
    "jo_df=jo_denominator.merge(jo_numerator,on=['lat', 'lon'],how='inner')\n",
    "jo_df['rel_abun']=jo_df['date']/jo_df['delta']\n",
    "\n",
    "#get start end date\n",
    "jo_aggr['start date']=pd.to_datetime(jo_aggr['start date'])\n",
    "jo_aggr['end date']=pd.to_datetime(jo_aggr['end date'])\n",
    "jo_aggr=jo_aggr.sort_values(['lat', 'lon','start date', 'end date', ])\n",
    "jo_extra=jo_aggr[['lat', 'lon', 'start date', 'end date']].groupby(['lat', 'lon']).first().reset_index()\n",
    "jo_df=jo_df.merge(jo_extra,on=['lat', 'lon',],how='left')"
   ]
  },
  {
   "cell_type": "code",
   "execution_count": 25,
   "id": "de8d1241",
   "metadata": {},
   "outputs": [],
   "source": [
    "#dropna\n",
    "jo_df=jo_df[['start date', 'end date', 'date', 'lat', 'lon','rel_abun']].dropna()\n",
    "\n",
    "#standardize scaling\n",
    "jo_df['rel_abun']=(jo_df['rel_abun']-jo_df['rel_abun'].min())/(\n",
    "    jo_df['rel_abun'].max()-jo_df['rel_abun'].min())"
   ]
  },
  {
   "cell_type": "markdown",
   "id": "73f48f66",
   "metadata": {},
   "source": [
    "### Ink\n"
   ]
  },
  {
   "cell_type": "code",
   "execution_count": 26,
   "id": "0bcc36db",
   "metadata": {},
   "outputs": [],
   "source": [
    "#read\n",
    "ink_raw=pd.read_csv('./ink/DevilDetection1.csv')\n",
    "\n",
    "#filter col\n",
    "ink_raw=ink_raw[['Latitude','Longitude','DateDeployed', 'DaysOperational','Date',]]\n",
    "\n",
    "#date time\n",
    "ink_raw['DateDeployed']=pd.to_datetime(ink_raw['DateDeployed'],\n",
    "                                     format='mixed')\n",
    "ink_raw['Date']=pd.to_datetime(ink_raw['Date'],\n",
    "                                     format='mixed')\n",
    "\n",
    "#compute end date\n",
    "ink_raw['end date']=ink_raw['DateDeployed']+ink_raw['DaysOperational'].apply(\n",
    "    lambda x: dt.timedelta(days=x))"
   ]
  },
  {
   "cell_type": "code",
   "execution_count": 27,
   "id": "4fb43f76",
   "metadata": {},
   "outputs": [],
   "source": [
    "#cleanse col name\n",
    "ink_raw.columns=ink_raw.columns.str.replace('DateDeployed','start date')\n",
    "ink_raw.columns=ink_raw.columns.str.replace('end_date','end date')\n",
    "ink_raw.columns=ink_raw.columns.str.replace('Latitude','lat')\n",
    "ink_raw.columns=ink_raw.columns.str.replace('Longitude','lon')\n",
    "ink_raw.columns=ink_raw.columns.str.replace('Date','date')\n",
    "\n",
    "#dropna\n",
    "ink_raw=ink_raw[['start date', 'end date', 'date', 'lat', 'lon','DaysOperational']].dropna()"
   ]
  },
  {
   "cell_type": "code",
   "execution_count": 28,
   "id": "30703d99",
   "metadata": {},
   "outputs": [],
   "source": [
    "#get total days of devils seen\n",
    "ink_numerator=ink_raw[['date', 'lat', 'lon']]\n",
    "ink_numerator=ink_numerator.groupby(['lat', 'lon']).count().reset_index()\n",
    "\n",
    "#get total days of camera in use\n",
    "ink_denominator=ink_raw[['lat','lon','start date', 'end date','DaysOperational']].drop_duplicates()\n",
    "ink_denominator=ink_denominator[ink_denominator['start date']<ink_denominator['end date']]\n",
    "ink_denominator=ink_denominator[['DaysOperational', 'lat', 'lon']].groupby(['lat', 'lon']).sum().reset_index()\n",
    "\n",
    "#merge and compute\n",
    "ink_df=ink_denominator.merge(ink_numerator,on=['lat', 'lon'],how='inner')\n",
    "ink_df['rel_abun']=ink_df['date']/ink_df['DaysOperational']\n",
    "\n",
    "#get start end date\n",
    "ink_raw['start date']=pd.to_datetime(ink_raw['start date'])\n",
    "ink_raw['end date']=pd.to_datetime(ink_raw['end date'])\n",
    "ink_raw=ink_raw.sort_values(['lat', 'lon','start date', 'end date', ])\n",
    "ink_extra=ink_raw[['lat', 'lon', 'start date', 'end date']].groupby(['lat', 'lon']).first().reset_index()\n",
    "ink_df=ink_df.merge(ink_extra,on=['lat', 'lon',],how='left')"
   ]
  },
  {
   "cell_type": "code",
   "execution_count": 29,
   "id": "2c69bab6",
   "metadata": {},
   "outputs": [],
   "source": [
    "#dropna\n",
    "ink_df=ink_df[['start date', 'end date', 'date', 'lat', 'lon','rel_abun']].dropna()\n",
    "\n",
    "#standardize scaling\n",
    "ink_df['rel_abun']=(ink_df['rel_abun']-ink_df['rel_abun'].min())/(\n",
    "    ink_df['rel_abun'].max()-ink_df['rel_abun'].min())"
   ]
  },
  {
   "cell_type": "markdown",
   "id": "b57307c1",
   "metadata": {},
   "source": [
    "### david"
   ]
  },
  {
   "cell_type": "code",
   "execution_count": 30,
   "id": "23d83951",
   "metadata": {},
   "outputs": [],
   "source": [
    "#read csv\n",
    "david_raw=pd.ExcelFile('./david/RawData_Fauna_cameras_TasmanianDevilsOnly.xlsx').parse('RawData_Fauna_cameras')\n",
    "\n",
    "david_survey=pd.ExcelFile('./david/Survey_details.xlsx').parse('Survey_details')\n",
    "\n",
    "david_loc=pd.ExcelFile('./david/TLC_Sites.xlsx').parse('Sites')"
   ]
  },
  {
   "cell_type": "code",
   "execution_count": 31,
   "id": "1be8c116",
   "metadata": {},
   "outputs": [],
   "source": [
    "#filter columns\n",
    "david_loc=david_loc[['M_ID', 'latitude', 'longitude',]]\n",
    "\n",
    "david_survey=david_survey[['ID','Survey_ID', 'M_ID','start_date','end_date',]]\n",
    "\n",
    "#merge start end date with coordinates and drop duplicates\n",
    "david_loc=david_survey.merge(david_loc,on=['M_ID'],\n",
    "                  how='left')\n",
    "\n",
    "#get datetime for resampling\n",
    "david_raw['datetime']=david_raw['date'].astype(str)+' '+david_raw['time'].astype(str)\n",
    "david_raw['datetime']=pd.to_datetime(david_raw['datetime'])\n",
    "\n",
    "#convert into 30 min interval\n",
    "david_raw=david_raw[['ID','Survey_ID', 'M_ID', 'datetime']]\n",
    "david_raw=david_raw.groupby(['ID','Survey_ID', 'M_ID']).apply(\n",
    "    lambda x: x.set_index('datetime').resample('30T').mean())\n",
    "david_raw.reset_index(inplace=True)\n",
    "\n",
    "#revert back to date\n",
    "david_raw['date']=david_raw['datetime'].dt.date\n",
    "\n",
    "#30 min per event\n",
    "david_raw=david_raw.loc[david_raw[['Survey_ID', 'M_ID', 'datetime']].drop_duplicates().index]\n",
    "david_raw.reset_index(inplace=True,drop=True)"
   ]
  },
  {
   "cell_type": "code",
   "execution_count": 32,
   "id": "ed5d7da8",
   "metadata": {},
   "outputs": [],
   "source": [
    "#merge\n",
    "david_aggr=david_raw.merge(david_loc,on=['Survey_ID','M_ID'],how='left')\n",
    "\n",
    "#Filter rows where 'Date' is between 'start' and 'retrieve'\n",
    "david_aggr=david_aggr[(david_aggr['date']>=david_aggr['start_date']) & (david_aggr['date']<=david_aggr['end_date'])]\n",
    "\n",
    "#cleanse col name\n",
    "david_aggr.columns=david_aggr.columns.str.replace('start_date','start date')\n",
    "david_aggr.columns=david_aggr.columns.str.replace('end_date','end date')\n",
    "david_aggr.columns=david_aggr.columns.str.replace('latitude','lat')\n",
    "david_aggr.columns=david_aggr.columns.str.replace('longitude','lon')\n",
    "\n",
    "#dropna\n",
    "david_aggr=david_aggr[['start date', 'end date', 'date', 'lat', 'lon']].dropna()"
   ]
  },
  {
   "cell_type": "code",
   "execution_count": 33,
   "id": "90f0abd5",
   "metadata": {},
   "outputs": [],
   "source": [
    "#get total days of camera in use\n",
    "david_denominator=david_aggr[['lat','lon','start date', 'end date',]].drop_duplicates()\n",
    "david_denominator=david_denominator[david_denominator['start date']<david_denominator['end date']]\n",
    "david_denominator['delta']=(david_denominator['end date']-david_denominator['start date']).dt.days\n",
    "david_denominator=david_denominator[['delta', 'lat', 'lon']].groupby(['lat', 'lon']).sum().reset_index()\n",
    "\n",
    "#get total days of devils seen\n",
    "david_numerator=david_aggr[['date', 'lat', 'lon']]\n",
    "david_numerator=david_numerator.groupby(['lat', 'lon']).count().reset_index()\n",
    "\n",
    "#merge and compute\n",
    "david_df=david_denominator.merge(david_numerator,on=['lat', 'lon'],how='inner')\n",
    "david_df['rel_abun']=david_df['date']/david_df['delta']\n",
    "\n",
    "#get start end date\n",
    "david_aggr['start date']=pd.to_datetime(david_aggr['start date'])\n",
    "david_aggr['end date']=pd.to_datetime(david_aggr['end date'])\n",
    "david_aggr=david_aggr.sort_values(['lat', 'lon','start date', 'end date', ])\n",
    "david_extra=david_aggr[['lat', 'lon', 'start date', 'end date']].groupby(['lat', 'lon']).first().reset_index()\n",
    "david_df=david_df.merge(david_extra,on=['lat', 'lon',],how='left')"
   ]
  },
  {
   "cell_type": "code",
   "execution_count": 34,
   "id": "a340f415",
   "metadata": {},
   "outputs": [],
   "source": [
    "#dropna\n",
    "david_df=david_df[['start date', 'end date', 'date', 'lat', 'lon','rel_abun']].dropna()\n",
    "\n",
    "#standardize scaling\n",
    "david_df['rel_abun']=(david_df['rel_abun']-david_df['rel_abun'].min())/(\n",
    "    david_df['rel_abun'].max()-david_df['rel_abun'].min())"
   ]
  },
  {
   "cell_type": "markdown",
   "id": "9423df86",
   "metadata": {},
   "source": [
    "### evie"
   ]
  },
  {
   "cell_type": "code",
   "execution_count": 35,
   "id": "9f45ed3a",
   "metadata": {},
   "outputs": [],
   "source": [
    "#read excel\n",
    "evie_raw=pd.ExcelFile('./evie/data.xlsx').parse('Devil detections')\n",
    "evie_loc=pd.ExcelFile('./evie/data.xlsx').parse('Camera locations')"
   ]
  },
  {
   "cell_type": "code",
   "execution_count": 36,
   "id": "53aff27b",
   "metadata": {},
   "outputs": [],
   "source": [
    "#filter cols\n",
    "evie_loc=evie_loc[['Site number','Latitude','Longitude','Date set','Date retrieved/failed']]\n",
    "evie_raw=evie_raw[['Site','Date']]\n",
    "\n",
    "#merge\n",
    "evie_aggr=evie_raw.merge(evie_loc,left_on='Site',right_on='Site number',how='left')\n",
    "evie_aggr=evie_aggr.dropna()\n",
    "\n",
    "#cleanse col name\n",
    "evie_aggr.columns=evie_aggr.columns.str.replace('Date set','start date')\n",
    "evie_aggr.columns=evie_aggr.columns.str.replace('Date retrieved/failed','end date')\n",
    "evie_aggr.columns=evie_aggr.columns.str.replace('Latitude','lat')\n",
    "evie_aggr.columns=evie_aggr.columns.str.replace('Longitude','lon')\n",
    "evie_aggr.columns=evie_aggr.columns.str.replace('Date','date')\n",
    "\n",
    "#dropna\n",
    "evie_aggr=evie_aggr[['start date', 'end date', 'date', 'lat', 'lon']].dropna()"
   ]
  },
  {
   "cell_type": "code",
   "execution_count": 37,
   "id": "e05cd637",
   "metadata": {},
   "outputs": [],
   "source": [
    "#get total days of camera in use\n",
    "evie_denominator=evie_aggr[['lat','lon','start date', 'end date',]].drop_duplicates()\n",
    "evie_denominator=evie_denominator[evie_denominator['start date']<evie_denominator['end date']]\n",
    "evie_denominator['delta']=(evie_denominator['end date']-evie_denominator['start date']).dt.days\n",
    "evie_denominator=evie_denominator[['delta', 'lat', 'lon']].groupby(['lat', 'lon']).sum().reset_index()\n",
    "\n",
    "#get total days of devils seen\n",
    "evie_numerator=evie_aggr[['date', 'lat', 'lon']]\n",
    "evie_numerator=evie_numerator.groupby(['lat', 'lon']).count().reset_index()\n",
    "\n",
    "#merge and compute\n",
    "evie_df=evie_denominator.merge(evie_numerator,on=['lat', 'lon'],how='inner')\n",
    "evie_df['rel_abun']=evie_df['date']/evie_df['delta']\n",
    "\n",
    "#get start end date\n",
    "evie_aggr['start date']=pd.to_datetime(evie_aggr['start date'])\n",
    "evie_aggr['end date']=pd.to_datetime(evie_aggr['end date'])\n",
    "evie_aggr=evie_aggr.sort_values(['lat', 'lon','start date', 'end date', ])\n",
    "evie_extra=evie_aggr[['lat', 'lon', 'start date', 'end date']].groupby(['lat', 'lon']).first().reset_index()\n",
    "evie_df=evie_df.merge(evie_extra,on=['lat', 'lon',],how='left')"
   ]
  },
  {
   "cell_type": "code",
   "execution_count": 38,
   "id": "ee2ab133",
   "metadata": {},
   "outputs": [],
   "source": [
    "#dropna\n",
    "evie_df=evie_df[['start date', 'end date', 'date', 'lat', 'lon','rel_abun']].dropna()\n",
    "\n",
    "#standardize scaling\n",
    "evie_df['rel_abun']=(evie_df['rel_abun']-evie_df['rel_abun'].min())/(\n",
    "    evie_df['rel_abun'].max()-evie_df['rel_abun'].min())"
   ]
  },
  {
   "cell_type": "markdown",
   "id": "6e21c3e8",
   "metadata": {},
   "source": [
    "### calum"
   ]
  },
  {
   "cell_type": "code",
   "execution_count": 39,
   "id": "d369d1f5",
   "metadata": {},
   "outputs": [],
   "source": [
    "#read csv\n",
    "calum_d1=pd.read_csv('./calum/activity_14cams_hairS2_14cams_30sites.csv')\n",
    "\n",
    "calum_d2=pd.read_csv('./calum/activity_Cunningham_camGrid_20cams_12sites.csv')\n",
    "\n",
    "calum_d3=pd.read_csv('./calum/activity_Cunningham_hairS1_4cams_47sites.csv')\n",
    "\n",
    "calum_loc1=pd.ExcelFile('./calum/Camera_locations.xlsx').parse('Hair tube cameras_14 cams (s2)')\n",
    "\n",
    "calum_loc2=pd.ExcelFile('./calum/Camera_locations.xlsx').parse('Camera grid')\n",
    "\n",
    "calum_loc3=pd.ExcelFile('./calum/Camera_locations.xlsx').parse('Hair tube cameras (s1)')\n",
    "\n",
    "#merge each study with site\n",
    "calum_d1=calum_d1[['Station', 'camID','Date',]]\n",
    "calum_loc1=calum_loc1[['Study site','camID','Easting',\n",
    "       'Northing', 'Deployment date', 'Collection date',]]\n",
    "calum_d1=calum_loc1.merge(calum_d1,left_on=['Study site','camID',],\n",
    "                right_on=['Station', 'camID',],how='right')\n",
    "\n",
    "calum_d2=calum_d2[['Station', 'CamID','Date',]]\n",
    "calum_loc2=calum_loc2[['Study site','camID','Easting',\n",
    "       'Northing', 'Deployment date', 'Collection date',]]\n",
    "calum_d2=calum_loc2.merge(calum_d2,left_on=['camID',],\n",
    "                right_on=['CamID',],how='right')\n",
    "\n",
    "calum_d3=calum_d3[['Study Site', 'camID','Date',]]\n",
    "calum_loc3=calum_loc3[['Site','camID','Easting',\n",
    "       'Northing', 'Deployment date (after hair tube collection)', 'Collection date',]]\n",
    "calum_d3=calum_loc3.merge(calum_d3,left_on=['camID',],\n",
    "                right_on=[ 'camID',],how='right')"
   ]
  },
  {
   "cell_type": "code",
   "execution_count": 40,
   "id": "61d30963",
   "metadata": {
    "scrolled": true
   },
   "outputs": [],
   "source": [
    "#filter cols\n",
    "calum_d1=calum_d1[['Easting', 'Northing', 'Deployment date',\n",
    "       'Collection date', 'Date']]\n",
    "\n",
    "calum_d2=calum_d2[['Easting', 'Northing', 'Deployment date',\n",
    "       'Collection date', 'Date']]\n",
    "\n",
    "calum_d3.columns=calum_d3.columns.str.replace(\n",
    "    'Deployment date (after hair tube collection)','Deployment date')\n",
    "\n",
    "calum_d3=calum_d3[['Easting', 'Northing', 'Deployment date',\n",
    "       'Collection date', 'Date']]\n",
    "\n",
    "#concat\n",
    "calum_raw=pd.concat([calum_d1,calum_d2,calum_d3])\n",
    "\n",
    "#get coordinates\n",
    "calum_raw['lat'],calum_raw['lon']=convert_easting_northing_to_lat_lon(\n",
    "    calum_raw['Easting'], calum_raw['Northing'],)"
   ]
  },
  {
   "cell_type": "code",
   "execution_count": 41,
   "id": "5714c356",
   "metadata": {},
   "outputs": [],
   "source": [
    "#cleanse col name\n",
    "calum_raw.columns=calum_raw.columns.str.replace('Deployment date','start date')\n",
    "calum_raw.columns=calum_raw.columns.str.replace('Collection date','end date')\n",
    "calum_raw.columns=calum_raw.columns.str.replace('Date','date')\n",
    "\n",
    "#dropna\n",
    "calum_raw=calum_raw[['start date', 'end date', 'date', 'lat', 'lon']].dropna()"
   ]
  },
  {
   "cell_type": "code",
   "execution_count": 42,
   "id": "79f1bc03",
   "metadata": {},
   "outputs": [],
   "source": [
    "#get total days of camera in use\n",
    "calum_denominator=calum_raw[['lat','lon','start date', 'end date',]].drop_duplicates()\n",
    "calum_denominator=calum_denominator[calum_denominator['start date']<calum_denominator['end date']]\n",
    "calum_denominator['end date']=pd.to_datetime(calum_denominator['end date'])\n",
    "calum_denominator['delta']=(calum_denominator['end date']-calum_denominator['start date']).dt.days\n",
    "calum_denominator=calum_denominator[['delta', 'lat', 'lon']].groupby(['lat', 'lon']).sum().reset_index()\n",
    "\n",
    "#get total days of devils seen\n",
    "calum_numerator=calum_raw[['date', 'lat', 'lon']]\n",
    "calum_numerator=calum_numerator.groupby(['lat', 'lon']).count().reset_index()\n",
    "\n",
    "#merge and compute\n",
    "calum_df=calum_denominator.merge(calum_numerator,on=['lat', 'lon'],how='inner')\n",
    "calum_df['rel_abun']=calum_df['date']/calum_df['delta']\n",
    "\n",
    "#get start end date\n",
    "calum_raw['start date']=pd.to_datetime(calum_raw['start date'])\n",
    "calum_raw['end date']=pd.to_datetime(calum_raw['end date'])\n",
    "calum_raw=calum_raw.sort_values(['lat', 'lon','start date', 'end date', ])\n",
    "calum_extra=calum_raw[['lat', 'lon', 'start date', 'end date']].groupby(['lat', 'lon']).first().reset_index()\n",
    "calum_df=calum_df.merge(calum_extra,on=['lat', 'lon',],how='left')"
   ]
  },
  {
   "cell_type": "code",
   "execution_count": 43,
   "id": "6be74f7e",
   "metadata": {},
   "outputs": [],
   "source": [
    "#dropna\n",
    "calum_df=calum_df[['start date', 'end date', 'date', 'lat', 'lon','rel_abun']].dropna()\n",
    "\n",
    "#standardize scaling\n",
    "calum_df['rel_abun']=(calum_df['rel_abun']-calum_df['rel_abun'].min())/(\n",
    "    calum_df['rel_abun'].max()-calum_df['rel_abun'].min())"
   ]
  },
  {
   "cell_type": "markdown",
   "id": "e728c1a0",
   "metadata": {},
   "source": [
    "### aggregate"
   ]
  },
  {
   "cell_type": "code",
   "execution_count": 44,
   "id": "fed63558",
   "metadata": {},
   "outputs": [],
   "source": [
    "#concat\n",
    "aggr=pd.concat([calum_df,ink_df,jo_df,barry_df,evie_df,antje_df,rowena_df,david_df])\n",
    "\n",
    "#datetime col\n",
    "aggr['start date']=pd.to_datetime(aggr['start date'],format='mixed')\n",
    "\n",
    "aggr['end date']=pd.to_datetime(aggr['end date'],format='mixed')\n",
    "\n",
    "aggr['date']=pd.to_datetime(aggr['date'],format='mixed')\n",
    "\n",
    "#remove input error\n",
    "aggr=aggr[aggr['lat']!=float('inf')]\n",
    "\n",
    "aggr.reset_index(inplace=True,drop=True)"
   ]
  },
  {
   "cell_type": "code",
   "execution_count": 45,
   "id": "aacd2240",
   "metadata": {},
   "outputs": [],
   "source": [
    "#assign each coordinate to the grid cell id\n",
    "lonunit=(lonmax-lonmin)/gridlen\n",
    "latunit=(latmax-latmin)/gridlen\n",
    "aggr['lat num']=(aggr['lat']-latmin)//latunit\n",
    "aggr['lon num']=(aggr['lon']-lonmin)//lonunit\n",
    "aggr['id']=list(zip(aggr['lat num'].astype(int),aggr['lon num'].astype(int)))\n",
    "\n",
    "aggr['year']=aggr['start date'].dt.year"
   ]
  },
  {
   "cell_type": "code",
   "execution_count": 46,
   "id": "3d116b1c",
   "metadata": {},
   "outputs": [],
   "source": [
    "#get bioregion\n",
    "aggr=aggr.merge(bioreg,on='id',how='left')\n",
    "\n",
    "#fill out na bioregion\n",
    "aggr=aggr.sort_values(['lat','lon'])\n",
    "aggr['bioreg']=aggr['bioreg'].fillna(method='ffill')\n",
    "aggr.reset_index(inplace=True,drop=True)"
   ]
  },
  {
   "cell_type": "code",
   "execution_count": 47,
   "id": "98ec2323",
   "metadata": {},
   "outputs": [
    {
     "name": "stderr",
     "output_type": "stream",
     "text": [
      "C:\\Users\\tm\\AppData\\Local\\Temp\\ipykernel_34224\\865404712.py:4: SettingWithCopyWarning: \n",
      "A value is trying to be set on a copy of a slice from a DataFrame.\n",
      "Try using .loc[row_indexer,col_indexer] = value instead\n",
      "\n",
      "See the caveats in the documentation: https://pandas.pydata.org/pandas-docs/stable/user_guide/indexing.html#returning-a-view-versus-a-copy\n",
      "  subset['rel_abun']=(subset['rel_abun']-subset['rel_abun'].min())/(subset['rel_abun'].max()-subset['rel_abun'].min())\n",
      "C:\\Users\\tm\\AppData\\Local\\Temp\\ipykernel_34224\\865404712.py:5: SettingWithCopyWarning: \n",
      "A value is trying to be set on a copy of a slice from a DataFrame\n",
      "\n",
      "See the caveats in the documentation: https://pandas.pydata.org/pandas-docs/stable/user_guide/indexing.html#returning-a-view-versus-a-copy\n",
      "  aggr['rel_abun'].loc[subset.index]=subset['rel_abun'].tolist()\n",
      "C:\\Users\\tm\\AppData\\Local\\Temp\\ipykernel_34224\\865404712.py:4: SettingWithCopyWarning: \n",
      "A value is trying to be set on a copy of a slice from a DataFrame.\n",
      "Try using .loc[row_indexer,col_indexer] = value instead\n",
      "\n",
      "See the caveats in the documentation: https://pandas.pydata.org/pandas-docs/stable/user_guide/indexing.html#returning-a-view-versus-a-copy\n",
      "  subset['rel_abun']=(subset['rel_abun']-subset['rel_abun'].min())/(subset['rel_abun'].max()-subset['rel_abun'].min())\n",
      "C:\\Users\\tm\\AppData\\Local\\Temp\\ipykernel_34224\\865404712.py:5: SettingWithCopyWarning: \n",
      "A value is trying to be set on a copy of a slice from a DataFrame\n",
      "\n",
      "See the caveats in the documentation: https://pandas.pydata.org/pandas-docs/stable/user_guide/indexing.html#returning-a-view-versus-a-copy\n",
      "  aggr['rel_abun'].loc[subset.index]=subset['rel_abun'].tolist()\n",
      "C:\\Users\\tm\\AppData\\Local\\Temp\\ipykernel_34224\\865404712.py:4: SettingWithCopyWarning: \n",
      "A value is trying to be set on a copy of a slice from a DataFrame.\n",
      "Try using .loc[row_indexer,col_indexer] = value instead\n",
      "\n",
      "See the caveats in the documentation: https://pandas.pydata.org/pandas-docs/stable/user_guide/indexing.html#returning-a-view-versus-a-copy\n",
      "  subset['rel_abun']=(subset['rel_abun']-subset['rel_abun'].min())/(subset['rel_abun'].max()-subset['rel_abun'].min())\n",
      "C:\\Users\\tm\\AppData\\Local\\Temp\\ipykernel_34224\\865404712.py:5: SettingWithCopyWarning: \n",
      "A value is trying to be set on a copy of a slice from a DataFrame\n",
      "\n",
      "See the caveats in the documentation: https://pandas.pydata.org/pandas-docs/stable/user_guide/indexing.html#returning-a-view-versus-a-copy\n",
      "  aggr['rel_abun'].loc[subset.index]=subset['rel_abun'].tolist()\n",
      "C:\\Users\\tm\\AppData\\Local\\Temp\\ipykernel_34224\\865404712.py:4: SettingWithCopyWarning: \n",
      "A value is trying to be set on a copy of a slice from a DataFrame.\n",
      "Try using .loc[row_indexer,col_indexer] = value instead\n",
      "\n",
      "See the caveats in the documentation: https://pandas.pydata.org/pandas-docs/stable/user_guide/indexing.html#returning-a-view-versus-a-copy\n",
      "  subset['rel_abun']=(subset['rel_abun']-subset['rel_abun'].min())/(subset['rel_abun'].max()-subset['rel_abun'].min())\n",
      "C:\\Users\\tm\\AppData\\Local\\Temp\\ipykernel_34224\\865404712.py:5: SettingWithCopyWarning: \n",
      "A value is trying to be set on a copy of a slice from a DataFrame\n",
      "\n",
      "See the caveats in the documentation: https://pandas.pydata.org/pandas-docs/stable/user_guide/indexing.html#returning-a-view-versus-a-copy\n",
      "  aggr['rel_abun'].loc[subset.index]=subset['rel_abun'].tolist()\n",
      "C:\\Users\\tm\\AppData\\Local\\Temp\\ipykernel_34224\\865404712.py:4: SettingWithCopyWarning: \n",
      "A value is trying to be set on a copy of a slice from a DataFrame.\n",
      "Try using .loc[row_indexer,col_indexer] = value instead\n",
      "\n",
      "See the caveats in the documentation: https://pandas.pydata.org/pandas-docs/stable/user_guide/indexing.html#returning-a-view-versus-a-copy\n",
      "  subset['rel_abun']=(subset['rel_abun']-subset['rel_abun'].min())/(subset['rel_abun'].max()-subset['rel_abun'].min())\n",
      "C:\\Users\\tm\\AppData\\Local\\Temp\\ipykernel_34224\\865404712.py:5: SettingWithCopyWarning: \n",
      "A value is trying to be set on a copy of a slice from a DataFrame\n",
      "\n",
      "See the caveats in the documentation: https://pandas.pydata.org/pandas-docs/stable/user_guide/indexing.html#returning-a-view-versus-a-copy\n",
      "  aggr['rel_abun'].loc[subset.index]=subset['rel_abun'].tolist()\n",
      "C:\\Users\\tm\\AppData\\Local\\Temp\\ipykernel_34224\\865404712.py:4: SettingWithCopyWarning: \n",
      "A value is trying to be set on a copy of a slice from a DataFrame.\n",
      "Try using .loc[row_indexer,col_indexer] = value instead\n",
      "\n",
      "See the caveats in the documentation: https://pandas.pydata.org/pandas-docs/stable/user_guide/indexing.html#returning-a-view-versus-a-copy\n",
      "  subset['rel_abun']=(subset['rel_abun']-subset['rel_abun'].min())/(subset['rel_abun'].max()-subset['rel_abun'].min())\n",
      "C:\\Users\\tm\\AppData\\Local\\Temp\\ipykernel_34224\\865404712.py:5: SettingWithCopyWarning: \n",
      "A value is trying to be set on a copy of a slice from a DataFrame\n",
      "\n",
      "See the caveats in the documentation: https://pandas.pydata.org/pandas-docs/stable/user_guide/indexing.html#returning-a-view-versus-a-copy\n",
      "  aggr['rel_abun'].loc[subset.index]=subset['rel_abun'].tolist()\n",
      "C:\\Users\\tm\\AppData\\Local\\Temp\\ipykernel_34224\\865404712.py:4: SettingWithCopyWarning: \n",
      "A value is trying to be set on a copy of a slice from a DataFrame.\n",
      "Try using .loc[row_indexer,col_indexer] = value instead\n",
      "\n",
      "See the caveats in the documentation: https://pandas.pydata.org/pandas-docs/stable/user_guide/indexing.html#returning-a-view-versus-a-copy\n",
      "  subset['rel_abun']=(subset['rel_abun']-subset['rel_abun'].min())/(subset['rel_abun'].max()-subset['rel_abun'].min())\n",
      "C:\\Users\\tm\\AppData\\Local\\Temp\\ipykernel_34224\\865404712.py:5: SettingWithCopyWarning: \n",
      "A value is trying to be set on a copy of a slice from a DataFrame\n",
      "\n",
      "See the caveats in the documentation: https://pandas.pydata.org/pandas-docs/stable/user_guide/indexing.html#returning-a-view-versus-a-copy\n",
      "  aggr['rel_abun'].loc[subset.index]=subset['rel_abun'].tolist()\n",
      "C:\\Users\\tm\\AppData\\Local\\Temp\\ipykernel_34224\\865404712.py:4: SettingWithCopyWarning: \n",
      "A value is trying to be set on a copy of a slice from a DataFrame.\n",
      "Try using .loc[row_indexer,col_indexer] = value instead\n",
      "\n",
      "See the caveats in the documentation: https://pandas.pydata.org/pandas-docs/stable/user_guide/indexing.html#returning-a-view-versus-a-copy\n",
      "  subset['rel_abun']=(subset['rel_abun']-subset['rel_abun'].min())/(subset['rel_abun'].max()-subset['rel_abun'].min())\n",
      "C:\\Users\\tm\\AppData\\Local\\Temp\\ipykernel_34224\\865404712.py:5: SettingWithCopyWarning: \n",
      "A value is trying to be set on a copy of a slice from a DataFrame\n",
      "\n",
      "See the caveats in the documentation: https://pandas.pydata.org/pandas-docs/stable/user_guide/indexing.html#returning-a-view-versus-a-copy\n",
      "  aggr['rel_abun'].loc[subset.index]=subset['rel_abun'].tolist()\n",
      "C:\\Users\\tm\\AppData\\Local\\Temp\\ipykernel_34224\\865404712.py:4: SettingWithCopyWarning: \n",
      "A value is trying to be set on a copy of a slice from a DataFrame.\n",
      "Try using .loc[row_indexer,col_indexer] = value instead\n",
      "\n",
      "See the caveats in the documentation: https://pandas.pydata.org/pandas-docs/stable/user_guide/indexing.html#returning-a-view-versus-a-copy\n",
      "  subset['rel_abun']=(subset['rel_abun']-subset['rel_abun'].min())/(subset['rel_abun'].max()-subset['rel_abun'].min())\n",
      "C:\\Users\\tm\\AppData\\Local\\Temp\\ipykernel_34224\\865404712.py:5: SettingWithCopyWarning: \n",
      "A value is trying to be set on a copy of a slice from a DataFrame\n",
      "\n",
      "See the caveats in the documentation: https://pandas.pydata.org/pandas-docs/stable/user_guide/indexing.html#returning-a-view-versus-a-copy\n",
      "  aggr['rel_abun'].loc[subset.index]=subset['rel_abun'].tolist()\n"
     ]
    }
   ],
   "source": [
    "#standardize scaling for each bioregion\n",
    "for i in aggr['bioreg'].unique():\n",
    "    subset=aggr[aggr['bioreg']==i]\n",
    "    subset['rel_abun']=(subset['rel_abun']-subset['rel_abun'].min())/(subset['rel_abun'].max()-subset['rel_abun'].min())\n",
    "    aggr['rel_abun'].loc[subset.index]=subset['rel_abun'].tolist()"
   ]
  },
  {
   "cell_type": "code",
   "execution_count": 48,
   "id": "be85c75d",
   "metadata": {},
   "outputs": [],
   "source": [
    "#use logarithm then rescale\n",
    "aggr['rel_abun']=np.log(aggr['rel_abun']*20000+2)\n",
    "\n",
    "aggr['rel_abun']=rescale_value(aggr['rel_abun'], aggr['rel_abun'].min(), \n",
    "              aggr['rel_abun'].max(), 0.6, 1)"
   ]
  },
  {
   "cell_type": "code",
   "execution_count": 49,
   "id": "bf992fd4",
   "metadata": {},
   "outputs": [],
   "source": [
    "#aggregated via median\n",
    "suitability=aggr[['id','rel_abun','year']].groupby('id').median()\n",
    "suitability.reset_index(inplace=True)\n",
    "\n",
    "#remove areas outside of grid cell range\n",
    "for i in range(len(suitability)):\n",
    "    if int(suitability['id'][i][0])>=gridlen or \\\n",
    "    int(suitability['id'][i][-1])>=gridlen or \\\n",
    "    int(suitability['id'][i][0])<0 or int(suitability['id'][i][-1])<0:\n",
    "        suitability.drop(i,inplace=True)\n",
    "\n",
    "#generate raster\n",
    "hs=np.zeros((gridlen,gridlen))\n",
    "for i in range(len(suitability)):\n",
    "    hs[suitability.at[i,'id']]=suitability.at[i,'rel_abun']\n",
    "hs=np.flip(hs,axis=0)\n",
    "\n",
    "hs[hs==0]=np.nan"
   ]
  },
  {
   "cell_type": "code",
   "execution_count": 50,
   "id": "2fd86789",
   "metadata": {
    "scrolled": true
   },
   "outputs": [],
   "source": [
    "# df_baselayer=pd.DataFrame()\n",
    "# df_baselayer['grid']=mask.flatten()\n",
    "# df_baselayer.to_csv('./poems/test2.csv',index=False)\n",
    "\n",
    "# pd.DataFrame(hs[~np.isnan(hs)],columns=['pred']).to_csv('./poems/test1.csv',index=False)"
   ]
  },
  {
   "cell_type": "code",
   "execution_count": 51,
   "id": "96afb3c3",
   "metadata": {},
   "outputs": [
    {
     "data": {
      "text/plain": [
       "(0.6, 0.9979143159656776)"
      ]
     },
     "execution_count": 51,
     "metadata": {},
     "output_type": "execute_result"
    }
   ],
   "source": [
    "hs[~np.isnan(hs)].min(),hs[~np.isnan(hs)].max()"
   ]
  },
  {
   "cell_type": "code",
   "execution_count": 52,
   "id": "1416fd15",
   "metadata": {
    "scrolled": false
   },
   "outputs": [
    {
     "data": {
      "image/png": "[encoded data removed]",
      "text/plain": [
       "<Figure size 640x480 with 1 Axes>"
      ]
     },
     "metadata": {},
     "output_type": "display_data"
    }
   ],
   "source": [
    "plt.imshow(hs,cmap='RdBu_r',vmin=hs[~np.isnan(hs)].min(),\n",
    "           vmax=hs[~np.isnan(hs)].max())\n",
    "plt.title('relative abundance map')\n",
    "plt.axis('off')\n",
    "plt.show()"
   ]
  },
  {
   "cell_type": "markdown",
   "id": "c50bf86f",
   "metadata": {},
   "source": [
    "### disease threshold"
   ]
  },
  {
   "cell_type": "code",
   "execution_count": 53,
   "id": "5eba2bd1",
   "metadata": {},
   "outputs": [],
   "source": [
    "# import cv2\n",
    "# import sklearn.cluster\n",
    "\n",
    "# #reshape np array for unsupervised learning\n",
    "# def RGB2ARR(img):    \n",
    "\n",
    "#     resolutions=list(img.shape)\n",
    "#     col=1\n",
    "#     while resolutions:\n",
    "#         col*=resolutions.pop()\n",
    "#     arr=img.reshape(int(col/len(img.shape)),len(img.shape))\n",
    "    \n",
    "#     return arr\n",
    "\n",
    "# #input should be np array of image\n",
    "# #use kmeans to identify the optimal color filter\n",
    "# def kmeans_color_filter(img,num_of_colors=None,\n",
    "#                         hsv_conversion=False,\n",
    "#                         save_img=False,**kwargs):\n",
    "    \n",
    "#     #reshape np array for unsupervised learning\n",
    "#     arr=RGB2ARR(img)            \n",
    "    \n",
    "#     #machine learning\n",
    "#     clf=sklearn.cluster.KMeans(num_of_colors,**kwargs)\n",
    "#     clf.fit(arr)\n",
    "#     forecast=clf.predict(arr)\n",
    "    \n",
    "#     #locate the centroids\n",
    "#     centroids=clf.cluster_centers_                    \n",
    "    \n",
    "#     #get filtered images\n",
    "#     masque={}\n",
    "#     for i in range(num_of_colors):\n",
    "        \n",
    "#         masque[i]=np.zeros(cv2.cvtColor(img,cv2.COLOR_BGR2GRAY).shape)\n",
    "#         labels=forecast.reshape(masque[i].shape)\n",
    "#         masque[i][labels==i]=255\n",
    "        \n",
    "#     return masque\n",
    "\n",
    "# #reverse engineering\n",
    "# img=cv2.imread('diffusion.png',1)\n",
    "# masque=kmeans_color_filter(img,num_of_colors=13)\n",
    "\n",
    "\n",
    "# #viz\n",
    "# for i in masque:\n",
    "#     plt.imshow(masque[i])\n",
    "#     plt.title(str(i))\n",
    "#     plt.show()\n",
    "\n",
    "# #range of tasmania\n",
    "# topleft=-40.552043, 144.457342\n",
    "# bottomright=-43.696316, 148.346502\n",
    "\n",
    "# #find coordinates for each element in matrix\n",
    "# nrow=np.arange(topleft[0],bottomright[0],(bottomright[0]-topleft[0])/img.shape[0])\n",
    "# ncol=np.arange(topleft[1],bottomright[1],(bottomright[1]-topleft[1])/img.shape[1])\n",
    "\n",
    "# #concatenate\n",
    "# grande=pd.DataFrame(columns=['coords','value','type'])\n",
    "# for i in masque:\n",
    "    \n",
    "#     #skip black and white\n",
    "#     if i==5 or i==0:\n",
    "#         continue\n",
    "        \n",
    "#     grid=masque[i]\n",
    "\n",
    "#     #flatten matrix\n",
    "#     flatarr=[(i,j) for j in nrow for i in ncol]\n",
    "#     y=np.array([i[1] for i in flatarr]).reshape(grid.shape).flatten().tolist()\n",
    "\n",
    "#     #put into dataframe\n",
    "#     export=pd.DataFrame()\n",
    "#     export['coords']=list(zip([i[0] for i in flatarr],y))\n",
    "#     export['value']=grid.flatten()\n",
    "#     export=export[export['value']==255]\n",
    "#     export['type']=i\n",
    "    \n",
    "#     grande=pd.concat([grande,export])\n",
    "\n",
    "# #assign each coordinate to the grid cell id\n",
    "# lonunit=(lonmax-lonmin)/gridlen\n",
    "# latunit=(latmax-latmin)/gridlen\n",
    "# grande['lon']=[i[0] for i in grande['coords']]\n",
    "# grande['lat']=[i[1] for i in grande['coords']]\n",
    "# grande['lat num']=(grande['lat']-latmin)//latunit\n",
    "# grande['lon num']=(grande['lon']-lonmin)//lonunit\n",
    "# grande['id']=list(zip(grande['lat num'].astype(int),grande['lon num'].astype(int)))\n",
    "\n",
    "# mapping={1:2011,2:1993,3:2002,\n",
    "# 4:2020,6:2014,7:2005,\n",
    "# 8:2017,9:1999,10:1996,\n",
    "# 11:2008,12:1990}\n",
    "\n",
    "# #map year\n",
    "# grande['year']=grande['type'].apply(lambda x:mapping[x])\n",
    "\n",
    "# #groupby to reduce computing power\n",
    "# disease=grande[['id','year']].groupby('id').median()\n",
    "# disease.reset_index(inplace=True)\n",
    "\n",
    "# #export\n",
    "# disease.to_csv('disease arrival.csv',index=False)"
   ]
  },
  {
   "cell_type": "code",
   "execution_count": 54,
   "id": "0049985b",
   "metadata": {},
   "outputs": [],
   "source": [
    "#read\n",
    "disease=pd.read_csv('disease arrival.csv')\n",
    "\n",
    "#convert to tuple\n",
    "disease['id']=disease['id'].apply(lambda x:ast.literal_eval(x))\n",
    "\n",
    "#get dftd arrival\n",
    "correction=disease.merge(suitability,on='id',how='right')\n",
    "correction['dftd']=np.where(correction['year_x']>=correction['year_y'],0,1)"
   ]
  },
  {
   "cell_type": "code",
   "execution_count": 55,
   "id": "a8af4963",
   "metadata": {},
   "outputs": [
    {
     "data": {
      "image/png": "[encoded data removed]",
      "text/plain": [
       "<Figure size 640x480 with 1 Axes>"
      ]
     },
     "metadata": {},
     "output_type": "display_data"
    }
   ],
   "source": [
    "post_dftd=correction[correction['dftd']==1]\n",
    "\n",
    "#generate raster\n",
    "hs=np.zeros((gridlen,gridlen))\n",
    "for i in post_dftd.index:\n",
    "    hs[post_dftd.at[i,'id']]=post_dftd.at[i,'rel_abun']\n",
    "hs=np.flip(hs,axis=0)\n",
    "\n",
    "hs[hs==0]=np.nan\n",
    "\n",
    "#viz\n",
    "plt.imshow(hs,cmap='RdBu_r',vmin=hs[~np.isnan(hs)].min(),\n",
    "           vmax=hs[~np.isnan(hs)].max())\n",
    "# plt.imshow(hs,cmap='RdBu_r',vmin=0,\n",
    "#            vmax=1)\n",
    "plt.title('relative abundance map')\n",
    "plt.axis('off')\n",
    "plt.show()"
   ]
  },
  {
   "cell_type": "code",
   "execution_count": 56,
   "id": "8bf6a53a",
   "metadata": {},
   "outputs": [
    {
     "data": {
      "image/png": "[encoded data removed]",
      "text/plain": [
       "<Figure size 640x480 with 1 Axes>"
      ]
     },
     "metadata": {},
     "output_type": "display_data"
    }
   ],
   "source": [
    "post_dftd=correction[correction['dftd']==0]\n",
    "\n",
    "#generate raster\n",
    "hs=np.zeros((gridlen,gridlen))\n",
    "for i in post_dftd.index:\n",
    "    hs[post_dftd.at[i,'id']]=post_dftd.at[i,'rel_abun']\n",
    "hs=np.flip(hs,axis=0)\n",
    "\n",
    "hs[hs==0]=np.nan\n",
    "\n",
    "#viz\n",
    "plt.imshow(hs,cmap='RdBu_r',vmin=hs[~np.isnan(hs)].min(),\n",
    "           vmax=hs[~np.isnan(hs)].max())\n",
    "plt.title('relative abundance map')\n",
    "plt.axis('off')\n",
    "plt.show()"
   ]
  },
  {
   "cell_type": "code",
   "execution_count": null,
   "id": "f7fb1ebb",
   "metadata": {},
   "outputs": [],
   "source": []
  }
 ],
 "metadata": {
  "kernelspec": {
   "display_name": "Python 3 (ipykernel)",
   "language": "python",
   "name": "python3"
  },
  "language_info": {
   "codemirror_mode": {
    "name": "ipython",
    "version": 3
   },
   "file_extension": ".py",
   "mimetype": "text/x-python",
   "name": "python",
   "nbconvert_exporter": "python",
   "pygments_lexer": "ipython3",
   "version": "3.8.17"
  },
  "toc": {
   "base_numbering": 1,
   "nav_menu": {},
   "number_sections": true,
   "sideBar": true,
   "skip_h1_title": false,
   "title_cell": "Table of Contents",
   "title_sidebar": "Contents",
   "toc_cell": false,
   "toc_position": {
    "height": "calc(100% - 180px)",
    "left": "10px",
    "top": "150px",
    "width": "307.2px"
   },
   "toc_section_display": true,
   "toc_window_display": true
  }
 },
 "nbformat": 4,
 "nbformat_minor": 5
}
