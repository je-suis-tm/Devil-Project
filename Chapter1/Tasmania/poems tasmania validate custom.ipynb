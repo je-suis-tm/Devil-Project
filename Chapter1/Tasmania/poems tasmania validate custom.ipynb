{
 "cells": [
  {
   "cell_type": "markdown",
   "id": "9dd5113c",
   "metadata": {},
   "source": [
    "## Setup\n",
    "\n",
    "We begin by loading the *poems* package and setting our output directory."
   ]
  },
  {
   "cell_type": "code",
   "execution_count": 1,
   "id": "87e4776a",
   "metadata": {},
   "outputs": [],
   "source": [
    "setwd('C:/Users/tm/Downloads/utas/thesis/chapter1/tasmania/poems')\n",
    "library(poems)\n",
    "OUTPUT_DIR='C:/Users/tm/Downloads/utas/thesis/chapter1/tasmania/poems'\n",
    "\n",
    "# function to round to any arbitrary value\n",
    "round_any <- function(x, accuracy, f = round) {\n",
    "  f(x/ accuracy) * accuracy\n",
    "}"
   ]
  },
  {
   "cell_type": "markdown",
   "id": "0a57820a",
   "metadata": {},
   "source": [
    "### read data"
   ]
  },
  {
   "cell_type": "code",
   "execution_count": 2,
   "id": "84ac1868",
   "metadata": {},
   "outputs": [],
   "source": [
    "#this is the land area of tasmania\n",
    "baselayer=read.csv('baselayer.csv')\n",
    "baselayer=subset(baselayer, grid == 0)\n",
    "landarea=c(as.numeric(row.names(baselayer)))"
   ]
  },
  {
   "cell_type": "code",
   "execution_count": 3,
   "id": "e27e8ee9",
   "metadata": {},
   "outputs": [],
   "source": [
    "#1985-1995\n",
    "# Cunningham et al., 2021\n",
    "population_size=c(#34475,\n",
    " 35924,\n",
    " 38256,\n",
    " 41029,\n",
    " 43487,\n",
    " 44622,\n",
    " 46387,\n",
    " 48845,\n",
    " 50105,\n",
    " 51618,\n",
    " 52437,\n",
    " 53067)"
   ]
  },
  {
   "cell_type": "code",
   "execution_count": 4,
   "id": "e1c08129-969d-4842-af0e-ada7215395d6",
   "metadata": {
    "scrolled": true
   },
   "outputs": [],
   "source": [
    "#this is the validation area of spotlight survey data from nva\n",
    "valid_spotlight=read.csv('valid_spotlight.csv')\n",
    "\n",
    "# Subset valid dataframe based on landarea\n",
    "valid_spotlight=subset(valid_spotlight, index %in% landarea)\n",
    "\n",
    "#reindex based on landarea\n",
    "identity_spotlight=match(valid_spotlight$index,landarea)"
   ]
  },
  {
   "cell_type": "code",
   "execution_count": 5,
   "id": "92d1a3c2-3b43-4f0d-9421-07fd120b6ac0",
   "metadata": {},
   "outputs": [],
   "source": [
    "#this is the validation area of camera trap\n",
    "valid_camera=read.csv('valid_camera.csv')\n",
    "\n",
    "# Subset valid dataframe based on landarea\n",
    "valid_camera=subset(valid_camera, index %in% landarea)\n",
    "\n",
    "#reindex based on landarea\n",
    "identity_camera=match(valid_camera$index,landarea)"
   ]
  },
  {
   "cell_type": "code",
   "execution_count": 6,
   "id": "a7dd411c",
   "metadata": {},
   "outputs": [],
   "source": [
    "#this is the validation area of R drive\n",
    "valid_monitor=read.csv('valid_monitor.csv')\n",
    "\n",
    "# Subset valid dataframe based on landarea\n",
    "valid_monitor=subset(valid_monitor, index %in% landarea)\n",
    "\n",
    "#reindex based on landarea\n",
    "identity_monitor=match(valid_monitor$index,landarea)"
   ]
  },
  {
   "cell_type": "code",
   "execution_count": 7,
   "id": "ce8f8534",
   "metadata": {},
   "outputs": [],
   "source": [
    "#habitat suitability map\n",
    "#estimated via vegetation,altitude and seabird colony\n",
    "# https://github.com/je-suis-tm/Devil-Project/blob/main/Chapter1/Tasman/habitat%20suitability%20tasman.ipynb\n",
    "suitability=read.csv('suitability.csv')\n",
    "\n",
    "\n",
    "floornum=0.1\n",
    "suitability$pred=(suitability$pred-min(suitability$pred))/(max(suitability$pred)-min(suitability$pred))*(1-floornum)+floornum"
   ]
  },
  {
   "cell_type": "markdown",
   "id": "3a22ea4a",
   "metadata": {},
   "source": [
    "### known variables"
   ]
  },
  {
   "cell_type": "code",
   "execution_count": 8,
   "id": "dc2783a4",
   "metadata": {},
   "outputs": [],
   "source": [
    "#dispersal portion and avg distance\n",
    "known_dispersal_p = 0.1945\n",
    "known_dispersal_b =5.821"
   ]
  },
  {
   "cell_type": "code",
   "execution_count": 9,
   "id": "539cac5f",
   "metadata": {},
   "outputs": [],
   "source": [
    "#baseline matrix is estimated via mark recapture data \n",
    "# https://github.com/je-suis-tm/Devil-Project/blob/main/Chapter1/Tasman/baseline%20matrix%2tasman.ipynb\n",
    "leslie_matrix=c(0.        , 0.489, 1.4539, 1.947, 1.5079,0.547 ,\n",
    "                1, 0.        , 0.        , 0.        ,\n",
    "       0.        , 0.        , 0.        , 0.976 , 0.        ,\n",
    "       0.        , 0.        , 0.        , 0.        , 0.        ,\n",
    "       0.899, 0.        , 0.        , 0.        , 0.        ,\n",
    "       0.        , 0.        , 0.84, 0.        , 0.        ,\n",
    "       0.        , 0.        , 0.        , 0.        , 0.791,\n",
    "       0.791      )\n",
    "agegroup=c(\"y0\",\"y1\",\"y2\",\"y3\",\"y4\",\"y5\")"
   ]
  },
  {
   "cell_type": "code",
   "execution_count": 10,
   "id": "bf37115e",
   "metadata": {},
   "outputs": [],
   "source": [
    "#how many grid cells\n",
    "gridlen=35\n",
    "\n",
    "#coordinates extreme value\n",
    "lonmin=144.165967\n",
    "latmin=-43.833736\n",
    "lonmax=148.576978\n",
    "latmax=-40.349895"
   ]
  },
  {
   "cell_type": "code",
   "execution_count": 11,
   "id": "af90ee78",
   "metadata": {},
   "outputs": [],
   "source": [
    "#model start year\n",
    "baseyear=1985\n",
    "\n",
    "#years of simulation\n",
    "simulation_years=40\n",
    "\n",
    "#simulation timeframe per round\n",
    "simulation_intervals=1\n",
    "\n",
    "#number of simulations\n",
    "num_of_sims=50\n",
    "\n",
    "#max density 2 per sq km, in female model divided by two\n",
    "maxden=100\n",
    "\n",
    "#initial abundance\n",
    "initial_population=34475\n",
    "\n",
    "#validation threshold for camera and spotlight\n",
    "correlation_threshold=0.9\n",
    "\n",
    "#area name\n",
    "areaname='Tasmania'"
   ]
  },
  {
   "cell_type": "markdown",
   "id": "9c65e035",
   "metadata": {},
   "source": [
    "## Workflow\n",
    "\n",
    "The *poems* workflow, which implements a pattern-oriented modeling (POM) approach \n",
    "(Grimm et al., 2005), is achieved via a framework of interoperable components:\n",
    "\n",
    "\n",
    "The workflow is summarized by the following six steps:\n",
    "\n",
    "1. Build the population model for the study region.\n",
    "1. Build generators for dynamically generating model parameters.\n",
    "1. Sample model and generator parameters for each simulation.\n",
    "1. Build a simulation manager to run each simulation.\n",
    "1. Build a results manager to generate summary results (metrics).\n",
    "1. Build a validator to select a model ensemble.\n",
    "\n",
    "### Step 1: Build the population model for the study region\n",
    "Create a model template using the *PopulationModel* class. If the model is spatially\n",
    "explicit, then define the study region via the *Region* class. All fixed model inputs,\n",
    "such as environmental correlations, as well as any user-defined functions for processes\n",
    "such as harvesting, should be set at this stage.\n",
    "\n",
    "We could create these components in any order and set model parameters separately, but \n",
    "let's setup our study region, generate environmental correlations, and define a harvest\n",
    "function prior to initializing the template model with all the fixed parameters.\n",
    "\n",
    "##### Study region\n",
    "First, we'll define our study region tasman with some longitude-latitude\n",
    "coordinates."
   ]
  },
  {
   "cell_type": "code",
   "execution_count": 12,
   "id": "ffa26979",
   "metadata": {},
   "outputs": [],
   "source": [
    "(lonmax-lonmin)/gridlen\n",
    "(latmax-latmin)/gridlen"
   ]
  },
  {
   "cell_type": "code",
   "execution_count": 13,
   "id": "802c9b41",
   "metadata": {},
   "outputs": [],
   "source": [
    "#build the raster of channel\n",
    "coordinates <- data.frame(x = rep(seq(lonmin, lonmax, 0.127028885714286), gridlen),\n",
    "                          y = rep(seq(latmin, latmax, 0.1005383142857144),each= gridlen))\n",
    "template_raster <- Region$new(coordinates = coordinates)$region_raster # full extent\n",
    "template_raster[][-landarea] <- NA \n",
    "\n",
    "region <- Region$new(template_raster = template_raster)\n",
    "\n",
    "raster::plot(region$region_raster, main = areaname,\n",
    "             xlab = \"Longitude (degrees)\", ylab = \"Latitude (degrees)\",\n",
    "             colNA = \"blue\",)"
   ]
  },
  {
   "cell_type": "markdown",
   "id": "6df0281d",
   "metadata": {},
   "source": [
    "##### Environmental correlation\n",
    "Next, we'll define a distance-based spatial correlation for applying environmental \n",
    "stochasticity within our model. The generated correlation data is compacted for \n",
    "computational efficiency (with large-scale models)."
   ]
  },
  {
   "cell_type": "code",
   "execution_count": 14,
   "id": "f2539a41",
   "metadata": {},
   "outputs": [],
   "source": [
    "# Distance-based environmental correlation (via a compacted Cholesky decomposition)\n",
    "env_corr <- SpatialCorrelation$new(region = region, amplitude = 0.4, breadth = 500)\n",
    "correlation <- env_corr$get_compact_decomposition(decimals = 2)"
   ]
  },
  {
   "cell_type": "markdown",
   "id": "9d5ad1f2",
   "metadata": {},
   "source": [
    "##### Template model\n",
    "Finally, we can build our template model with these and other fixed parameters.\n",
    "\n",
    "[0. , 0.489, 1.4539, 1.947, 1.5079,0.547]\n",
    "\n",
    "[1.0, 0.0, 0.0, 0.0, 0.0, 0.0]\n",
    "\n",
    "[0.0, 0.976, 0.0, 0.0, 0.0, 0.0]\n",
    "\n",
    "[0.0, 0.0, 0.899, 0.0, 0.0, 0.0]\n",
    "\n",
    "[0.0, 0.0, 0.0, 0.84, 0.0, 0.0]\n",
    "\n",
    "[0.0, 0.0, 0.0, 0.0, 0.791, 0.0]"
   ]
  },
  {
   "cell_type": "code",
   "execution_count": 15,
   "id": "dbbd0c02",
   "metadata": {},
   "outputs": [],
   "source": [
    "# Build a stage matrix generator based on density dependant growth\n",
    "stage_matrix_gen <- Generator$new(\n",
    "  description = \"stage matrix\",\n",
    "  base_matrix = matrix(leslie_matrix, nrow = length(agegroup), ncol = length(agegroup), byrow = TRUE,\n",
    "                       dimnames = list(agegroup,agegroup )),\n",
    "  inputs = c(\"growth_rate_max\",\"initial_n\", \"density_max\"),\n",
    "  outputs = c(\"stage_matrix\"),\n",
    "  generative_requirements = list(stage_matrix = \"function\"))\n",
    "stage_matrix_gen$add_function_template(\n",
    "  \"stage_matrix\",\n",
    "  function_def = function (params) {\n",
    "    return(params$base_matrix*(1-params$initial_n/(params$density_max*659)))\n",
    "  },\n",
    "  call_params = c(\"base_matrix\", \"growth_rate_max\",\"initial_n\", \"density_max\"))"
   ]
  },
  {
   "cell_type": "code",
   "execution_count": 16,
   "id": "5d3f5ed0",
   "metadata": {},
   "outputs": [],
   "source": [
    "stage_matrix = matrix(leslie_matrix, nrow = length(agegroup), ncol = length(agegroup), byrow = TRUE,\n",
    "                       dimnames = list(agegroup,agegroup ))"
   ]
  },
  {
   "cell_type": "markdown",
   "id": "dab97159",
   "metadata": {},
   "source": [
    "### Step 2: Build generators for dynamically generating model parameters\n",
    "Some model parameters are single values, whilst others are represented as arrays and\n",
    "other multi-value data structures. Usually, we don't wish to sample each individual \n",
    "value within these multi-value parameters (in step 3), but to generate them dynamically\n",
    "via one or more intermediate sampled parameters. Here we build generators for model \n",
    "initial abundance, carrying capacity, and dispersal.\n",
    "\n",
    "##### Habitat suitability\n",
    "Firstly, our initial abundance and carrying capacity generator utilizes an example\n",
    "(mock) habitat suitability for our defined study region. "
   ]
  },
  {
   "cell_type": "code",
   "execution_count": 17,
   "id": "8e4993e7",
   "metadata": {},
   "outputs": [],
   "source": [
    "# Example habitat suitability\n",
    "example_hs=suitability$pred\n",
    "example_hs_raster <- region$region_raster\n",
    "example_hs_raster[region$region_indices] <- example_hs\n",
    "raster::plot(example_hs_raster, main = \"Example habitat suitability\",\n",
    "             xlab = \"Longitude (degrees)\", ylab = \"Latitude (degrees)\",\n",
    "             colNA = \"blue\")"
   ]
  },
  {
   "cell_type": "markdown",
   "id": "089ddad7",
   "metadata": {},
   "source": [
    "##### Initial abundance and carrying capacity generator\n",
    "The generator utilizes generic template functionality for user-defined custom\n",
    "functions. It uses sampled input parameters (initial total abundance and maximum cell\n",
    "density), along with habitat suitability, to generate the desired output model \n",
    "parameters (initial abundance and carrying capacity) via these user-defined functions. \n",
    "Generators can also be configured to read values from files or generate values via \n",
    "probabilistic distributions. "
   ]
  },
  {
   "cell_type": "code",
   "execution_count": 18,
   "id": "ed3b286e",
   "metadata": {},
   "outputs": [],
   "source": [
    "# Initial abundance and carrying capacity generated via example habitat suitability\n",
    "capacity_gen <- Generator$new(description = \"Capacity generator\",\n",
    "                              example_hs = example_hs, # template attached\n",
    "                              inputs = c(\"initial_n\", \"density_max\"),\n",
    "                              outputs = c(\"initial_abundance\", \"carrying_capacity\"))\n",
    "capacity_gen$add_generative_requirements(list(initial_abundance = \"function\",\n",
    "                                              carrying_capacity = \"function\"))\n",
    "capacity_gen$add_function_template(\"initial_abundance\",\n",
    "                                   function_def = function(params) {\n",
    "#                                        stats::rmultinom(1, size = params$initial_n,\n",
    "#                                                       prob = params$example_hs)[,1]\n",
    "                                       \n",
    "                                       round(params$initial_n/sum(params$example_hs)*params$example_hs)\n",
    "                                   },\n",
    "                                   call_params = c(\"initial_n\", \"example_hs\"))\n",
    "capacity_gen$add_function_template(\"carrying_capacity\",\n",
    "                                   function_def = function(params) {\n",
    "                                     round(params$density_max*params$example_hs)\n",
    "                                   },\n",
    "                                   call_params = c(\"density_max\", \"example_hs\"))"
   ]
  },
  {
   "cell_type": "code",
   "execution_count": 19,
   "id": "8c8a7dac",
   "metadata": {},
   "outputs": [],
   "source": [
    "dispersal_friction <- DispersalFriction$new(\n",
    "   region = region,\n",
    "   conductance = example_hs\n",
    " )"
   ]
  },
  {
   "cell_type": "code",
   "execution_count": 20,
   "id": "1077f095",
   "metadata": {},
   "outputs": [],
   "source": [
    "# Distance-based dispersal generator\n",
    "# https://github.com/je-suis-tm/Devil-Project/blob/main/Chapter1/Tasmania/dispersal%20estimate%20tasmania.ipynb\n",
    "dispersal_gen <- DispersalGenerator$new(region = region,\n",
    "                                        dispersal_max_distance = 400, # in km \n",
    "                                        distance_scale = 1000,\n",
    "                                        dispersal_friction =  dispersal_friction,\n",
    "                                        inputs = c(\"dispersal_p\", \"dispersal_b\"),\n",
    "                                        decimals = 5)\n",
    "dispersal_gen$calculate_distance_data() # pre-calculate\n",
    "# test_dispersal <- dispersal_gen$generate(input_values = list(dispersal_p = known_dispersal_p, \n",
    "#                                                              dispersal_b = known_dispersal_b))\n",
    "#head(test_dispersal$dispersal_data[[1]])"
   ]
  },
  {
   "cell_type": "markdown",
   "id": "d6035b33",
   "metadata": {},
   "source": [
    "##### Density Dependence"
   ]
  },
  {
   "cell_type": "code",
   "execution_count": 21,
   "id": "2a814855",
   "metadata": {},
   "outputs": [],
   "source": [
    "# Define neighborhoods based on a 12 km home range from each \n",
    "# grid cell for density dependence calculations (using a dispersal generator)\n",
    "distance_data <- dispersal_gen$distance_data[[1]]\n",
    "nh_data <- distance_data[which(distance_data$distance_class <= 19), 2:1]\n",
    "\n",
    "neighborhoods <- as.list(1:length(landarea))\n",
    "for (i in 1:nrow(nh_data)) {\n",
    "  neighborhoods[[nh_data$source_pop[i]]] <- c(neighborhoods[[nh_data$source_pop[i]]],\n",
    "                                               nh_data$target_pop[i])\n",
    "}\n",
    "#neighborhoods[1:3] # examine"
   ]
  },
  {
   "cell_type": "code",
   "execution_count": 22,
   "id": "ed5b6c1f",
   "metadata": {},
   "outputs": [],
   "source": [
    "# User-defined function for Ricker logistic density dependence via neighborhoods\n",
    "density_dependence <- list(\n",
    "  neighborhoods = neighborhoods,\n",
    "  function (params) {\n",
    "    \n",
    "    # Apply logistic density dependence using neighborhoods\n",
    "    growth_rate_max <- params$growth_rate_max\n",
    "    nh_density_abundance <- unlist(lapply(params$neighborhoods,\n",
    "                                          function (nh_indices) {\n",
    "                                            sum(params$density_abundance[nh_indices])\n",
    "                                          }))\n",
    "    nh_carrying_capacity <- unlist(lapply(params$neighborhoods,\n",
    "                                          function (nh_indices) {\n",
    "                                            sum(params$carrying_capacity[nh_indices])\n",
    "                                          }))\n",
    "    occupied_indices <- params$occupied_indices\n",
    "    growth_rate <- (1 - (nh_density_abundance[occupied_indices]/\n",
    "                                           nh_carrying_capacity[occupied_indices]))\n",
    "    params$transition_array[, , occupied_indices] <-\n",
    "      params$apply_multipliers(params$transition_array[, , occupied_indices],\n",
    "                               params$calculate_multipliers(growth_rate))\n",
    "    \n",
    "    \n",
    "    # Remove fecundities for single thylacines\n",
    "    single_indices <- which(nh_density_abundance == 1)\n",
    "    params$transition_array[, , single_indices] <-\n",
    "      (params$transition_array[, , single_indices]*as.vector(+(!params$fecundity_mask)))\n",
    "    \n",
    "    return(params$transition_array)\n",
    "  }\n",
    ")"
   ]
  },
  {
   "cell_type": "code",
   "execution_count": 23,
   "id": "9b9d118c",
   "metadata": {},
   "outputs": [],
   "source": [
    "#stage_matrix # examine\n",
    "model_template <- PopulationModel$new(region = region,\n",
    "                                      time_steps = simulation_years, # years\n",
    "                                      years_per_step = simulation_intervals,\n",
    "                                      populations = region$region_cells, \n",
    "                                      stages = length(agegroup),\n",
    "                                      stage_matrix = stage_matrix_gen$stage_matrix,\n",
    "                                      #demographic_stochasticity = TRUE,\n",
    "                                      #standard_deviation = 0.01,\n",
    "                                      correlation = correlation,\n",
    "                                      density_dependence = \"logistic\",\n",
    "                                      results_selection = c(\"abundance\"),\n",
    "                                      simulation_order = c(\"results\", \"transition\", \"dispersal\"))"
   ]
  },
  {
   "cell_type": "markdown",
   "id": "61c49a94",
   "metadata": {},
   "source": [
    "### Step 3: Sample model and generator parameters for each simulation\n",
    "In order to explore the model parameter space to find the best models, we generate\n",
    "Latin hypercube samples of model and generator parameters to be simulated, using the\n",
    "*LatinHypercubeSampler* class. This class has functionality for generating sample\n",
    "parameters via Uniform, Normal, Lognormal, Beta, and Triangular distributions."
   ]
  },
  {
   "cell_type": "code",
   "execution_count": 24,
   "id": "25da1402",
   "metadata": {
    "scrolled": true
   },
   "outputs": [],
   "source": [
    "# Generate sampled values for variable model parameters via LHS\n",
    "lhs_gen <- LatinHypercubeSampler$new()\n",
    "\n",
    "#set as wide as possible\n",
    "lhs_gen$set_uniform_parameter(\"growth_rate_max\", lower = 0.01, upper = 0.99, decimals = 2)\n",
    "\n",
    "#automatically fetched\n",
    "lhs_gen$set_uniform_parameter(\"density_max\", lower = as.integer(maxden*0.2), \n",
    "                              upper = as.integer(maxden*1.8), decimals = 2)\n",
    "lhs_gen$set_uniform_parameter(\"initial_n\", lower = as.integer(min(maxden*0.2*length(landarea),initial_population/2*0.2)),\n",
    "                              upper = as.integer(min(maxden*1.8*length(landarea),initial_population/2*1.8)),\n",
    "                              decimals = 0)\n",
    "lhs_gen$set_uniform_parameter(\"dispersal_b\", lower = 1,\n",
    "                              upper = 50, decimals = 2)\n",
    "lhs_gen$set_uniform_parameter(\"dispersal_p\", lower = 0.01, upper = 0.99, decimals = 2)\n",
    "sample_data <- lhs_gen$generate_samples(number = num_of_sims)\n",
    "\n",
    "#remove max capacity smaller than initial population\n",
    "sample_data=sample_data[sample_data$density_max*length(landarea)>=sample_data$initial_n,]\n",
    "num_of_sims=length(row.names(sample_data))\n",
    "\n",
    "#save as pickle\n",
    "save(sample_data, file=\"sample data.Rda\")"
   ]
  },
  {
   "cell_type": "markdown",
   "id": "01d3a46a",
   "metadata": {},
   "source": [
    "### Step 4: Build a simulation manager to run each simulation\n",
    "We now wish to run a simulation for each set (or row) of sampled parameters. The\n",
    "*SimulationManager* class manages the generation of parameters (via the generators),\n",
    "the running the model simulations, and writing simulation results to disk. It also\n",
    "maintains a log of each simulation's success and any errors or warnings encountered."
   ]
  },
  {
   "cell_type": "code",
   "execution_count": 25,
   "id": "5175e5b3",
   "metadata": {},
   "outputs": [],
   "source": [
    "# Create a simulation manager and run the sampled model simulations\n",
    "sim_manager <- SimulationManager$new(sample_data = sample_data,\n",
    "                                     model_template = model_template,\n",
    "                                     generators = list(capacity_gen, stage_matrix_gen, dispersal_gen),\n",
    "                                     parallel_cores = 6,\n",
    "                                     results_dir = OUTPUT_DIR)\n",
    "run_output <- sim_manager$run(results_dir = tempdir())\n",
    "run_output$summary\n",
    "#dir(OUTPUT_DIR, \"*.RData\") # includes result files \n",
    "#dir(OUTPUT_DIR, \"*.txt\") # plus simulation log"
   ]
  },
  {
   "cell_type": "code",
   "execution_count": 26,
   "id": "4e792e5a",
   "metadata": {},
   "outputs": [],
   "source": [
    "#get time id and space id\n",
    "valid_monitor$yearid=valid_monitor$year-baseyear\n",
    "valid_monitor$reindex=identity_monitor\n",
    "\n",
    "# Create a list to store the functions\n",
    "summary_functions <- list()\n",
    "\n",
    "# Programmatically define the functions and add them to the list\n",
    "for (i in 1:length(rownames(valid_monitor))) {\n",
    "    #results refer to actual output rdata file from simulation manager\n",
    "  summary_functions[[paste0(\"p\", i)]] <- function(results,sid,tid,idx) {\n",
    "    results$abundance[results$sid[results$idx],results$tid[results$idx]]\n",
    "  }\n",
    "}\n",
    "\n",
    "#add correlation of non parametric ranking\n",
    "for (i in 1:simulation_years) {\n",
    "    #results refer to actual output rdata file from simulation manager\n",
    "  summary_functions[[paste0(\"rho_spotlight\", i)]] <- function(results,identity_spotlight,rank_act_spotlight,\n",
    "                                                             sim_yrs) {\n",
    "    rank_est <- rank(results$abundance[identity_spotlight,sim_yrs])\n",
    "    cor(rank_est,rank_act_spotlight)\n",
    "  }\n",
    "}\n",
    "\n",
    "for (i in 1:simulation_years) {\n",
    "    #results refer to actual output rdata file from simulation manager\n",
    "  summary_functions[[paste0(\"rho_camera\", i)]] <- function(results,identity_camera,rank_act_camera,\n",
    "                                                             sim_yrs) {\n",
    "    rank_est <- rank(results$abundance[identity_camera,sim_yrs])\n",
    "    cor(rank_est,rank_act_camera)\n",
    "  }\n",
    "}\n",
    "\n",
    "\n",
    "for (i in 1:length(population_size)) {\n",
    "    #results refer to actual output rdata file from simulation manager\n",
    "  summary_functions[[paste0(\"total\", i)]] <- function(results,pop_size) {\n",
    "    results$all$abundance[pop_size]\n",
    "  }\n",
    "}\n",
    "\n",
    "# Add the additional required function to the list\n",
    "summary_functions[[\"n\"]] <- \"abundance\""
   ]
  },
  {
   "cell_type": "code",
   "execution_count": 27,
   "id": "fd2dee13",
   "metadata": {},
   "outputs": [],
   "source": [
    "# Create the ResultsManager object with summary_functions assigned\n",
    "results_manager <-ResultsManager$new(\n",
    "  simulation_manager = sim_manager,\n",
    "  simulation_results = PopulationResults$new(),\n",
    "  summary_metrics = paste0(\"p\", 1:length(rownames(valid_monitor))),\n",
    "  summary_matrices = c(\"n\"),\n",
    "  tid=valid_monitor$yearid,\n",
    "  sid=valid_monitor$reindex,\n",
    "  idx=1:length(rownames(valid_monitor)),\n",
    "  sim_yrs=1:simulation_years,\n",
    "  pop_size=1:length(population_size),\n",
    "  rank_act_spotlight=order(order(valid_spotlight$dftd)),\n",
    "  rank_act_camera=order(order(valid_camera$rel_abun)),\n",
    "  summary_functions=summary_functions,  # Assign summary_functions here\n",
    "  parallel_cores = 6\n",
    ")\n",
    "\n",
    "gen_output <- results_manager$generate()\n",
    "gen_output$summary\n",
    "#dir(OUTPUT_DIR, \"*.txt\") # plus generation log\n",
    "# results_manager$summary_metric_data\n",
    "# results_manager$summary_matrix_list"
   ]
  },
  {
   "cell_type": "code",
   "execution_count": 28,
   "id": "e0db6d23",
   "metadata": {},
   "outputs": [],
   "source": [
    "#monitor sites\n",
    "tid=valid_monitor$yearid\n",
    "sid=valid_monitor$reindex\n",
    "raw_mat=results_manager$summary_matrix_list$n\n",
    "\n",
    "#find validation target in abundance matrix\n",
    "valid_target <- matrix(ncol = length(rownames(valid_monitor)), nrow = num_of_sims)  \n",
    "for (i in 1:length(rownames(valid_monitor))) {\n",
    "  valid_target[,i] <- raw_mat[,(tid[i]-1)*length(landarea)+sid[i]]}\n",
    "results_manager$summary_metric_data[paste0(\"p\", 1:length(rownames(valid_monitor)))]=valid_target"
   ]
  },
  {
   "cell_type": "code",
   "execution_count": 29,
   "id": "829cfa2f",
   "metadata": {},
   "outputs": [],
   "source": [
    "#calculate correlation for camera validation target\n",
    "rank_act_camera=order(order(valid_camera$rel_abun))\n",
    "    \n",
    "rho_camera <- numeric(0)\n",
    "for (i in 1:num_of_sims){\n",
    "    first_row <- raw_mat[i, ]\n",
    "    reshaped=matrix(first_row,nrow = simulation_years,\n",
    "                    ncol = length(landarea))\n",
    "    reshaped[is.na(reshaped)] <- 0 \n",
    "    for (j in 1:simulation_years) {\n",
    "    rank_est=rank(reshaped[j,identity_camera])    \n",
    "    rho_camera <- c(rho_camera, cor(rank_act_camera,rank_est))\n",
    "        }\n",
    "}\n",
    "\n",
    "results_manager$summary_metric_data[paste0(\"rho_camera\", 1:simulation_years)]=t(matrix(rho_camera,nrow = simulation_years,\n",
    "                    ncol = num_of_sims))"
   ]
  },
  {
   "cell_type": "code",
   "execution_count": 30,
   "id": "07c6aab6",
   "metadata": {
    "scrolled": true
   },
   "outputs": [],
   "source": [
    "#calculate correlation for spotlight validation target\n",
    "rank_act_spotlight=order(order(valid_spotlight$dftd))\n",
    "    \n",
    "rho_spotlight <- numeric(0)\n",
    "for (i in 1:num_of_sims){\n",
    "    first_row <- raw_mat[i, ]\n",
    "    reshaped=matrix(first_row,nrow = simulation_years,\n",
    "                    ncol = length(landarea))\n",
    "    reshaped[is.na(reshaped)] <- 0 \n",
    "    for (j in 1:simulation_years) {\n",
    "    rank_est=rank(reshaped[j,identity_spotlight])    \n",
    "    rho_spotlight <- c(rho_spotlight, cor(rank_act_spotlight,rank_est))\n",
    "        }\n",
    "}\n",
    "\n",
    "results_manager$summary_metric_data[paste0(\"rho_spotlight\", 1:simulation_years)]=t(matrix(rho_spotlight,nrow = simulation_years,\n",
    "                    ncol = num_of_sims))"
   ]
  },
  {
   "cell_type": "code",
   "execution_count": 31,
   "id": "31816a60",
   "metadata": {
    "scrolled": true
   },
   "outputs": [],
   "source": [
    "#calculate total abundance\n",
    "pop_est=numeric(0)\n",
    "for (i in 1:num_of_sims)\n",
    "{\n",
    "for (j in 1:length(population_size)){\n",
    "    first_row <- raw_mat[i, ]\n",
    "    reshaped=matrix(first_row,nrow = simulation_years,\n",
    "                    ncol = length(landarea))\n",
    "    reshaped[is.na(reshaped)] <- 0 \n",
    "    pop_est <- c(pop_est, sum(reshaped[j,]))\n",
    "}\n",
    "    }\n",
    "results_manager$summary_metric_data[paste0(\"total\", 1:length(population_size))]=t(matrix(pop_est,nrow = length(population_size),\n",
    "                    ncol = num_of_sims))"
   ]
  },
  {
   "cell_type": "code",
   "execution_count": 32,
   "id": "d0df290e",
   "metadata": {},
   "outputs": [],
   "source": [
    "#save as pickle\n",
    "save(results_manager, file=\"models.Rda\")"
   ]
  },
  {
   "cell_type": "markdown",
   "id": "c19bd8b6",
   "metadata": {},
   "source": [
    "### Step 6: Build a validator to select a model ensemble\n",
    "We now select and analyze our 'best' models via a *Validator* class object, which by\n",
    "default utilizes an approximate Bayesian computation (ABC) approach (Beaumont, Zhang, \n",
    "& Balding, 2002) provided by the *abc* library (Csillery et al., 2015). The validator\n",
    "can be configured appropriately for a problem domain (see the *abc* documentation). \n",
    "Here we use the default configuration to select the best 3 models, along with a weight\n",
    "value, which is indicative of the congruence between each model's summary metrics and \n",
    "the corresponding target patterns. Also provided (with the default settings) is a \n",
    "diagnostic output (PDF) file, containing statistical information for analyzing the \n",
    "contribution of model parameters in the selection/validation process (see the *abc* \n",
    "documentation). For our simple demonstration the metrics and corresponding targets are \n",
    "relatively trivial, having the aim of producing stable population abundances with high \n",
    "harvest. However, the package facilitates the use more complex spatio-temporal metrics \n",
    "and targets (demonstrated in more advanced vignettes)."
   ]
  },
  {
   "cell_type": "code",
   "execution_count": 12,
   "id": "0a7d304d",
   "metadata": {},
   "outputs": [],
   "source": [
    "#load pickle files so no need to retrain\n",
    "load(\"models.Rda\")\n",
    "load(\"sample data.Rda\")\n",
    "\n",
    "\n",
    "raw_mat=results_manager$summary_matrix_list$n"
   ]
  },
  {
   "cell_type": "code",
   "execution_count": 13,
   "id": "fe341289",
   "metadata": {
    "scrolled": true
   },
   "outputs": [
    {
     "data": {
      "text/html": [
       "0"
      ],
      "text/latex": [
       "0"
      ],
      "text/markdown": [
       "0"
      ],
      "text/plain": [
       "[1] 0"
      ]
     },
     "metadata": {},
     "output_type": "display_data"
    }
   ],
   "source": [
    "#showna\n",
    "validation_var=results_manager$summary_metric_data\n",
    "length(row.names(validation_var[!complete.cases(validation_var),]))/length(row.names(validation_var))"
   ]
  },
  {
   "cell_type": "code",
   "execution_count": 14,
   "id": "cea6e9cc",
   "metadata": {},
   "outputs": [],
   "source": [
    "\n",
    "validation_var=validation_var[complete.cases(validation_var),]\n",
    "sample_data=sample_data[validation_var$index,]\n",
    "selected_mat=raw_mat[validation_var$index,]\n",
    "selected_mat[is.na(selected_mat)] <- 0 \n",
    "row.names(sample_data) <- NULL\n",
    "row.names(validation_var) <- NULL\n",
    "validation_var$index=1:length(row.names(validation_var))"
   ]
  },
  {
   "cell_type": "code",
   "execution_count": 15,
   "id": "e7b6dc6f",
   "metadata": {},
   "outputs": [],
   "source": [
    "# #fill na with zero for those who got non na correlation\n",
    "# na_index <- which(!is.na(validation_var$rho_spotlight))\n",
    "# subset <- validation_var[na_index, ]\n",
    "# subset[is.na(subset)]=0\n",
    "# validation_var=rbind(validation_var[is.na(validation_var$rho_spotlight),],subset)\n",
    "\n",
    "# #list of na\n",
    "# remove_index=which(!complete.cases(validation_var))\n",
    "\n",
    "# # Create a validator for selecting the 'best' example models\n",
    "# if (length(remove_index)!=0)    {\n",
    "#  sample_data = sample_data[-remove_index,]\n",
    "#  validation_var=validation_var[-remove_index,]\n",
    "#  row.names(sample_data) <- NULL\n",
    "#  row.names(validation_var) <- NULL\n",
    "# }"
   ]
  },
  {
   "cell_type": "code",
   "execution_count": 16,
   "id": "bb432d77",
   "metadata": {},
   "outputs": [],
   "source": [
    "#get population est\n",
    "obs_targets=valid_monitor$population\n",
    "names(obs_targets)=paste0(\"p\", 1:length(rownames(valid_monitor)))\n",
    "\n",
    "#female model\n",
    "obs_targets=as.integer(obs_targets/2)\n",
    "\n",
    "#add non parametric targets\n",
    "for (i in 1:simulation_years){\n",
    "    obs_targets<-c(obs_targets,correlation_threshold)\n",
    "    obs_targets<-c(obs_targets,correlation_threshold)}\n",
    "\n",
    "#female model\n",
    "pop_act=as.integer(population_size[1:length(population_size)]/2)\n",
    "\n",
    "#add total abundance\n",
    "obs_targets<-c(obs_targets,pop_act)"
   ]
  },
  {
   "cell_type": "markdown",
   "id": "ae70e5ed",
   "metadata": {},
   "source": [
    "#### custom"
   ]
  },
  {
   "cell_type": "code",
   "execution_count": 17,
   "id": "aeeda55d",
   "metadata": {},
   "outputs": [],
   "source": [
    "#get top 100 or top 10\n",
    "if (nrow(validation_var) > 500) {\n",
    "  tol = 100\n",
    "} else {\n",
    "  tol =10\n",
    "}\n",
    "\n",
    "#get top tol smallest sse\n",
    "sse=colSums(apply(validation_var[-1], 1, function(x) ((x - obs_targets)/obs_targets)^2))\n",
    "idx_selected=order(sse)[1:tol]"
   ]
  },
  {
   "cell_type": "code",
   "execution_count": 18,
   "id": "4410b888",
   "metadata": {},
   "outputs": [],
   "source": [
    "#initialize variables\n",
    "init_beta=sample(1/tol,tol,replace=TRUE)\n",
    "X=validation_var[-1]\n",
    "X=X[idx_selected,]\n",
    "Y=obs_targets\n",
    "\n",
    "\n",
    "#small nonparam\n",
    "coeffs=c(rep(1,nrow(valid_monitor)),rep(0.2,simulation_years),\n",
    "                                       rep(0.2,simulation_years),rep(1,length(population_size)))\n",
    "#sse defined\n",
    "numerator=rowSums(apply(X, 1, function(x) ((x - Y)/Y)^2))\n",
    "#std defined\n",
    "numerator=abs(apply(X, 2, sd)/apply(X, 2, mean))\n",
    "                        \n",
    "#compute validation target weightings\n",
    "denominator=sum(numerator)\n",
    "coeffs=numerator/denominator\n",
    "\n",
    "#rescale\n",
    "init_beta=init_beta/sum(init_beta)\n",
    "coeffs=coeffs/sum(coeffs)"
   ]
  },
  {
   "cell_type": "code",
   "execution_count": 19,
   "id": "4518860a",
   "metadata": {},
   "outputs": [],
   "source": [
    "#weighted euclidean\n",
    "cost_func <- function(beta, X, Y) {\n",
    "  \n",
    "  # Calculate the weightings matrix\n",
    "  weightings <- matrix(beta, nrow = length(beta), ncol = ncol(X))\n",
    "  \n",
    "  # Calculate squared errors\n",
    "  squared_errors <- ((colSums(weightings * X) - Y) / Y) ^ 2\n",
    "  \n",
    "  # Compute the final cost\n",
    "  cost <- sum(squared_errors * coeffs)\n",
    "  \n",
    "  return(cost)\n",
    "}\n",
    "\n",
    "# Perform optimization\n",
    "result <- optim(par = init_beta, \n",
    "                 fn = cost_func, \n",
    "                 X = X, \n",
    "                 Y = Y,\n",
    "                 method = \"L-BFGS-B\", \n",
    "                 lower = rep(0, ncol(X)))"
   ]
  },
  {
   "cell_type": "code",
   "execution_count": 20,
   "id": "268a20d1",
   "metadata": {},
   "outputs": [],
   "source": [
    "weights=data.frame(index=idx_selected,weight=result$par)"
   ]
  },
  {
   "cell_type": "code",
   "execution_count": 21,
   "id": "0fa4be72",
   "metadata": {},
   "outputs": [],
   "source": [
    "\n",
    "# validator <- Validator$new(simulation_parameters = sample_data,\n",
    "#                            simulation_summary_metrics =validation_var[-1],\n",
    "#                            observed_metric_targets = obs_targets,\n",
    "#                            output_dir = OUTPUT_DIR)\n",
    "\n",
    "# validator$run(tolerance = 0.2, output_diagnostics = TRUE)\n",
    "# #rescale weights as they dont sum up to one\n",
    "# weights=validator$selected_simulations "
   ]
  },
  {
   "cell_type": "code",
   "execution_count": 22,
   "id": "fa8b553e",
   "metadata": {},
   "outputs": [],
   "source": [
    "\n",
    "weights$weight=weights$weight/sum(weights$weight)"
   ]
  },
  {
   "cell_type": "code",
   "execution_count": 23,
   "id": "fba92c2f-4004-4bf3-8504-1707a50538a0",
   "metadata": {
    "scrolled": true
   },
   "outputs": [],
   "source": [
    "#get posterior weighted avg, min and max\n",
    "selected_data=sample_data[weights$index,]\n",
    "\n",
    "posterior_max=sapply(selected_data, function(x) max(x, na.rm = TRUE))\n",
    "posterior_min=sapply(selected_data, function(x) min(x, na.rm = TRUE))\n",
    "posterior_p80=sapply(selected_data, function(x) quantile(x, probs = 0.80, na.rm = TRUE))                    \n",
    "posterior_p20=sapply(selected_data, function(x) quantile(x, probs = 0.20, na.rm = TRUE))\n",
    "posterior_mean=colSums(sample_data[weights$index,]*replicate(length(sample_data), weights$weight))\n",
    "\n",
    "#get prior avg, min and max\n",
    "prior_max=sapply(results_manager$sample_data, function(x) max(x, na.rm = TRUE))\n",
    "prior_min=sapply(results_manager$sample_data, function(x) min(x, na.rm = TRUE))\n",
    "prior_p80=sapply(results_manager$sample_data, function(x) quantile(x, probs = 0.80, na.rm = TRUE))\n",
    "prior_p20=sapply(results_manager$sample_data, function(x) quantile(x, probs = 0.20, na.rm = TRUE))\n",
    "prior_mean=sapply(results_manager$sample_data, function(x) mean(x, na.rm = TRUE))\n",
    "\n",
    "#create dataframe into a designated format\n",
    "prior <- data.frame(  \n",
    "    prior = paste(prior_mean, \n",
    "                   \"(\", prior_p20, \"-\",prior_p80, \")\") )\n",
    "\n",
    "posterior <- data.frame( posterior = paste(posterior_mean, \n",
    "                   \"(\", posterior_p20, \"-\",posterior_p80, \")\") )\n",
    "\n",
    "#add index column\n",
    "params_distrib=cbind(prior,posterior)\n",
    "row.names(params_distrib)=names(prior_mean)"
   ]
  },
  {
   "cell_type": "code",
   "execution_count": 40,
   "id": "619101c9",
   "metadata": {},
   "outputs": [
    {
     "data": {
      "text/html": [
       "'100 out of 4735'"
      ],
      "text/latex": [
       "'100 out of 4735'"
      ],
      "text/markdown": [
       "'100 out of 4735'"
      ],
      "text/plain": [
       "[1] \"100 out of 4735\""
      ]
     },
     "metadata": {},
     "output_type": "display_data"
    }
   ],
   "source": [
    "paste(length(rownames(selected_data)),\"out of\",nrow(validation_var))"
   ]
  },
  {
   "cell_type": "code",
   "execution_count": 25,
   "id": "73c710bb",
   "metadata": {
    "scrolled": true
   },
   "outputs": [
    {
     "data": {
      "text/html": [
       "<table class=\"dataframe\">\n",
       "<caption>A data.frame: 5 × 2</caption>\n",
       "<thead>\n",
       "\t<tr><th></th><th scope=col>prior</th><th scope=col>posterior</th></tr>\n",
       "\t<tr><th></th><th scope=col>&lt;chr&gt;</th><th scope=col>&lt;chr&gt;</th></tr>\n",
       "</thead>\n",
       "<tbody>\n",
       "\t<tr><th scope=row>growth_rate_max</th><td>0.500868004223865 ( 0.21 - 0.79 )             </td><td>0.27 ( 0.238 - 0.804 )  </td></tr>\n",
       "\t<tr><th scope=row>density_max</th><td>103.985647307286 ( 58.802 - 149.696 )         </td><td>20.56 ( 21.776 - 26.37 )</td></tr>\n",
       "\t<tr><th scope=row>initial_n</th><td>16792.6156282999 ( 8674 - 24974.6 )           </td><td>13473 ( 6097 - 13266.6 )</td></tr>\n",
       "\t<tr><th scope=row>dispersal_b</th><td>25.517368532207 ( 10.84 - 40.16 )             </td><td>1.07 ( 10.68 - 39.622 ) </td></tr>\n",
       "\t<tr><th scope=row>dispersal_p</th><td>0.499558606124604 ( 0.208000000000001 - 0.79 )</td><td>0.24 ( 0.232 - 0.744 )  </td></tr>\n",
       "</tbody>\n",
       "</table>\n"
      ],
      "text/latex": [
       "A data.frame: 5 × 2\n",
       "\\begin{tabular}{r|ll}\n",
       "  & prior & posterior\\\\\n",
       "  & <chr> & <chr>\\\\\n",
       "\\hline\n",
       "\tgrowth\\_rate\\_max & 0.500868004223865 ( 0.21 - 0.79 )              & 0.27 ( 0.238 - 0.804 )  \\\\\n",
       "\tdensity\\_max & 103.985647307286 ( 58.802 - 149.696 )          & 20.56 ( 21.776 - 26.37 )\\\\\n",
       "\tinitial\\_n & 16792.6156282999 ( 8674 - 24974.6 )            & 13473 ( 6097 - 13266.6 )\\\\\n",
       "\tdispersal\\_b & 25.517368532207 ( 10.84 - 40.16 )              & 1.07 ( 10.68 - 39.622 ) \\\\\n",
       "\tdispersal\\_p & 0.499558606124604 ( 0.208000000000001 - 0.79 ) & 0.24 ( 0.232 - 0.744 )  \\\\\n",
       "\\end{tabular}\n"
      ],
      "text/markdown": [
       "\n",
       "A data.frame: 5 × 2\n",
       "\n",
       "| <!--/--> | prior &lt;chr&gt; | posterior &lt;chr&gt; |\n",
       "|---|---|---|\n",
       "| growth_rate_max | 0.500868004223865 ( 0.21 - 0.79 )              | 0.27 ( 0.238 - 0.804 )   |\n",
       "| density_max | 103.985647307286 ( 58.802 - 149.696 )          | 20.56 ( 21.776 - 26.37 ) |\n",
       "| initial_n | 16792.6156282999 ( 8674 - 24974.6 )            | 13473 ( 6097 - 13266.6 ) |\n",
       "| dispersal_b | 25.517368532207 ( 10.84 - 40.16 )              | 1.07 ( 10.68 - 39.622 )  |\n",
       "| dispersal_p | 0.499558606124604 ( 0.208000000000001 - 0.79 ) | 0.24 ( 0.232 - 0.744 )   |\n",
       "\n"
      ],
      "text/plain": [
       "                prior                                         \n",
       "growth_rate_max 0.500868004223865 ( 0.21 - 0.79 )             \n",
       "density_max     103.985647307286 ( 58.802 - 149.696 )         \n",
       "initial_n       16792.6156282999 ( 8674 - 24974.6 )           \n",
       "dispersal_b     25.517368532207 ( 10.84 - 40.16 )             \n",
       "dispersal_p     0.499558606124604 ( 0.208000000000001 - 0.79 )\n",
       "                posterior               \n",
       "growth_rate_max 0.27 ( 0.238 - 0.804 )  \n",
       "density_max     20.56 ( 21.776 - 26.37 )\n",
       "initial_n       13473 ( 6097 - 13266.6 )\n",
       "dispersal_b     1.07 ( 10.68 - 39.622 ) \n",
       "dispersal_p     0.24 ( 0.232 - 0.744 )  "
      ]
     },
     "metadata": {},
     "output_type": "display_data"
    }
   ],
   "source": [
    "params_distrib"
   ]
  },
  {
   "cell_type": "code",
   "execution_count": 26,
   "id": "2f2d2931",
   "metadata": {},
   "outputs": [],
   "source": [
    "# Example data frame with min, max, and median values\n",
    "data_summary <- data.frame(category=factor(c('growth_rate_max','density_max','initial_n','dispersal_p','dispersal_b')),\n",
    "  min = 2*(posterior_p20-prior_min)/(prior_max-prior_min)-1,\n",
    "  median = 2*(posterior_mean-prior_min)/(prior_max-prior_min)-1,\n",
    "  max = 2*(posterior_p80-prior_min)/(prior_max-prior_min)-1\n",
    ")\n",
    "\n",
    "row.names(data_summary)=NULL\n",
    "\n",
    "#add prior\n",
    "new_row <- data.frame(\n",
    "  category = factor(c(\"prior\")),\n",
    "  min = -0.6,\n",
    "  median = 0,\n",
    "  max = 0.6\n",
    ")\n",
    "data_summary=rbind(new_row,data_summary)"
   ]
  },
  {
   "cell_type": "code",
   "execution_count": 27,
   "id": "407e8cd5",
   "metadata": {},
   "outputs": [
    {
     "name": "stderr",
     "output_type": "stream",
     "text": [
      "Warning message:\n",
      "\"package 'ggplot2' was built under R version 4.4.1\"\n"
     ]
    },
    {
     "data": {
      "image/png": "[encoded data removed]",
      "text/plain": [
       "plot without title"
      ]
     },
     "metadata": {
      "image/png": {
       "height": 420,
       "width": 420
      }
     },
     "output_type": "display_data"
    }
   ],
   "source": [
    "# Create the plot\n",
    "library(ggplot2)\n",
    "library(ggplot2)\n",
    "p <- ggplot(data_summary, aes(y = category)) +\n",
    "  geom_rect(aes(xmin = min, xmax = max, ymin = as.numeric(category) - 0.4, ymax = as.numeric(category) + 0.4), \n",
    "            fill = \"lightblue\", color = \"black\") +  # Draw the box\n",
    "  geom_point(aes(x = median), color = \"red\", size = 3) +  # Mark the median\n",
    "  labs(x = \"p20-80\", y = \"variables\", title = \"prior vs posterior\") +\n",
    "  theme_minimal() +\n",
    "  xlim(- 1, 1)  # Adjust these values as needed\n",
    "\n",
    "# Print the plot\n",
    "print(p)"
   ]
  },
  {
   "cell_type": "code",
   "execution_count": 28,
   "id": "e675fc3b",
   "metadata": {},
   "outputs": [
    {
     "data": {
      "text/html": [
       "'validation_diagnostics.pdf'"
      ],
      "text/latex": [
       "'validation\\_diagnostics.pdf'"
      ],
      "text/markdown": [
       "'validation_diagnostics.pdf'"
      ],
      "text/plain": [
       "[1] \"validation_diagnostics.pdf\""
      ]
     },
     "metadata": {},
     "output_type": "display_data"
    }
   ],
   "source": [
    "dir(OUTPUT_DIR, \"*.pdf\") # plus validation diagnostics (see abc library documentation)"
   ]
  },
  {
   "cell_type": "code",
   "execution_count": 29,
   "id": "aba546f8",
   "metadata": {},
   "outputs": [],
   "source": [
    "# install.packages('rmarkdown')\n",
    "\n",
    "# library(rmarkdown)\n",
    "\n",
    "# setwd(\"C:/Users/tm/Downloads/\")\n",
    "\n",
    "# input <- \"poems tasman.ipynb\"\n",
    "\n",
    "# # First convert to .Rmd...\n",
    "# convert_ipynb(input)"
   ]
  },
  {
   "cell_type": "code",
   "execution_count": 30,
   "id": "201ae01c",
   "metadata": {
    "scrolled": true
   },
   "outputs": [],
   "source": [
    "selected_mat=selected_mat[weights$index,]"
   ]
  },
  {
   "cell_type": "code",
   "execution_count": 31,
   "id": "b1772c99",
   "metadata": {
    "scrolled": true
   },
   "outputs": [],
   "source": [
    "write.csv(data.frame(selected_mat),'h:/raw.csv')"
   ]
  },
  {
   "cell_type": "code",
   "execution_count": 32,
   "id": "b4e4c3e2",
   "metadata": {},
   "outputs": [],
   "source": [
    "write.csv(data.frame(weights),'h:/weights.csv')"
   ]
  },
  {
   "cell_type": "code",
   "execution_count": 33,
   "id": "9007c49a",
   "metadata": {},
   "outputs": [],
   "source": [
    "write.csv(data.frame(landarea),'h:/land.csv')"
   ]
  },
  {
   "cell_type": "code",
   "execution_count": 34,
   "id": "3ffe4198",
   "metadata": {},
   "outputs": [],
   "source": [
    "write.csv(data.frame(selected_data),'h:/rates.csv')"
   ]
  },
  {
   "cell_type": "code",
   "execution_count": 35,
   "id": "88dafc80",
   "metadata": {},
   "outputs": [
    {
     "data": {
      "text/html": [
       "2322.90737177787"
      ],
      "text/latex": [
       "2322.90737177787"
      ],
      "text/markdown": [
       "2322.90737177787"
      ],
      "text/plain": [
       "[1] 2322.907"
      ]
     },
     "metadata": {},
     "output_type": "display_data"
    }
   ],
   "source": [
    "mean(colSums(apply(validation_var[-1], 1, function(x) ((x - obs_targets)/obs_targets)^2)))"
   ]
  },
  {
   "cell_type": "code",
   "execution_count": 36,
   "id": "65d88193",
   "metadata": {},
   "outputs": [
    {
     "data": {
      "text/html": [
       "<style>\n",
       ".dl-inline {width: auto; margin:0; padding: 0}\n",
       ".dl-inline>dt, .dl-inline>dd {float: none; width: auto; display: inline-block}\n",
       ".dl-inline>dt::after {content: \":\\0020\"; padding-right: .5ex}\n",
       ".dl-inline>dt:not(:first-of-type) {padding-left: .5ex}\n",
       "</style><dl class=dl-inline><dt>p1</dt><dd>-0.717391304347826</dd><dt>p2</dt><dd>-0.4</dd><dt>p3</dt><dd>-0.133333333333333</dd><dt>p4</dt><dd>-0.333333333333333</dd><dt>p5</dt><dd>-0.434782608695652</dd><dt>p6</dt><dd>-0.333333333333333</dd><dt>p7</dt><dd>0.166666666666667</dd><dt>p8</dt><dd>-0.157894736842105</dd><dt>p9</dt><dd>-0.235294117647059</dd><dt>p10</dt><dd>0.166666666666667</dd><dt>p11</dt><dd>0.230769230769231</dd><dt>p12</dt><dd>1</dd><dt>p13</dt><dd>5.5</dd><dt>p14</dt><dd>0.625</dd><dt>p15</dt><dd>1.4</dd><dt>p16</dt><dd>-0.1875</dd><dt>p17</dt><dd>-0.848101265822785</dd><dt>p18</dt><dd>1.16666666666667</dd><dt>p19</dt><dd>0.181818181818182</dd><dt>p20</dt><dd>-0.74468085106383</dd><dt>p21</dt><dd>-0.847058823529412</dd><dt>p22</dt><dd>-0.428571428571429</dd><dt>p23</dt><dd>-0.8</dd><dt>p24</dt><dd>-0.25</dd><dt>p25</dt><dd>-0.808510638297872</dd><dt>p26</dt><dd>2</dd><dt>p27</dt><dd>0.0909090909090908</dd><dt>p28</dt><dd>0.714285714285714</dd><dt>p29</dt><dd>0.714285714285714</dd><dt>p30</dt><dd>0.714285714285714</dd><dt>p31</dt><dd>0.0909090909090908</dd><dt>p32</dt><dd>-0.133333333333333</dd><dt>p33</dt><dd>-0.125</dd><dt>p34</dt><dd>1.66666666666667</dd><dt>p35</dt><dd>0.166666666666667</dd><dt>p36</dt><dd>0</dd><dt>p37</dt><dd>1.28571428571429</dd><dt>p38</dt><dd>-0.69047619047619</dd><dt>p39</dt><dd>-0.797101449275362</dd><dt>p40</dt><dd>0.142857142857143</dd><dt>p41</dt><dd>-0.725490196078431</dd><dt>p42</dt><dd>-0.724137931034483</dd><dt>p43</dt><dd>-0.644444444444444</dd></dl>\n"
      ],
      "text/latex": [
       "\\begin{description*}\n",
       "\\item[p1] -0.717391304347826\n",
       "\\item[p2] -0.4\n",
       "\\item[p3] -0.133333333333333\n",
       "\\item[p4] -0.333333333333333\n",
       "\\item[p5] -0.434782608695652\n",
       "\\item[p6] -0.333333333333333\n",
       "\\item[p7] 0.166666666666667\n",
       "\\item[p8] -0.157894736842105\n",
       "\\item[p9] -0.235294117647059\n",
       "\\item[p10] 0.166666666666667\n",
       "\\item[p11] 0.230769230769231\n",
       "\\item[p12] 1\n",
       "\\item[p13] 5.5\n",
       "\\item[p14] 0.625\n",
       "\\item[p15] 1.4\n",
       "\\item[p16] -0.1875\n",
       "\\item[p17] -0.848101265822785\n",
       "\\item[p18] 1.16666666666667\n",
       "\\item[p19] 0.181818181818182\n",
       "\\item[p20] -0.74468085106383\n",
       "\\item[p21] -0.847058823529412\n",
       "\\item[p22] -0.428571428571429\n",
       "\\item[p23] -0.8\n",
       "\\item[p24] -0.25\n",
       "\\item[p25] -0.808510638297872\n",
       "\\item[p26] 2\n",
       "\\item[p27] 0.0909090909090908\n",
       "\\item[p28] 0.714285714285714\n",
       "\\item[p29] 0.714285714285714\n",
       "\\item[p30] 0.714285714285714\n",
       "\\item[p31] 0.0909090909090908\n",
       "\\item[p32] -0.133333333333333\n",
       "\\item[p33] -0.125\n",
       "\\item[p34] 1.66666666666667\n",
       "\\item[p35] 0.166666666666667\n",
       "\\item[p36] 0\n",
       "\\item[p37] 1.28571428571429\n",
       "\\item[p38] -0.69047619047619\n",
       "\\item[p39] -0.797101449275362\n",
       "\\item[p40] 0.142857142857143\n",
       "\\item[p41] -0.725490196078431\n",
       "\\item[p42] -0.724137931034483\n",
       "\\item[p43] -0.644444444444444\n",
       "\\end{description*}\n"
      ],
      "text/markdown": [
       "p1\n",
       ":   -0.717391304347826p2\n",
       ":   -0.4p3\n",
       ":   -0.133333333333333p4\n",
       ":   -0.333333333333333p5\n",
       ":   -0.434782608695652p6\n",
       ":   -0.333333333333333p7\n",
       ":   0.166666666666667p8\n",
       ":   -0.157894736842105p9\n",
       ":   -0.235294117647059p10\n",
       ":   0.166666666666667p11\n",
       ":   0.230769230769231p12\n",
       ":   1p13\n",
       ":   5.5p14\n",
       ":   0.625p15\n",
       ":   1.4p16\n",
       ":   -0.1875p17\n",
       ":   -0.848101265822785p18\n",
       ":   1.16666666666667p19\n",
       ":   0.181818181818182p20\n",
       ":   -0.74468085106383p21\n",
       ":   -0.847058823529412p22\n",
       ":   -0.428571428571429p23\n",
       ":   -0.8p24\n",
       ":   -0.25p25\n",
       ":   -0.808510638297872p26\n",
       ":   2p27\n",
       ":   0.0909090909090908p28\n",
       ":   0.714285714285714p29\n",
       ":   0.714285714285714p30\n",
       ":   0.714285714285714p31\n",
       ":   0.0909090909090908p32\n",
       ":   -0.133333333333333p33\n",
       ":   -0.125p34\n",
       ":   1.66666666666667p35\n",
       ":   0.166666666666667p36\n",
       ":   0p37\n",
       ":   1.28571428571429p38\n",
       ":   -0.69047619047619p39\n",
       ":   -0.797101449275362p40\n",
       ":   0.142857142857143p41\n",
       ":   -0.725490196078431p42\n",
       ":   -0.724137931034483p43\n",
       ":   -0.644444444444444\n",
       "\n"
      ],
      "text/plain": [
       "         p1          p2          p3          p4          p5          p6 \n",
       "-0.71739130 -0.40000000 -0.13333333 -0.33333333 -0.43478261 -0.33333333 \n",
       "         p7          p8          p9         p10         p11         p12 \n",
       " 0.16666667 -0.15789474 -0.23529412  0.16666667  0.23076923  1.00000000 \n",
       "        p13         p14         p15         p16         p17         p18 \n",
       " 5.50000000  0.62500000  1.40000000 -0.18750000 -0.84810127  1.16666667 \n",
       "        p19         p20         p21         p22         p23         p24 \n",
       " 0.18181818 -0.74468085 -0.84705882 -0.42857143 -0.80000000 -0.25000000 \n",
       "        p25         p26         p27         p28         p29         p30 \n",
       "-0.80851064  2.00000000  0.09090909  0.71428571  0.71428571  0.71428571 \n",
       "        p31         p32         p33         p34         p35         p36 \n",
       " 0.09090909 -0.13333333 -0.12500000  1.66666667  0.16666667  0.00000000 \n",
       "        p37         p38         p39         p40         p41         p42 \n",
       " 1.28571429 -0.69047619 -0.79710145  0.14285714 -0.72549020 -0.72413793 \n",
       "        p43 \n",
       "-0.64444444 "
      ]
     },
     "metadata": {},
     "output_type": "display_data"
    }
   ],
   "source": [
    "monitor_tar=validation_var[paste0(\"p\", 1:length(rownames(valid_monitor)))]\n",
    "\n",
    "est=colSums(monitor_tar[weights$index,]*weights$weight)\n",
    "act=obs_targets[1:length(rownames(valid_monitor))]\n",
    "\n",
    "est/act-1"
   ]
  },
  {
   "cell_type": "code",
   "execution_count": 37,
   "id": "016273c9",
   "metadata": {},
   "outputs": [
    {
     "data": {
      "text/html": [
       "<style>\n",
       ".dl-inline {width: auto; margin:0; padding: 0}\n",
       ".dl-inline>dt, .dl-inline>dd {float: none; width: auto; display: inline-block}\n",
       ".dl-inline>dt::after {content: \":\\0020\"; padding-right: .5ex}\n",
       ".dl-inline>dt:not(:first-of-type) {padding-left: .5ex}\n",
       "</style><dl class=dl-inline><dt>p1</dt><dd>13</dd><dt>p2</dt><dd>12</dd><dt>p3</dt><dd>13</dd><dt>p4</dt><dd>12</dd><dt>p5</dt><dd>13</dd><dt>p6</dt><dd>12</dd><dt>p7</dt><dd>7</dd><dt>p8</dt><dd>16</dd><dt>p9</dt><dd>13</dd><dt>p10</dt><dd>14</dd><dt>p11</dt><dd>16</dd><dt>p12</dt><dd>16</dd><dt>p13</dt><dd>13</dd><dt>p14</dt><dd>13</dd><dt>p15</dt><dd>12</dd><dt>p16</dt><dd>13</dd><dt>p17</dt><dd>12</dd><dt>p18</dt><dd>13</dd><dt>p19</dt><dd>13</dd><dt>p20</dt><dd>12</dd><dt>p21</dt><dd>13</dd><dt>p22</dt><dd>12</dd><dt>p23</dt><dd>13</dd><dt>p24</dt><dd>12</dd><dt>p25</dt><dd>9</dd><dt>p26</dt><dd>12</dd><dt>p27</dt><dd>12</dd><dt>p28</dt><dd>12</dd><dt>p29</dt><dd>12</dd><dt>p30</dt><dd>12</dd><dt>p31</dt><dd>12</dd><dt>p32</dt><dd>13</dd><dt>p33</dt><dd>14</dd><dt>p34</dt><dd>16</dd><dt>p35</dt><dd>14</dd><dt>p36</dt><dd>16</dd><dt>p37</dt><dd>16</dd><dt>p38</dt><dd>13</dd><dt>p39</dt><dd>14</dd><dt>p40</dt><dd>16</dd><dt>p41</dt><dd>14</dd><dt>p42</dt><dd>16</dd><dt>p43</dt><dd>16</dd></dl>\n"
      ],
      "text/latex": [
       "\\begin{description*}\n",
       "\\item[p1] 13\n",
       "\\item[p2] 12\n",
       "\\item[p3] 13\n",
       "\\item[p4] 12\n",
       "\\item[p5] 13\n",
       "\\item[p6] 12\n",
       "\\item[p7] 7\n",
       "\\item[p8] 16\n",
       "\\item[p9] 13\n",
       "\\item[p10] 14\n",
       "\\item[p11] 16\n",
       "\\item[p12] 16\n",
       "\\item[p13] 13\n",
       "\\item[p14] 13\n",
       "\\item[p15] 12\n",
       "\\item[p16] 13\n",
       "\\item[p17] 12\n",
       "\\item[p18] 13\n",
       "\\item[p19] 13\n",
       "\\item[p20] 12\n",
       "\\item[p21] 13\n",
       "\\item[p22] 12\n",
       "\\item[p23] 13\n",
       "\\item[p24] 12\n",
       "\\item[p25] 9\n",
       "\\item[p26] 12\n",
       "\\item[p27] 12\n",
       "\\item[p28] 12\n",
       "\\item[p29] 12\n",
       "\\item[p30] 12\n",
       "\\item[p31] 12\n",
       "\\item[p32] 13\n",
       "\\item[p33] 14\n",
       "\\item[p34] 16\n",
       "\\item[p35] 14\n",
       "\\item[p36] 16\n",
       "\\item[p37] 16\n",
       "\\item[p38] 13\n",
       "\\item[p39] 14\n",
       "\\item[p40] 16\n",
       "\\item[p41] 14\n",
       "\\item[p42] 16\n",
       "\\item[p43] 16\n",
       "\\end{description*}\n"
      ],
      "text/markdown": [
       "p1\n",
       ":   13p2\n",
       ":   12p3\n",
       ":   13p4\n",
       ":   12p5\n",
       ":   13p6\n",
       ":   12p7\n",
       ":   7p8\n",
       ":   16p9\n",
       ":   13p10\n",
       ":   14p11\n",
       ":   16p12\n",
       ":   16p13\n",
       ":   13p14\n",
       ":   13p15\n",
       ":   12p16\n",
       ":   13p17\n",
       ":   12p18\n",
       ":   13p19\n",
       ":   13p20\n",
       ":   12p21\n",
       ":   13p22\n",
       ":   12p23\n",
       ":   13p24\n",
       ":   12p25\n",
       ":   9p26\n",
       ":   12p27\n",
       ":   12p28\n",
       ":   12p29\n",
       ":   12p30\n",
       ":   12p31\n",
       ":   12p32\n",
       ":   13p33\n",
       ":   14p34\n",
       ":   16p35\n",
       ":   14p36\n",
       ":   16p37\n",
       ":   16p38\n",
       ":   13p39\n",
       ":   14p40\n",
       ":   16p41\n",
       ":   14p42\n",
       ":   16p43\n",
       ":   16\n",
       "\n"
      ],
      "text/plain": [
       " p1  p2  p3  p4  p5  p6  p7  p8  p9 p10 p11 p12 p13 p14 p15 p16 p17 p18 p19 p20 \n",
       " 13  12  13  12  13  12   7  16  13  14  16  16  13  13  12  13  12  13  13  12 \n",
       "p21 p22 p23 p24 p25 p26 p27 p28 p29 p30 p31 p32 p33 p34 p35 p36 p37 p38 p39 p40 \n",
       " 13  12  13  12   9  12  12  12  12  12  12  13  14  16  14  16  16  13  14  16 \n",
       "p41 p42 p43 \n",
       " 14  16  16 "
      ]
     },
     "metadata": {},
     "output_type": "display_data"
    }
   ],
   "source": [
    "est"
   ]
  },
  {
   "cell_type": "code",
   "execution_count": 38,
   "id": "d32a57d7",
   "metadata": {},
   "outputs": [
    {
     "data": {
      "text/html": [
       "43.8526619977778"
      ],
      "text/latex": [
       "43.8526619977778"
      ],
      "text/markdown": [
       "43.8526619977778"
      ],
      "text/plain": [
       "[1] 43.85266"
      ]
     },
     "metadata": {},
     "output_type": "display_data"
    },
    {
     "data": {
      "text/html": [
       "1.89304257433935"
      ],
      "text/latex": [
       "1.89304257433935"
      ],
      "text/markdown": [
       "1.89304257433935"
      ],
      "text/plain": [
       "[1] 1.893043"
      ]
     },
     "metadata": {},
     "output_type": "display_data"
    }
   ],
   "source": [
    "sd(valid_monitor$population)\n",
    "sd(est)"
   ]
  },
  {
   "cell_type": "code",
   "execution_count": null,
   "id": "04e8b504",
   "metadata": {},
   "outputs": [],
   "source": []
  },
  {
   "cell_type": "code",
   "execution_count": null,
   "id": "64e2581c",
   "metadata": {},
   "outputs": [],
   "source": []
  }
 ],
 "metadata": {
  "kernelspec": {
   "display_name": "R440",
   "language": "R",
   "name": "ir"
  },
  "language_info": {
   "codemirror_mode": "r",
   "file_extension": ".r",
   "mimetype": "text/x-r-source",
   "name": "R",
   "pygments_lexer": "r",
   "version": "4.4.0"
  },
  "toc": {
   "base_numbering": 1,
   "nav_menu": {},
   "number_sections": true,
   "sideBar": true,
   "skip_h1_title": false,
   "title_cell": "Table of Contents",
   "title_sidebar": "Contents",
   "toc_cell": false,
   "toc_position": {
    "height": "calc(100% - 180px)",
    "left": "10px",
    "top": "150px",
    "width": "245.738px"
   },
   "toc_section_display": true,
   "toc_window_display": true
  }
 },
 "nbformat": 4,
 "nbformat_minor": 5
}
