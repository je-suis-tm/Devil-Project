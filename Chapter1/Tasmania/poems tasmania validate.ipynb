{
 "cells": [
  {
   "cell_type": "markdown",
   "id": "9dd5113c",
   "metadata": {},
   "source": [
    "## Setup\n",
    "\n",
    "We begin by loading the *poems* package and setting our output directory."
   ]
  },
  {
   "cell_type": "code",
   "execution_count": 1,
   "id": "87e4776a",
   "metadata": {},
   "outputs": [],
   "source": [
    "setwd('C:/Users/tm/Downloads/utas/thesis/chapter1/tasmania/poems')\n",
    "library(poems)\n",
    "OUTPUT_DIR='C:/Users/tm/Downloads/utas/thesis/chapter1/tasmania/poems'\n",
    "\n",
    "# function to round to any arbitrary value\n",
    "round_any <- function(x, accuracy, f = round) {\n",
    "  f(x/ accuracy) * accuracy\n",
    "}"
   ]
  },
  {
   "cell_type": "markdown",
   "id": "0a57820a",
   "metadata": {},
   "source": [
    "### read data"
   ]
  },
  {
   "cell_type": "code",
   "execution_count": 2,
   "id": "84ac1868",
   "metadata": {},
   "outputs": [],
   "source": [
    "#this is the land area of tasmania\n",
    "baselayer=read.csv('baselayer.csv')\n",
    "baselayer=subset(baselayer, grid == 0)\n",
    "landarea=c(as.numeric(row.names(baselayer)))"
   ]
  },
  {
   "cell_type": "code",
   "execution_count": 3,
   "id": "27116bb8",
   "metadata": {},
   "outputs": [],
   "source": [
    "#this is the reindexed validation area of tasman against land area\n",
    "identity=read.csv('identity.csv')"
   ]
  },
  {
   "cell_type": "code",
   "execution_count": 4,
   "id": "e27e8ee9",
   "metadata": {},
   "outputs": [],
   "source": [
    "# #1985-1995\n",
    "# # Cunningham et al., 2021\n",
    "# population_size=c(34475,\n",
    "#  35924,\n",
    "#  38256,\n",
    "#  41029,\n",
    "#  43487,\n",
    "#  44622,\n",
    "#  46387,\n",
    "#  48845,\n",
    "#  50105,\n",
    "#  51618,\n",
    "#  52437,\n",
    "#  53067)"
   ]
  },
  {
   "cell_type": "code",
   "execution_count": 5,
   "id": "7a81dbd4",
   "metadata": {},
   "outputs": [],
   "source": [
    "#this is the validation area of tasmania\n",
    "valid=read.csv('validation.csv')\n",
    "valid=subset(valid, target == 1)\n",
    "validation_target=c(as.numeric(row.names(valid)))"
   ]
  },
  {
   "cell_type": "code",
   "execution_count": 6,
   "id": "7cb08048",
   "metadata": {},
   "outputs": [],
   "source": [
    "#habitat suitability map\n",
    "#estimated via vegetation,altitude and seabird colony\n",
    "# https://github.com/je-suis-tm/Devil-Project/blob/main/Chapter1/Tasman/habitat%20suitability%20tasman.ipynb\n",
    "suitability=read.csv('suitability.csv')"
   ]
  },
  {
   "cell_type": "code",
   "execution_count": 7,
   "id": "c27716b0",
   "metadata": {},
   "outputs": [],
   "source": [
    "#set the floor of habitat suitability to 0.7\n",
    "suitability$pred=(suitability$pred-min(suitability$pred))/(max(suitability$pred)-min(suitability$pred))*(1-0.7)+0.7"
   ]
  },
  {
   "cell_type": "markdown",
   "id": "3a22ea4a",
   "metadata": {},
   "source": [
    "### known variables"
   ]
  },
  {
   "cell_type": "code",
   "execution_count": 8,
   "id": "dc2783a4",
   "metadata": {},
   "outputs": [],
   "source": [
    "#dispersal portion and avg distance\n",
    "known_dispersal_p = 0.1945\n",
    "known_dispersal_b = 5.821"
   ]
  },
  {
   "cell_type": "code",
   "execution_count": 9,
   "id": "539cac5f",
   "metadata": {},
   "outputs": [],
   "source": [
    "#baseline matrix is estimated via mark recapture data \n",
    "# https://github.com/je-suis-tm/Devil-Project/blob/main/Chapter1/Tasman/baseline%20matrix%2tasman.ipynb\n",
    "leslie_matrix=c(0.        , 0.489, 1.4539, 1.947, 1.5079,0.547 ,\n",
    "                1, 0.        , 0.        , 0.        ,\n",
    "       0.        , 0.        , 0.        , 0.976 , 0.        ,\n",
    "       0.        , 0.        , 0.        , 0.        , 0.        ,\n",
    "       0.899, 0.        , 0.        , 0.        , 0.        ,\n",
    "       0.        , 0.        , 0.84, 0.        , 0.        ,\n",
    "       0.        , 0.        , 0.        , 0.        , 0.791,\n",
    "       0.791      )\n",
    "agegroup=c(\"y0\",\"y1\",\"y2\",\"y3\",\"y4\",\"y5\")"
   ]
  },
  {
   "cell_type": "code",
   "execution_count": 10,
   "id": "bf37115e",
   "metadata": {},
   "outputs": [],
   "source": [
    "#how many grid cells\n",
    "gridlen=35\n",
    "\n",
    "#coordinates extreme value\n",
    "lonmin=144.165967\n",
    "latmin=-43.833736\n",
    "lonmax=148.576978\n",
    "latmax=-40.349895"
   ]
  },
  {
   "cell_type": "code",
   "execution_count": 11,
   "id": "82c3f6cc",
   "metadata": {},
   "outputs": [],
   "source": [
    "#years of simulation\n",
    "simulation_years=13\n",
    "\n",
    "#simulation timeframe per round\n",
    "simulation_intervals=1\n",
    "\n",
    "#number of simulations\n",
    "num_of_sims=1000\n",
    "\n",
    "#max density 2 per sq km, in female model divided by two\n",
    "maxden=100"
   ]
  },
  {
   "cell_type": "code",
   "execution_count": 12,
   "id": "5e424da1",
   "metadata": {},
   "outputs": [],
   "source": [
    "#area name\n",
    "areaname='Tasmania'"
   ]
  },
  {
   "cell_type": "markdown",
   "id": "9c65e035",
   "metadata": {},
   "source": [
    "## Workflow\n",
    "\n",
    "The *poems* workflow, which implements a pattern-oriented modeling (POM) approach \n",
    "(Grimm et al., 2005), is achieved via a framework of interoperable components:\n",
    "\n",
    "\n",
    "The workflow is summarized by the following six steps:\n",
    "\n",
    "1. Build the population model for the study region.\n",
    "1. Build generators for dynamically generating model parameters.\n",
    "1. Sample model and generator parameters for each simulation.\n",
    "1. Build a simulation manager to run each simulation.\n",
    "1. Build a results manager to generate summary results (metrics).\n",
    "1. Build a validator to select a model ensemble.\n",
    "\n",
    "### Step 1: Build the population model for the study region\n",
    "Create a model template using the *PopulationModel* class. If the model is spatially\n",
    "explicit, then define the study region via the *Region* class. All fixed model inputs,\n",
    "such as environmental correlations, as well as any user-defined functions for processes\n",
    "such as harvesting, should be set at this stage.\n",
    "\n",
    "We could create these components in any order and set model parameters separately, but \n",
    "let's setup our study region, generate environmental correlations, and define a harvest\n",
    "function prior to initializing the template model with all the fixed parameters.\n",
    "\n",
    "##### Study region\n",
    "First, we'll define our study region tasman with some longitude-latitude\n",
    "coordinates."
   ]
  },
  {
   "cell_type": "code",
   "execution_count": 13,
   "id": "ffa26979",
   "metadata": {},
   "outputs": [
    {
     "data": {
      "text/html": [
       "0.126028885714286"
      ],
      "text/latex": [
       "0.126028885714286"
      ],
      "text/markdown": [
       "0.126028885714286"
      ],
      "text/plain": [
       "[1] 0.1260289"
      ]
     },
     "metadata": {},
     "output_type": "display_data"
    },
    {
     "data": {
      "text/html": [
       "0.0995383142857144"
      ],
      "text/latex": [
       "0.0995383142857144"
      ],
      "text/markdown": [
       "0.0995383142857144"
      ],
      "text/plain": [
       "[1] 0.09953831"
      ]
     },
     "metadata": {},
     "output_type": "display_data"
    }
   ],
   "source": [
    "(lonmax-lonmin)/gridlen\n",
    "(latmax-latmin)/gridlen"
   ]
  },
  {
   "cell_type": "code",
   "execution_count": 14,
   "id": "802c9b41",
   "metadata": {
    "scrolled": false
   },
   "outputs": [
    {
     "data": {
      "image/png": "[encoded data removed]",
      "text/plain": [
       "Plot with title \"Tasmania\""
      ]
     },
     "metadata": {
      "image/png": {
       "height": 420,
       "width": 420
      }
     },
     "output_type": "display_data"
    }
   ],
   "source": [
    "#build the raster of channel\n",
    "coordinates <- data.frame(x = rep(seq(lonmin, lonmax, 0.127028885714286), gridlen),\n",
    "                          y = rep(seq(latmin, latmax, 0.1005383142857144),each= gridlen))\n",
    "template_raster <- Region$new(coordinates = coordinates)$region_raster # full extent\n",
    "template_raster[][-landarea] <- NA \n",
    "\n",
    "region <- Region$new(template_raster = template_raster)\n",
    "\n",
    "raster::plot(region$region_raster, main = areaname,\n",
    "             xlab = \"Longitude (degrees)\", ylab = \"Latitude (degrees)\",\n",
    "             colNA = \"blue\",)"
   ]
  },
  {
   "cell_type": "code",
   "execution_count": 15,
   "id": "b7257c2a",
   "metadata": {},
   "outputs": [
    {
     "data": {
      "image/png": "[encoded data removed]",
      "text/plain": [
       "Plot with title \"Validation Area\""
      ]
     },
     "metadata": {
      "image/png": {
       "height": 420,
       "width": 420
      }
     },
     "output_type": "display_data"
    }
   ],
   "source": [
    "# Example validation area\n",
    "example_vt_raster <- region$region_raster\n",
    "example_vt_raster[landarea] <- 50\n",
    "example_vt_raster[validation_target] <- 1000\n",
    "example_vt_raster[-landarea]<- NA\n",
    "raster::plot(example_vt_raster, main = \"Validation Area\",alpha=0.5,legend = FALSE,\n",
    "             xlab = \"Longitude (degrees)\", ylab = \"Latitude (degrees)\",\n",
    "             colNA = \"blue\")"
   ]
  },
  {
   "cell_type": "markdown",
   "id": "6df0281d",
   "metadata": {},
   "source": [
    "##### Environmental correlation\n",
    "Next, we'll define a distance-based spatial correlation for applying environmental \n",
    "stochasticity within our model. The generated correlation data is compacted for \n",
    "computational efficiency (with large-scale models)."
   ]
  },
  {
   "cell_type": "code",
   "execution_count": 16,
   "id": "f2539a41",
   "metadata": {},
   "outputs": [],
   "source": [
    "# Distance-based environmental correlation (via a compacted Cholesky decomposition)\n",
    "env_corr <- SpatialCorrelation$new(region = region, amplitude = 0.4, breadth = 500)\n",
    "correlation <- env_corr$get_compact_decomposition(decimals = 2)"
   ]
  },
  {
   "cell_type": "markdown",
   "id": "9d5ad1f2",
   "metadata": {},
   "source": [
    "##### Template model\n",
    "Finally, we can build our template model with these and other fixed parameters.\n",
    "\n",
    "[0. , 0.489, 1.4539, 1.947, 1.5079,0.547]\n",
    "\n",
    "[1.0, 0.0, 0.0, 0.0, 0.0, 0.0]\n",
    "\n",
    "[0.0, 0.976, 0.0, 0.0, 0.0, 0.0]\n",
    "\n",
    "[0.0, 0.0, 0.899, 0.0, 0.0, 0.0]\n",
    "\n",
    "[0.0, 0.0, 0.0, 0.84, 0.0, 0.0]\n",
    "\n",
    "[0.0, 0.0, 0.0, 0.0, 0.791, 0.0]"
   ]
  },
  {
   "cell_type": "code",
   "execution_count": 17,
   "id": "15a1190f",
   "metadata": {},
   "outputs": [],
   "source": [
    "# Population (simulation) model template for fixed parameters\n",
    "stage_matrix <- matrix(leslie_matrix, nrow = length(agegroup), ncol = length(agegroup), byrow = TRUE,\n",
    "                       dimnames = list(agegroup,agegroup ))"
   ]
  },
  {
   "cell_type": "markdown",
   "id": "dab97159",
   "metadata": {},
   "source": [
    "### Step 2: Build generators for dynamically generating model parameters\n",
    "Some model parameters are single values, whilst others are represented as arrays and\n",
    "other multi-value data structures. Usually, we don't wish to sample each individual \n",
    "value within these multi-value parameters (in step 3), but to generate them dynamically\n",
    "via one or more intermediate sampled parameters. Here we build generators for model \n",
    "initial abundance, carrying capacity, and dispersal.\n",
    "\n",
    "##### Habitat suitability\n",
    "Firstly, our initial abundance and carrying capacity generator utilizes an example\n",
    "(mock) habitat suitability for our defined study region. "
   ]
  },
  {
   "cell_type": "code",
   "execution_count": 18,
   "id": "8e4993e7",
   "metadata": {
    "scrolled": false
   },
   "outputs": [
    {
     "data": {
      "image/png": "[encoded data removed]",
      "text/plain": [
       "Plot with title \"Example habitat suitability\""
      ]
     },
     "metadata": {
      "image/png": {
       "height": 420,
       "width": 420
      }
     },
     "output_type": "display_data"
    }
   ],
   "source": [
    "# Example habitat suitability\n",
    "example_hs=suitability$pred\n",
    "example_hs_raster <- region$region_raster\n",
    "example_hs_raster[region$region_indices] <- example_hs\n",
    "raster::plot(example_hs_raster, main = \"Example habitat suitability\",\n",
    "             xlab = \"Longitude (degrees)\", ylab = \"Latitude (degrees)\",\n",
    "             colNA = \"blue\")"
   ]
  },
  {
   "cell_type": "markdown",
   "id": "089ddad7",
   "metadata": {},
   "source": [
    "##### Initial abundance and carrying capacity generator\n",
    "The generator utilizes generic template functionality for user-defined custom\n",
    "functions. It uses sampled input parameters (initial total abundance and maximum cell\n",
    "density), along with habitat suitability, to generate the desired output model \n",
    "parameters (initial abundance and carrying capacity) via these user-defined functions. \n",
    "Generators can also be configured to read values from files or generate values via \n",
    "probabilistic distributions. "
   ]
  },
  {
   "cell_type": "code",
   "execution_count": 19,
   "id": "a0c6eab7",
   "metadata": {},
   "outputs": [],
   "source": [
    "# Initial abundance and carrying capacity generated via example habitat suitability\n",
    "capacity_gen <- Generator$new(description = \"Capacity generator\",\n",
    "                              example_hs = example_hs, # template attached\n",
    "                              inputs = c(\"initial_n\", \"density_max\"),\n",
    "                              outputs = c(\"initial_abundance\", \"carrying_capacity\"))\n",
    "capacity_gen$add_generative_requirements(list(initial_abundance = \"function\",\n",
    "                                              carrying_capacity = \"function\"))\n",
    "capacity_gen$add_function_template(\"initial_abundance\",\n",
    "                                   function_def = function(params) {\n",
    "                                       stats::rmultinom(1, size = params$initial_n,\n",
    "                                                      prob = params$example_hs)[,1]\n",
    "                                   },\n",
    "                                   call_params = c(\"initial_n\", \"example_hs\"))\n",
    "capacity_gen$add_function_template(\"carrying_capacity\",\n",
    "                                   function_def = function(params) {\n",
    "                                     round(params$density_max*params$example_hs)\n",
    "                                   },\n",
    "                                   call_params = c(\"density_max\", \"example_hs\"))\n",
    "# capacity_gen$generate(input_values = list(initial_n = 15, density_max = 15)) # test"
   ]
  },
  {
   "cell_type": "code",
   "execution_count": 20,
   "id": "1077f095",
   "metadata": {},
   "outputs": [
    {
     "name": "stderr",
     "output_type": "stream",
     "text": [
      "as(<dsCMatrix>, \"dgTMatrix\") is deprecated since Matrix 1.5-0; do as(as(., \"generalMatrix\"), \"TsparseMatrix\") instead\n",
      "\n"
     ]
    }
   ],
   "source": [
    "# Distance-based dispersal generator\n",
    "# https://github.com/je-suis-tm/Devil-Project/blob/main/Chapter1/Tasman/dispersal%20estimate%20tasmania.ipynb\n",
    "dispersal_gen <- DispersalGenerator$new(region = region,\n",
    "                                        dispersal_max_distance = 300, # in km \n",
    "                                        distance_scale = 1000,\n",
    "                                        dispersal_friction = DispersalFriction$new(),\n",
    "                                        inputs = c(\"dispersal_p\", \"dispersal_b\"),\n",
    "                                        decimals = 5)\n",
    "dispersal_gen$calculate_distance_data() # pre-calculate\n",
    "test_dispersal <- dispersal_gen$generate(input_values = list(dispersal_p = known_dispersal_p, \n",
    "                                                             dispersal_b = known_dispersal_b))\n",
    "#head(test_dispersal$dispersal_data[[1]])"
   ]
  },
  {
   "cell_type": "markdown",
   "id": "d6035b33",
   "metadata": {},
   "source": [
    "##### Density Dependence"
   ]
  },
  {
   "cell_type": "code",
   "execution_count": 21,
   "id": "2a814855",
   "metadata": {},
   "outputs": [],
   "source": [
    "# Define neighborhoods based on a 12 km home range from each \n",
    "# grid cell for density dependence calculations (using a dispersal generator)\n",
    "distance_data <- dispersal_gen$distance_data[[1]]\n",
    "nh_data <- distance_data[which(distance_data$distance_class <= 12), 2:1]\n",
    "\n",
    "neighborhoods <- as.list(1:length(landarea))\n",
    "for (i in 1:nrow(nh_data)) {\n",
    "  neighborhoods[[nh_data$source_pop[i]]] <- c(neighborhoods[[nh_data$source_pop[i]]],\n",
    "                                               nh_data$target_pop[i])\n",
    "}\n",
    "#neighborhoods[1:3] # examine"
   ]
  },
  {
   "cell_type": "code",
   "execution_count": 22,
   "id": "ed5b6c1f",
   "metadata": {},
   "outputs": [],
   "source": [
    "# User-defined function for Ricker logistic density dependence via neighborhoods\n",
    "density_dependence <- list(\n",
    "  neighborhoods = neighborhoods,\n",
    "  function (params) {\n",
    "    \n",
    "    # Apply logistic density dependence using neighborhoods\n",
    "    growth_rate_max <- params$growth_rate_max\n",
    "    nh_density_abundance <- unlist(lapply(params$neighborhoods,\n",
    "                                          function (nh_indices) {\n",
    "                                            sum(params$density_abundance[nh_indices])\n",
    "                                          }))\n",
    "    nh_carrying_capacity <- unlist(lapply(params$neighborhoods,\n",
    "                                          function (nh_indices) {\n",
    "                                            sum(params$carrying_capacity[nh_indices])\n",
    "                                          }))\n",
    "    occupied_indices <- params$occupied_indices\n",
    "    growth_rate <- (1 - (nh_density_abundance[occupied_indices]/\n",
    "                                           nh_carrying_capacity[occupied_indices]))\n",
    "    params$transition_array[, , occupied_indices] <-\n",
    "      params$apply_multipliers(params$transition_array[, , occupied_indices],\n",
    "                               params$calculate_multipliers(growth_rate))\n",
    "    \n",
    "    \n",
    "    # Remove fecundities for single thylacines\n",
    "    single_indices <- which(nh_density_abundance == 1)\n",
    "    params$transition_array[, , single_indices] <-\n",
    "      (params$transition_array[, , single_indices]*as.vector(+(!params$fecundity_mask)))\n",
    "    \n",
    "    return(params$transition_array)\n",
    "  }\n",
    ")"
   ]
  },
  {
   "cell_type": "code",
   "execution_count": 24,
   "id": "9b9d118c",
   "metadata": {},
   "outputs": [],
   "source": [
    "#stage_matrix # examine\n",
    "model_template <- PopulationModel$new(region = region,\n",
    "                                      time_steps = simulation_years, # years\n",
    "                                      years_per_step = simulation_intervals,\n",
    "                                      populations = region$region_cells, \n",
    "                                      stages = length(agegroup),\n",
    "                                      stage_matrix = stage_matrix,\n",
    "                                      demographic_stochasticity = TRUE,\n",
    "                                      standard_deviation = 0.05,\n",
    "                                      correlation = correlation,\n",
    "                                      density_dependence = density_dependence,\n",
    "                                      results_selection = c(\"abundance\"),)"
   ]
  },
  {
   "cell_type": "markdown",
   "id": "61c49a94",
   "metadata": {},
   "source": [
    "### Step 3: Sample model and generator parameters for each simulation\n",
    "In order to explore the model parameter space to find the best models, we generate\n",
    "Latin hypercube samples of model and generator parameters to be simulated, using the\n",
    "*LatinHypercubeSampler* class. This class has functionality for generating sample\n",
    "parameters via Uniform, Normal, Lognormal, Beta, and Triangular distributions."
   ]
  },
  {
   "cell_type": "code",
   "execution_count": 25,
   "id": "25da1402",
   "metadata": {
    "scrolled": true
   },
   "outputs": [],
   "source": [
    "# Generate sampled values for variable model parameters via LHS\n",
    "lhs_gen <- LatinHypercubeSampler$new()\n",
    "\n",
    "#logistic growth model 0.74\n",
    "# https://github.com/je-suis-tm/Devil-Project/blob/main/Chapter1/Tasman/logistic%20population%20growth%20tasman.ipynb\n",
    "lhs_gen$set_uniform_parameter(\"growth_rate_max\", lower = 0.2, upper = 0.9, decimals = 2)\n",
    "\n",
    "\n",
    "#automatically fetched\n",
    "lhs_gen$set_uniform_parameter(\"density_max\", lower = as.integer(maxden*0.1), \n",
    "                              upper = as.integer(maxden*2), decimals = 2)\n",
    "lhs_gen$set_uniform_parameter(\"initial_n\", lower = as.integer(population_size[1]/2*0.5),\n",
    "                              upper = as.integer(population_size[1]/2*1.5), decimals = 0)\n",
    "lhs_gen$set_uniform_parameter(\"dispersal_p\", lower = known_dispersal_p*0.3, \n",
    "                              upper = known_dispersal_p*1.7, decimals = 4)\n",
    "lhs_gen$set_uniform_parameter(\"dispersal_b\", lower = as.integer(known_dispersal_b*0.5),\n",
    "                              upper = as.integer(known_dispersal_b*1.5), decimals = 2)\n",
    "sample_data <- lhs_gen$generate_samples(number = num_of_sims)\n",
    "\n",
    "#save as pickle\n",
    "save(sample_data, file=\"sample data.Rda\")"
   ]
  },
  {
   "cell_type": "markdown",
   "id": "01d3a46a",
   "metadata": {},
   "source": [
    "### Step 4: Build a simulation manager to run each simulation\n",
    "We now wish to run a simulation for each set (or row) of sampled parameters. The\n",
    "*SimulationManager* class manages the generation of parameters (via the generators),\n",
    "the running the model simulations, and writing simulation results to disk. It also\n",
    "maintains a log of each simulation's success and any errors or warnings encountered."
   ]
  },
  {
   "cell_type": "code",
   "execution_count": 26,
   "id": "5175e5b3",
   "metadata": {},
   "outputs": [
    {
     "data": {
      "text/html": [
       "'1000 of 1000 sample models ran and saved results successfully with warnings'"
      ],
      "text/latex": [
       "'1000 of 1000 sample models ran and saved results successfully with warnings'"
      ],
      "text/markdown": [
       "'1000 of 1000 sample models ran and saved results successfully with warnings'"
      ],
      "text/plain": [
       "[1] \"1000 of 1000 sample models ran and saved results successfully with warnings\""
      ]
     },
     "metadata": {},
     "output_type": "display_data"
    }
   ],
   "source": [
    "# Create a simulation manager and run the sampled model simulations\n",
    "sim_manager <- SimulationManager$new(sample_data = sample_data,\n",
    "                                     model_template = model_template,\n",
    "                                     generators = list(capacity_gen, dispersal_gen),\n",
    "                                     parallel_cores = 2,\n",
    "                                     results_dir = OUTPUT_DIR)\n",
    "run_output <- sim_manager$run(results_dir = tempdir())\n",
    "run_output$summary\n",
    "#dir(OUTPUT_DIR, \"*.RData\") # includes result files \n",
    "#dir(OUTPUT_DIR, \"*.txt\") # plus simulation log"
   ]
  },
  {
   "cell_type": "markdown",
   "id": "36d1000b",
   "metadata": {},
   "source": [
    "Note that the output directory contains a R-data result files for each sample simulation\n",
    "and a simulation log file.\n",
    "\n",
    "### Step 5: Build a results manager to generate summary results (metrics)\n",
    "We now wish to collate summary results for each of our simulations via the \n",
    "*ResultsManager* class. This manager loads the results from each sample simulation into\n",
    "an intermediate *PopulationResults* class object, which dynamically generates further \n",
    "results. We need to define functions for calculating summary metrics, as well as any \n",
    "matrices (one row of values per simulation) that we may be interested in examining. Each\n",
    "metric (or matrix) is associated with a user-defined function that utilizes results object \n",
    "attributes, or alternatively direct access to an attribute may be defined via a string.\n",
    "Once generated, the result metrics (a data frame) and/or matrices (a list) can be \n",
    "accessed via the manager. We may utilize the collated results in a variety of ways. \n",
    "However, with the objective of selecting the best models, we wish to compare (or \n",
    "validate) these result metrics to (with) known or desired target patterns (in step 6)."
   ]
  },
  {
   "cell_type": "code",
   "execution_count": 27,
   "id": "fd2dee13",
   "metadata": {},
   "outputs": [],
   "source": [
    "# #validation area id\n",
    "# iden=identity$ID\n",
    "\n",
    "# results_manager <- ResultsManager$new(simulation_manager = sim_manager,\n",
    "#                                       simulation_results = PopulationResults$new(),\n",
    "#                                       summary_metrics = c(\"p2\",\"p3\",\"p4\"),\n",
    "#                                       summary_matrices = c(\"n\"),\n",
    "#                                       iden=identity$ID,\n",
    "#                                       summary_functions = list(\n",
    "                                          \n",
    "#                                           #results refer to actual output rdata file\n",
    "#                                         p2 = function(results,iden) {\n",
    "#                                           sum(results$abundance[iden,2])                                            \n",
    "#                                         },                                          \n",
    "#                                         p3 = function(results,iden) {\n",
    "#                                           sum(results$abundance[iden,3])\n",
    "#                                         },\n",
    "#                                         p4 = function(results,iden) {\n",
    "#                                           sum(results$abundance[iden,4])\n",
    "#                                         },\n",
    "#                                         n = \"abundance\"),\n",
    "#                                       parallel_cores = 2)\n",
    "# gen_output <- results_manager$generate()\n",
    "# gen_output$summary\n",
    "# #dir(OUTPUT_DIR, \"*.txt\") # plus generation log\n",
    "# # results_manager$summary_metric_data\n",
    "# # results_manager$summary_matrix_list"
   ]
  },
  {
   "cell_type": "code",
   "execution_count": 28,
   "id": "5a70f90a",
   "metadata": {},
   "outputs": [
    {
     "data": {
      "text/html": [
       "'1000 of 1000 summary metrics/matrices generated from sample results successfully'"
      ],
      "text/latex": [
       "'1000 of 1000 summary metrics/matrices generated from sample results successfully'"
      ],
      "text/markdown": [
       "'1000 of 1000 summary metrics/matrices generated from sample results successfully'"
      ],
      "text/plain": [
       "[1] \"1000 of 1000 summary metrics/matrices generated from sample results successfully\""
      ]
     },
     "metadata": {},
     "output_type": "display_data"
    }
   ],
   "source": [
    "results_manager <- ResultsManager$new(simulation_manager = sim_manager,\n",
    "                                      simulation_results = PopulationResults$new(),\n",
    "                                      summary_metrics = c(\"p2\",\"p3\",\"p4\",\"p5\",\"p6\",\"p7\"),\n",
    "                                      summary_matrices = c(\"n\"),\n",
    "                                      summary_functions = list(\n",
    "                                        p2 = function(results) {\n",
    "                                          results$all$abundance[2]\n",
    "                                        },\n",
    "                                        p3 = function(results) {\n",
    "                                          results$all$abundance[3]\n",
    "                                        },\n",
    "                                        p4 = function(results) {\n",
    "                                          results$all$abundance[4]\n",
    "                                        },\n",
    "                                        p5 = function(results) {\n",
    "                                          results$all$abundance[5]\n",
    "                                        },\n",
    "                                        p6 = function(results) {\n",
    "                                          results$all$abundance[6]\n",
    "                                        },\n",
    "                                        p7 = function(results) {\n",
    "                                          results$all$abundance[7]\n",
    "                                        },\n",
    "                                        p8 = function(results) {\n",
    "                                          results$all$abundance[8]\n",
    "                                        },\n",
    "                                        p9 = function(results) {\n",
    "                                          results$all$abundance[9]\n",
    "                                        },\n",
    "                                        p10 = function(results) {\n",
    "                                          results$all$abundance[10]\n",
    "                                        },\n",
    "                                        n = \"all$abundance\"),\n",
    "                                      parallel_cores = 2)\n",
    "gen_output <- results_manager$generate()\n",
    "gen_output$summary\n",
    "#dir(OUTPUT_DIR, \"*.txt\") # plus generation log\n",
    "# results_manager$summary_metric_data\n",
    "# results_manager$summary_matrix_list"
   ]
  },
  {
   "cell_type": "code",
   "execution_count": 29,
   "id": "d0df290e",
   "metadata": {},
   "outputs": [],
   "source": [
    "#save as pickle\n",
    "save(results_manager, file=\"models.Rda\")"
   ]
  },
  {
   "cell_type": "markdown",
   "id": "c19bd8b6",
   "metadata": {},
   "source": [
    "### Step 6: Build a validator to select a model ensemble\n",
    "We now select and analyze our 'best' models via a *Validator* class object, which by\n",
    "default utilizes an approximate Bayesian computation (ABC) approach (Beaumont, Zhang, \n",
    "& Balding, 2002) provided by the *abc* library (Csillery et al., 2015). The validator\n",
    "can be configured appropriately for a problem domain (see the *abc* documentation). \n",
    "Here we use the default configuration to select the best 3 models, along with a weight\n",
    "value, which is indicative of the congruence between each model's summary metrics and \n",
    "the corresponding target patterns. Also provided (with the default settings) is a \n",
    "diagnostic output (PDF) file, containing statistical information for analyzing the \n",
    "contribution of model parameters in the selection/validation process (see the *abc* \n",
    "documentation). For our simple demonstration the metrics and corresponding targets are \n",
    "relatively trivial, having the aim of producing stable population abundances with high \n",
    "harvest. However, the package facilitates the use more complex spatio-temporal metrics \n",
    "and targets (demonstrated in more advanced vignettes)."
   ]
  },
  {
   "cell_type": "code",
   "execution_count": 30,
   "id": "0a7d304d",
   "metadata": {},
   "outputs": [],
   "source": [
    "#load pickle files so no need to retrain\n",
    "load(\"models.Rda\")\n",
    "load(\"sample data.Rda\")"
   ]
  },
  {
   "cell_type": "code",
   "execution_count": 31,
   "id": "fe341289",
   "metadata": {
    "scrolled": true
   },
   "outputs": [
    {
     "data": {
      "text/html": [
       "<table class=\"dataframe\">\n",
       "<caption>A data.frame: 790 × 10</caption>\n",
       "<thead>\n",
       "\t<tr><th></th><th scope=col>index</th><th scope=col>p2</th><th scope=col>p3</th><th scope=col>p4</th><th scope=col>p5</th><th scope=col>p6</th><th scope=col>p7</th><th scope=col>p8</th><th scope=col>p9</th><th scope=col>p10</th></tr>\n",
       "\t<tr><th></th><th scope=col>&lt;int&gt;</th><th scope=col>&lt;dbl&gt;</th><th scope=col>&lt;dbl&gt;</th><th scope=col>&lt;dbl&gt;</th><th scope=col>&lt;dbl&gt;</th><th scope=col>&lt;dbl&gt;</th><th scope=col>&lt;dbl&gt;</th><th scope=col>&lt;dbl&gt;</th><th scope=col>&lt;dbl&gt;</th><th scope=col>&lt;dbl&gt;</th></tr>\n",
       "</thead>\n",
       "<tbody>\n",
       "\t<tr><th scope=row>4</th><td> 4</td><td>NA</td><td>NA</td><td>NA</td><td>NA</td><td>NA</td><td>NA</td><td>NA</td><td>NA</td><td>NA</td></tr>\n",
       "\t<tr><th scope=row>5</th><td> 5</td><td>NA</td><td>NA</td><td>NA</td><td>NA</td><td>NA</td><td>NA</td><td>NA</td><td>NA</td><td>NA</td></tr>\n",
       "\t<tr><th scope=row>6</th><td> 6</td><td>NA</td><td>NA</td><td>NA</td><td>NA</td><td>NA</td><td>NA</td><td>NA</td><td>NA</td><td>NA</td></tr>\n",
       "\t<tr><th scope=row>7</th><td> 7</td><td>NA</td><td>NA</td><td>NA</td><td>NA</td><td>NA</td><td>NA</td><td>NA</td><td>NA</td><td>NA</td></tr>\n",
       "\t<tr><th scope=row>9</th><td> 9</td><td>NA</td><td>NA</td><td>NA</td><td>NA</td><td>NA</td><td>NA</td><td>NA</td><td>NA</td><td>NA</td></tr>\n",
       "\t<tr><th scope=row>11</th><td>11</td><td>NA</td><td>NA</td><td>NA</td><td>NA</td><td>NA</td><td>NA</td><td>NA</td><td>NA</td><td>NA</td></tr>\n",
       "\t<tr><th scope=row>12</th><td>12</td><td>NA</td><td>NA</td><td>NA</td><td>NA</td><td>NA</td><td>NA</td><td>NA</td><td>NA</td><td>NA</td></tr>\n",
       "\t<tr><th scope=row>13</th><td>13</td><td>NA</td><td>NA</td><td>NA</td><td>NA</td><td>NA</td><td>NA</td><td>NA</td><td>NA</td><td>NA</td></tr>\n",
       "\t<tr><th scope=row>14</th><td>14</td><td>NA</td><td>NA</td><td>NA</td><td>NA</td><td>NA</td><td>NA</td><td>NA</td><td>NA</td><td>NA</td></tr>\n",
       "\t<tr><th scope=row>15</th><td>15</td><td>NA</td><td>NA</td><td>NA</td><td>NA</td><td>NA</td><td>NA</td><td>NA</td><td>NA</td><td>NA</td></tr>\n",
       "\t<tr><th scope=row>16</th><td>16</td><td>NA</td><td>NA</td><td>NA</td><td>NA</td><td>NA</td><td>NA</td><td>NA</td><td>NA</td><td>NA</td></tr>\n",
       "\t<tr><th scope=row>18</th><td>18</td><td>NA</td><td>NA</td><td>NA</td><td>NA</td><td>NA</td><td>NA</td><td>NA</td><td>NA</td><td>NA</td></tr>\n",
       "\t<tr><th scope=row>19</th><td>19</td><td>NA</td><td>NA</td><td>NA</td><td>NA</td><td>NA</td><td>NA</td><td>NA</td><td>NA</td><td>NA</td></tr>\n",
       "\t<tr><th scope=row>20</th><td>20</td><td>NA</td><td>NA</td><td>NA</td><td>NA</td><td>NA</td><td>NA</td><td>NA</td><td>NA</td><td>NA</td></tr>\n",
       "\t<tr><th scope=row>21</th><td>21</td><td>NA</td><td>NA</td><td>NA</td><td>NA</td><td>NA</td><td>NA</td><td>NA</td><td>NA</td><td>NA</td></tr>\n",
       "\t<tr><th scope=row>22</th><td>22</td><td>NA</td><td>NA</td><td>NA</td><td>NA</td><td>NA</td><td>NA</td><td>NA</td><td>NA</td><td>NA</td></tr>\n",
       "\t<tr><th scope=row>23</th><td>23</td><td>NA</td><td>NA</td><td>NA</td><td>NA</td><td>NA</td><td>NA</td><td>NA</td><td>NA</td><td>NA</td></tr>\n",
       "\t<tr><th scope=row>24</th><td>24</td><td>NA</td><td>NA</td><td>NA</td><td>NA</td><td>NA</td><td>NA</td><td>NA</td><td>NA</td><td>NA</td></tr>\n",
       "\t<tr><th scope=row>25</th><td>25</td><td>NA</td><td>NA</td><td>NA</td><td>NA</td><td>NA</td><td>NA</td><td>NA</td><td>NA</td><td>NA</td></tr>\n",
       "\t<tr><th scope=row>27</th><td>27</td><td>NA</td><td>NA</td><td>NA</td><td>NA</td><td>NA</td><td>NA</td><td>NA</td><td>NA</td><td>NA</td></tr>\n",
       "\t<tr><th scope=row>28</th><td>28</td><td>NA</td><td>NA</td><td>NA</td><td>NA</td><td>NA</td><td>NA</td><td>NA</td><td>NA</td><td>NA</td></tr>\n",
       "\t<tr><th scope=row>30</th><td>30</td><td>NA</td><td>NA</td><td>NA</td><td>NA</td><td>NA</td><td>NA</td><td>NA</td><td>NA</td><td>NA</td></tr>\n",
       "\t<tr><th scope=row>31</th><td>31</td><td>NA</td><td>NA</td><td>NA</td><td>NA</td><td>NA</td><td>NA</td><td>NA</td><td>NA</td><td>NA</td></tr>\n",
       "\t<tr><th scope=row>32</th><td>32</td><td>NA</td><td>NA</td><td>NA</td><td>NA</td><td>NA</td><td>NA</td><td>NA</td><td>NA</td><td>NA</td></tr>\n",
       "\t<tr><th scope=row>33</th><td>33</td><td>NA</td><td>NA</td><td>NA</td><td>NA</td><td>NA</td><td>NA</td><td>NA</td><td>NA</td><td>NA</td></tr>\n",
       "\t<tr><th scope=row>34</th><td>34</td><td>NA</td><td>NA</td><td>NA</td><td>NA</td><td>NA</td><td>NA</td><td>NA</td><td>NA</td><td>NA</td></tr>\n",
       "\t<tr><th scope=row>35</th><td>35</td><td>NA</td><td>NA</td><td>NA</td><td>NA</td><td>NA</td><td>NA</td><td>NA</td><td>NA</td><td>NA</td></tr>\n",
       "\t<tr><th scope=row>36</th><td>36</td><td>NA</td><td>NA</td><td>NA</td><td>NA</td><td>NA</td><td>NA</td><td>NA</td><td>NA</td><td>NA</td></tr>\n",
       "\t<tr><th scope=row>37</th><td>37</td><td>NA</td><td>NA</td><td>NA</td><td>NA</td><td>NA</td><td>NA</td><td>NA</td><td>NA</td><td>NA</td></tr>\n",
       "\t<tr><th scope=row>38</th><td>38</td><td>NA</td><td>NA</td><td>NA</td><td>NA</td><td>NA</td><td>NA</td><td>NA</td><td>NA</td><td>NA</td></tr>\n",
       "\t<tr><th scope=row>⋮</th><td>⋮</td><td>⋮</td><td>⋮</td><td>⋮</td><td>⋮</td><td>⋮</td><td>⋮</td><td>⋮</td><td>⋮</td><td>⋮</td></tr>\n",
       "\t<tr><th scope=row>959</th><td> 959</td><td>NA</td><td>NA</td><td>NA</td><td>NA</td><td>NA</td><td>NA</td><td>NA</td><td>NA</td><td>NA</td></tr>\n",
       "\t<tr><th scope=row>960</th><td> 960</td><td>NA</td><td>NA</td><td>NA</td><td>NA</td><td>NA</td><td>NA</td><td>NA</td><td>NA</td><td>NA</td></tr>\n",
       "\t<tr><th scope=row>961</th><td> 961</td><td>NA</td><td>NA</td><td>NA</td><td>NA</td><td>NA</td><td>NA</td><td>NA</td><td>NA</td><td>NA</td></tr>\n",
       "\t<tr><th scope=row>963</th><td> 963</td><td>NA</td><td>NA</td><td>NA</td><td>NA</td><td>NA</td><td>NA</td><td>NA</td><td>NA</td><td>NA</td></tr>\n",
       "\t<tr><th scope=row>964</th><td> 964</td><td>NA</td><td>NA</td><td>NA</td><td>NA</td><td>NA</td><td>NA</td><td>NA</td><td>NA</td><td>NA</td></tr>\n",
       "\t<tr><th scope=row>967</th><td> 967</td><td>NA</td><td>NA</td><td>NA</td><td>NA</td><td>NA</td><td>NA</td><td>NA</td><td>NA</td><td>NA</td></tr>\n",
       "\t<tr><th scope=row>969</th><td> 969</td><td>NA</td><td>NA</td><td>NA</td><td>NA</td><td>NA</td><td>NA</td><td>NA</td><td>NA</td><td>NA</td></tr>\n",
       "\t<tr><th scope=row>970</th><td> 970</td><td>NA</td><td>NA</td><td>NA</td><td>NA</td><td>NA</td><td>NA</td><td>NA</td><td>NA</td><td>NA</td></tr>\n",
       "\t<tr><th scope=row>971</th><td> 971</td><td>NA</td><td>NA</td><td>NA</td><td>NA</td><td>NA</td><td>NA</td><td>NA</td><td>NA</td><td>NA</td></tr>\n",
       "\t<tr><th scope=row>972</th><td> 972</td><td>NA</td><td>NA</td><td>NA</td><td>NA</td><td>NA</td><td>NA</td><td>NA</td><td>NA</td><td>NA</td></tr>\n",
       "\t<tr><th scope=row>974</th><td> 974</td><td>NA</td><td>NA</td><td>NA</td><td>NA</td><td>NA</td><td>NA</td><td>NA</td><td>NA</td><td>NA</td></tr>\n",
       "\t<tr><th scope=row>975</th><td> 975</td><td>NA</td><td>NA</td><td>NA</td><td>NA</td><td>NA</td><td>NA</td><td>NA</td><td>NA</td><td>NA</td></tr>\n",
       "\t<tr><th scope=row>976</th><td> 976</td><td>NA</td><td>NA</td><td>NA</td><td>NA</td><td>NA</td><td>NA</td><td>NA</td><td>NA</td><td>NA</td></tr>\n",
       "\t<tr><th scope=row>977</th><td> 977</td><td>NA</td><td>NA</td><td>NA</td><td>NA</td><td>NA</td><td>NA</td><td>NA</td><td>NA</td><td>NA</td></tr>\n",
       "\t<tr><th scope=row>978</th><td> 978</td><td>NA</td><td>NA</td><td>NA</td><td>NA</td><td>NA</td><td>NA</td><td>NA</td><td>NA</td><td>NA</td></tr>\n",
       "\t<tr><th scope=row>979</th><td> 979</td><td>NA</td><td>NA</td><td>NA</td><td>NA</td><td>NA</td><td>NA</td><td>NA</td><td>NA</td><td>NA</td></tr>\n",
       "\t<tr><th scope=row>981</th><td> 981</td><td>NA</td><td>NA</td><td>NA</td><td>NA</td><td>NA</td><td>NA</td><td>NA</td><td>NA</td><td>NA</td></tr>\n",
       "\t<tr><th scope=row>983</th><td> 983</td><td>NA</td><td>NA</td><td>NA</td><td>NA</td><td>NA</td><td>NA</td><td>NA</td><td>NA</td><td>NA</td></tr>\n",
       "\t<tr><th scope=row>984</th><td> 984</td><td>NA</td><td>NA</td><td>NA</td><td>NA</td><td>NA</td><td>NA</td><td>NA</td><td>NA</td><td>NA</td></tr>\n",
       "\t<tr><th scope=row>985</th><td> 985</td><td>NA</td><td>NA</td><td>NA</td><td>NA</td><td>NA</td><td>NA</td><td>NA</td><td>NA</td><td>NA</td></tr>\n",
       "\t<tr><th scope=row>986</th><td> 986</td><td>NA</td><td>NA</td><td>NA</td><td>NA</td><td>NA</td><td>NA</td><td>NA</td><td>NA</td><td>NA</td></tr>\n",
       "\t<tr><th scope=row>987</th><td> 987</td><td>NA</td><td>NA</td><td>NA</td><td>NA</td><td>NA</td><td>NA</td><td>NA</td><td>NA</td><td>NA</td></tr>\n",
       "\t<tr><th scope=row>988</th><td> 988</td><td>NA</td><td>NA</td><td>NA</td><td>NA</td><td>NA</td><td>NA</td><td>NA</td><td>NA</td><td>NA</td></tr>\n",
       "\t<tr><th scope=row>989</th><td> 989</td><td>NA</td><td>NA</td><td>NA</td><td>NA</td><td>NA</td><td>NA</td><td>NA</td><td>NA</td><td>NA</td></tr>\n",
       "\t<tr><th scope=row>991</th><td> 991</td><td>NA</td><td>NA</td><td>NA</td><td>NA</td><td>NA</td><td>NA</td><td>NA</td><td>NA</td><td>NA</td></tr>\n",
       "\t<tr><th scope=row>993</th><td> 993</td><td>NA</td><td>NA</td><td>NA</td><td>NA</td><td>NA</td><td>NA</td><td>NA</td><td>NA</td><td>NA</td></tr>\n",
       "\t<tr><th scope=row>994</th><td> 994</td><td>NA</td><td>NA</td><td>NA</td><td>NA</td><td>NA</td><td>NA</td><td>NA</td><td>NA</td><td>NA</td></tr>\n",
       "\t<tr><th scope=row>996</th><td> 996</td><td>NA</td><td>NA</td><td>NA</td><td>NA</td><td>NA</td><td>NA</td><td>NA</td><td>NA</td><td>NA</td></tr>\n",
       "\t<tr><th scope=row>997</th><td> 997</td><td>NA</td><td>NA</td><td>NA</td><td>NA</td><td>NA</td><td>NA</td><td>NA</td><td>NA</td><td>NA</td></tr>\n",
       "\t<tr><th scope=row>1000</th><td>1000</td><td>NA</td><td>NA</td><td>NA</td><td>NA</td><td>NA</td><td>NA</td><td>NA</td><td>NA</td><td>NA</td></tr>\n",
       "</tbody>\n",
       "</table>\n"
      ],
      "text/latex": [
       "A data.frame: 790 × 10\n",
       "\\begin{tabular}{r|llllllllll}\n",
       "  & index & p2 & p3 & p4 & p5 & p6 & p7 & p8 & p9 & p10\\\\\n",
       "  & <int> & <dbl> & <dbl> & <dbl> & <dbl> & <dbl> & <dbl> & <dbl> & <dbl> & <dbl>\\\\\n",
       "\\hline\n",
       "\t4 &  4 & NA & NA & NA & NA & NA & NA & NA & NA & NA\\\\\n",
       "\t5 &  5 & NA & NA & NA & NA & NA & NA & NA & NA & NA\\\\\n",
       "\t6 &  6 & NA & NA & NA & NA & NA & NA & NA & NA & NA\\\\\n",
       "\t7 &  7 & NA & NA & NA & NA & NA & NA & NA & NA & NA\\\\\n",
       "\t9 &  9 & NA & NA & NA & NA & NA & NA & NA & NA & NA\\\\\n",
       "\t11 & 11 & NA & NA & NA & NA & NA & NA & NA & NA & NA\\\\\n",
       "\t12 & 12 & NA & NA & NA & NA & NA & NA & NA & NA & NA\\\\\n",
       "\t13 & 13 & NA & NA & NA & NA & NA & NA & NA & NA & NA\\\\\n",
       "\t14 & 14 & NA & NA & NA & NA & NA & NA & NA & NA & NA\\\\\n",
       "\t15 & 15 & NA & NA & NA & NA & NA & NA & NA & NA & NA\\\\\n",
       "\t16 & 16 & NA & NA & NA & NA & NA & NA & NA & NA & NA\\\\\n",
       "\t18 & 18 & NA & NA & NA & NA & NA & NA & NA & NA & NA\\\\\n",
       "\t19 & 19 & NA & NA & NA & NA & NA & NA & NA & NA & NA\\\\\n",
       "\t20 & 20 & NA & NA & NA & NA & NA & NA & NA & NA & NA\\\\\n",
       "\t21 & 21 & NA & NA & NA & NA & NA & NA & NA & NA & NA\\\\\n",
       "\t22 & 22 & NA & NA & NA & NA & NA & NA & NA & NA & NA\\\\\n",
       "\t23 & 23 & NA & NA & NA & NA & NA & NA & NA & NA & NA\\\\\n",
       "\t24 & 24 & NA & NA & NA & NA & NA & NA & NA & NA & NA\\\\\n",
       "\t25 & 25 & NA & NA & NA & NA & NA & NA & NA & NA & NA\\\\\n",
       "\t27 & 27 & NA & NA & NA & NA & NA & NA & NA & NA & NA\\\\\n",
       "\t28 & 28 & NA & NA & NA & NA & NA & NA & NA & NA & NA\\\\\n",
       "\t30 & 30 & NA & NA & NA & NA & NA & NA & NA & NA & NA\\\\\n",
       "\t31 & 31 & NA & NA & NA & NA & NA & NA & NA & NA & NA\\\\\n",
       "\t32 & 32 & NA & NA & NA & NA & NA & NA & NA & NA & NA\\\\\n",
       "\t33 & 33 & NA & NA & NA & NA & NA & NA & NA & NA & NA\\\\\n",
       "\t34 & 34 & NA & NA & NA & NA & NA & NA & NA & NA & NA\\\\\n",
       "\t35 & 35 & NA & NA & NA & NA & NA & NA & NA & NA & NA\\\\\n",
       "\t36 & 36 & NA & NA & NA & NA & NA & NA & NA & NA & NA\\\\\n",
       "\t37 & 37 & NA & NA & NA & NA & NA & NA & NA & NA & NA\\\\\n",
       "\t38 & 38 & NA & NA & NA & NA & NA & NA & NA & NA & NA\\\\\n",
       "\t⋮ & ⋮ & ⋮ & ⋮ & ⋮ & ⋮ & ⋮ & ⋮ & ⋮ & ⋮ & ⋮\\\\\n",
       "\t959 &  959 & NA & NA & NA & NA & NA & NA & NA & NA & NA\\\\\n",
       "\t960 &  960 & NA & NA & NA & NA & NA & NA & NA & NA & NA\\\\\n",
       "\t961 &  961 & NA & NA & NA & NA & NA & NA & NA & NA & NA\\\\\n",
       "\t963 &  963 & NA & NA & NA & NA & NA & NA & NA & NA & NA\\\\\n",
       "\t964 &  964 & NA & NA & NA & NA & NA & NA & NA & NA & NA\\\\\n",
       "\t967 &  967 & NA & NA & NA & NA & NA & NA & NA & NA & NA\\\\\n",
       "\t969 &  969 & NA & NA & NA & NA & NA & NA & NA & NA & NA\\\\\n",
       "\t970 &  970 & NA & NA & NA & NA & NA & NA & NA & NA & NA\\\\\n",
       "\t971 &  971 & NA & NA & NA & NA & NA & NA & NA & NA & NA\\\\\n",
       "\t972 &  972 & NA & NA & NA & NA & NA & NA & NA & NA & NA\\\\\n",
       "\t974 &  974 & NA & NA & NA & NA & NA & NA & NA & NA & NA\\\\\n",
       "\t975 &  975 & NA & NA & NA & NA & NA & NA & NA & NA & NA\\\\\n",
       "\t976 &  976 & NA & NA & NA & NA & NA & NA & NA & NA & NA\\\\\n",
       "\t977 &  977 & NA & NA & NA & NA & NA & NA & NA & NA & NA\\\\\n",
       "\t978 &  978 & NA & NA & NA & NA & NA & NA & NA & NA & NA\\\\\n",
       "\t979 &  979 & NA & NA & NA & NA & NA & NA & NA & NA & NA\\\\\n",
       "\t981 &  981 & NA & NA & NA & NA & NA & NA & NA & NA & NA\\\\\n",
       "\t983 &  983 & NA & NA & NA & NA & NA & NA & NA & NA & NA\\\\\n",
       "\t984 &  984 & NA & NA & NA & NA & NA & NA & NA & NA & NA\\\\\n",
       "\t985 &  985 & NA & NA & NA & NA & NA & NA & NA & NA & NA\\\\\n",
       "\t986 &  986 & NA & NA & NA & NA & NA & NA & NA & NA & NA\\\\\n",
       "\t987 &  987 & NA & NA & NA & NA & NA & NA & NA & NA & NA\\\\\n",
       "\t988 &  988 & NA & NA & NA & NA & NA & NA & NA & NA & NA\\\\\n",
       "\t989 &  989 & NA & NA & NA & NA & NA & NA & NA & NA & NA\\\\\n",
       "\t991 &  991 & NA & NA & NA & NA & NA & NA & NA & NA & NA\\\\\n",
       "\t993 &  993 & NA & NA & NA & NA & NA & NA & NA & NA & NA\\\\\n",
       "\t994 &  994 & NA & NA & NA & NA & NA & NA & NA & NA & NA\\\\\n",
       "\t996 &  996 & NA & NA & NA & NA & NA & NA & NA & NA & NA\\\\\n",
       "\t997 &  997 & NA & NA & NA & NA & NA & NA & NA & NA & NA\\\\\n",
       "\t1000 & 1000 & NA & NA & NA & NA & NA & NA & NA & NA & NA\\\\\n",
       "\\end{tabular}\n"
      ],
      "text/markdown": [
       "\n",
       "A data.frame: 790 × 10\n",
       "\n",
       "| <!--/--> | index &lt;int&gt; | p2 &lt;dbl&gt; | p3 &lt;dbl&gt; | p4 &lt;dbl&gt; | p5 &lt;dbl&gt; | p6 &lt;dbl&gt; | p7 &lt;dbl&gt; | p8 &lt;dbl&gt; | p9 &lt;dbl&gt; | p10 &lt;dbl&gt; |\n",
       "|---|---|---|---|---|---|---|---|---|---|---|\n",
       "| 4 |  4 | NA | NA | NA | NA | NA | NA | NA | NA | NA |\n",
       "| 5 |  5 | NA | NA | NA | NA | NA | NA | NA | NA | NA |\n",
       "| 6 |  6 | NA | NA | NA | NA | NA | NA | NA | NA | NA |\n",
       "| 7 |  7 | NA | NA | NA | NA | NA | NA | NA | NA | NA |\n",
       "| 9 |  9 | NA | NA | NA | NA | NA | NA | NA | NA | NA |\n",
       "| 11 | 11 | NA | NA | NA | NA | NA | NA | NA | NA | NA |\n",
       "| 12 | 12 | NA | NA | NA | NA | NA | NA | NA | NA | NA |\n",
       "| 13 | 13 | NA | NA | NA | NA | NA | NA | NA | NA | NA |\n",
       "| 14 | 14 | NA | NA | NA | NA | NA | NA | NA | NA | NA |\n",
       "| 15 | 15 | NA | NA | NA | NA | NA | NA | NA | NA | NA |\n",
       "| 16 | 16 | NA | NA | NA | NA | NA | NA | NA | NA | NA |\n",
       "| 18 | 18 | NA | NA | NA | NA | NA | NA | NA | NA | NA |\n",
       "| 19 | 19 | NA | NA | NA | NA | NA | NA | NA | NA | NA |\n",
       "| 20 | 20 | NA | NA | NA | NA | NA | NA | NA | NA | NA |\n",
       "| 21 | 21 | NA | NA | NA | NA | NA | NA | NA | NA | NA |\n",
       "| 22 | 22 | NA | NA | NA | NA | NA | NA | NA | NA | NA |\n",
       "| 23 | 23 | NA | NA | NA | NA | NA | NA | NA | NA | NA |\n",
       "| 24 | 24 | NA | NA | NA | NA | NA | NA | NA | NA | NA |\n",
       "| 25 | 25 | NA | NA | NA | NA | NA | NA | NA | NA | NA |\n",
       "| 27 | 27 | NA | NA | NA | NA | NA | NA | NA | NA | NA |\n",
       "| 28 | 28 | NA | NA | NA | NA | NA | NA | NA | NA | NA |\n",
       "| 30 | 30 | NA | NA | NA | NA | NA | NA | NA | NA | NA |\n",
       "| 31 | 31 | NA | NA | NA | NA | NA | NA | NA | NA | NA |\n",
       "| 32 | 32 | NA | NA | NA | NA | NA | NA | NA | NA | NA |\n",
       "| 33 | 33 | NA | NA | NA | NA | NA | NA | NA | NA | NA |\n",
       "| 34 | 34 | NA | NA | NA | NA | NA | NA | NA | NA | NA |\n",
       "| 35 | 35 | NA | NA | NA | NA | NA | NA | NA | NA | NA |\n",
       "| 36 | 36 | NA | NA | NA | NA | NA | NA | NA | NA | NA |\n",
       "| 37 | 37 | NA | NA | NA | NA | NA | NA | NA | NA | NA |\n",
       "| 38 | 38 | NA | NA | NA | NA | NA | NA | NA | NA | NA |\n",
       "| ⋮ | ⋮ | ⋮ | ⋮ | ⋮ | ⋮ | ⋮ | ⋮ | ⋮ | ⋮ | ⋮ |\n",
       "| 959 |  959 | NA | NA | NA | NA | NA | NA | NA | NA | NA |\n",
       "| 960 |  960 | NA | NA | NA | NA | NA | NA | NA | NA | NA |\n",
       "| 961 |  961 | NA | NA | NA | NA | NA | NA | NA | NA | NA |\n",
       "| 963 |  963 | NA | NA | NA | NA | NA | NA | NA | NA | NA |\n",
       "| 964 |  964 | NA | NA | NA | NA | NA | NA | NA | NA | NA |\n",
       "| 967 |  967 | NA | NA | NA | NA | NA | NA | NA | NA | NA |\n",
       "| 969 |  969 | NA | NA | NA | NA | NA | NA | NA | NA | NA |\n",
       "| 970 |  970 | NA | NA | NA | NA | NA | NA | NA | NA | NA |\n",
       "| 971 |  971 | NA | NA | NA | NA | NA | NA | NA | NA | NA |\n",
       "| 972 |  972 | NA | NA | NA | NA | NA | NA | NA | NA | NA |\n",
       "| 974 |  974 | NA | NA | NA | NA | NA | NA | NA | NA | NA |\n",
       "| 975 |  975 | NA | NA | NA | NA | NA | NA | NA | NA | NA |\n",
       "| 976 |  976 | NA | NA | NA | NA | NA | NA | NA | NA | NA |\n",
       "| 977 |  977 | NA | NA | NA | NA | NA | NA | NA | NA | NA |\n",
       "| 978 |  978 | NA | NA | NA | NA | NA | NA | NA | NA | NA |\n",
       "| 979 |  979 | NA | NA | NA | NA | NA | NA | NA | NA | NA |\n",
       "| 981 |  981 | NA | NA | NA | NA | NA | NA | NA | NA | NA |\n",
       "| 983 |  983 | NA | NA | NA | NA | NA | NA | NA | NA | NA |\n",
       "| 984 |  984 | NA | NA | NA | NA | NA | NA | NA | NA | NA |\n",
       "| 985 |  985 | NA | NA | NA | NA | NA | NA | NA | NA | NA |\n",
       "| 986 |  986 | NA | NA | NA | NA | NA | NA | NA | NA | NA |\n",
       "| 987 |  987 | NA | NA | NA | NA | NA | NA | NA | NA | NA |\n",
       "| 988 |  988 | NA | NA | NA | NA | NA | NA | NA | NA | NA |\n",
       "| 989 |  989 | NA | NA | NA | NA | NA | NA | NA | NA | NA |\n",
       "| 991 |  991 | NA | NA | NA | NA | NA | NA | NA | NA | NA |\n",
       "| 993 |  993 | NA | NA | NA | NA | NA | NA | NA | NA | NA |\n",
       "| 994 |  994 | NA | NA | NA | NA | NA | NA | NA | NA | NA |\n",
       "| 996 |  996 | NA | NA | NA | NA | NA | NA | NA | NA | NA |\n",
       "| 997 |  997 | NA | NA | NA | NA | NA | NA | NA | NA | NA |\n",
       "| 1000 | 1000 | NA | NA | NA | NA | NA | NA | NA | NA | NA |\n",
       "\n"
      ],
      "text/plain": [
       "     index p2 p3 p4 p5 p6 p7 p8 p9 p10\n",
       "4     4    NA NA NA NA NA NA NA NA NA \n",
       "5     5    NA NA NA NA NA NA NA NA NA \n",
       "6     6    NA NA NA NA NA NA NA NA NA \n",
       "7     7    NA NA NA NA NA NA NA NA NA \n",
       "9     9    NA NA NA NA NA NA NA NA NA \n",
       "11   11    NA NA NA NA NA NA NA NA NA \n",
       "12   12    NA NA NA NA NA NA NA NA NA \n",
       "13   13    NA NA NA NA NA NA NA NA NA \n",
       "14   14    NA NA NA NA NA NA NA NA NA \n",
       "15   15    NA NA NA NA NA NA NA NA NA \n",
       "16   16    NA NA NA NA NA NA NA NA NA \n",
       "18   18    NA NA NA NA NA NA NA NA NA \n",
       "19   19    NA NA NA NA NA NA NA NA NA \n",
       "20   20    NA NA NA NA NA NA NA NA NA \n",
       "21   21    NA NA NA NA NA NA NA NA NA \n",
       "22   22    NA NA NA NA NA NA NA NA NA \n",
       "23   23    NA NA NA NA NA NA NA NA NA \n",
       "24   24    NA NA NA NA NA NA NA NA NA \n",
       "25   25    NA NA NA NA NA NA NA NA NA \n",
       "27   27    NA NA NA NA NA NA NA NA NA \n",
       "28   28    NA NA NA NA NA NA NA NA NA \n",
       "30   30    NA NA NA NA NA NA NA NA NA \n",
       "31   31    NA NA NA NA NA NA NA NA NA \n",
       "32   32    NA NA NA NA NA NA NA NA NA \n",
       "33   33    NA NA NA NA NA NA NA NA NA \n",
       "34   34    NA NA NA NA NA NA NA NA NA \n",
       "35   35    NA NA NA NA NA NA NA NA NA \n",
       "36   36    NA NA NA NA NA NA NA NA NA \n",
       "37   37    NA NA NA NA NA NA NA NA NA \n",
       "38   38    NA NA NA NA NA NA NA NA NA \n",
       "⋮    ⋮     ⋮  ⋮  ⋮  ⋮  ⋮  ⋮  ⋮  ⋮  ⋮  \n",
       "959   959  NA NA NA NA NA NA NA NA NA \n",
       "960   960  NA NA NA NA NA NA NA NA NA \n",
       "961   961  NA NA NA NA NA NA NA NA NA \n",
       "963   963  NA NA NA NA NA NA NA NA NA \n",
       "964   964  NA NA NA NA NA NA NA NA NA \n",
       "967   967  NA NA NA NA NA NA NA NA NA \n",
       "969   969  NA NA NA NA NA NA NA NA NA \n",
       "970   970  NA NA NA NA NA NA NA NA NA \n",
       "971   971  NA NA NA NA NA NA NA NA NA \n",
       "972   972  NA NA NA NA NA NA NA NA NA \n",
       "974   974  NA NA NA NA NA NA NA NA NA \n",
       "975   975  NA NA NA NA NA NA NA NA NA \n",
       "976   976  NA NA NA NA NA NA NA NA NA \n",
       "977   977  NA NA NA NA NA NA NA NA NA \n",
       "978   978  NA NA NA NA NA NA NA NA NA \n",
       "979   979  NA NA NA NA NA NA NA NA NA \n",
       "981   981  NA NA NA NA NA NA NA NA NA \n",
       "983   983  NA NA NA NA NA NA NA NA NA \n",
       "984   984  NA NA NA NA NA NA NA NA NA \n",
       "985   985  NA NA NA NA NA NA NA NA NA \n",
       "986   986  NA NA NA NA NA NA NA NA NA \n",
       "987   987  NA NA NA NA NA NA NA NA NA \n",
       "988   988  NA NA NA NA NA NA NA NA NA \n",
       "989   989  NA NA NA NA NA NA NA NA NA \n",
       "991   991  NA NA NA NA NA NA NA NA NA \n",
       "993   993  NA NA NA NA NA NA NA NA NA \n",
       "994   994  NA NA NA NA NA NA NA NA NA \n",
       "996   996  NA NA NA NA NA NA NA NA NA \n",
       "997   997  NA NA NA NA NA NA NA NA NA \n",
       "1000 1000  NA NA NA NA NA NA NA NA NA "
      ]
     },
     "metadata": {},
     "output_type": "display_data"
    }
   ],
   "source": [
    "#showna\n",
    "validation_var=results_manager$summary_metric_data\n",
    "validation_var[!complete.cases(validation_var),]"
   ]
  },
  {
   "cell_type": "code",
   "execution_count": 32,
   "id": "28bb5860",
   "metadata": {},
   "outputs": [],
   "source": [
    "#list of na\n",
    "remove_index=which(!complete.cases(validation_var))"
   ]
  },
  {
   "cell_type": "code",
   "execution_count": 33,
   "id": "0fa4be72",
   "metadata": {},
   "outputs": [],
   "source": [
    "# Create a validator for selecting the 'best' example models\n",
    "if (length(remove_index)==0)    {\n",
    "    validator <- Validator$new(simulation_parameters = sample_data,\n",
    "                           simulation_summary_metrics =\n",
    "                             validation_var[-1],\n",
    "                           observed_metric_targets = c(p2=as.integer(population_size[2]/2),\n",
    "                                                       p3=as.integer(population_size[3]/2),\n",
    "                                                       p4=as.integer(population_size[4]/2),\n",
    "                                                       p5=as.integer(population_size[5]/2),\n",
    "                                                       p6=as.integer(population_size[6]/2),\n",
    "                                                       p7=as.integer(population_size[7]/2),\n",
    "                                                       p8=as.integer(population_size[8]/2),\n",
    "                                                       p9=as.integer(population_size[9]/2),\n",
    "                                                       p10=as.integer(population_size[10]/2)),\n",
    "                           output_dir = OUTPUT_DIR)\n",
    "\n",
    "} else    {\n",
    "    validator <- Validator$new(simulation_parameters = sample_data[-remove_index,],\n",
    "                           simulation_summary_metrics =\n",
    "                             validation_var[-remove_index,][-1],\n",
    "                           observed_metric_targets = c(p2=as.integer(population_size[2]/2),\n",
    "                                                       p3=as.integer(population_size[3]/2),\n",
    "                                                       p4=as.integer(population_size[4]/2),\n",
    "                                                       p5=as.integer(population_size[5]/2),\n",
    "                                                       p6=as.integer(population_size[6]/2),\n",
    "                                                       p7=as.integer(population_size[7]/2),\n",
    "                                                       p8=as.integer(population_size[8]/2),\n",
    "                                                       p9=as.integer(population_size[9]/2),\n",
    "                                                       p10=as.integer(population_size[10]/2)),\n",
    "                           output_dir = OUTPUT_DIR)\n",
    "}"
   ]
  },
  {
   "cell_type": "code",
   "execution_count": 34,
   "id": "d8715081",
   "metadata": {
    "scrolled": false
   },
   "outputs": [
    {
     "name": "stdout",
     "output_type": "stream",
     "text": [
      "12345678910\n",
      "12345678910\n"
     ]
    },
    {
     "name": "stderr",
     "output_type": "stream",
     "text": [
      "Warning message:\n",
      "\"Validation function generated warning: All parameters are \"none\" transformed.\"\n"
     ]
    }
   ],
   "source": [
    "validator$run(tolerance = 0.25, output_diagnostics = TRUE)"
   ]
  },
  {
   "cell_type": "code",
   "execution_count": 35,
   "id": "fa8b553e",
   "metadata": {},
   "outputs": [],
   "source": [
    "#rescale weights as they dont sum up to one\n",
    "weights=validator$selected_simulations \n",
    "weights$weight=weights$weight/sum(weights$weight)"
   ]
  },
  {
   "cell_type": "code",
   "execution_count": 36,
   "id": "e56f865c",
   "metadata": {
    "scrolled": true
   },
   "outputs": [],
   "source": [
    "selected_data=sample_data[weights$index,]"
   ]
  },
  {
   "cell_type": "code",
   "execution_count": 37,
   "id": "041b61ae",
   "metadata": {
    "scrolled": true
   },
   "outputs": [
    {
     "name": "stdout",
     "output_type": "stream",
     "text": [
      "growth_rate_max 0.23 0.88 \n",
      "density_max 11.88 196.37 \n",
      "initial_n 8744 25260 \n",
      "dispersal_p 0.0596 0.3299 \n",
      "dispersal_b 2.04 7.97 \n"
     ]
    }
   ],
   "source": [
    "for (i in colnames(selected_data)) {\n",
    "  cat(i,min(selected_data[[i]]), max(selected_data[[i]]), \"\\n\")\n",
    "}"
   ]
  },
  {
   "cell_type": "code",
   "execution_count": 38,
   "id": "538db267",
   "metadata": {
    "scrolled": true
   },
   "outputs": [
    {
     "data": {
      "text/html": [
       "<style>\n",
       ".dl-inline {width: auto; margin:0; padding: 0}\n",
       ".dl-inline>dt, .dl-inline>dd {float: none; width: auto; display: inline-block}\n",
       ".dl-inline>dt::after {content: \":\\0020\"; padding-right: .5ex}\n",
       ".dl-inline>dt:not(:first-of-type) {padding-left: .5ex}\n",
       "</style><dl class=dl-inline><dt>growth_rate_max</dt><dd>0.548375977048463</dd><dt>density_max</dt><dd>107.574591362289</dd><dt>initial_n</dt><dd>17781.1927633343</dd><dt>dispersal_p</dt><dd>0.19671769222884</dd><dt>dispersal_b</dt><dd>5.21697843876978</dd></dl>\n"
      ],
      "text/latex": [
       "\\begin{description*}\n",
       "\\item[growth\\textbackslash{}\\_rate\\textbackslash{}\\_max] 0.548375977048463\n",
       "\\item[density\\textbackslash{}\\_max] 107.574591362289\n",
       "\\item[initial\\textbackslash{}\\_n] 17781.1927633343\n",
       "\\item[dispersal\\textbackslash{}\\_p] 0.19671769222884\n",
       "\\item[dispersal\\textbackslash{}\\_b] 5.21697843876978\n",
       "\\end{description*}\n"
      ],
      "text/markdown": [
       "growth_rate_max\n",
       ":   0.548375977048463density_max\n",
       ":   107.574591362289initial_n\n",
       ":   17781.1927633343dispersal_p\n",
       ":   0.19671769222884dispersal_b\n",
       ":   5.21697843876978\n",
       "\n"
      ],
      "text/plain": [
       "growth_rate_max     density_max       initial_n     dispersal_p     dispersal_b \n",
       "   5.483760e-01    1.075746e+02    1.778119e+04    1.967177e-01    5.216978e+00 "
      ]
     },
     "metadata": {},
     "output_type": "display_data"
    }
   ],
   "source": [
    "#get result\n",
    "colSums(sample_data[weights$index,]*replicate(length(sample_data), weights$weight))"
   ]
  },
  {
   "cell_type": "code",
   "execution_count": 39,
   "id": "e675fc3b",
   "metadata": {},
   "outputs": [
    {
     "data": {
      "text/html": [
       "'validation_diagnostics.pdf'"
      ],
      "text/latex": [
       "'validation\\_diagnostics.pdf'"
      ],
      "text/markdown": [
       "'validation_diagnostics.pdf'"
      ],
      "text/plain": [
       "[1] \"validation_diagnostics.pdf\""
      ]
     },
     "metadata": {},
     "output_type": "display_data"
    }
   ],
   "source": [
    "dir(OUTPUT_DIR, \"*.pdf\") # plus validation diagnostics (see abc library documentation)"
   ]
  },
  {
   "cell_type": "markdown",
   "id": "a74f6be4",
   "metadata": {},
   "source": [
    "We encourage the user to examine the generated diagnostics (PDF) output file, and to\n",
    "become acquainted with the analysis that this information facilitates (see the *abc* \n",
    "documentation). As our simple example only uses two metrics/targets, we can visualize\n",
    "the congruence of the selected models with the targets via a simple plot."
   ]
  },
  {
   "cell_type": "code",
   "execution_count": 40,
   "id": "aba546f8",
   "metadata": {},
   "outputs": [],
   "source": [
    "# install.packages('rmarkdown')\n",
    "\n",
    "# library(rmarkdown)\n",
    "\n",
    "# setwd(\"C:/Users/tm/Downloads/\")\n",
    "\n",
    "# input <- \"poems tasman.ipynb\"\n",
    "\n",
    "# # First convert to .Rmd...\n",
    "# convert_ipynb(input)"
   ]
  }
 ],
 "metadata": {
  "kernelspec": {
   "display_name": "R",
   "language": "R",
   "name": "ir413"
  },
  "language_info": {
   "codemirror_mode": "r",
   "file_extension": ".r",
   "mimetype": "text/x-r-source",
   "name": "R",
   "pygments_lexer": "r",
   "version": "4.2.2"
  },
  "toc": {
   "base_numbering": 1,
   "nav_menu": {},
   "number_sections": true,
   "sideBar": true,
   "skip_h1_title": false,
   "title_cell": "Table of Contents",
   "title_sidebar": "Contents",
   "toc_cell": false,
   "toc_position": {
    "height": "calc(100% - 180px)",
    "left": "10px",
    "top": "150px",
    "width": "245.75px"
   },
   "toc_section_display": true,
   "toc_window_display": true
  }
 },
 "nbformat": 4,
 "nbformat_minor": 5
}
