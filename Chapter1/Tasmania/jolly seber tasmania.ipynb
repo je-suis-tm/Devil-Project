{
 "cells": [
  {
   "cell_type": "markdown",
   "id": "18003931",
   "metadata": {},
   "source": [
    "### Jolly Seber \n",
    "\n",
    "&nbsp;\n",
    "\n",
    "Jolly-Seber model a statistical method to estimate the size of animal populations based upon mark-recapture data. The process is straight forward. In the first step, a sample of the population is captured and marked with chips or tags. After marking, the captured individuals are released back into the wild. After an interval of time, another sample is taken which may include both previously captured (marked) and new (unmarked) individuals. The model assumes equal capture probability between marked and unmarked so the ratio between marked and unmarked can derive the potential population size. However, the model assumes closed population without migration, birth or death. Many advanced models take into account of individual heterogeneity in capture and survival probabilities and time-varying capture and survival rates. These models can provide more accurate and precise population estimates while addressing the limitations of the basic Jolly-Seber model."
   ]
  },
  {
   "cell_type": "code",
   "execution_count": 1,
   "id": "06c08072",
   "metadata": {},
   "outputs": [],
   "source": [
    "import os\n",
    "import ast\n",
    "import pandas as pd\n",
    "import numpy as np\n",
    "from pyproj import Proj\n",
    "import math\n",
    "import pyodbc\n",
    "os.chdir('C:/Users/tm/Downloads/utas/WildlifeDatabases')"
   ]
  },
  {
   "cell_type": "code",
   "execution_count": 2,
   "id": "cb43dfc1",
   "metadata": {},
   "outputs": [],
   "source": [
    "#coordinates conversion\n",
    "def convert_easting_northing_to_lat_lon(easting, northing,):\n",
    "    proj = Proj('+proj=utm +zone=55 +south +ellps=GRS80 +units=m +no_defs')\n",
    "    lon, lat = proj(easting, northing, inverse=True)\n",
    "    return lat, lon\n"
   ]
  },
  {
   "cell_type": "markdown",
   "id": "2f843d25",
   "metadata": {},
   "source": [
    "### global variables"
   ]
  },
  {
   "cell_type": "code",
   "execution_count": 3,
   "id": "c6dd7d17",
   "metadata": {},
   "outputs": [],
   "source": [
    "lonmin=144.165967\n",
    "latmin=-43.833736\n",
    "lonmax=148.576978\n",
    "latmax=-40.349895\n",
    "lat_centre =-42.10904672752227 ; lon_centre = 146.6417533511285;\n",
    "gridlen=35"
   ]
  },
  {
   "cell_type": "markdown",
   "id": "1b944701",
   "metadata": {},
   "source": [
    "### cleanse"
   ]
  },
  {
   "cell_type": "code",
   "execution_count": 4,
   "id": "62d670eb",
   "metadata": {
    "scrolled": true
   },
   "outputs": [
    {
     "name": "stderr",
     "output_type": "stream",
     "text": [
      "C:\\Users\\tm\\AppData\\Local\\Temp\\ipykernel_49620\\3959596876.py:15: UserWarning: pandas only supports SQLAlchemy connectable (engine/connection) or database string URI or sqlite3 DBAPI2 connection. Other DBAPI2 objects are not tested. Please consider using SQLAlchemy.\n",
      "  traps_pending=pd.read_sql('select * from traps',conn)\n",
      "C:\\Users\\tm\\AppData\\Local\\Temp\\ipykernel_49620\\3959596876.py:19: UserWarning: pandas only supports SQLAlchemy connectable (engine/connection) or database string URI or sqlite3 DBAPI2 connection. Other DBAPI2 objects are not tested. Please consider using SQLAlchemy.\n",
      "  traphist_pending=pd.read_sql('select * from traphistory',conn)\n",
      "C:\\Users\\tm\\AppData\\Local\\Temp\\ipykernel_49620\\3959596876.py:15: UserWarning: pandas only supports SQLAlchemy connectable (engine/connection) or database string URI or sqlite3 DBAPI2 connection. Other DBAPI2 objects are not tested. Please consider using SQLAlchemy.\n",
      "  traps_pending=pd.read_sql('select * from traps',conn)\n",
      "C:\\Users\\tm\\AppData\\Local\\Temp\\ipykernel_49620\\3959596876.py:19: UserWarning: pandas only supports SQLAlchemy connectable (engine/connection) or database string URI or sqlite3 DBAPI2 connection. Other DBAPI2 objects are not tested. Please consider using SQLAlchemy.\n",
      "  traphist_pending=pd.read_sql('select * from traphistory',conn)\n",
      "C:\\Users\\tm\\AppData\\Local\\Temp\\ipykernel_49620\\3959596876.py:15: UserWarning: pandas only supports SQLAlchemy connectable (engine/connection) or database string URI or sqlite3 DBAPI2 connection. Other DBAPI2 objects are not tested. Please consider using SQLAlchemy.\n",
      "  traps_pending=pd.read_sql('select * from traps',conn)\n",
      "C:\\Users\\tm\\AppData\\Local\\Temp\\ipykernel_49620\\3959596876.py:19: UserWarning: pandas only supports SQLAlchemy connectable (engine/connection) or database string URI or sqlite3 DBAPI2 connection. Other DBAPI2 objects are not tested. Please consider using SQLAlchemy.\n",
      "  traphist_pending=pd.read_sql('select * from traphistory',conn)\n",
      "C:\\Users\\tm\\AppData\\Local\\Temp\\ipykernel_49620\\3959596876.py:15: UserWarning: pandas only supports SQLAlchemy connectable (engine/connection) or database string URI or sqlite3 DBAPI2 connection. Other DBAPI2 objects are not tested. Please consider using SQLAlchemy.\n",
      "  traps_pending=pd.read_sql('select * from traps',conn)\n",
      "C:\\Users\\tm\\AppData\\Local\\Temp\\ipykernel_49620\\3959596876.py:19: UserWarning: pandas only supports SQLAlchemy connectable (engine/connection) or database string URI or sqlite3 DBAPI2 connection. Other DBAPI2 objects are not tested. Please consider using SQLAlchemy.\n",
      "  traphist_pending=pd.read_sql('select * from traphistory',conn)\n",
      "C:\\Users\\tm\\AppData\\Local\\Temp\\ipykernel_49620\\3959596876.py:15: UserWarning: pandas only supports SQLAlchemy connectable (engine/connection) or database string URI or sqlite3 DBAPI2 connection. Other DBAPI2 objects are not tested. Please consider using SQLAlchemy.\n",
      "  traps_pending=pd.read_sql('select * from traps',conn)\n",
      "C:\\Users\\tm\\AppData\\Local\\Temp\\ipykernel_49620\\3959596876.py:19: UserWarning: pandas only supports SQLAlchemy connectable (engine/connection) or database string URI or sqlite3 DBAPI2 connection. Other DBAPI2 objects are not tested. Please consider using SQLAlchemy.\n",
      "  traphist_pending=pd.read_sql('select * from traphistory',conn)\n",
      "C:\\Users\\tm\\AppData\\Local\\Temp\\ipykernel_49620\\3959596876.py:15: UserWarning: pandas only supports SQLAlchemy connectable (engine/connection) or database string URI or sqlite3 DBAPI2 connection. Other DBAPI2 objects are not tested. Please consider using SQLAlchemy.\n",
      "  traps_pending=pd.read_sql('select * from traps',conn)\n",
      "C:\\Users\\tm\\AppData\\Local\\Temp\\ipykernel_49620\\3959596876.py:19: UserWarning: pandas only supports SQLAlchemy connectable (engine/connection) or database string URI or sqlite3 DBAPI2 connection. Other DBAPI2 objects are not tested. Please consider using SQLAlchemy.\n",
      "  traphist_pending=pd.read_sql('select * from traphistory',conn)\n",
      "C:\\Users\\tm\\AppData\\Local\\Temp\\ipykernel_49620\\3959596876.py:15: UserWarning: pandas only supports SQLAlchemy connectable (engine/connection) or database string URI or sqlite3 DBAPI2 connection. Other DBAPI2 objects are not tested. Please consider using SQLAlchemy.\n",
      "  traps_pending=pd.read_sql('select * from traps',conn)\n",
      "C:\\Users\\tm\\AppData\\Local\\Temp\\ipykernel_49620\\3959596876.py:19: UserWarning: pandas only supports SQLAlchemy connectable (engine/connection) or database string URI or sqlite3 DBAPI2 connection. Other DBAPI2 objects are not tested. Please consider using SQLAlchemy.\n",
      "  traphist_pending=pd.read_sql('select * from traphistory',conn)\n",
      "C:\\Users\\tm\\AppData\\Local\\Temp\\ipykernel_49620\\3959596876.py:15: UserWarning: pandas only supports SQLAlchemy connectable (engine/connection) or database string URI or sqlite3 DBAPI2 connection. Other DBAPI2 objects are not tested. Please consider using SQLAlchemy.\n",
      "  traps_pending=pd.read_sql('select * from traps',conn)\n",
      "C:\\Users\\tm\\AppData\\Local\\Temp\\ipykernel_49620\\3959596876.py:19: UserWarning: pandas only supports SQLAlchemy connectable (engine/connection) or database string URI or sqlite3 DBAPI2 connection. Other DBAPI2 objects are not tested. Please consider using SQLAlchemy.\n",
      "  traphist_pending=pd.read_sql('select * from traphistory',conn)\n",
      "C:\\Users\\tm\\AppData\\Local\\Temp\\ipykernel_49620\\3959596876.py:15: UserWarning: pandas only supports SQLAlchemy connectable (engine/connection) or database string URI or sqlite3 DBAPI2 connection. Other DBAPI2 objects are not tested. Please consider using SQLAlchemy.\n",
      "  traps_pending=pd.read_sql('select * from traps',conn)\n",
      "C:\\Users\\tm\\AppData\\Local\\Temp\\ipykernel_49620\\3959596876.py:19: UserWarning: pandas only supports SQLAlchemy connectable (engine/connection) or database string URI or sqlite3 DBAPI2 connection. Other DBAPI2 objects are not tested. Please consider using SQLAlchemy.\n",
      "  traphist_pending=pd.read_sql('select * from traphistory',conn)\n"
     ]
    }
   ],
   "source": [
    "traphist=pd.DataFrame(columns=['ID', 'TrapID', 'DateOfUse', 'Event', 'CaptureType', 'Microchip',\n",
    "       'Comment'])\n",
    "\n",
    "traps=pd.DataFrame(columns=['TrapID', 'Northing', 'Easting', 'Comments', 'TrapLine', 'Researcher'])\n",
    "\n",
    "for i in ['./crabtree/CBT_database_2024_04_CRS.accdb','./franklin/FRA_database_devil_2023_09_CRS.accdb',\n",
    "         './Woodbridge+Sandfly/Channel_database_devil_2023_11_ER.accdb',\n",
    "           './arthur river/ARV_database_2023_11_CRES.accdb','./black river/BRI_database_2022_11_KJS.accdb',\n",
    "         './freycinet/FNP_database_2023_11_CRES.accdb','./takone/TKN_database_2022_12_ACW.accdb',\n",
    "         './west pencil pine/WPP_Nov_2023_ER.accdb','./wukalina/Wukalina_NOV2020_SN.accdb',\n",
    "        ]:\n",
    "\n",
    "    conn = pyodbc.connect(r'Driver={Microsoft Access Driver (*.mdb, *.accdb)};DBQ='+f'{i};')\n",
    "    \n",
    "    traps_pending=pd.read_sql('select * from traps',conn)\n",
    "    traps_pending['site']=i.split('/')[1]\n",
    "    traps=pd.concat([traps,traps_pending])\n",
    "    \n",
    "    traphist_pending=pd.read_sql('select * from traphistory',conn)\n",
    "    traphist_pending['site']=i.split('/')[1]\n",
    "    traphist=pd.concat([traphist,traphist_pending])\n",
    "    \n",
    "    traps.reset_index(inplace=True,drop=True)\n",
    "    traphist.reset_index(inplace=True,drop=True)"
   ]
  },
  {
   "cell_type": "code",
   "execution_count": 5,
   "id": "53bf4a5a",
   "metadata": {},
   "outputs": [],
   "source": [
    "#focus on recapture\n",
    "traphist=traphist[traphist['Event'].isin(['Tasmanian devil','Tasmanian Devil',])].copy()\n",
    "\n",
    "#remove null microchip\n",
    "traphist=traphist.loc[traphist['Microchip'].dropna().index]\n",
    "\n",
    "#remove duplicates\n",
    "traphist=traphist.loc[traphist[['Microchip','DateOfUse']].drop_duplicates().index]"
   ]
  },
  {
   "cell_type": "code",
   "execution_count": 6,
   "id": "9d0351c8",
   "metadata": {},
   "outputs": [],
   "source": [
    "#sort by date\n",
    "grande=traphist.merge(traps,on=['TrapID','site'],how='left')\n",
    "grande.reset_index(inplace=True,drop=True)\n",
    "\n",
    "#datetimeindex\n",
    "grande['DateOfUse']=pd.to_datetime(grande['DateOfUse'])"
   ]
  },
  {
   "cell_type": "code",
   "execution_count": 7,
   "id": "d2305034",
   "metadata": {},
   "outputs": [],
   "source": [
    "#remove duplicates\n",
    "grande=grande.loc[grande['Northing'].dropna().index]\n",
    "grande=grande.loc[grande['Easting'].dropna().index]\n",
    "grande=grande.loc[grande['Microchip'].dropna().index]\n",
    "grande=grande.sort_values(['Microchip',\"DateOfUse\"])\n",
    "grande.reset_index(inplace=True,drop=True)\n",
    "grande=grande.loc[grande[['DateOfUse','Microchip']].drop_duplicates().index]"
   ]
  },
  {
   "cell_type": "code",
   "execution_count": 8,
   "id": "9b1c86cb",
   "metadata": {},
   "outputs": [],
   "source": [
    "#cleanse coordinates\n",
    "grande['Northing']=grande['Northing'].str.replace('5224370.09\\r\\n5224370.09','5224370.09')\n",
    "grande['Northing']=grande['Northing'].str.replace('0\\r\\n0','0')\n",
    "grande['Northing']=grande['Northing'].astype(float)\n",
    "\n",
    "grande['Easting']=grande['Easting'].str.replace('605373\\r\\n605373','605373')\n",
    "grande['Easting']=grande['Easting'].str.replace('0\\r\\n0','0')\n",
    "grande['Easting']=grande['Easting'].astype(float)"
   ]
  },
  {
   "cell_type": "code",
   "execution_count": 9,
   "id": "f1578c5c",
   "metadata": {},
   "outputs": [],
   "source": [
    "#for each year,each devil only counts once\n",
    "grande['year']=grande['DateOfUse'].dt.year\n",
    "total_raw=grande.loc[grande[['year','Microchip']].drop_duplicates().index]\n",
    "\n",
    "#sort by year\n",
    "total_raw=total_raw.sort_values(['year','Microchip'])\n",
    "total_raw.reset_index(inplace=True,drop=True)\n",
    "\n",
    "#convert coordinates\n",
    "total_raw['lat'],total_raw['lon']=convert_easting_northing_to_lat_lon(\n",
    "    total_raw['Easting'], total_raw['Northing'],)"
   ]
  },
  {
   "cell_type": "code",
   "execution_count": 10,
   "id": "08a14594",
   "metadata": {},
   "outputs": [],
   "source": [
    "#assign each coordinate to the grid cell id\n",
    "lonunit=(lonmax-lonmin)/gridlen\n",
    "latunit=(latmax-latmin)/gridlen\n",
    "total_raw['lat num']=(total_raw['lat']-latmin)//latunit\n",
    "total_raw['lon num']=(total_raw['lon']-lonmin)//lonunit\n",
    "total_raw['id']=list(zip(total_raw['lat num'].astype(int),total_raw['lon num'].astype(int)))\n",
    "\n",
    "#remove areas outside of grid cell range\n",
    "for i in range(len(total_raw)):\n",
    "    if int(total_raw['id'][i][0])>=gridlen or \\\n",
    "    int(total_raw['id'][i][-1])>=gridlen or \\\n",
    "    int(total_raw['id'][i][0])<0 or int(total_raw['id'][i][-1])<0:\n",
    "        total_raw.drop(i,inplace=True)"
   ]
  },
  {
   "cell_type": "markdown",
   "id": "890a1797",
   "metadata": {},
   "source": [
    "### estimate population size"
   ]
  },
  {
   "cell_type": "code",
   "execution_count": 11,
   "id": "5aa7f37c",
   "metadata": {},
   "outputs": [],
   "source": [
    "export_total=pd.DataFrame(columns=['year','population','id'])\n",
    "for region in total_raw['id'].unique():\n",
    "    pop_raw=total_raw[total_raw['id']==region].copy()\n",
    "\n",
    "    #create a dictionary which host last capture and recent capture date\n",
    "    dic={}\n",
    "    for i in pop_raw['year'].unique():\n",
    "        for j in pop_raw['year'].unique():\n",
    "            if i<j:\n",
    "                dic[(i,j)]=0\n",
    "\n",
    "    #find last capture and recent capture date for each individual\n",
    "    for i in pop_raw['Microchip'].unique():\n",
    "        subset=pop_raw[pop_raw['Microchip']==i].copy()\n",
    "        if len(subset)>=2:\n",
    "            dic[tuple(subset['year'].iloc[:2].tolist())]+=1\n",
    "\n",
    "    #compute recaptured animals in that year\n",
    "    total_marked=[sum([dic[j] for j in dic if j[1]==i]) for i in pop_raw['year'].unique()]\n",
    "\n",
    "    #compute total caught animals in that year\n",
    "    total_caught=pop_raw.groupby('year').count()['Microchip'].tolist()\n",
    "\n",
    "    #compute the difference between caught and recaptured\n",
    "    total_unmarked=[total_caught[i]-total_marked[i] for i in range(len(total_caught))]\n",
    "\n",
    "    #always release animals caught\n",
    "    total_released=total_caught\n",
    "\n",
    "    total_caught_after=[]\n",
    "    total_recapture=[]\n",
    "    for i in pop_raw['year'].unique():\n",
    "        year_before=[j for j in pop_raw['year'].unique() if j<i]\n",
    "        year_after=[j for j in pop_raw['year'].unique() if j>i]\n",
    "\n",
    "        #compute the animals caught before that year and recaptured after that year\n",
    "        total_caught_after.append(sum([dic[(j,k)] for j in year_before for k in year_after]))\n",
    "\n",
    "        #compute the animals caught that year and recaptured after that year\n",
    "        total_recapture.append(sum([dic[(i,k)] for k in year_after]))\n",
    "\n",
    "    #estimate the population\n",
    "    pop_est=[]\n",
    "    for i in range(len(total_caught_after)):\n",
    "        portions_animals_marked=((total_marked[i]+1)/(total_released[i]+1))\n",
    "        estimated_marked_population=((total_released[i]+1)*total_caught_after[i])/(total_recapture[i]+1)+total_marked[i]\n",
    "        num=estimated_marked_population/portions_animals_marked\n",
    "        pop_est.append(num)\n",
    "\n",
    "    export_region=pd.DataFrame()\n",
    "    export_region['year']=pop_raw['year'].unique()\n",
    "    export_region['population']=pop_est\n",
    "    export_region['id']=str(region)\n",
    "    export_total=pd.concat([export_region,export_total])\n",
    "\n",
    "#remove zero\n",
    "export_total=export_total[export_total['population']!=0]\n",
    "export_total.reset_index(inplace=True,drop=True)"
   ]
  },
  {
   "cell_type": "markdown",
   "id": "27b2468b",
   "metadata": {},
   "source": [
    "### disease threshold"
   ]
  },
  {
   "cell_type": "code",
   "execution_count": 12,
   "id": "f8a35843",
   "metadata": {},
   "outputs": [],
   "source": [
    "#read\n",
    "os.chdir('C:/Users/tm/Downloads/utas/thesis/chapter1/tasmania/data')\n",
    "disease=pd.read_csv('disease arrival.csv')\n",
    "\n",
    "#convert to tuple\n",
    "disease['id']=disease['id'].apply(lambda x:ast.literal_eval(x))\n",
    "export_total['id']=export_total['id'].apply(lambda x:ast.literal_eval(x))\n",
    "export_total['year']=export_total['year'].astype(float)"
   ]
  },
  {
   "cell_type": "code",
   "execution_count": 13,
   "id": "0d4a4765",
   "metadata": {},
   "outputs": [],
   "source": [
    "#get dftd arrival\n",
    "correction=disease.merge(export_total,on='id',how='right')\n",
    "correction['dftd']=np.where(correction['year_x']>=correction['year_y'],0,1)\n",
    "\n",
    "#get northwest\n",
    "ind1=correction[correction['id'].apply(lambda x:x[1])<=10].index\n",
    "\n",
    "#get pre dftd based on cunningham et al. 2021\n",
    "ind2=correction[correction['dftd']==0].index\n",
    "\n",
    "#get pre disease data\n",
    "pre_dftd=correction.loc[list(set(ind1).union(ind2))]"
   ]
  },
  {
   "cell_type": "code",
   "execution_count": 14,
   "id": "545b7820",
   "metadata": {},
   "outputs": [],
   "source": [
    "#get tasmania land\n",
    "bioreg=pd.read_csv('bioreg.csv')\n",
    "bioreg['id']=bioreg['id'].apply(lambda x:ast.literal_eval(x))"
   ]
  },
  {
   "cell_type": "code",
   "execution_count": 21,
   "id": "8e92f3b0",
   "metadata": {},
   "outputs": [],
   "source": [
    "zz=pre_dftd.groupby('id').mean()\n",
    "zz=zz.reset_index()"
   ]
  },
  {
   "cell_type": "code",
   "execution_count": 24,
   "id": "71566961",
   "metadata": {},
   "outputs": [
    {
     "data": {
      "image/png": "[encoded data removed]",
      "text/plain": [
       "<Figure size 640x480 with 1 Axes>"
      ]
     },
     "metadata": {},
     "output_type": "display_data"
    }
   ],
   "source": [
    "#generate raster\n",
    "hs=np.zeros((gridlen,gridlen))\n",
    "\n",
    "for i in bioreg.index:\n",
    "    hs[bioreg.at[i,'id']]=1\n",
    "for i in zz.index:\n",
    "    hs[zz.at[i,'id']]=zz.at[i,'population']\n",
    "hs=np.flip(hs,axis=0)\n",
    "\n",
    "hs[hs==0]=np.nan\n",
    "\n",
    "#viz\n",
    "import matplotlib.pyplot as plt\n",
    "plt.imshow(hs,cmap='RdBu_r',vmin=hs[~np.isnan(hs)].min(),\n",
    "           vmax=hs[~np.isnan(hs)].max())\n",
    "plt.title('validation map for monitoring sites')\n",
    "plt.axis('off')\n",
    "plt.show()"
   ]
  },
  {
   "cell_type": "code",
   "execution_count": 16,
   "id": "abf2921a",
   "metadata": {},
   "outputs": [
    {
     "name": "stderr",
     "output_type": "stream",
     "text": [
      "C:\\Users\\tm\\AppData\\Local\\Temp\\ipykernel_49620\\83024374.py:3: SettingWithCopyWarning: \n",
      "A value is trying to be set on a copy of a slice from a DataFrame.\n",
      "Try using .loc[row_indexer,col_indexer] = value instead\n",
      "\n",
      "See the caveats in the documentation: https://pandas.pydata.org/pandas-docs/stable/user_guide/indexing.html#returning-a-view-versus-a-copy\n",
      "  final['index']=final['id'].apply(lambda x: (gridlen-1-x[0])*gridlen+x[1])\n"
     ]
    }
   ],
   "source": [
    "#validation target of monitoring sites\n",
    "final=pre_dftd[['id','year_y','population']]\n",
    "final['index']=final['id'].apply(lambda x: (gridlen-1-x[0])*gridlen+x[1])\n",
    "final.columns=final.columns.str.replace('year_y','year')"
   ]
  },
  {
   "cell_type": "code",
   "execution_count": 17,
   "id": "5ce158bc",
   "metadata": {
    "scrolled": false
   },
   "outputs": [],
   "source": [
    "final[['index', 'year', 'population']].to_csv('C:/Users/tm/Downloads/utas/thesis/chapter1/tasmania/poems/valid_monitor.csv',index=False)"
   ]
  },
  {
   "cell_type": "code",
   "execution_count": null,
   "id": "7307e26a",
   "metadata": {},
   "outputs": [],
   "source": []
  }
 ],
 "metadata": {
  "kernelspec": {
   "display_name": "Python 3 (ipykernel)",
   "language": "python",
   "name": "python3"
  },
  "language_info": {
   "codemirror_mode": {
    "name": "ipython",
    "version": 3
   },
   "file_extension": ".py",
   "mimetype": "text/x-python",
   "name": "python",
   "nbconvert_exporter": "python",
   "pygments_lexer": "ipython3",
   "version": "3.8.17"
  },
  "toc": {
   "base_numbering": 1,
   "nav_menu": {},
   "number_sections": true,
   "sideBar": true,
   "skip_h1_title": false,
   "title_cell": "Table of Contents",
   "title_sidebar": "Contents",
   "toc_cell": false,
   "toc_position": {},
   "toc_section_display": true,
   "toc_window_display": false
  }
 },
 "nbformat": 4,
 "nbformat_minor": 5
}
