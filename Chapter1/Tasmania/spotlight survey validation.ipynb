{
 "cells": [
  {
   "cell_type": "code",
   "execution_count": 1,
   "id": "32ad0794",
   "metadata": {},
   "outputs": [],
   "source": [
    "import os\n",
    "import ast\n",
    "import pandas as pd\n",
    "import numpy as np\n",
    "os.chdir('C:/Users/tm/Downloads/utas/thesis/chapter1/tasmania/data')"
   ]
  },
  {
   "cell_type": "code",
   "execution_count": 2,
   "id": "597bc4bf",
   "metadata": {},
   "outputs": [],
   "source": [
    "lonmin=144.165967\n",
    "latmin=-43.833736\n",
    "lonmax=148.576978\n",
    "latmax=-40.349895\n",
    "lat_centre =-42.10904672752227 ; lon_centre = 146.6417533511285;\n",
    "gridlen=35"
   ]
  },
  {
   "cell_type": "markdown",
   "id": "a8c60f5e",
   "metadata": {},
   "source": [
    "### cleanse"
   ]
  },
  {
   "cell_type": "code",
   "execution_count": 3,
   "id": "bf31ce31",
   "metadata": {},
   "outputs": [],
   "source": [
    "df=pd.read_csv('nva.csv')"
   ]
  },
  {
   "cell_type": "code",
   "execution_count": 4,
   "id": "40842d1b",
   "metadata": {},
   "outputs": [],
   "source": [
    "df=df[['LONGITUDE','LATITUDE','OBSERVATION_DATE']]"
   ]
  },
  {
   "cell_type": "code",
   "execution_count": 5,
   "id": "065fae53",
   "metadata": {},
   "outputs": [],
   "source": [
    "df['OBSERVATION_DATE']=pd.to_datetime(df['OBSERVATION_DATE'],format='mixed')\n",
    "df['year']=df['OBSERVATION_DATE'].dt.year\n",
    "df=df[df['year']>=1985]"
   ]
  },
  {
   "cell_type": "code",
   "execution_count": 6,
   "id": "26950120",
   "metadata": {},
   "outputs": [],
   "source": [
    "#assign each coordinate to the grid cell id\n",
    "lonunit=(lonmax-lonmin)/gridlen\n",
    "latunit=(latmax-latmin)/gridlen\n",
    "df['lat num']=(df['LATITUDE']-latmin)//latunit\n",
    "df['lon num']=(df['LONGITUDE']-lonmin)//lonunit\n",
    "df['id']=list(zip(df['lat num'].astype(int),df['lon num'].astype(int)))\n",
    "df.reset_index(inplace=True,drop=True)\n",
    "\n",
    "#remove areas outside of grid cell range\n",
    "for i in range(len(df)):\n",
    "    if int(df['id'][i][0])>=gridlen or \\\n",
    "    int(df['id'][i][-1])>=gridlen or \\\n",
    "    int(df['id'][i][0])<0 or int(df['id'][i][-1])<0:\n",
    "        df.drop(i,inplace=True)"
   ]
  },
  {
   "cell_type": "markdown",
   "id": "e50ebce9",
   "metadata": {},
   "source": [
    "### disease threshold"
   ]
  },
  {
   "cell_type": "code",
   "execution_count": 7,
   "id": "ef11a38b",
   "metadata": {},
   "outputs": [],
   "source": [
    "#read\n",
    "os.chdir('C:/Users/tm/Downloads/utas/thesis/chapter1/tasmania/data')\n",
    "disease=pd.read_csv('disease arrival.csv')\n",
    "\n",
    "#convert to tuple\n",
    "disease['id']=disease['id'].apply(lambda x:ast.literal_eval(x))"
   ]
  },
  {
   "cell_type": "code",
   "execution_count": 8,
   "id": "6587b531",
   "metadata": {},
   "outputs": [],
   "source": [
    "#get dftd arrival\n",
    "correction=disease.merge(df,on='id',how='right')\n",
    "\n",
    "#set year to float for comparison and dropna\n",
    "correction['year_x']=correction['year_x'].astype(float)\n",
    "correction['year_y']=correction['year_y'].astype(float)\n",
    "correction=correction.loc[correction['year_x'].dropna().index]\n",
    "correction=correction.loc[correction['year_y'].dropna().index]\n",
    "correction['dftd']=np.where(correction['year_x']>=correction['year_y'],0,1)\n",
    "\n",
    "#get northwest\n",
    "ind1=correction[correction['id'].apply(lambda x:x[1])<=10].index\n",
    "\n",
    "#get pre dftd based on cunningham et al. 2021\n",
    "ind2=correction[correction['dftd']==0].index\n",
    "\n",
    "#get pre disease data\n",
    "pre_dftd=correction.loc[list(set(ind1).union(ind2))]"
   ]
  },
  {
   "cell_type": "code",
   "execution_count": 9,
   "id": "7122c7cb",
   "metadata": {},
   "outputs": [],
   "source": [
    "final=pre_dftd.groupby('id').count()[['dftd']]\n",
    "final.reset_index(inplace=True)\n",
    "final=final[['id','dftd']]\n",
    "final['dftd']=np.log(final['dftd'])+1\n",
    "final['index']=final['id'].apply(lambda x: (gridlen-1-x[0])*gridlen+x[1])\n",
    "final[['index','dftd']].to_csv('C:/Users/tm/Downloads/utas/thesis/chapter1/tasmania/poems/valid_spotlight.csv',index=False)"
   ]
  },
  {
   "cell_type": "code",
   "execution_count": 10,
   "id": "c8a92dd7",
   "metadata": {},
   "outputs": [
    {
     "data": {
      "image/png": "[encoded data removed]",
      "text/plain": [
       "<Figure size 640x480 with 1 Axes>"
      ]
     },
     "metadata": {},
     "output_type": "display_data"
    }
   ],
   "source": [
    "#generate raster\n",
    "hs=np.zeros((gridlen,gridlen))\n",
    "\n",
    "for i in final.index:\n",
    "    hs[final.at[i,'id']]=final.at[i,'dftd']\n",
    "hs=np.flip(hs,axis=0)\n",
    "\n",
    "hs[hs==0]=np.nan\n",
    "\n",
    "#viz\n",
    "import matplotlib.pyplot as plt\n",
    "plt.imshow(hs,cmap='RdBu_r',vmin=hs[~np.isnan(hs)].min(),\n",
    "           vmax=hs[~np.isnan(hs)].max())\n",
    "plt.title('validation map for spotlight survey')\n",
    "plt.axis('off')\n",
    "plt.show()"
   ]
  },
  {
   "cell_type": "code",
   "execution_count": null,
   "id": "2ba9d73b",
   "metadata": {},
   "outputs": [],
   "source": []
  }
 ],
 "metadata": {
  "kernelspec": {
   "display_name": "Python 3 (ipykernel)",
   "language": "python",
   "name": "python3"
  },
  "language_info": {
   "codemirror_mode": {
    "name": "ipython",
    "version": 3
   },
   "file_extension": ".py",
   "mimetype": "text/x-python",
   "name": "python",
   "nbconvert_exporter": "python",
   "pygments_lexer": "ipython3",
   "version": "3.8.17"
  },
  "toc": {
   "base_numbering": 1,
   "nav_menu": {},
   "number_sections": true,
   "sideBar": true,
   "skip_h1_title": false,
   "title_cell": "Table of Contents",
   "title_sidebar": "Contents",
   "toc_cell": false,
   "toc_position": {},
   "toc_section_display": true,
   "toc_window_display": false
  }
 },
 "nbformat": 4,
 "nbformat_minor": 5
}
