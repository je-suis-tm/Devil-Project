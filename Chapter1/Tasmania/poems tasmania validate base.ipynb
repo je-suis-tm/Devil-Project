{
 "cells": [
  {
   "cell_type": "markdown",
   "id": "9dd5113c",
   "metadata": {},
   "source": [
    "## Setup\n",
    "\n",
    "We begin by loading the *poems* package and setting our output directory."
   ]
  },
  {
   "cell_type": "code",
   "execution_count": 1,
   "id": "87e4776a",
   "metadata": {},
   "outputs": [],
   "source": [
    "setwd('C:/Users/tm/Downloads/utas/thesis/chapter1/tasmania/poems')\n",
    "library(poems)\n",
    "OUTPUT_DIR='C:/Users/tm/Downloads/utas/thesis/chapter1/tasmania/poems'\n",
    "\n",
    "# function to round to any arbitrary value\n",
    "round_any <- function(x, accuracy, f = round) {\n",
    "  f(x/ accuracy) * accuracy\n",
    "}"
   ]
  },
  {
   "cell_type": "markdown",
   "id": "0a57820a",
   "metadata": {},
   "source": [
    "### read data"
   ]
  },
  {
   "cell_type": "code",
   "execution_count": 2,
   "id": "84ac1868",
   "metadata": {},
   "outputs": [],
   "source": [
    "#this is the land area of tasmania\n",
    "baselayer=read.csv('baselayer.csv')\n",
    "baselayer=subset(baselayer, grid == 0)\n",
    "landarea=c(as.numeric(row.names(baselayer)))"
   ]
  },
  {
   "cell_type": "code",
   "execution_count": 3,
   "id": "e27e8ee9",
   "metadata": {},
   "outputs": [],
   "source": [
    "#1985-1995\n",
    "# Cunningham et al., 2021\n",
    "population_size=c(#34475,\n",
    " 35924,\n",
    " 38256,\n",
    " 41029,\n",
    " 43487,\n",
    " 44622,\n",
    " 46387,\n",
    " 48845,\n",
    " 50105,\n",
    " 51618,\n",
    " 52437,\n",
    " 53067)"
   ]
  },
  {
   "cell_type": "code",
   "execution_count": 4,
   "id": "e1c08129-969d-4842-af0e-ada7215395d6",
   "metadata": {
    "scrolled": true
   },
   "outputs": [],
   "source": [
    "#this is the validation area of spotlight survey data from nva\n",
    "valid_spotlight=read.csv('valid_spotlight.csv')\n",
    "\n",
    "# Subset valid dataframe based on landarea\n",
    "valid_spotlight=subset(valid_spotlight, index %in% landarea)\n",
    "\n",
    "#reindex based on landarea\n",
    "identity_spotlight=match(valid_spotlight$index,landarea)"
   ]
  },
  {
   "cell_type": "code",
   "execution_count": 5,
   "id": "92d1a3c2-3b43-4f0d-9421-07fd120b6ac0",
   "metadata": {},
   "outputs": [],
   "source": [
    "#this is the validation area of camera trap\n",
    "valid_camera=read.csv('valid_camera.csv')\n",
    "\n",
    "# Subset valid dataframe based on landarea\n",
    "valid_camera=subset(valid_camera, index %in% landarea)\n",
    "\n",
    "#reindex based on landarea\n",
    "identity_camera=match(valid_camera$index,landarea)"
   ]
  },
  {
   "cell_type": "code",
   "execution_count": 6,
   "id": "a7dd411c",
   "metadata": {},
   "outputs": [],
   "source": [
    "#this is the validation area of R drive\n",
    "valid_monitor=read.csv('valid_monitor.csv')\n",
    "\n",
    "# Subset valid dataframe based on landarea\n",
    "valid_monitor=subset(valid_monitor, index %in% landarea)\n",
    "\n",
    "#reindex based on landarea\n",
    "identity_monitor=match(valid_monitor$index,landarea)"
   ]
  },
  {
   "cell_type": "code",
   "execution_count": 7,
   "id": "ce8f8534",
   "metadata": {},
   "outputs": [],
   "source": [
    "#habitat suitability map\n",
    "#estimated via vegetation,altitude and seabird colony\n",
    "# https://github.com/je-suis-tm/Devil-Project/blob/main/Chapter1/Tasman/habitat%20suitability%20tasman.ipynb\n",
    "suitability=read.csv('suitability.csv')\n",
    "\n",
    "\n",
    "floornum=0.1\n",
    "suitability$pred=(suitability$pred-min(suitability$pred))/(max(suitability$pred)-min(suitability$pred))*(1-floornum)+floornum"
   ]
  },
  {
   "cell_type": "markdown",
   "id": "3a22ea4a",
   "metadata": {},
   "source": [
    "### known variables"
   ]
  },
  {
   "cell_type": "code",
   "execution_count": 8,
   "id": "dc2783a4",
   "metadata": {},
   "outputs": [],
   "source": [
    "#dispersal portion and avg distance\n",
    "known_dispersal_p = 0.1945\n",
    "known_dispersal_b =5.821"
   ]
  },
  {
   "cell_type": "code",
   "execution_count": 9,
   "id": "539cac5f",
   "metadata": {},
   "outputs": [],
   "source": [
    "#baseline matrix is estimated via mark recapture data \n",
    "# https://github.com/je-suis-tm/Devil-Project/blob/main/Chapter1/Tasman/baseline%20matrix%2tasman.ipynb\n",
    "leslie_matrix=c(0.        , 0.489, 1.4539, 1.947, 1.5079,0.547 ,\n",
    "                1, 0.        , 0.        , 0.        ,\n",
    "       0.        , 0.        , 0.        , 0.976 , 0.        ,\n",
    "       0.        , 0.        , 0.        , 0.        , 0.        ,\n",
    "       0.899, 0.        , 0.        , 0.        , 0.        ,\n",
    "       0.        , 0.        , 0.84, 0.        , 0.        ,\n",
    "       0.        , 0.        , 0.        , 0.        , 0.791,\n",
    "       0.791      )\n",
    "agegroup=c(\"y0\",\"y1\",\"y2\",\"y3\",\"y4\",\"y5\")"
   ]
  },
  {
   "cell_type": "code",
   "execution_count": 10,
   "id": "bf37115e",
   "metadata": {},
   "outputs": [],
   "source": [
    "#how many grid cells\n",
    "gridlen=35\n",
    "\n",
    "#coordinates extreme value\n",
    "lonmin=144.165967\n",
    "latmin=-43.833736\n",
    "lonmax=148.576978\n",
    "latmax=-40.349895"
   ]
  },
  {
   "cell_type": "code",
   "execution_count": 11,
   "id": "af90ee78",
   "metadata": {},
   "outputs": [],
   "source": [
    "#model start year\n",
    "baseyear=1985\n",
    "\n",
    "#years of simulation\n",
    "simulation_years=40\n",
    "\n",
    "#simulation timeframe per round\n",
    "simulation_intervals=1\n",
    "\n",
    "#number of simulations\n",
    "num_of_sims=5000\n",
    "\n",
    "#max density 2 per sq km, in female model divided by two\n",
    "maxden=100\n",
    "\n",
    "#initial abundance\n",
    "initial_population=34475\n",
    "\n",
    "#validation threshold for camera and spotlight\n",
    "correlation_threshold=0.9\n",
    "\n",
    "#area name\n",
    "areaname='Tasmania'"
   ]
  },
  {
   "cell_type": "markdown",
   "id": "9c65e035",
   "metadata": {},
   "source": [
    "## Workflow\n",
    "\n",
    "The *poems* workflow, which implements a pattern-oriented modeling (POM) approach \n",
    "(Grimm et al., 2005), is achieved via a framework of interoperable components:\n",
    "\n",
    "\n",
    "The workflow is summarized by the following six steps:\n",
    "\n",
    "1. Build the population model for the study region.\n",
    "1. Build generators for dynamically generating model parameters.\n",
    "1. Sample model and generator parameters for each simulation.\n",
    "1. Build a simulation manager to run each simulation.\n",
    "1. Build a results manager to generate summary results (metrics).\n",
    "1. Build a validator to select a model ensemble.\n",
    "\n",
    "### Step 1: Build the population model for the study region\n",
    "Create a model template using the *PopulationModel* class. If the model is spatially\n",
    "explicit, then define the study region via the *Region* class. All fixed model inputs,\n",
    "such as environmental correlations, as well as any user-defined functions for processes\n",
    "such as harvesting, should be set at this stage.\n",
    "\n",
    "We could create these components in any order and set model parameters separately, but \n",
    "let's setup our study region, generate environmental correlations, and define a harvest\n",
    "function prior to initializing the template model with all the fixed parameters.\n",
    "\n",
    "##### Study region\n",
    "First, we'll define our study region tasman with some longitude-latitude\n",
    "coordinates."
   ]
  },
  {
   "cell_type": "code",
   "execution_count": 12,
   "id": "ffa26979",
   "metadata": {},
   "outputs": [
    {
     "data": {
      "text/html": [
       "0.126028885714286"
      ],
      "text/latex": [
       "0.126028885714286"
      ],
      "text/markdown": [
       "0.126028885714286"
      ],
      "text/plain": [
       "[1] 0.1260289"
      ]
     },
     "metadata": {},
     "output_type": "display_data"
    },
    {
     "data": {
      "text/html": [
       "0.0995383142857144"
      ],
      "text/latex": [
       "0.0995383142857144"
      ],
      "text/markdown": [
       "0.0995383142857144"
      ],
      "text/plain": [
       "[1] 0.09953831"
      ]
     },
     "metadata": {},
     "output_type": "display_data"
    }
   ],
   "source": [
    "(lonmax-lonmin)/gridlen\n",
    "(latmax-latmin)/gridlen"
   ]
  },
  {
   "cell_type": "code",
   "execution_count": 13,
   "id": "802c9b41",
   "metadata": {},
   "outputs": [
    {
     "data": {
      "image/png": "[encoded data removed]",
      "text/plain": [
       "Plot with title \"Tasmania\""
      ]
     },
     "metadata": {
      "image/png": {
       "height": 420,
       "width": 420
      }
     },
     "output_type": "display_data"
    }
   ],
   "source": [
    "#build the raster of channel\n",
    "coordinates <- data.frame(x = rep(seq(lonmin, lonmax, 0.127028885714286), gridlen),\n",
    "                          y = rep(seq(latmin, latmax, 0.1005383142857144),each= gridlen))\n",
    "template_raster <- Region$new(coordinates = coordinates)$region_raster # full extent\n",
    "template_raster[][-landarea] <- NA \n",
    "\n",
    "region <- Region$new(template_raster = template_raster)\n",
    "\n",
    "raster::plot(region$region_raster, main = areaname,\n",
    "             xlab = \"Longitude (degrees)\", ylab = \"Latitude (degrees)\",\n",
    "             colNA = \"blue\",)"
   ]
  },
  {
   "cell_type": "markdown",
   "id": "6df0281d",
   "metadata": {},
   "source": [
    "##### Environmental correlation\n",
    "Next, we'll define a distance-based spatial correlation for applying environmental \n",
    "stochasticity within our model. The generated correlation data is compacted for \n",
    "computational efficiency (with large-scale models)."
   ]
  },
  {
   "cell_type": "code",
   "execution_count": 14,
   "id": "f2539a41",
   "metadata": {},
   "outputs": [],
   "source": [
    "# Distance-based environmental correlation (via a compacted Cholesky decomposition)\n",
    "env_corr <- SpatialCorrelation$new(region = region, amplitude = 0.4, breadth = 500)\n",
    "correlation <- env_corr$get_compact_decomposition(decimals = 2)"
   ]
  },
  {
   "cell_type": "markdown",
   "id": "9d5ad1f2",
   "metadata": {},
   "source": [
    "##### Template model\n",
    "Finally, we can build our template model with these and other fixed parameters.\n",
    "\n",
    "[0. , 0.489, 1.4539, 1.947, 1.5079,0.547]\n",
    "\n",
    "[1.0, 0.0, 0.0, 0.0, 0.0, 0.0]\n",
    "\n",
    "[0.0, 0.976, 0.0, 0.0, 0.0, 0.0]\n",
    "\n",
    "[0.0, 0.0, 0.899, 0.0, 0.0, 0.0]\n",
    "\n",
    "[0.0, 0.0, 0.0, 0.84, 0.0, 0.0]\n",
    "\n",
    "[0.0, 0.0, 0.0, 0.0, 0.791, 0.0]"
   ]
  },
  {
   "cell_type": "code",
   "execution_count": 15,
   "id": "c97af2c7",
   "metadata": {},
   "outputs": [],
   "source": [
    "# siska=c(0. , 0.13, 1.3, 1.65,1.21,0,\n",
    "\n",
    "# 0.81, 0.0, 0.0, 0.0, 0.0, 0.0,\n",
    "\n",
    "# 0.0, 0.81, 0.0, 0.0, 0.0, 0.0,\n",
    "\n",
    "# 0.0, 0.0, 0.84, 0.0, 0.0, 0.0,\n",
    "\n",
    "# 0.0, 0.0, 0.0, 0.85, 0.0, 0.0,\n",
    "\n",
    "# 0.0, 0.0, 0.0, 0.0, 0.67, 0.0)\n",
    "\n",
    "# durrant=c(0. , 0.42, 1.42, 1.12, 0,0,\n",
    "\n",
    "# 0.989, 0.0, 0.0, 0.0, 0.0, 0.0,\n",
    "\n",
    "# 0.0, 0.996, 0.0, 0.0, 0.0, 0.0,\n",
    "\n",
    "# 0.0, 0.0, 0.994, 0.0, 0.0, 0.0,\n",
    "\n",
    "# 0.0, 0.0, 0.0, 0.995, 0.0, 0.0,\n",
    "\n",
    "# 0.0, 0.0, 0.0, 0.0, 0.988, 0.0)\n",
    "\n",
    "# eigen_result <- eigen(matrix(durrant,nrow=6,ncol=6))\n",
    "\n",
    "# # Step 3: Identify the dominant eigenvalue (largest absolute value)\n",
    "# max(abs(eigen_result$values))"
   ]
  },
  {
   "cell_type": "code",
   "execution_count": 16,
   "id": "dbbd0c02",
   "metadata": {},
   "outputs": [],
   "source": [
    "# Build a stage matrix generator based on density dependant growth\n",
    "stage_matrix_gen <- Generator$new(\n",
    "  description = \"stage matrix\",\n",
    "  region_indices=region$region_indices,\n",
    "  base_matrix = matrix(leslie_matrix, nrow = length(agegroup), ncol = length(agegroup), byrow = TRUE,\n",
    "                       dimnames = list(agegroup,agegroup )),\n",
    "  inputs = c(\"growth_rate_max\",\"initial_n\", \"density_max\"),\n",
    "  outputs = c(\"stage_matrix\"),\n",
    "  generative_requirements = list(stage_matrix = \"function\"))\n",
    "stage_matrix_gen$add_function_template(\n",
    "  \"stage_matrix\",\n",
    "  function_def = function (params) {\n",
    "    return(params$base_matrix*(1-params$initial_n/(params$density_max*length(params$region_indices))))\n",
    "  },\n",
    "  call_params = c(\"base_matrix\", \"growth_rate_max\",\"initial_n\", \"density_max\",\"region_indices\"))"
   ]
  },
  {
   "cell_type": "markdown",
   "id": "dab97159",
   "metadata": {},
   "source": [
    "### Step 2: Build generators for dynamically generating model parameters\n",
    "Some model parameters are single values, whilst others are represented as arrays and\n",
    "other multi-value data structures. Usually, we don't wish to sample each individual \n",
    "value within these multi-value parameters (in step 3), but to generate them dynamically\n",
    "via one or more intermediate sampled parameters. Here we build generators for model \n",
    "initial abundance, carrying capacity, and dispersal.\n",
    "\n",
    "##### Habitat suitability\n",
    "Firstly, our initial abundance and carrying capacity generator utilizes an example\n",
    "(mock) habitat suitability for our defined study region. "
   ]
  },
  {
   "cell_type": "code",
   "execution_count": 17,
   "id": "8e4993e7",
   "metadata": {},
   "outputs": [
    {
     "data": {
      "image/png": "[encoded data removed]",
      "text/plain": [
       "Plot with title \"Habitat suitability of Tasmania\""
      ]
     },
     "metadata": {
      "image/png": {
       "height": 420,
       "width": 420
      }
     },
     "output_type": "display_data"
    }
   ],
   "source": [
    "# Example habitat suitability\n",
    "example_hs=suitability$pred\n",
    "example_hs_raster <- region$region_raster\n",
    "example_hs_raster[region$region_indices] <- example_hs\n",
    "raster::plot(example_hs_raster, main = \"Habitat suitability of Tasmania\",\n",
    "#              xlab = \"Longitude (degrees)\", ylab = \"Latitude (degrees)\",\n",
    "             colNA = \"white\", axes = FALSE)"
   ]
  },
  {
   "cell_type": "markdown",
   "id": "089ddad7",
   "metadata": {},
   "source": [
    "##### Initial abundance and carrying capacity generator\n",
    "The generator utilizes generic template functionality for user-defined custom\n",
    "functions. It uses sampled input parameters (initial total abundance and maximum cell\n",
    "density), along with habitat suitability, to generate the desired output model \n",
    "parameters (initial abundance and carrying capacity) via these user-defined functions. \n",
    "Generators can also be configured to read values from files or generate values via \n",
    "probabilistic distributions. "
   ]
  },
  {
   "cell_type": "code",
   "execution_count": 18,
   "id": "ed3b286e",
   "metadata": {},
   "outputs": [],
   "source": [
    "# Initial abundance and carrying capacity generated via example habitat suitability\n",
    "capacity_gen <- Generator$new(description = \"Capacity generator\",\n",
    "                              example_hs = example_hs, # template attached\n",
    "                              inputs = c(\"initial_n\", \"density_max\"),\n",
    "                              outputs = c(\"initial_abundance\", \"carrying_capacity\"))\n",
    "capacity_gen$add_generative_requirements(list(initial_abundance = \"function\",\n",
    "                                              carrying_capacity = \"function\"))\n",
    "capacity_gen$add_function_template(\"initial_abundance\",\n",
    "                                   function_def = function(params) {\n",
    "#                                        stats::rmultinom(1, size = params$initial_n,\n",
    "#                                                       prob = params$example_hs)[,1]\n",
    "                                       \n",
    "                                       round(params$initial_n/sum(params$example_hs)*params$example_hs)\n",
    "                                   },\n",
    "                                   call_params = c(\"initial_n\", \"example_hs\"))\n",
    "capacity_gen$add_function_template(\"carrying_capacity\",\n",
    "                                   function_def = function(params) {\n",
    "                                     round(params$density_max*params$example_hs)\n",
    "                                   },\n",
    "                                   call_params = c(\"density_max\", \"example_hs\"))"
   ]
  },
  {
   "cell_type": "code",
   "execution_count": 19,
   "id": "8c8a7dac",
   "metadata": {},
   "outputs": [],
   "source": [
    "dispersal_friction <- DispersalFriction$new(\n",
    "   region = region,\n",
    "   conductance = example_hs\n",
    " )"
   ]
  },
  {
   "cell_type": "code",
   "execution_count": 20,
   "id": "1077f095",
   "metadata": {},
   "outputs": [],
   "source": [
    "# Distance-based dispersal generator\n",
    "# https://github.com/je-suis-tm/Devil-Project/blob/main/Chapter1/Tasmania/dispersal%20estimate%20tasmania.ipynb\n",
    "dispersal_gen <- DispersalGenerator$new(region = region,\n",
    "                                        dispersal_max_distance = 400, # in km \n",
    "                                        distance_scale = 1000,\n",
    "                                        dispersal_friction =  dispersal_friction,\n",
    "                                        inputs = c(\"dispersal_p\", \"dispersal_b\"),\n",
    "                                        decimals = 5)\n",
    "dispersal_gen$calculate_distance_data() # pre-calculate\n",
    "# test_dispersal <- dispersal_gen$generate(input_values = list(dispersal_p = known_dispersal_p, \n",
    "#                                                              dispersal_b = known_dispersal_b))\n",
    "#head(test_dispersal$dispersal_data[[1]])"
   ]
  },
  {
   "cell_type": "markdown",
   "id": "d6035b33",
   "metadata": {},
   "source": [
    "##### Density Dependence"
   ]
  },
  {
   "cell_type": "code",
   "execution_count": 21,
   "id": "2a814855",
   "metadata": {},
   "outputs": [],
   "source": [
    "# Define neighborhoods based on a 12 km home range from each \n",
    "# grid cell for density dependence calculations (using a dispersal generator)\n",
    "distance_data <- dispersal_gen$distance_data[[1]]\n",
    "nh_data <- distance_data[which(distance_data$distance_class <= 19), 2:1]\n",
    "\n",
    "neighborhoods <- as.list(1:length(landarea))\n",
    "for (i in 1:nrow(nh_data)) {\n",
    "  neighborhoods[[nh_data$source_pop[i]]] <- c(neighborhoods[[nh_data$source_pop[i]]],\n",
    "                                               nh_data$target_pop[i])\n",
    "}\n",
    "#neighborhoods[1:3] # examine"
   ]
  },
  {
   "cell_type": "code",
   "execution_count": 22,
   "id": "ed5b6c1f",
   "metadata": {},
   "outputs": [],
   "source": [
    "# User-defined function for Ricker logistic density dependence via neighborhoods\n",
    "density_dependence <- list(\n",
    "  neighborhoods = neighborhoods,\n",
    "  function (params) {\n",
    "    \n",
    "    # Apply logistic density dependence using neighborhoods\n",
    "    growth_rate_max <- params$growth_rate_max\n",
    "    nh_density_abundance <- unlist(lapply(params$neighborhoods,\n",
    "                                          function (nh_indices) {\n",
    "                                            sum(params$density_abundance[nh_indices])\n",
    "                                          }))\n",
    "    nh_carrying_capacity <- unlist(lapply(params$neighborhoods,\n",
    "                                          function (nh_indices) {\n",
    "                                            sum(params$carrying_capacity[nh_indices])\n",
    "                                          }))\n",
    "    occupied_indices <- params$occupied_indices\n",
    "    growth_rate <- (1 - (nh_density_abundance[occupied_indices]/\n",
    "                                           nh_carrying_capacity[occupied_indices]))\n",
    "    params$transition_array[, , occupied_indices] <-\n",
    "      params$apply_multipliers(params$transition_array[, , occupied_indices],\n",
    "                               params$calculate_multipliers(growth_rate))\n",
    "    \n",
    "    \n",
    "    # Remove fecundities for single thylacines\n",
    "    single_indices <- which(nh_density_abundance == 1)\n",
    "    params$transition_array[, , single_indices] <-\n",
    "      (params$transition_array[, , single_indices]*as.vector(+(!params$fecundity_mask)))\n",
    "    \n",
    "    return(params$transition_array)\n",
    "  }\n",
    ")"
   ]
  },
  {
   "cell_type": "code",
   "execution_count": 23,
   "id": "9b9d118c",
   "metadata": {},
   "outputs": [],
   "source": [
    "#stage_matrix # examine\n",
    "model_template <- PopulationModel$new(region = region,\n",
    "                                      time_steps = simulation_years, # years\n",
    "                                      years_per_step = simulation_intervals,\n",
    "                                      populations = region$region_cells, \n",
    "                                      stages = length(agegroup),\n",
    "                                      stage_matrix = stage_matrix_gen$stage_matrix,\n",
    "                                      #demographic_stochasticity = TRUE,\n",
    "                                      #standard_deviation = 0.01,\n",
    "                                      correlation = correlation,\n",
    "                                      density_dependence = \"logistic\",\n",
    "                                      results_selection = c(\"abundance\"),\n",
    "                                      simulation_order = c( \"transition\", \"dispersal\",\"results\"))"
   ]
  },
  {
   "cell_type": "markdown",
   "id": "61c49a94",
   "metadata": {},
   "source": [
    "### Step 3: Sample model and generator parameters for each simulation\n",
    "In order to explore the model parameter space to find the best models, we generate\n",
    "Latin hypercube samples of model and generator parameters to be simulated, using the\n",
    "*LatinHypercubeSampler* class. This class has functionality for generating sample\n",
    "parameters via Uniform, Normal, Lognormal, Beta, and Triangular distributions."
   ]
  },
  {
   "cell_type": "code",
   "execution_count": 23,
   "id": "25da1402",
   "metadata": {
    "scrolled": true
   },
   "outputs": [],
   "source": [
    "# Generate sampled values for variable model parameters via LHS\n",
    "lhs_gen <- LatinHypercubeSampler$new()\n",
    "\n",
    "#set as wide as possible\n",
    "lhs_gen$set_uniform_parameter(\"growth_rate_max\", lower = 0.1, upper = 0.7, decimals = 2)\n",
    "\n",
    "#automatically fetched\n",
    "lhs_gen$set_uniform_parameter(\"density_max\", lower = as.integer(maxden*0.4), \n",
    "                              upper = as.integer(maxden*2.5), decimals = 2)\n",
    "lhs_gen$set_uniform_parameter(\"initial_n\", lower = 10000,\n",
    "                              upper = 20000,\n",
    "                              decimals = 0)\n",
    "lhs_gen$set_uniform_parameter(\"dispersal_b\", lower = 1,\n",
    "                              upper = 50, decimals = 0)\n",
    "lhs_gen$set_uniform_parameter(\"dispersal_p\", lower = 0.1, upper = 0.7, decimals = 2)\n",
    "sample_data <- lhs_gen$generate_samples(number = num_of_sims)\n",
    "\n",
    "#remove max capacity smaller than initial population\n",
    "sample_data=sample_data[sample_data$density_max*length(landarea)>=sample_data$initial_n,]\n",
    "num_of_sims=length(row.names(sample_data))\n",
    "\n",
    "#save as pickle\n",
    "save(sample_data, file=\"sample data.Rda\")"
   ]
  },
  {
   "cell_type": "markdown",
   "id": "01d3a46a",
   "metadata": {},
   "source": [
    "### Step 4: Build a simulation manager to run each simulation\n",
    "We now wish to run a simulation for each set (or row) of sampled parameters. The\n",
    "*SimulationManager* class manages the generation of parameters (via the generators),\n",
    "the running the model simulations, and writing simulation results to disk. It also\n",
    "maintains a log of each simulation's success and any errors or warnings encountered."
   ]
  },
  {
   "cell_type": "code",
   "execution_count": 24,
   "id": "5175e5b3",
   "metadata": {},
   "outputs": [
    {
     "data": {
      "text/html": [
       "'5000 of 5000 sample models ran and saved results successfully'"
      ],
      "text/latex": [
       "'5000 of 5000 sample models ran and saved results successfully'"
      ],
      "text/markdown": [
       "'5000 of 5000 sample models ran and saved results successfully'"
      ],
      "text/plain": [
       "[1] \"5000 of 5000 sample models ran and saved results successfully\""
      ]
     },
     "metadata": {},
     "output_type": "display_data"
    }
   ],
   "source": [
    "# Create a simulation manager and run the sampled model simulations\n",
    "sim_manager <- SimulationManager$new(sample_data = sample_data,\n",
    "                                     model_template = model_template,\n",
    "                                     generators = list(capacity_gen, stage_matrix_gen, dispersal_gen),\n",
    "                                     parallel_cores = 6,\n",
    "                                     results_dir = OUTPUT_DIR)\n",
    "run_output <- sim_manager$run(results_dir = tempdir())\n",
    "run_output$summary\n",
    "#dir(OUTPUT_DIR, \"*.RData\") # includes result files \n",
    "#dir(OUTPUT_DIR, \"*.txt\") # plus simulation log"
   ]
  },
  {
   "cell_type": "code",
   "execution_count": 25,
   "id": "4e792e5a",
   "metadata": {},
   "outputs": [],
   "source": [
    "#get time id and space id\n",
    "valid_monitor$yearid=valid_monitor$year-baseyear\n",
    "valid_monitor$reindex=identity_monitor\n",
    "\n",
    "# Create a list to store the functions\n",
    "summary_functions <- list()\n",
    "\n",
    "# Programmatically define the functions and add them to the list\n",
    "for (i in 1:length(rownames(valid_monitor))) {\n",
    "    #results refer to actual output rdata file from simulation manager\n",
    "  summary_functions[[paste0(\"p\", i)]] <- function(results,sid,tid,idx) {\n",
    "    results$abundance[results$sid[results$idx],results$tid[results$idx]]\n",
    "  }\n",
    "}\n",
    "\n",
    "#add correlation of non parametric ranking\n",
    "for (i in 1:simulation_years) {\n",
    "    #results refer to actual output rdata file from simulation manager\n",
    "  summary_functions[[paste0(\"rho_spotlight\", i)]] <- function(results,identity_spotlight,rank_act_spotlight,\n",
    "                                                             sim_yrs) {\n",
    "    rank_est <- rank(results$abundance[identity_spotlight,sim_yrs])\n",
    "    cor(rank_est,rank_act_spotlight)\n",
    "  }\n",
    "}\n",
    "\n",
    "for (i in 1:simulation_years) {\n",
    "    #results refer to actual output rdata file from simulation manager\n",
    "  summary_functions[[paste0(\"rho_camera\", i)]] <- function(results,identity_camera,rank_act_camera,\n",
    "                                                             sim_yrs) {\n",
    "    rank_est <- rank(results$abundance[identity_camera,sim_yrs])\n",
    "    cor(rank_est,rank_act_camera)\n",
    "  }\n",
    "}\n",
    "\n",
    "\n",
    "for (i in 1:length(population_size)) {\n",
    "    #results refer to actual output rdata file from simulation manager\n",
    "  summary_functions[[paste0(\"total\", i)]] <- function(results,pop_size) {\n",
    "    results$all$abundance[pop_size]\n",
    "  }\n",
    "}\n",
    "\n",
    "# Add the additional required function to the list\n",
    "summary_functions[[\"n\"]] <- \"abundance\""
   ]
  },
  {
   "cell_type": "code",
   "execution_count": 26,
   "id": "fd2dee13",
   "metadata": {},
   "outputs": [
    {
     "data": {
      "text/html": [
       "'0 of 5000 summary metrics/matrices generated from sample results successfully'"
      ],
      "text/latex": [
       "'0 of 5000 summary metrics/matrices generated from sample results successfully'"
      ],
      "text/markdown": [
       "'0 of 5000 summary metrics/matrices generated from sample results successfully'"
      ],
      "text/plain": [
       "[1] \"0 of 5000 summary metrics/matrices generated from sample results successfully\""
      ]
     },
     "metadata": {},
     "output_type": "display_data"
    }
   ],
   "source": [
    "# Create the ResultsManager object with summary_functions assigned\n",
    "results_manager <-ResultsManager$new(\n",
    "  simulation_manager = sim_manager,\n",
    "  simulation_results = PopulationResults$new(),\n",
    "  summary_metrics = paste0(\"p\", 1:length(rownames(valid_monitor))),\n",
    "  summary_matrices = c(\"n\"),\n",
    "  tid=valid_monitor$yearid,\n",
    "  sid=valid_monitor$reindex,\n",
    "  idx=1:length(rownames(valid_monitor)),\n",
    "  sim_yrs=1:simulation_years,\n",
    "  pop_size=1:length(population_size),\n",
    "  rank_act_spotlight=order(order(valid_spotlight$dftd)),\n",
    "  rank_act_camera=order(order(valid_camera$rel_abun)),\n",
    "  summary_functions=summary_functions,  # Assign summary_functions here\n",
    "  parallel_cores = 6\n",
    ")\n",
    "\n",
    "gen_output <- results_manager$generate()\n",
    "gen_output$summary\n",
    "#dir(OUTPUT_DIR, \"*.txt\") # plus generation log\n",
    "# results_manager$summary_metric_data\n",
    "# results_manager$summary_matrix_list"
   ]
  },
  {
   "cell_type": "code",
   "execution_count": 34,
   "id": "e0db6d23",
   "metadata": {},
   "outputs": [],
   "source": [
    "#monitor sites\n",
    "tid=valid_monitor$yearid\n",
    "sid=valid_monitor$reindex\n",
    "raw_mat=results_manager$summary_matrix_list$n\n",
    "\n",
    "#find validation target in abundance matrix\n",
    "valid_target <- matrix(ncol = length(rownames(valid_monitor)), nrow = num_of_sims)  \n",
    "for (i in 1:length(rownames(valid_monitor))) {\n",
    "  valid_target[,i] <- raw_mat[,(tid[i]-1)*length(landarea)+sid[i]]}\n",
    "results_manager$summary_metric_data[paste0(\"p\", 1:length(rownames(valid_monitor)))]=valid_target"
   ]
  },
  {
   "cell_type": "code",
   "execution_count": 137,
   "id": "829cfa2f",
   "metadata": {},
   "outputs": [],
   "source": [
    "#calculate correlation for camera validation target\n",
    "rank_act=order(order(valid_camera$rel_abun))\n",
    "    \n",
    "rho_camera <- numeric(0)\n",
    "for (i in 1:num_of_sims){\n",
    "    first_row <- raw_mat[i, ]\n",
    "    reshaped=t(matrix(first_row,ncol = simulation_years,\n",
    "                    nrow = length(landarea)))\n",
    "    reshaped[is.na(reshaped)] <- 0 \n",
    "    for (j in 1:simulation_years) {\n",
    "    rank_est=order(order(reshaped[j,identity_camera]))    \n",
    "    rho_camera <- c(rho_camera, cor(rank_act,rank_est))\n",
    "        }\n",
    "}\n",
    "\n",
    "results_manager$summary_metric_data[paste0(\"rho_camera\", 1:simulation_years)]=t(matrix(rho_camera,nrow = simulation_years,\n",
    "                    ncol = num_of_sims))"
   ]
  },
  {
   "cell_type": "code",
   "execution_count": 138,
   "id": "07c6aab6",
   "metadata": {
    "scrolled": true
   },
   "outputs": [],
   "source": [
    "#calculate correlation for spotlight validation target\n",
    "rank_act=order(order(valid_spotlight$dftd))\n",
    "    \n",
    "rho_spotlight <- numeric(0)\n",
    "for (i in 1:num_of_sims){\n",
    "    first_row <- raw_mat[i, ]\n",
    "    reshaped=t(matrix(first_row,ncol = simulation_years,\n",
    "                    nrow = length(landarea)))\n",
    "    reshaped[is.na(reshaped)] <- 0 \n",
    "    for (j in 1:simulation_years) {\n",
    "    rank_est=order(order(reshaped[j,identity_spotlight]))    \n",
    "    rho_spotlight <- c(rho_spotlight, cor(rank_act,rank_est))\n",
    "        }\n",
    "}\n",
    "\n",
    "results_manager$summary_metric_data[paste0(\"rho_spotlight\", 1:simulation_years)]=t(matrix(rho_spotlight,nrow = simulation_years,\n",
    "                    ncol = num_of_sims))"
   ]
  },
  {
   "cell_type": "code",
   "execution_count": 45,
   "id": "31816a60",
   "metadata": {
    "scrolled": true
   },
   "outputs": [],
   "source": [
    "#calculate total abundance\n",
    "pop_est=numeric(0)\n",
    "for (i in 1:num_of_sims)\n",
    "{\n",
    "for (j in 1:length(population_size)){\n",
    "    first_row <- raw_mat[i, ]\n",
    "    reshaped=t(matrix(first_row,ncol = simulation_years,\n",
    "                    nrow = length(landarea)))\n",
    "    reshaped[is.na(reshaped)] <- 0 \n",
    "    pop_est <- c(pop_est, sum(reshaped[j,]))\n",
    "}\n",
    "    }\n",
    "results_manager$summary_metric_data[paste0(\"total\", 1:length(population_size))]=t(matrix(pop_est,nrow = length(population_size),\n",
    "                    ncol = num_of_sims))"
   ]
  },
  {
   "cell_type": "code",
   "execution_count": 139,
   "id": "d0df290e",
   "metadata": {},
   "outputs": [],
   "source": [
    "#save as pickle\n",
    "save(results_manager, file=\"models.Rda\")"
   ]
  },
  {
   "cell_type": "markdown",
   "id": "c19bd8b6",
   "metadata": {},
   "source": [
    "### Step 6: Build a validator to select a model ensemble\n",
    "We now select and analyze our 'best' models via a *Validator* class object, which by\n",
    "default utilizes an approximate Bayesian computation (ABC) approach (Beaumont, Zhang, \n",
    "& Balding, 2002) provided by the *abc* library (Csillery et al., 2015). The validator\n",
    "can be configured appropriately for a problem domain (see the *abc* documentation). \n",
    "Here we use the default configuration to select the best 3 models, along with a weight\n",
    "value, which is indicative of the congruence between each model's summary metrics and \n",
    "the corresponding target patterns. Also provided (with the default settings) is a \n",
    "diagnostic output (PDF) file, containing statistical information for analyzing the \n",
    "contribution of model parameters in the selection/validation process (see the *abc* \n",
    "documentation). For our simple demonstration the metrics and corresponding targets are \n",
    "relatively trivial, having the aim of producing stable population abundances with high \n",
    "harvest. However, the package facilitates the use more complex spatio-temporal metrics \n",
    "and targets (demonstrated in more advanced vignettes)."
   ]
  },
  {
   "cell_type": "code",
   "execution_count": 24,
   "id": "0a7d304d",
   "metadata": {},
   "outputs": [],
   "source": [
    "#load pickle files so no need to retrain\n",
    "load(\"models.Rda\")\n",
    "load(\"sample data.Rda\")\n",
    "\n",
    "\n",
    "raw_mat=results_manager$summary_matrix_list$n"
   ]
  },
  {
   "cell_type": "code",
   "execution_count": 25,
   "id": "fe341289",
   "metadata": {
    "scrolled": true
   },
   "outputs": [
    {
     "data": {
      "text/html": [
       "0"
      ],
      "text/latex": [
       "0"
      ],
      "text/markdown": [
       "0"
      ],
      "text/plain": [
       "[1] 0"
      ]
     },
     "metadata": {},
     "output_type": "display_data"
    }
   ],
   "source": [
    "#showna\n",
    "validation_var=results_manager$summary_metric_data\n",
    "length(row.names(validation_var[!complete.cases(validation_var),]))/length(row.names(validation_var))"
   ]
  },
  {
   "cell_type": "code",
   "execution_count": 26,
   "id": "cea6e9cc",
   "metadata": {},
   "outputs": [],
   "source": [
    "\n",
    "validation_var=validation_var[complete.cases(validation_var),]\n",
    "sample_data=sample_data[validation_var$index,]\n",
    "selected_mat=raw_mat[validation_var$index,]\n",
    "selected_mat[is.na(selected_mat)] <- 0 \n",
    "row.names(sample_data) <- NULL\n",
    "row.names(validation_var) <- NULL\n",
    "validation_var$index=1:length(row.names(validation_var))"
   ]
  },
  {
   "cell_type": "code",
   "execution_count": 27,
   "id": "e7b6dc6f",
   "metadata": {},
   "outputs": [],
   "source": [
    "# #fill na with zero for those who got non na correlation\n",
    "# na_index <- which(!is.na(validation_var$rho_spotlight))\n",
    "# subset <- validation_var[na_index, ]\n",
    "# subset[is.na(subset)]=0\n",
    "# validation_var=rbind(validation_var[is.na(validation_var$rho_spotlight),],subset)\n",
    "\n",
    "# #list of na\n",
    "# remove_index=which(!complete.cases(validation_var))\n",
    "\n",
    "# # Create a validator for selecting the 'best' example models\n",
    "# if (length(remove_index)!=0)    {\n",
    "#  sample_data = sample_data[-remove_index,]\n",
    "#  validation_var=validation_var[-remove_index,]\n",
    "#  row.names(sample_data) <- NULL\n",
    "#  row.names(validation_var) <- NULL\n",
    "# }"
   ]
  },
  {
   "cell_type": "code",
   "execution_count": 28,
   "id": "bb432d77",
   "metadata": {},
   "outputs": [],
   "source": [
    "#get population est\n",
    "obs_targets=valid_monitor$population\n",
    "names(obs_targets)=paste0(\"p\", 1:length(rownames(valid_monitor)))\n",
    "\n",
    "#female model\n",
    "obs_targets=as.integer(obs_targets/2)\n",
    "\n",
    "#add non parametric targets\n",
    "for (i in 1:simulation_years){\n",
    "    obs_targets<-c(obs_targets,correlation_threshold)\n",
    "    obs_targets<-c(obs_targets,correlation_threshold)}\n",
    "\n",
    "#female model\n",
    "pop_act=as.integer(population_size[1:length(population_size)]/2)\n",
    "\n",
    "#add total abundance\n",
    "obs_targets<-c(obs_targets,pop_act)"
   ]
  },
  {
   "cell_type": "code",
   "execution_count": 29,
   "id": "0fa4be72",
   "metadata": {},
   "outputs": [],
   "source": [
    "\n",
    "validator <- Validator$new(simulation_parameters = sample_data,\n",
    "                           simulation_summary_metrics =validation_var[-1],\n",
    "                           observed_metric_targets = obs_targets,\n",
    "                           output_dir = OUTPUT_DIR)"
   ]
  },
  {
   "cell_type": "code",
   "execution_count": 30,
   "id": "d8715081",
   "metadata": {
    "scrolled": true
   },
   "outputs": [
    {
     "name": "stdout",
     "output_type": "stream",
     "text": [
      "12345678910\n",
      "12345678910\n"
     ]
    },
    {
     "name": "stderr",
     "output_type": "stream",
     "text": [
      "Warning message:\n",
      "\"Validation function generated warning: All parameters are \"none\" transformed.\"\n"
     ]
    }
   ],
   "source": [
    "validator$run(tolerance = 0.02, output_diagnostics = TRUE)"
   ]
  },
  {
   "cell_type": "markdown",
   "id": "c9614de9",
   "metadata": {},
   "source": [
    "## viz"
   ]
  },
  {
   "cell_type": "code",
   "execution_count": 31,
   "id": "fa8b553e",
   "metadata": {},
   "outputs": [],
   "source": [
    "#rescale weights as they dont sum up to one\n",
    "weights=validator$selected_simulations \n",
    "weights$weight=weights$weight/sum(weights$weight)"
   ]
  },
  {
   "cell_type": "code",
   "execution_count": 64,
   "id": "fba92c2f-4004-4bf3-8504-1707a50538a0",
   "metadata": {
    "scrolled": true
   },
   "outputs": [],
   "source": [
    "#get posterior weighted avg, min and max\n",
    "selected_data=sample_data[weights$index,]\n",
    "\n",
    "posterior_max=sapply(selected_data, function(x) max(x, na.rm = TRUE))\n",
    "posterior_min=sapply(selected_data, function(x) min(x, na.rm = TRUE))\n",
    "posterior_p80=sapply(selected_data, function(x) quantile(x, probs = 0.80, na.rm = TRUE))                    \n",
    "posterior_p20=sapply(selected_data, function(x) quantile(x, probs = 0.20, na.rm = TRUE))\n",
    "posterior_mean=colSums(sample_data[weights$index,]*replicate(length(sample_data), weights$weight))\n",
    "\n",
    "#get prior avg, min and max\n",
    "prior_max=sapply(results_manager$sample_data, function(x) max(x, na.rm = TRUE))\n",
    "prior_min=sapply(results_manager$sample_data, function(x) min(x, na.rm = TRUE))\n",
    "prior_p80=sapply(results_manager$sample_data, function(x) quantile(x, probs = 0.80, na.rm = TRUE))\n",
    "prior_p20=sapply(results_manager$sample_data, function(x) quantile(x, probs = 0.20, na.rm = TRUE))\n",
    "prior_mean=sapply(results_manager$sample_data, function(x) mean(x, na.rm = TRUE))\n",
    "\n",
    "#create dataframe into a designated format\n",
    "prior <- data.frame(  \n",
    "    prior = paste(prior_mean, \n",
    "                   \"(\", prior_p20, \"-\",prior_p80, \")\") )\n",
    "\n",
    "posterior <- data.frame( posterior = paste(posterior_mean, \n",
    "                   \"(\", posterior_p20, \"-\",posterior_p80, \")\") )\n",
    "\n",
    "#add index column\n",
    "params_distrib=cbind(prior,posterior)\n",
    "row.names(params_distrib)=names(prior_mean)"
   ]
  },
  {
   "cell_type": "code",
   "execution_count": 75,
   "id": "063c1051",
   "metadata": {},
   "outputs": [],
   "source": [
    "#add %change from prior to posterior\n",
    "params_distrib$change=posterior_mean/prior_mean-1"
   ]
  },
  {
   "cell_type": "code",
   "execution_count": 79,
   "id": "29c75868",
   "metadata": {},
   "outputs": [],
   "source": [
    "#install.packages(\"BayesFactor\")\n",
    "\n",
    "# Load the package\n",
    "library(BayesFactor)\n",
    "\n",
    "\n",
    "#test stats for distribution diff between prior and posterior\n",
    "pval=c()\n",
    "for (col_name in colnames(sample_data))\n",
    "{\n",
    "    # Perform the t-test using BayesFactor\n",
    "    bf_result <- ttestBF(x = sample_data[col_name][[1]], y = selected_data[col_name][[1]])\n",
    "\n",
    "    # Extract the Bayes Factor value\n",
    "    bf_value <- extractBF(bf_result)\n",
    "\n",
    "    pval=c(pval,bf_value$bf)\n",
    "}\n",
    "\n",
    "params_distrib$bayes=pval\n",
    "\n",
    "# #test stats for distribution diff between prior and posterior\n",
    "# pval=c()\n",
    "# for (col_name in colnames(sample_data))\n",
    "# {\n",
    "#     ks_test=ks.test(sample_data[col_name][[1]],selected_data[col_name][[1]])\n",
    "#     pval=c(pval,ks_test$p.value)\n",
    "# }"
   ]
  },
  {
   "cell_type": "markdown",
   "id": "eb475e9c",
   "metadata": {},
   "source": [
    "### posterior"
   ]
  },
  {
   "cell_type": "code",
   "execution_count": 80,
   "id": "619101c9",
   "metadata": {},
   "outputs": [
    {
     "data": {
      "text/html": [
       "'100 out of 5000'"
      ],
      "text/latex": [
       "'100 out of 5000'"
      ],
      "text/markdown": [
       "'100 out of 5000'"
      ],
      "text/plain": [
       "[1] \"100 out of 5000\""
      ]
     },
     "metadata": {},
     "output_type": "display_data"
    }
   ],
   "source": [
    "paste(length(rownames(selected_data)),\"out of\",num_of_sims)"
   ]
  },
  {
   "cell_type": "code",
   "execution_count": 81,
   "id": "9a9b5836",
   "metadata": {},
   "outputs": [
    {
     "data": {
      "text/html": [
       "<table class=\"dataframe\">\n",
       "<caption>A data.frame: 5 × 4</caption>\n",
       "<thead>\n",
       "\t<tr><th></th><th scope=col>prior</th><th scope=col>posterior</th><th scope=col>change</th><th scope=col>bayes</th></tr>\n",
       "\t<tr><th></th><th scope=col>&lt;chr&gt;</th><th scope=col>&lt;chr&gt;</th><th scope=col>&lt;dbl&gt;</th><th scope=col>&lt;dbl&gt;</th></tr>\n",
       "</thead>\n",
       "<tbody>\n",
       "\t<tr><th scope=row>Maximum Growth Rate</th><td>0.399996 ( 0.22 - 0.58 )        </td><td>0.256865768720498 ( 0.158 - 0.44 )    </td><td>-0.35782916</td><td>1.910665e+06</td></tr>\n",
       "\t<tr><th scope=row>Maximum Carry Capacity per Cell (10 km x 10 km)</th><td>145.000072 ( 82.016 - 207.98 )  </td><td>114.276080597047 ( 67.898 - 159.546 ) </td><td>-0.21188949</td><td>5.106708e+04</td></tr>\n",
       "\t<tr><th scope=row>Initial Abundance (Females)</th><td>15000.0048 ( 12001.2 - 17998.8 )</td><td>14332.4442353903 ( 12044.8 - 18499.2 )</td><td>-0.04450402</td><td>1.118996e-01</td></tr>\n",
       "\t<tr><th scope=row>Average Dispersal Distance (km)</th><td>25.5004 ( 11 - 40 )             </td><td>6.63891062781565 ( 4 - 8 )            </td><td>-0.73965465</td><td>4.162648e+31</td></tr>\n",
       "\t<tr><th scope=row>Proportion of Non-dispersal</th><td>0.400002 ( 0.22 - 0.58 )        </td><td>0.37281777996844 ( 0.188 - 0.57 )     </td><td>-0.06796021</td><td>2.892102e-01</td></tr>\n",
       "</tbody>\n",
       "</table>\n"
      ],
      "text/latex": [
       "A data.frame: 5 × 4\n",
       "\\begin{tabular}{r|llll}\n",
       "  & prior & posterior & change & bayes\\\\\n",
       "  & <chr> & <chr> & <dbl> & <dbl>\\\\\n",
       "\\hline\n",
       "\tMaximum Growth Rate & 0.399996 ( 0.22 - 0.58 )         & 0.256865768720498 ( 0.158 - 0.44 )     & -0.35782916 & 1.910665e+06\\\\\n",
       "\tMaximum Carry Capacity per Cell (10 km x 10 km) & 145.000072 ( 82.016 - 207.98 )   & 114.276080597047 ( 67.898 - 159.546 )  & -0.21188949 & 5.106708e+04\\\\\n",
       "\tInitial Abundance (Females) & 15000.0048 ( 12001.2 - 17998.8 ) & 14332.4442353903 ( 12044.8 - 18499.2 ) & -0.04450402 & 1.118996e-01\\\\\n",
       "\tAverage Dispersal Distance (km) & 25.5004 ( 11 - 40 )              & 6.63891062781565 ( 4 - 8 )             & -0.73965465 & 4.162648e+31\\\\\n",
       "\tProportion of Non-dispersal & 0.400002 ( 0.22 - 0.58 )         & 0.37281777996844 ( 0.188 - 0.57 )      & -0.06796021 & 2.892102e-01\\\\\n",
       "\\end{tabular}\n"
      ],
      "text/markdown": [
       "\n",
       "A data.frame: 5 × 4\n",
       "\n",
       "| <!--/--> | prior &lt;chr&gt; | posterior &lt;chr&gt; | change &lt;dbl&gt; | bayes &lt;dbl&gt; |\n",
       "|---|---|---|---|---|\n",
       "| Maximum Growth Rate | 0.399996 ( 0.22 - 0.58 )         | 0.256865768720498 ( 0.158 - 0.44 )     | -0.35782916 | 1.910665e+06 |\n",
       "| Maximum Carry Capacity per Cell (10 km x 10 km) | 145.000072 ( 82.016 - 207.98 )   | 114.276080597047 ( 67.898 - 159.546 )  | -0.21188949 | 5.106708e+04 |\n",
       "| Initial Abundance (Females) | 15000.0048 ( 12001.2 - 17998.8 ) | 14332.4442353903 ( 12044.8 - 18499.2 ) | -0.04450402 | 1.118996e-01 |\n",
       "| Average Dispersal Distance (km) | 25.5004 ( 11 - 40 )              | 6.63891062781565 ( 4 - 8 )             | -0.73965465 | 4.162648e+31 |\n",
       "| Proportion of Non-dispersal | 0.400002 ( 0.22 - 0.58 )         | 0.37281777996844 ( 0.188 - 0.57 )      | -0.06796021 | 2.892102e-01 |\n",
       "\n"
      ],
      "text/plain": [
       "                                                prior                           \n",
       "Maximum Growth Rate                             0.399996 ( 0.22 - 0.58 )        \n",
       "Maximum Carry Capacity per Cell (10 km x 10 km) 145.000072 ( 82.016 - 207.98 )  \n",
       "Initial Abundance (Females)                     15000.0048 ( 12001.2 - 17998.8 )\n",
       "Average Dispersal Distance (km)                 25.5004 ( 11 - 40 )             \n",
       "Proportion of Non-dispersal                     0.400002 ( 0.22 - 0.58 )        \n",
       "                                                posterior                             \n",
       "Maximum Growth Rate                             0.256865768720498 ( 0.158 - 0.44 )    \n",
       "Maximum Carry Capacity per Cell (10 km x 10 km) 114.276080597047 ( 67.898 - 159.546 ) \n",
       "Initial Abundance (Females)                     14332.4442353903 ( 12044.8 - 18499.2 )\n",
       "Average Dispersal Distance (km)                 6.63891062781565 ( 4 - 8 )            \n",
       "Proportion of Non-dispersal                     0.37281777996844 ( 0.188 - 0.57 )     \n",
       "                                                change      bayes       \n",
       "Maximum Growth Rate                             -0.35782916 1.910665e+06\n",
       "Maximum Carry Capacity per Cell (10 km x 10 km) -0.21188949 5.106708e+04\n",
       "Initial Abundance (Females)                     -0.04450402 1.118996e-01\n",
       "Average Dispersal Distance (km)                 -0.73965465 4.162648e+31\n",
       "Proportion of Non-dispersal                     -0.06796021 2.892102e-01"
      ]
     },
     "metadata": {},
     "output_type": "display_data"
    }
   ],
   "source": [
    "row.names(params_distrib)=c('Maximum Growth Rate',\n",
    "'Maximum Carry Capacity per Cell (10 km x 10 km)',\n",
    "'Initial Abundance (Females)',\n",
    "'Average Dispersal Distance (km)',\n",
    "'Proportion of Non-dispersal')\n",
    "params_distrib"
   ]
  },
  {
   "cell_type": "code",
   "execution_count": 83,
   "id": "73c710bb",
   "metadata": {
    "scrolled": false
   },
   "outputs": [],
   "source": [
    "# Example data frame with min, max, and median values\n",
    "data_summary <- data.frame(category=factor(row.names(params_distrib)),\n",
    "  min = 2*(posterior_p20-prior_min)/(prior_max-prior_min)-1,\n",
    "  median = 2*(posterior_mean-prior_min)/(prior_max-prior_min)-1,\n",
    "  max = 2*(posterior_p80-prior_min)/(prior_max-prior_min)-1\n",
    ")\n",
    "\n",
    "row.names(data_summary)=NULL\n",
    "\n",
    "#add prior\n",
    "new_row <- data.frame(\n",
    "  category = factor(c(\"prior\")),\n",
    "  min = -0.6,\n",
    "  median = 0,\n",
    "  max = 0.6\n",
    ")\n",
    "data_summary=rbind(new_row,data_summary)"
   ]
  },
  {
   "cell_type": "code",
   "execution_count": 84,
   "id": "407e8cd5",
   "metadata": {},
   "outputs": [
    {
     "data": {
      "image/png": "[encoded data removed]",
      "text/plain": [
       "plot without title"
      ]
     },
     "metadata": {
      "image/png": {
       "height": 480,
       "width": 720
      }
     },
     "output_type": "display_data"
    }
   ],
   "source": [
    "# Create the plot\n",
    "library(ggplot2)\n",
    "options(repr.plot.width=12, repr.plot.height=8)\n",
    "p <- ggplot(data_summary, aes(y = category)) +\n",
    "  geom_rect(aes(xmin = min, xmax = max, ymin = as.numeric(category) - 0.4, ymax = as.numeric(category) + 0.4), \n",
    "            fill = \"lightblue\", color = \"black\") +  # Draw the box\n",
    "  geom_point(aes(x = median), color = \"red\", size = 3) +  # Mark the median\n",
    "  labs(x = \"scaled to [-1,1]\", y = \"variables\", title = \"parameter prior vs posterior\") +\n",
    "  theme(\n",
    "    axis.title.x = element_text(size = 14),  # X-axis label font size\n",
    "    axis.title.y = element_text(size = 14),  # Y-axis label font size\n",
    "    axis.text.x = element_text(size = 12),   # X-axis tick labels font size\n",
    "    axis.text.y = element_text(size = 12),   # Y-axis tick labels font size\n",
    "    plot.title = element_text(size = 16,hjust = 0.5),    # Plot title font size  \n",
    "  )+\n",
    "  xlim(- 1, 1)  # Adjust these values as needed\n",
    "\n",
    "# Print the plot\n",
    "print(p)"
   ]
  },
  {
   "cell_type": "code",
   "execution_count": 37,
   "id": "e675fc3b",
   "metadata": {},
   "outputs": [
    {
     "data": {
      "text/html": [
       "'validation_diagnostics.pdf'"
      ],
      "text/latex": [
       "'validation\\_diagnostics.pdf'"
      ],
      "text/markdown": [
       "'validation_diagnostics.pdf'"
      ],
      "text/plain": [
       "[1] \"validation_diagnostics.pdf\""
      ]
     },
     "metadata": {},
     "output_type": "display_data"
    }
   ],
   "source": [
    "dir(OUTPUT_DIR, \"*.pdf\") # plus validation diagnostics (see abc library documentation)"
   ]
  },
  {
   "cell_type": "code",
   "execution_count": 38,
   "id": "aba546f8",
   "metadata": {},
   "outputs": [],
   "source": [
    "# install.packages('rmarkdown')\n",
    "\n",
    "# library(rmarkdown)\n",
    "\n",
    "# setwd(\"C:/Users/tm/Downloads/\")\n",
    "\n",
    "# input <- \"poems tasman.ipynb\"\n",
    "\n",
    "# # First convert to .Rmd...\n",
    "# convert_ipynb(input)"
   ]
  },
  {
   "cell_type": "code",
   "execution_count": 39,
   "id": "201ae01c",
   "metadata": {
    "scrolled": true
   },
   "outputs": [],
   "source": [
    "#export result\n",
    "selected_mat=raw_mat[weights$index,]\n",
    "\n",
    "write.csv(data.frame(selected_mat),'./base/raw.csv')\n",
    "\n",
    "write.csv(data.frame(weights),'./base/weights.csv')\n",
    "\n",
    "write.csv(data.frame(landarea),'./base/land.csv')\n",
    "\n",
    "write.csv(data.frame(selected_data),'./base/rates.csv')"
   ]
  },
  {
   "cell_type": "markdown",
   "id": "2f7544dd",
   "metadata": {},
   "source": [
    "### population line"
   ]
  },
  {
   "cell_type": "code",
   "execution_count": 40,
   "id": "c127fe32",
   "metadata": {},
   "outputs": [],
   "source": [
    "mat_list <- matrix(NA,nrow=dim(selected_mat)[1],ncol=simulation_years)\n",
    "for (year in 1:simulation_years){\n",
    "    abund=rowSums(selected_mat[,((year-1)*length(landarea)+1):(year*length(landarea))])\n",
    "    mat_list[,year]=abund\n",
    "}\n",
    "    \n",
    "\n",
    "selected_total=data.frame(mat_list)"
   ]
  },
  {
   "cell_type": "code",
   "execution_count": 41,
   "id": "4d961e17",
   "metadata": {
    "scrolled": true
   },
   "outputs": [],
   "source": [
    "colnames(selected_total)=baseyear:(baseyear+simulation_years-1)\n",
    "rownames(selected_total) <- NULL\n",
    "\n",
    "#get posterior mean\n",
    "posterior_total=colSums(selected_total*replicate(length(selected_total), weights$weight))\n",
    "\n",
    "#normalized\n",
    "posterior_total=posterior_total/posterior_total[1]\n",
    "selected_total=selected_total/selected_total[,1]\n",
    "selected_total=rbind(selected_total,posterior_total)\n",
    "\n",
    "selected_total_long <- reshape(selected_total, \n",
    "                   varying = colnames(selected_total), # Exclude the 'time' column\n",
    "                   v.names = \"value\",       # Create a new 'value' column\n",
    "                   timevar = \"variable\",        # Create a new 'line' column\n",
    "                   times = colnames(selected_total),   # Use column names (numbers) as 'line' identifiers\n",
    "                   direction = \"long\")\n",
    "\n",
    "#hightlight posterior mean\n",
    "selected_total_long$line_color <- ifelse(selected_total_long$id == 101, \"red\", \"grey\")\n",
    "selected_total_long$line_size <- ifelse(selected_total_long$id == 101, 3, 0.5)\n",
    "\n",
    "selected_total_long$variable=as.numeric(selected_total_long$variable)"
   ]
  },
  {
   "cell_type": "code",
   "execution_count": 42,
   "id": "c79f4c51",
   "metadata": {},
   "outputs": [
    {
     "name": "stderr",
     "output_type": "stream",
     "text": [
      "Warning message:\n",
      "\"\u001b[1m\u001b[22mUsing `size` aesthetic for lines was deprecated in ggplot2 3.4.0.\n",
      "\u001b[36mℹ\u001b[39m Please use `linewidth` instead.\"\n"
     ]
    },
    {
     "data": {
      "image/png": "[encoded data removed]",
      "text/plain": [
       "plot without title"
      ]
     },
     "metadata": {
      "image/png": {
       "height": 480,
       "width": 720
      }
     },
     "output_type": "display_data"
    }
   ],
   "source": [
    "ggplot(selected_total_long, aes(x = variable, y = value, group = id, color = line_color, size = line_size)) +\n",
    "  geom_line() +\n",
    "  labs(title = \"Devil Population Simulation\",\n",
    "       x = \"Year\",\n",
    "       y = \"Normalised Population\") +\n",
    "  scale_color_identity() +  # Use the color as it is\n",
    "  scale_size_identity()+  # Use the size as it is\n",
    "  theme(\n",
    "    axis.title.x = element_text(size = 14),  # X-axis label font size\n",
    "    axis.title.y = element_text(size = 14),  # Y-axis label font size\n",
    "    axis.text.x = element_text(size = 12),   # X-axis tick labels font size\n",
    "    axis.text.y = element_text(size = 12),   # Y-axis tick labels font size\n",
    "    plot.title = element_text(size = 16,hjust = 0.5),    # Plot title font size  \n",
    "  )"
   ]
  },
  {
   "cell_type": "markdown",
   "id": "038bff4a",
   "metadata": {},
   "source": [
    "### population map"
   ]
  },
  {
   "cell_type": "code",
   "execution_count": 43,
   "id": "1e772fe5",
   "metadata": {
    "scrolled": true
   },
   "outputs": [],
   "source": [
    "mat_list <- list()\n",
    "for (year in 1:simulation_years){\n",
    "    abund=colSums(selected_mat[,((year-1)*length(landarea)+1):(year*length(landarea))]*replicate(length(landarea), weights$weight))\n",
    "    mat_list=append(mat_list, list(abund))\n",
    "}\n",
    "    "
   ]
  },
  {
   "cell_type": "code",
   "execution_count": 44,
   "id": "5b4c73fa",
   "metadata": {},
   "outputs": [
    {
     "data": {
      "image/png": "[encoded data removed]",
      "text/plain": [
       "Plot with title \"1990\""
      ]
     },
     "metadata": {
      "image/png": {
       "height": 480,
       "width": 720
      }
     },
     "output_type": "display_data"
    }
   ],
   "source": [
    "# Example habitat suitability\n",
    "example_hs_raster <- region$region_raster\n",
    "example_hs_raster[region$region_indices] <- mat_list[[5]]\n",
    "raster::plot(example_hs_raster, main = \"1990\",\n",
    "#              xlab = \"Longitude (degrees)\", ylab = \"Latitude (degrees)\",\n",
    "             colNA = \"white\",zlim = c(0,100),axes=FALSE)"
   ]
  },
  {
   "cell_type": "code",
   "execution_count": 45,
   "id": "77cd8a00",
   "metadata": {},
   "outputs": [
    {
     "data": {
      "image/png": "[encoded data removed]",
      "text/plain": [
       "Plot with title \"1995\""
      ]
     },
     "metadata": {
      "image/png": {
       "height": 480,
       "width": 720
      }
     },
     "output_type": "display_data"
    }
   ],
   "source": [
    "# Example habitat suitability\n",
    "example_hs_raster <- region$region_raster\n",
    "example_hs_raster[region$region_indices] <- mat_list[[10]]\n",
    "raster::plot(example_hs_raster, main = \"1995\",\n",
    "#              xlab = \"Longitude (degrees)\", ylab = \"Latitude (degrees)\",\n",
    "             colNA = \"white\",zlim = c(0,100),axes=FALSE)"
   ]
  },
  {
   "cell_type": "code",
   "execution_count": 46,
   "id": "7654bc7a",
   "metadata": {},
   "outputs": [
    {
     "data": {
      "image/png": "[encoded data removed]",
      "text/plain": [
       "Plot with title \"2005\""
      ]
     },
     "metadata": {
      "image/png": {
       "height": 480,
       "width": 720
      }
     },
     "output_type": "display_data"
    }
   ],
   "source": [
    "# Example habitat suitability\n",
    "example_hs_raster <- region$region_raster\n",
    "example_hs_raster[region$region_indices] <- mat_list[[20]]\n",
    "raster::plot(example_hs_raster, main = \"2005\",\n",
    "#              xlab = \"Longitude (degrees)\", ylab = \"Latitude (degrees)\",\n",
    "             colNA = \"white\",zlim = c(0,100),axes=FALSE)"
   ]
  },
  {
   "cell_type": "code",
   "execution_count": 47,
   "id": "c74211b8",
   "metadata": {},
   "outputs": [
    {
     "data": {
      "image/png": "[encoded data removed]",
      "text/plain": [
       "Plot with title \"2015\""
      ]
     },
     "metadata": {
      "image/png": {
       "height": 480,
       "width": 720
      }
     },
     "output_type": "display_data"
    }
   ],
   "source": [
    "# Example habitat suitability\n",
    "example_hs_raster <- region$region_raster\n",
    "example_hs_raster[region$region_indices] <- mat_list[[30]]\n",
    "raster::plot(example_hs_raster, main = \"2015\",\n",
    "#              xlab = \"Longitude (degrees)\", ylab = \"Latitude (degrees)\",\n",
    "             colNA = \"white\",zlim = c(0,100),axes=FALSE)"
   ]
  },
  {
   "cell_type": "code",
   "execution_count": 48,
   "id": "2cdcad04",
   "metadata": {},
   "outputs": [
    {
     "data": {
      "image/png": "[encoded data removed]",
      "text/plain": [
       "Plot with title \"2025\""
      ]
     },
     "metadata": {
      "image/png": {
       "height": 480,
       "width": 720
      }
     },
     "output_type": "display_data"
    }
   ],
   "source": [
    "# Example habitat suitability\n",
    "example_hs_raster <- region$region_raster\n",
    "example_hs_raster[region$region_indices] <- mat_list[[40]]\n",
    "raster::plot(example_hs_raster, main = \"2025\",\n",
    "#              xlab = \"Longitude (degrees)\", ylab = \"Latitude (degrees)\",\n",
    "             colNA = \"white\",zlim = c(0,100),axes=FALSE)"
   ]
  },
  {
   "cell_type": "code",
   "execution_count": 63,
   "id": "967e696d",
   "metadata": {},
   "outputs": [
    {
     "data": {
      "text/html": [
       "<table class=\"dataframe\">\n",
       "<caption>A data.frame: 5 × 2</caption>\n",
       "<thead>\n",
       "\t<tr><th></th><th scope=col>prior</th><th scope=col>posterior</th></tr>\n",
       "\t<tr><th></th><th scope=col>&lt;chr&gt;</th><th scope=col>&lt;chr&gt;</th></tr>\n",
       "</thead>\n",
       "<tbody>\n",
       "\t<tr><th scope=row>Maximum Growth Rate</th><td>0.399996 ( 0.22 - 0.58 )        </td><td>0.256865768720498 ( 0.158 - 0.44 )    </td></tr>\n",
       "\t<tr><th scope=row>Maximum Carry Capacity per Cell (10 km x 10 km)</th><td>145.000072 ( 82.016 - 207.98 )  </td><td>114.276080597047 ( 67.898 - 159.546 ) </td></tr>\n",
       "\t<tr><th scope=row>Initial Abundance (Females)</th><td>15000.0048 ( 12001.2 - 17998.8 )</td><td>14332.4442353903 ( 12044.8 - 18499.2 )</td></tr>\n",
       "\t<tr><th scope=row>Average Dispersal Distance (km)</th><td>25.5004 ( 11 - 40 )             </td><td>6.63891062781565 ( 4 - 8 )            </td></tr>\n",
       "\t<tr><th scope=row>Proportion of Non-dispersal</th><td>0.400002 ( 0.22 - 0.58 )        </td><td>0.37281777996844 ( 0.188 - 0.57 )     </td></tr>\n",
       "</tbody>\n",
       "</table>\n"
      ],
      "text/latex": [
       "A data.frame: 5 × 2\n",
       "\\begin{tabular}{r|ll}\n",
       "  & prior & posterior\\\\\n",
       "  & <chr> & <chr>\\\\\n",
       "\\hline\n",
       "\tMaximum Growth Rate & 0.399996 ( 0.22 - 0.58 )         & 0.256865768720498 ( 0.158 - 0.44 )    \\\\\n",
       "\tMaximum Carry Capacity per Cell (10 km x 10 km) & 145.000072 ( 82.016 - 207.98 )   & 114.276080597047 ( 67.898 - 159.546 ) \\\\\n",
       "\tInitial Abundance (Females) & 15000.0048 ( 12001.2 - 17998.8 ) & 14332.4442353903 ( 12044.8 - 18499.2 )\\\\\n",
       "\tAverage Dispersal Distance (km) & 25.5004 ( 11 - 40 )              & 6.63891062781565 ( 4 - 8 )            \\\\\n",
       "\tProportion of Non-dispersal & 0.400002 ( 0.22 - 0.58 )         & 0.37281777996844 ( 0.188 - 0.57 )     \\\\\n",
       "\\end{tabular}\n"
      ],
      "text/markdown": [
       "\n",
       "A data.frame: 5 × 2\n",
       "\n",
       "| <!--/--> | prior &lt;chr&gt; | posterior &lt;chr&gt; |\n",
       "|---|---|---|\n",
       "| Maximum Growth Rate | 0.399996 ( 0.22 - 0.58 )         | 0.256865768720498 ( 0.158 - 0.44 )     |\n",
       "| Maximum Carry Capacity per Cell (10 km x 10 km) | 145.000072 ( 82.016 - 207.98 )   | 114.276080597047 ( 67.898 - 159.546 )  |\n",
       "| Initial Abundance (Females) | 15000.0048 ( 12001.2 - 17998.8 ) | 14332.4442353903 ( 12044.8 - 18499.2 ) |\n",
       "| Average Dispersal Distance (km) | 25.5004 ( 11 - 40 )              | 6.63891062781565 ( 4 - 8 )             |\n",
       "| Proportion of Non-dispersal | 0.400002 ( 0.22 - 0.58 )         | 0.37281777996844 ( 0.188 - 0.57 )      |\n",
       "\n"
      ],
      "text/plain": [
       "                                                prior                           \n",
       "Maximum Growth Rate                             0.399996 ( 0.22 - 0.58 )        \n",
       "Maximum Carry Capacity per Cell (10 km x 10 km) 145.000072 ( 82.016 - 207.98 )  \n",
       "Initial Abundance (Females)                     15000.0048 ( 12001.2 - 17998.8 )\n",
       "Average Dispersal Distance (km)                 25.5004 ( 11 - 40 )             \n",
       "Proportion of Non-dispersal                     0.400002 ( 0.22 - 0.58 )        \n",
       "                                                posterior                             \n",
       "Maximum Growth Rate                             0.256865768720498 ( 0.158 - 0.44 )    \n",
       "Maximum Carry Capacity per Cell (10 km x 10 km) 114.276080597047 ( 67.898 - 159.546 ) \n",
       "Initial Abundance (Females)                     14332.4442353903 ( 12044.8 - 18499.2 )\n",
       "Average Dispersal Distance (km)                 6.63891062781565 ( 4 - 8 )            \n",
       "Proportion of Non-dispersal                     0.37281777996844 ( 0.188 - 0.57 )     "
      ]
     },
     "metadata": {},
     "output_type": "display_data"
    }
   ],
   "source": [
    "params_distrib"
   ]
  },
  {
   "cell_type": "code",
   "execution_count": 61,
   "id": "b132ff4f",
   "metadata": {},
   "outputs": [
    {
     "name": "stderr",
     "output_type": "stream",
     "text": [
      "Warning message in ks.test.default(sample_data[col_name][[1]], selected_data[col_name][[1]]):\n",
      "\"p-value will be approximate in the presence of ties\"\n"
     ]
    },
    {
     "name": "stdout",
     "output_type": "stream",
     "text": [
      "[1] \"growth_rate_max\"\n",
      "[1] 1.467338e-06\n"
     ]
    },
    {
     "name": "stderr",
     "output_type": "stream",
     "text": [
      "Warning message in ks.test.default(sample_data[col_name][[1]], selected_data[col_name][[1]]):\n",
      "\"p-value will be approximate in the presence of ties\"\n"
     ]
    },
    {
     "name": "stdout",
     "output_type": "stream",
     "text": [
      "[1] \"density_max\"\n",
      "[1] 2.140126e-05\n"
     ]
    },
    {
     "name": "stderr",
     "output_type": "stream",
     "text": [
      "Warning message in ks.test.default(sample_data[col_name][[1]], selected_data[col_name][[1]]):\n",
      "\"p-value will be approximate in the presence of ties\"\n"
     ]
    },
    {
     "name": "stdout",
     "output_type": "stream",
     "text": [
      "[1] \"initial_n\"\n",
      "[1] 0.6462963\n"
     ]
    },
    {
     "name": "stderr",
     "output_type": "stream",
     "text": [
      "Warning message in ks.test.default(sample_data[col_name][[1]], selected_data[col_name][[1]]):\n",
      "\"p-value will be approximate in the presence of ties\"\n"
     ]
    },
    {
     "name": "stdout",
     "output_type": "stream",
     "text": [
      "[1] \"dispersal_b\"\n",
      "[1] 2.607113e-38\n"
     ]
    },
    {
     "name": "stderr",
     "output_type": "stream",
     "text": [
      "Warning message in ks.test.default(sample_data[col_name][[1]], selected_data[col_name][[1]]):\n",
      "\"p-value will be approximate in the presence of ties\"\n"
     ]
    },
    {
     "name": "stdout",
     "output_type": "stream",
     "text": [
      "[1] \"dispersal_p\"\n",
      "[1] 0.3391231\n"
     ]
    }
   ],
   "source": []
  },
  {
   "cell_type": "code",
   "execution_count": null,
   "id": "6332df1b",
   "metadata": {},
   "outputs": [],
   "source": [
    "# Use Kolmogorov-Smirnov test to compare the prior and posterior distributions\n",
    "ks_test <- ks.test(prior_samples, posterior_samples)\n",
    "print(ks_test)"
   ]
  },
  {
   "cell_type": "code",
   "execution_count": 91,
   "id": "d58e66db",
   "metadata": {},
   "outputs": [
    {
     "data": {
      "text/html": [
       "4.18735497406428"
      ],
      "text/latex": [
       "4.18735497406428"
      ],
      "text/markdown": [
       "4.18735497406428"
      ],
      "text/plain": [
       "[1] 4.187355"
      ]
     },
     "metadata": {},
     "output_type": "display_data"
    }
   ],
   "source": [
    "min(14332/sum(example_hs)*example_hs)"
   ]
  },
  {
   "cell_type": "code",
   "execution_count": 92,
   "id": "086beb50",
   "metadata": {},
   "outputs": [
    {
     "data": {
      "text/html": [
       "41.8735497406428"
      ],
      "text/latex": [
       "41.8735497406428"
      ],
      "text/markdown": [
       "41.8735497406428"
      ],
      "text/plain": [
       "[1] 41.87355"
      ]
     },
     "metadata": {},
     "output_type": "display_data"
    }
   ],
   "source": [
    "max(14332/sum(example_hs)*example_hs)"
   ]
  },
  {
   "cell_type": "code",
   "execution_count": 108,
   "id": "ad4ca772",
   "metadata": {},
   "outputs": [
    {
     "data": {
      "text/html": [
       "1.95542070831669"
      ],
      "text/latex": [
       "1.95542070831669"
      ],
      "text/markdown": [
       "1.95542070831669"
      ],
      "text/plain": [
       "[1] 1.955421"
      ]
     },
     "metadata": {},
     "output_type": "display_data"
    }
   ],
   "source": [
    "max(mat_list[[40]])*2/100"
   ]
  },
  {
   "cell_type": "code",
   "execution_count": 93,
   "id": "a531a30f",
   "metadata": {},
   "outputs": [
    {
     "data": {
      "text/html": [
       "9.58219816142286"
      ],
      "text/latex": [
       "9.58219816142286"
      ],
      "text/markdown": [
       "9.58219816142286"
      ],
      "text/plain": [
       "[1] 9.582198"
      ]
     },
     "metadata": {},
     "output_type": "display_data"
    }
   ],
   "source": [
    "min(mat_list[[40]])"
   ]
  },
  {
   "cell_type": "code",
   "execution_count": 95,
   "id": "8e145ba7",
   "metadata": {},
   "outputs": [
    {
     "data": {
      "text/html": [
       "11.4"
      ],
      "text/latex": [
       "11.4"
      ],
      "text/markdown": [
       "11.4"
      ],
      "text/plain": [
       "[1] 11.4"
      ]
     },
     "metadata": {},
     "output_type": "display_data"
    }
   ],
   "source": [
    "min(example_hs*114)"
   ]
  },
  {
   "cell_type": "code",
   "execution_count": 80,
   "id": "374223e8",
   "metadata": {},
   "outputs": [
    {
     "data": {
      "text/html": [
       "1.20057283094515"
      ],
      "text/latex": [
       "1.20057283094515"
      ],
      "text/markdown": [
       "1.20057283094515"
      ],
      "text/plain": [
       "[1] 1.200573"
      ]
     },
     "metadata": {},
     "output_type": "display_data"
    }
   ],
   "source": [
    "sum(example_hs*114)*2/650/100"
   ]
  },
  {
   "cell_type": "code",
   "execution_count": 112,
   "id": "e9d1f63f",
   "metadata": {},
   "outputs": [
    {
     "data": {
      "text/html": [
       "2.28"
      ],
      "text/latex": [
       "2.28"
      ],
      "text/markdown": [
       "2.28"
      ],
      "text/plain": [
       "[1] 2.28"
      ]
     },
     "metadata": {},
     "output_type": "display_data"
    }
   ],
   "source": [
    "114*2/100"
   ]
  },
  {
   "cell_type": "code",
   "execution_count": 102,
   "id": "acdaa37e",
   "metadata": {
    "scrolled": true
   },
   "outputs": [
    {
     "data": {
      "text/html": [
       "39018.6170057175"
      ],
      "text/latex": [
       "39018.6170057175"
      ],
      "text/markdown": [
       "39018.6170057175"
      ],
      "text/plain": [
       "[1] 39018.62"
      ]
     },
     "metadata": {},
     "output_type": "display_data"
    }
   ],
   "source": [
    "sum(example_hs*114)"
   ]
  },
  {
   "cell_type": "code",
   "execution_count": 116,
   "id": "07b5ec5e",
   "metadata": {},
   "outputs": [
    {
     "data": {
      "text/html": [
       "0.955425835199012"
      ],
      "text/latex": [
       "0.955425835199012"
      ],
      "text/markdown": [
       "0.955425835199012"
      ],
      "text/plain": [
       "[1] 0.9554258"
      ]
     },
     "metadata": {},
     "output_type": "display_data"
    }
   ],
   "source": [
    "sum(mat_list[[11]])*2/650/100"
   ]
  },
  {
   "cell_type": "code",
   "execution_count": 117,
   "id": "03099e89",
   "metadata": {},
   "outputs": [
    {
     "data": {
      "text/html": [
       "62102.6792879358"
      ],
      "text/latex": [
       "62102.6792879358"
      ],
      "text/markdown": [
       "62102.6792879358"
      ],
      "text/plain": [
       "[1] 62102.68"
      ]
     },
     "metadata": {},
     "output_type": "display_data"
    }
   ],
   "source": [
    "sum(mat_list[[11]])*2"
   ]
  },
  {
   "cell_type": "code",
   "execution_count": 78,
   "id": "719629ac",
   "metadata": {},
   "outputs": [
    {
     "data": {
      "text/html": [
       "1.45855063175947"
      ],
      "text/latex": [
       "1.45855063175947"
      ],
      "text/markdown": [
       "1.45855063175947"
      ],
      "text/plain": [
       "[1] 1.458551"
      ]
     },
     "metadata": {},
     "output_type": "display_data"
    }
   ],
   "source": [
    "max(mat_list[[11]])*2/100"
   ]
  },
  {
   "cell_type": "code",
   "execution_count": null,
   "id": "cbf747e1",
   "metadata": {},
   "outputs": [],
   "source": []
  }
 ],
 "metadata": {
  "kernelspec": {
   "display_name": "R440",
   "language": "R",
   "name": "ir"
  },
  "language_info": {
   "codemirror_mode": "r",
   "file_extension": ".r",
   "mimetype": "text/x-r-source",
   "name": "R",
   "pygments_lexer": "r",
   "version": "4.4.0"
  },
  "toc": {
   "base_numbering": 1,
   "nav_menu": {},
   "number_sections": true,
   "sideBar": true,
   "skip_h1_title": false,
   "title_cell": "Table of Contents",
   "title_sidebar": "Contents",
   "toc_cell": false,
   "toc_position": {
    "height": "calc(100% - 180px)",
    "left": "10px",
    "top": "150px",
    "width": "245.7px"
   },
   "toc_section_display": true,
   "toc_window_display": true
  }
 },
 "nbformat": 4,
 "nbformat_minor": 5
}
