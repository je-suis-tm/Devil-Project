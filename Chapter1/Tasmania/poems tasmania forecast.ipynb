{
 "cells": [
  {
   "cell_type": "markdown",
   "id": "9dd5113c",
   "metadata": {},
   "source": [
    "## Setup\n",
    "\n",
    "We begin by loading the *poems* package and setting our output directory."
   ]
  },
  {
   "cell_type": "code",
   "execution_count": 1,
   "id": "87e4776a",
   "metadata": {},
   "outputs": [],
   "source": [
    "setwd('C:/Users/tm/Downloads/utas/thesis/chapter1/tasmania/poems')\n",
    "library(poems)\n",
    "OUTPUT_DIR='C:/Users/tm/Downloads/utas/thesis/chapter1/tasmania/poems'\n",
    "\n",
    "# function to round to any arbitrary value\n",
    "round_any <- function(x, accuracy, f = round) {\n",
    "  f(x/ accuracy) * accuracy\n",
    "}"
   ]
  },
  {
   "cell_type": "markdown",
   "id": "0a57820a",
   "metadata": {},
   "source": [
    "### read data"
   ]
  },
  {
   "cell_type": "code",
   "execution_count": 2,
   "id": "84ac1868",
   "metadata": {},
   "outputs": [],
   "source": [
    "#this is the land area of tasman\n",
    "baselayer=read.csv('baselayer.csv')\n",
    "baselayer=subset(baselayer, grid == 0)\n",
    "landarea=c(as.numeric(row.names(baselayer)))"
   ]
  },
  {
   "cell_type": "code",
   "execution_count": 3,
   "id": "27116bb8",
   "metadata": {},
   "outputs": [],
   "source": [
    "#this is the reindexed validation area of tasman against land area\n",
    "identity=read.csv('identity.csv')"
   ]
  },
  {
   "cell_type": "code",
   "execution_count": 4,
   "id": "e27e8ee9",
   "metadata": {},
   "outputs": [],
   "source": [
    "#1985-1995\n",
    "# Cunningham et al., 2021\n",
    "population_size=c(34475,\n",
    " 35924,\n",
    " 38256,\n",
    " 41029,\n",
    " 43487,\n",
    " 44622,\n",
    " 46387,\n",
    " 48845,\n",
    " 50105,\n",
    " 51618,\n",
    " 52437,\n",
    " 53067)"
   ]
  },
  {
   "cell_type": "code",
   "execution_count": 5,
   "id": "7a81dbd4",
   "metadata": {},
   "outputs": [],
   "source": [
    "#this is the validation area of tasman\n",
    "valid=read.csv('validation.csv')\n",
    "valid=subset(valid, target == 1)\n",
    "validation_target=c(as.numeric(row.names(valid)))"
   ]
  },
  {
   "cell_type": "code",
   "execution_count": 6,
   "id": "7cb08048",
   "metadata": {},
   "outputs": [],
   "source": [
    "#habitat suitability map\n",
    "#estimated via vegetation,altitude and seabird colony\n",
    "# https://github.com/je-suis-tm/Devil-Project/blob/main/Chapter1/Tasman/habitat%20suitability%20tasman.ipynb\n",
    "suitability=read.csv('suitability.csv')"
   ]
  },
  {
   "cell_type": "code",
   "execution_count": 7,
   "id": "c27716b0",
   "metadata": {},
   "outputs": [],
   "source": [
    "#set the floor of habitat suitability to 0.7\n",
    "suitability$pred=(suitability$pred-min(suitability$pred))/(max(suitability$pred)-min(suitability$pred))*(1-0.7)+0.7"
   ]
  },
  {
   "cell_type": "markdown",
   "id": "3a22ea4a",
   "metadata": {},
   "source": [
    "### known variables"
   ]
  },
  {
   "cell_type": "code",
   "execution_count": 8,
   "id": "dc2783a4",
   "metadata": {},
   "outputs": [],
   "source": [
    "#dispersal portion and avg distance\n",
    "known_dispersal_p = 0.1945\n",
    "known_dispersal_b = 5.821"
   ]
  },
  {
   "cell_type": "code",
   "execution_count": 9,
   "id": "539cac5f",
   "metadata": {},
   "outputs": [],
   "source": [
    "#baseline matrix is estimated via mark recapture data \n",
    "# https://github.com/je-suis-tm/Devil-Project/blob/main/Chapter1/Tasman/baseline%20matrix%2tasman.ipynb\n",
    "leslie_matrix=c(0.        , 0.489, 1.4539, 1.947, 1.5079,0.547 ,\n",
    "                1, 0.        , 0.        , 0.        ,\n",
    "       0.        , 0.        , 0.        , 0.976 , 0.        ,\n",
    "       0.        , 0.        , 0.        , 0.        , 0.        ,\n",
    "       0.899, 0.        , 0.        , 0.        , 0.        ,\n",
    "       0.        , 0.        , 0.84, 0.        , 0.        ,\n",
    "       0.        , 0.        , 0.        , 0.        , 0.791,\n",
    "       0.791      )\n",
    "agegroup=c(\"y0\",\"y1\",\"y2\",\"y3\",\"y4\",\"y5\")"
   ]
  },
  {
   "cell_type": "code",
   "execution_count": 10,
   "id": "bf37115e",
   "metadata": {},
   "outputs": [],
   "source": [
    "#how many grid cells\n",
    "gridlen=35\n",
    "\n",
    "#coordinates extreme value\n",
    "lonmin=144.165967\n",
    "latmin=-43.833736\n",
    "lonmax=148.576978\n",
    "latmax=-40.349895"
   ]
  },
  {
   "cell_type": "code",
   "execution_count": 11,
   "id": "82c3f6cc",
   "metadata": {},
   "outputs": [],
   "source": [
    "#years of simulation\n",
    "simulation_years=30\n",
    "\n",
    "#simulation timeframe per round\n",
    "simulation_intervals=1\n",
    "\n",
    "#number of simulations\n",
    "num_of_sims=100\n",
    "\n",
    "#max density 2 per sq km half for female model\n",
    "maxden=100"
   ]
  },
  {
   "cell_type": "code",
   "execution_count": 12,
   "id": "5e424da1",
   "metadata": {},
   "outputs": [],
   "source": [
    "#area name\n",
    "areaname='Tasmania'"
   ]
  },
  {
   "cell_type": "markdown",
   "id": "9c65e035",
   "metadata": {},
   "source": [
    "## Workflow\n",
    "\n",
    "The *poems* workflow, which implements a pattern-oriented modeling (POM) approach \n",
    "(Grimm et al., 2005), is achieved via a framework of interoperable components:\n",
    "\n",
    "\n",
    "The workflow is summarized by the following six steps:\n",
    "\n",
    "1. Build the population model for the study region.\n",
    "1. Build generators for dynamically generating model parameters.\n",
    "1. Sample model and generator parameters for each simulation.\n",
    "1. Build a simulation manager to run each simulation.\n",
    "1. Build a results manager to generate summary results (metrics).\n",
    "1. Build a validator to select a model ensemble.\n",
    "\n",
    "### Step 1: Build the population model for the study region\n",
    "Create a model template using the *PopulationModel* class. If the model is spatially\n",
    "explicit, then define the study region via the *Region* class. All fixed model inputs,\n",
    "such as environmental correlations, as well as any user-defined functions for processes\n",
    "such as harvesting, should be set at this stage.\n",
    "\n",
    "We could create these components in any order and set model parameters separately, but \n",
    "let's setup our study region, generate environmental correlations, and define a harvest\n",
    "function prior to initializing the template model with all the fixed parameters.\n",
    "\n",
    "##### Study region\n",
    "First, we'll define our study region tasman with some longitude-latitude\n",
    "coordinates."
   ]
  },
  {
   "cell_type": "code",
   "execution_count": 13,
   "id": "ffa26979",
   "metadata": {},
   "outputs": [
    {
     "data": {
      "text/html": [
       "0.126028885714286"
      ],
      "text/latex": [
       "0.126028885714286"
      ],
      "text/markdown": [
       "0.126028885714286"
      ],
      "text/plain": [
       "[1] 0.1260289"
      ]
     },
     "metadata": {},
     "output_type": "display_data"
    },
    {
     "data": {
      "text/html": [
       "0.0995383142857144"
      ],
      "text/latex": [
       "0.0995383142857144"
      ],
      "text/markdown": [
       "0.0995383142857144"
      ],
      "text/plain": [
       "[1] 0.09953831"
      ]
     },
     "metadata": {},
     "output_type": "display_data"
    }
   ],
   "source": [
    "(lonmax-lonmin)/gridlen\n",
    "(latmax-latmin)/gridlen"
   ]
  },
  {
   "cell_type": "code",
   "execution_count": 14,
   "id": "802c9b41",
   "metadata": {
    "scrolled": false
   },
   "outputs": [
    {
     "data": {
      "image/png": "[encoded data removed]",
      "text/plain": [
       "Plot with title \"Tasmania\""
      ]
     },
     "metadata": {
      "image/png": {
       "height": 420,
       "width": 420
      }
     },
     "output_type": "display_data"
    }
   ],
   "source": [
    "#build the raster of channel\n",
    "coordinates <- data.frame(x = rep(seq(lonmin, lonmax, 0.127028885714286), gridlen),\n",
    "                          y = rep(seq(latmin, latmax, 0.1005383142857144),each= gridlen))\n",
    "template_raster <- Region$new(coordinates = coordinates)$region_raster # full extent\n",
    "template_raster[][-landarea] <- NA \n",
    "\n",
    "region <- Region$new(template_raster = template_raster)\n",
    "\n",
    "raster::plot(region$region_raster, main = areaname,\n",
    "             xlab = \"Longitude (degrees)\", ylab = \"Latitude (degrees)\",\n",
    "             colNA = \"blue\",)"
   ]
  },
  {
   "cell_type": "code",
   "execution_count": 15,
   "id": "b7257c2a",
   "metadata": {},
   "outputs": [
    {
     "data": {
      "image/png": "[encoded data removed]",
      "text/plain": [
       "Plot with title \"Validation Area\""
      ]
     },
     "metadata": {
      "image/png": {
       "height": 420,
       "width": 420
      }
     },
     "output_type": "display_data"
    }
   ],
   "source": [
    "# Example validation area\n",
    "example_vt_raster <- region$region_raster\n",
    "example_vt_raster[landarea] <- 50\n",
    "example_vt_raster[validation_target] <- 1000\n",
    "example_vt_raster[-landarea]<- NA\n",
    "raster::plot(example_vt_raster, main = \"Validation Area\",alpha=0.5,legend = FALSE,\n",
    "             xlab = \"Longitude (degrees)\", ylab = \"Latitude (degrees)\",\n",
    "             colNA = \"blue\")"
   ]
  },
  {
   "cell_type": "markdown",
   "id": "6df0281d",
   "metadata": {},
   "source": [
    "##### Environmental correlation\n",
    "Next, we'll define a distance-based spatial correlation for applying environmental \n",
    "stochasticity within our model. The generated correlation data is compacted for \n",
    "computational efficiency (with large-scale models)."
   ]
  },
  {
   "cell_type": "code",
   "execution_count": 16,
   "id": "f2539a41",
   "metadata": {},
   "outputs": [],
   "source": [
    "# Distance-based environmental correlation (via a compacted Cholesky decomposition)\n",
    "env_corr <- SpatialCorrelation$new(region = region, amplitude = 0.4, breadth = 500)\n",
    "correlation <- env_corr$get_compact_decomposition(decimals = 2)"
   ]
  },
  {
   "cell_type": "markdown",
   "id": "9d5ad1f2",
   "metadata": {},
   "source": [
    "##### Template model\n",
    "Finally, we can build our template model with these and other fixed parameters.\n",
    "\n",
    "[0. , 0.489, 1.4539, 1.947, 1.5079,0.547]\n",
    "\n",
    "[1.0, 0.0, 0.0, 0.0, 0.0, 0.0]\n",
    "\n",
    "[0.0, 0.976, 0.0, 0.0, 0.0, 0.0]\n",
    "\n",
    "[0.0, 0.0, 0.899, 0.0, 0.0, 0.0]\n",
    "\n",
    "[0.0, 0.0, 0.0, 0.84, 0.0, 0.0]\n",
    "\n",
    "[0.0, 0.0, 0.0, 0.0, 0.791, 0.0]"
   ]
  },
  {
   "cell_type": "code",
   "execution_count": 17,
   "id": "15a1190f",
   "metadata": {},
   "outputs": [],
   "source": [
    "# Population (simulation) model template for fixed parameters\n",
    "stage_matrix <- matrix(leslie_matrix, nrow = length(agegroup), ncol = length(agegroup), byrow = TRUE,\n",
    "                       dimnames = list(agegroup,agegroup ))"
   ]
  },
  {
   "cell_type": "markdown",
   "id": "dab97159",
   "metadata": {},
   "source": [
    "### Step 2: Build generators for dynamically generating model parameters\n",
    "Some model parameters are single values, whilst others are represented as arrays and\n",
    "other multi-value data structures. Usually, we don't wish to sample each individual \n",
    "value within these multi-value parameters (in step 3), but to generate them dynamically\n",
    "via one or more intermediate sampled parameters. Here we build generators for model \n",
    "initial abundance, carrying capacity, and dispersal.\n",
    "\n",
    "##### Habitat suitability\n",
    "Firstly, our initial abundance and carrying capacity generator utilizes an example\n",
    "(mock) habitat suitability for our defined study region. "
   ]
  },
  {
   "cell_type": "code",
   "execution_count": 18,
   "id": "8e4993e7",
   "metadata": {
    "scrolled": false
   },
   "outputs": [
    {
     "data": {
      "image/png": "[encoded data removed]",
      "text/plain": [
       "Plot with title \"Example habitat suitability\""
      ]
     },
     "metadata": {
      "image/png": {
       "height": 420,
       "width": 420
      }
     },
     "output_type": "display_data"
    }
   ],
   "source": [
    "# Example habitat suitability\n",
    "example_hs=suitability$pred\n",
    "example_hs_raster <- region$region_raster\n",
    "example_hs_raster[region$region_indices] <- example_hs\n",
    "raster::plot(example_hs_raster, main = \"Example habitat suitability\",\n",
    "             xlab = \"Longitude (degrees)\", ylab = \"Latitude (degrees)\",\n",
    "             colNA = \"blue\")"
   ]
  },
  {
   "cell_type": "markdown",
   "id": "089ddad7",
   "metadata": {},
   "source": [
    "##### Initial abundance and carrying capacity generator\n",
    "The generator utilizes generic template functionality for user-defined custom\n",
    "functions. It uses sampled input parameters (initial total abundance and maximum cell\n",
    "density), along with habitat suitability, to generate the desired output model \n",
    "parameters (initial abundance and carrying capacity) via these user-defined functions. \n",
    "Generators can also be configured to read values from files or generate values via \n",
    "probabilistic distributions. "
   ]
  },
  {
   "cell_type": "code",
   "execution_count": 19,
   "id": "a0c6eab7",
   "metadata": {},
   "outputs": [],
   "source": [
    "# Initial abundance and carrying capacity generated via example habitat suitability\n",
    "capacity_gen <- Generator$new(description = \"Capacity generator\",\n",
    "                              example_hs = example_hs, # template attached\n",
    "                              inputs = c(\"initial_n\", \"density_max\"),\n",
    "                              outputs = c(\"initial_abundance\", \"carrying_capacity\"))\n",
    "capacity_gen$add_generative_requirements(list(initial_abundance = \"function\",\n",
    "                                              carrying_capacity = \"function\"))\n",
    "capacity_gen$add_function_template(\"initial_abundance\",\n",
    "                                   function_def = function(params) {\n",
    "                                       stats::rmultinom(1, size = params$initial_n,\n",
    "                                                      prob = params$example_hs)[,1]\n",
    "                                   },\n",
    "                                   call_params = c(\"initial_n\", \"example_hs\"))\n",
    "capacity_gen$add_function_template(\"carrying_capacity\",\n",
    "                                   function_def = function(params) {\n",
    "                                     round(params$density_max*params$example_hs)\n",
    "                                   },\n",
    "                                   call_params = c(\"density_max\", \"example_hs\"))\n",
    "# capacity_gen$generate(input_values = list(initial_n = 15, density_max = 15)) # test"
   ]
  },
  {
   "cell_type": "markdown",
   "id": "7c508ef8",
   "metadata": {},
   "source": [
    "Tasman + Forestier is 43km * 33km. Dispersal is estimated via mark recapture data from billie. Devils which got recaptured one year apart are taken into the dataset to estimate the annual dispersal distance. \n",
    "\n",
    "https://github.com/je-suis-tm/Devil-Project/blob/main/Chapter1/Tasman/dispersal%20estimate%20tasman.ipynb"
   ]
  },
  {
   "cell_type": "code",
   "execution_count": 20,
   "id": "1077f095",
   "metadata": {},
   "outputs": [
    {
     "name": "stderr",
     "output_type": "stream",
     "text": [
      "as(<dsCMatrix>, \"dgTMatrix\") is deprecated since Matrix 1.5-0; do as(as(., \"generalMatrix\"), \"TsparseMatrix\") instead\n",
      "\n"
     ]
    }
   ],
   "source": [
    "# Distance-based dispersal generator\n",
    "dispersal_gen <- DispersalGenerator$new(region = region,\n",
    "                                        dispersal_max_distance = 300, # in km \n",
    "                                        distance_scale = 1000,\n",
    "                                        dispersal_friction = DispersalFriction$new(),\n",
    "                                        inputs = c(\"dispersal_p\", \"dispersal_b\"),\n",
    "                                        decimals = 5)\n",
    "dispersal_gen$calculate_distance_data() # pre-calculate\n",
    "test_dispersal <- dispersal_gen$generate(input_values = list(dispersal_p = known_dispersal_p, \n",
    "                                                             dispersal_b = known_dispersal_b))\n",
    "#head(test_dispersal$dispersal_data[[1]])"
   ]
  },
  {
   "cell_type": "markdown",
   "id": "d6035b33",
   "metadata": {},
   "source": [
    "##### Density Dependence"
   ]
  },
  {
   "cell_type": "code",
   "execution_count": 21,
   "id": "2a814855",
   "metadata": {},
   "outputs": [],
   "source": [
    "# Define neighborhoods based on a 12 km home range from each \n",
    "# grid cell for density dependence calculations (using a dispersal generator)\n",
    "distance_data <- dispersal_gen$distance_data[[1]]\n",
    "nh_data <- distance_data[which(distance_data$distance_class <= 12), 2:1]\n",
    "\n",
    "neighborhoods <- as.list(1:length(landarea))\n",
    "for (i in 1:nrow(nh_data)) {\n",
    "  neighborhoods[[nh_data$source_pop[i]]] <- c(neighborhoods[[nh_data$source_pop[i]]],\n",
    "                                               nh_data$target_pop[i])\n",
    "}\n",
    "#neighborhoods[1:3] # examine"
   ]
  },
  {
   "cell_type": "code",
   "execution_count": 22,
   "id": "ed5b6c1f",
   "metadata": {},
   "outputs": [],
   "source": [
    "# User-defined function for Ricker logistic density dependence via neighborhoods\n",
    "density_dependence <- list(\n",
    "  neighborhoods = neighborhoods,\n",
    "  function (params) {\n",
    "    \n",
    "    # Apply logistic density dependence using neighborhoods\n",
    "    growth_rate_max <- params$growth_rate_max\n",
    "    nh_density_abundance <- unlist(lapply(params$neighborhoods,\n",
    "                                          function (nh_indices) {\n",
    "                                            sum(params$density_abundance[nh_indices])\n",
    "                                          }))\n",
    "    nh_carrying_capacity <- unlist(lapply(params$neighborhoods,\n",
    "                                          function (nh_indices) {\n",
    "                                            sum(params$carrying_capacity[nh_indices])\n",
    "                                          }))\n",
    "    occupied_indices <- params$occupied_indices\n",
    "    growth_rate <- growth_rate_max*(1 - (nh_density_abundance[occupied_indices]/\n",
    "                                           nh_carrying_capacity[occupied_indices]))\n",
    "    params$transition_array[, , occupied_indices] <-\n",
    "      params$apply_multipliers(params$transition_array[, , occupied_indices],\n",
    "                               params$calculate_multipliers(growth_rate))\n",
    "    \n",
    "    \n",
    "    # Remove fecundities for single thylacines\n",
    "    single_indices <- which(nh_density_abundance == 1)\n",
    "    params$transition_array[, , single_indices] <-\n",
    "      (params$transition_array[, , single_indices]*as.vector(+(!params$fecundity_mask)))\n",
    "    \n",
    "    return(params$transition_array)\n",
    "  }\n",
    ")"
   ]
  },
  {
   "cell_type": "code",
   "execution_count": 23,
   "id": "9b9d118c",
   "metadata": {},
   "outputs": [],
   "source": [
    "#stage_matrix # examine\n",
    "model_template <- PopulationModel$new(region = region,\n",
    "                                      time_steps = simulation_years, # years\n",
    "                                      years_per_step = simulation_intervals,\n",
    "                                      populations = region$region_cells, \n",
    "                                      stages = length(agegroup),\n",
    "                                      stage_matrix = stage_matrix,\n",
    "                                      demographic_stochasticity = TRUE,\n",
    "                                      standard_deviation = 0.05,\n",
    "                                      correlation = correlation,\n",
    "                                      density_dependence = density_dependence,\n",
    "                                      results_selection = c(\"abundance\"),)"
   ]
  },
  {
   "cell_type": "markdown",
   "id": "61c49a94",
   "metadata": {},
   "source": [
    "### Step 3: Sample model and generator parameters for each simulation\n",
    "In order to explore the model parameter space to find the best models, we generate\n",
    "Latin hypercube samples of model and generator parameters to be simulated, using the\n",
    "*LatinHypercubeSampler* class. This class has functionality for generating sample\n",
    "parameters via Uniform, Normal, Lognormal, Beta, and Triangular distributions."
   ]
  },
  {
   "cell_type": "code",
   "execution_count": 24,
   "id": "25da1402",
   "metadata": {
    "scrolled": true
   },
   "outputs": [],
   "source": [
    "# Generate sampled values for variable model parameters via LHS\n",
    "lhs_gen <- LatinHypercubeSampler$new()\n",
    "\n",
    "#logistic growth model 0.74\n",
    "# https://github.com/je-suis-tm/Devil-Project/blob/main/Chapter1/Tasman/logistic%20population%20growth%20tasman.ipynb\n",
    "lhs_gen$set_uniform_parameter(\"growth_rate_max\", lower = 0.5, upper = 0.6, decimals = 2)\n",
    "\n",
    "#automatically fetched\n",
    "lhs_gen$set_uniform_parameter(\"density_max\", lower = as.integer(maxden*0.5), \n",
    "                              upper = as.integer(maxden*1.5), decimals = 2)\n",
    "lhs_gen$set_uniform_parameter(\"initial_n\", lower = as.integer(population_size[1]/2*0.9),\n",
    "                              upper = as.integer(population_size[1]/2*1.1), decimals = 0)\n",
    "lhs_gen$set_uniform_parameter(\"dispersal_p\", lower = known_dispersal_p*0.9, \n",
    "                              upper = known_dispersal_p*1.1, decimals = 4)\n",
    "lhs_gen$set_uniform_parameter(\"dispersal_b\", lower = as.integer(known_dispersal_b*0.9),\n",
    "                              upper = as.integer(known_dispersal_b*1.1), decimals = 2)\n",
    "sample_data <- lhs_gen$generate_samples(number = num_of_sims)\n",
    "\n",
    "#save as pickle\n",
    "save(sample_data, file=\"sample data.Rda\")"
   ]
  },
  {
   "cell_type": "markdown",
   "id": "01d3a46a",
   "metadata": {},
   "source": [
    "### Step 4: Build a simulation manager to run each simulation\n",
    "We now wish to run a simulation for each set (or row) of sampled parameters. The\n",
    "*SimulationManager* class manages the generation of parameters (via the generators),\n",
    "the running the model simulations, and writing simulation results to disk. It also\n",
    "maintains a log of each simulation's success and any errors or warnings encountered."
   ]
  },
  {
   "cell_type": "code",
   "execution_count": 25,
   "id": "5175e5b3",
   "metadata": {},
   "outputs": [
    {
     "data": {
      "text/html": [
       "'100 of 100 sample models ran and saved results successfully with warnings'"
      ],
      "text/latex": [
       "'100 of 100 sample models ran and saved results successfully with warnings'"
      ],
      "text/markdown": [
       "'100 of 100 sample models ran and saved results successfully with warnings'"
      ],
      "text/plain": [
       "[1] \"100 of 100 sample models ran and saved results successfully with warnings\""
      ]
     },
     "metadata": {},
     "output_type": "display_data"
    }
   ],
   "source": [
    "# Create a simulation manager and run the sampled model simulations\n",
    "sim_manager <- SimulationManager$new(sample_data = sample_data,\n",
    "                                     model_template = model_template,\n",
    "                                     generators = list(capacity_gen, dispersal_gen),\n",
    "                                     parallel_cores = 2,\n",
    "                                     results_dir = OUTPUT_DIR)\n",
    "run_output <- sim_manager$run(results_dir = tempdir())\n",
    "run_output$summary\n",
    "#dir(OUTPUT_DIR, \"*.RData\") # includes result files \n",
    "#dir(OUTPUT_DIR, \"*.txt\") # plus simulation log"
   ]
  },
  {
   "cell_type": "markdown",
   "id": "36d1000b",
   "metadata": {},
   "source": [
    "Note that the output directory contains a R-data result files for each sample simulation\n",
    "and a simulation log file.\n",
    "\n",
    "### Step 5: Build a results manager to generate summary results (metrics)\n",
    "We now wish to collate summary results for each of our simulations via the \n",
    "*ResultsManager* class. This manager loads the results from each sample simulation into\n",
    "an intermediate *PopulationResults* class object, which dynamically generates further \n",
    "results. We need to define functions for calculating summary metrics, as well as any \n",
    "matrices (one row of values per simulation) that we may be interested in examining. Each\n",
    "metric (or matrix) is associated with a user-defined function that utilizes results object \n",
    "attributes, or alternatively direct access to an attribute may be defined via a string.\n",
    "Once generated, the result metrics (a data frame) and/or matrices (a list) can be \n",
    "accessed via the manager. We may utilize the collated results in a variety of ways. \n",
    "However, with the objective of selecting the best models, we wish to compare (or \n",
    "validate) these result metrics to (with) known or desired target patterns (in step 6)."
   ]
  },
  {
   "cell_type": "code",
   "execution_count": 26,
   "id": "fd2dee13",
   "metadata": {},
   "outputs": [],
   "source": [
    "# #validation area id\n",
    "# iden=identity$ID\n",
    "\n",
    "# results_manager <- ResultsManager$new(simulation_manager = sim_manager,\n",
    "#                                       simulation_results = PopulationResults$new(),\n",
    "#                                       summary_metrics = c(\"p2\",\"p3\",\"p4\"),\n",
    "#                                       summary_matrices = c(\"n\"),\n",
    "#                                       iden=identity$ID,\n",
    "#                                       summary_functions = list(\n",
    "                                          \n",
    "#                                           #results refer to actual output rdata file\n",
    "#                                         p2 = function(results,iden) {\n",
    "#                                           sum(results$abundance[iden,2])                                            \n",
    "#                                         },                                          \n",
    "#                                         p3 = function(results,iden) {\n",
    "#                                           sum(results$abundance[iden,3])\n",
    "#                                         },\n",
    "#                                         p4 = function(results,iden) {\n",
    "#                                           sum(results$abundance[iden,4])\n",
    "#                                         },\n",
    "#                                         n = \"abundance\"),\n",
    "#                                       parallel_cores = 2)\n",
    "# gen_output <- results_manager$generate()\n",
    "# gen_output$summary\n",
    "# #dir(OUTPUT_DIR, \"*.txt\") # plus generation log\n",
    "# # results_manager$summary_metric_data\n",
    "# # results_manager$summary_matrix_list"
   ]
  },
  {
   "cell_type": "code",
   "execution_count": 27,
   "id": "1811379e",
   "metadata": {},
   "outputs": [
    {
     "data": {
      "text/html": [
       "'100 of 100 summary metrics/matrices generated from sample results successfully'"
      ],
      "text/latex": [
       "'100 of 100 summary metrics/matrices generated from sample results successfully'"
      ],
      "text/markdown": [
       "'100 of 100 summary metrics/matrices generated from sample results successfully'"
      ],
      "text/plain": [
       "[1] \"100 of 100 summary metrics/matrices generated from sample results successfully\""
      ]
     },
     "metadata": {},
     "output_type": "display_data"
    }
   ],
   "source": [
    "results_manager <- ResultsManager$new(simulation_manager = sim_manager,\n",
    "                                      simulation_results = PopulationResults$new(),\n",
    "                                      summary_metrics = c(\"p2\",\"p3\",\"p4\",\"p5\",\"p6\",\"p7\"),\n",
    "                                      summary_matrices = c(\"n\"),\n",
    "                                      summary_functions = list(\n",
    "                                        p2 = function(results) {\n",
    "                                          results$all$abundance[2]\n",
    "                                        },\n",
    "                                        p3 = function(results) {\n",
    "                                          results$all$abundance[3]\n",
    "                                        },\n",
    "                                        p4 = function(results) {\n",
    "                                          results$all$abundance[4]\n",
    "                                        },\n",
    "                                        p5 = function(results) {\n",
    "                                          results$all$abundance[5]\n",
    "                                        },\n",
    "                                        p6 = function(results) {\n",
    "                                          results$all$abundance[6]\n",
    "                                        },\n",
    "                                        p7 = function(results) {\n",
    "                                          results$all$abundance[7]\n",
    "                                        },\n",
    "                                        p8 = function(results) {\n",
    "                                          results$all$abundance[8]\n",
    "                                        },\n",
    "                                        p9 = function(results) {\n",
    "                                          results$all$abundance[9]\n",
    "                                        },\n",
    "                                        p10 = function(results) {\n",
    "                                          results$all$abundance[10]\n",
    "                                        },\n",
    "                                        n = \"all$abundance\"),\n",
    "                                      parallel_cores = 2)\n",
    "gen_output <- results_manager$generate()\n",
    "gen_output$summary\n",
    "#dir(OUTPUT_DIR, \"*.txt\") # plus generation log\n",
    "# results_manager$summary_metric_data\n",
    "# results_manager$summary_matrix_list"
   ]
  },
  {
   "cell_type": "code",
   "execution_count": 28,
   "id": "d0df290e",
   "metadata": {},
   "outputs": [],
   "source": [
    "#save as pickle\n",
    "save(results_manager, file=\"models.Rda\")"
   ]
  },
  {
   "cell_type": "markdown",
   "id": "c19bd8b6",
   "metadata": {},
   "source": [
    "### Step 6: Build a validator to select a model ensemble\n",
    "We now select and analyze our 'best' models via a *Validator* class object, which by\n",
    "default utilizes an approximate Bayesian computation (ABC) approach (Beaumont, Zhang, \n",
    "& Balding, 2002) provided by the *abc* library (Csillery et al., 2015). The validator\n",
    "can be configured appropriately for a problem domain (see the *abc* documentation). \n",
    "Here we use the default configuration to select the best 3 models, along with a weight\n",
    "value, which is indicative of the congruence between each model's summary metrics and \n",
    "the corresponding target patterns. Also provided (with the default settings) is a \n",
    "diagnostic output (PDF) file, containing statistical information for analyzing the \n",
    "contribution of model parameters in the selection/validation process (see the *abc* \n",
    "documentation). For our simple demonstration the metrics and corresponding targets are \n",
    "relatively trivial, having the aim of producing stable population abundances with high \n",
    "harvest. However, the package facilitates the use more complex spatio-temporal metrics \n",
    "and targets (demonstrated in more advanced vignettes)."
   ]
  },
  {
   "cell_type": "code",
   "execution_count": 29,
   "id": "0a7d304d",
   "metadata": {},
   "outputs": [],
   "source": [
    "#load pickle files so no need to retrain\n",
    "load(\"models.Rda\")\n",
    "load(\"sample data.Rda\")"
   ]
  },
  {
   "cell_type": "code",
   "execution_count": 30,
   "id": "fe341289",
   "metadata": {
    "scrolled": true
   },
   "outputs": [
    {
     "data": {
      "text/html": [
       "<table class=\"dataframe\">\n",
       "<caption>A data.frame: 0 × 10</caption>\n",
       "<thead>\n",
       "\t<tr><th scope=col>index</th><th scope=col>p2</th><th scope=col>p3</th><th scope=col>p4</th><th scope=col>p5</th><th scope=col>p6</th><th scope=col>p7</th><th scope=col>p8</th><th scope=col>p9</th><th scope=col>p10</th></tr>\n",
       "\t<tr><th scope=col>&lt;int&gt;</th><th scope=col>&lt;dbl&gt;</th><th scope=col>&lt;dbl&gt;</th><th scope=col>&lt;dbl&gt;</th><th scope=col>&lt;dbl&gt;</th><th scope=col>&lt;dbl&gt;</th><th scope=col>&lt;dbl&gt;</th><th scope=col>&lt;dbl&gt;</th><th scope=col>&lt;dbl&gt;</th><th scope=col>&lt;dbl&gt;</th></tr>\n",
       "</thead>\n",
       "<tbody>\n",
       "</tbody>\n",
       "</table>\n"
      ],
      "text/latex": [
       "A data.frame: 0 × 10\n",
       "\\begin{tabular}{llllllllll}\n",
       " index & p2 & p3 & p4 & p5 & p6 & p7 & p8 & p9 & p10\\\\\n",
       " <int> & <dbl> & <dbl> & <dbl> & <dbl> & <dbl> & <dbl> & <dbl> & <dbl> & <dbl>\\\\\n",
       "\\hline\n",
       "\\end{tabular}\n"
      ],
      "text/markdown": [
       "\n",
       "A data.frame: 0 × 10\n",
       "\n",
       "| index &lt;int&gt; | p2 &lt;dbl&gt; | p3 &lt;dbl&gt; | p4 &lt;dbl&gt; | p5 &lt;dbl&gt; | p6 &lt;dbl&gt; | p7 &lt;dbl&gt; | p8 &lt;dbl&gt; | p9 &lt;dbl&gt; | p10 &lt;dbl&gt; |\n",
       "|---|---|---|---|---|---|---|---|---|---|\n",
       "\n"
      ],
      "text/plain": [
       "     index p2 p3 p4 p5 p6 p7 p8 p9 p10"
      ]
     },
     "metadata": {},
     "output_type": "display_data"
    }
   ],
   "source": [
    "#showna\n",
    "validation_var=results_manager$summary_metric_data\n",
    "validation_var[!complete.cases(validation_var),]"
   ]
  },
  {
   "cell_type": "code",
   "execution_count": 31,
   "id": "28bb5860",
   "metadata": {},
   "outputs": [],
   "source": [
    "#list of na\n",
    "remove_index=which(!complete.cases(validation_var))"
   ]
  },
  {
   "cell_type": "code",
   "execution_count": 32,
   "id": "0fa4be72",
   "metadata": {},
   "outputs": [],
   "source": [
    "# Create a validator for selecting the 'best' example models\n",
    "if (length(remove_index)==0)    {\n",
    "    validator <- Validator$new(simulation_parameters = sample_data,\n",
    "                           simulation_summary_metrics =\n",
    "                             validation_var[-1],\n",
    "                           observed_metric_targets = c(p2=as.integer(population_size[2]/2),\n",
    "                                                       p3=as.integer(population_size[3]/2),\n",
    "                                                       p4=as.integer(population_size[4]/2),\n",
    "                                                       p5=as.integer(population_size[5]/2),\n",
    "                                                       p6=as.integer(population_size[6]/2),\n",
    "                                                       p7=as.integer(population_size[7]/2),\n",
    "                                                       p8=as.integer(population_size[8]/2),\n",
    "                                                       p9=as.integer(population_size[9]/2),\n",
    "                                                       p10=as.integer(population_size[10]/2)),\n",
    "                           output_dir = OUTPUT_DIR)\n",
    "\n",
    "} else    {\n",
    "    validator <- Validator$new(simulation_parameters = sample_data[-remove_index,],\n",
    "                           simulation_summary_metrics =\n",
    "                             validation_var[-remove_index,][-1],\n",
    "                           observed_metric_targets = c(p2=as.integer(population_size[2]/2),\n",
    "                                                       p3=as.integer(population_size[3]/2),\n",
    "                                                       p4=as.integer(population_size[4]/2),\n",
    "                                                       p5=as.integer(population_size[5]/2),\n",
    "                                                       p6=as.integer(population_size[6]/2),\n",
    "                                                       p7=as.integer(population_size[7]/2),\n",
    "                                                       p8=as.integer(population_size[8]/2),\n",
    "                                                       p9=as.integer(population_size[9]/2),\n",
    "                                                       p10=as.integer(population_size[10]/2)),\n",
    "                           output_dir = OUTPUT_DIR)\n",
    "}"
   ]
  },
  {
   "cell_type": "code",
   "execution_count": 33,
   "id": "d8715081",
   "metadata": {
    "scrolled": false
   },
   "outputs": [
    {
     "name": "stdout",
     "output_type": "stream",
     "text": [
      "12345678910\n",
      "12345678910\n"
     ]
    },
    {
     "name": "stderr",
     "output_type": "stream",
     "text": [
      "Warning message:\n",
      "\"Validation function generated warning: All parameters are \"none\" transformed.\"\n"
     ]
    }
   ],
   "source": [
    "validator$run(tolerance = 0.25, output_diagnostics = TRUE)"
   ]
  },
  {
   "cell_type": "code",
   "execution_count": 34,
   "id": "fa8b553e",
   "metadata": {},
   "outputs": [],
   "source": [
    "#rescale weights as they dont sum up to one\n",
    "weights=validator$selected_simulations \n",
    "weights$weight=weights$weight/sum(weights$weight)"
   ]
  },
  {
   "cell_type": "code",
   "execution_count": 35,
   "id": "538db267",
   "metadata": {
    "scrolled": true
   },
   "outputs": [
    {
     "data": {
      "text/html": [
       "<style>\n",
       ".dl-inline {width: auto; margin:0; padding: 0}\n",
       ".dl-inline>dt, .dl-inline>dd {float: none; width: auto; display: inline-block}\n",
       ".dl-inline>dt::after {content: \":\\0020\"; padding-right: .5ex}\n",
       ".dl-inline>dt:not(:first-of-type) {padding-left: .5ex}\n",
       "</style><dl class=dl-inline><dt>growth_rate_max</dt><dd>0.560422100523457</dd><dt>density_max</dt><dd>28.2860600306181</dd><dt>initial_n</dt><dd>17427.6019901524</dd><dt>dispersal_p</dt><dd>0.191528863352411</dd><dt>dispersal_b</dt><dd>5.48545417869106</dd></dl>\n"
      ],
      "text/latex": [
       "\\begin{description*}\n",
       "\\item[growth\\textbackslash{}\\_rate\\textbackslash{}\\_max] 0.560422100523457\n",
       "\\item[density\\textbackslash{}\\_max] 28.2860600306181\n",
       "\\item[initial\\textbackslash{}\\_n] 17427.6019901524\n",
       "\\item[dispersal\\textbackslash{}\\_p] 0.191528863352411\n",
       "\\item[dispersal\\textbackslash{}\\_b] 5.48545417869106\n",
       "\\end{description*}\n"
      ],
      "text/markdown": [
       "growth_rate_max\n",
       ":   0.560422100523457density_max\n",
       ":   28.2860600306181initial_n\n",
       ":   17427.6019901524dispersal_p\n",
       ":   0.191528863352411dispersal_b\n",
       ":   5.48545417869106\n",
       "\n"
      ],
      "text/plain": [
       "growth_rate_max     density_max       initial_n     dispersal_p     dispersal_b \n",
       "   5.604221e-01    2.828606e+01    1.742760e+04    1.915289e-01    5.485454e+00 "
      ]
     },
     "metadata": {},
     "output_type": "display_data"
    }
   ],
   "source": [
    "#get result\n",
    "colSums(sample_data[weights$index,]*replicate(length(sample_data), weights$weight))"
   ]
  },
  {
   "cell_type": "code",
   "execution_count": 36,
   "id": "e675fc3b",
   "metadata": {},
   "outputs": [
    {
     "data": {
      "text/html": [
       "'validation_diagnostics.pdf'"
      ],
      "text/latex": [
       "'validation\\_diagnostics.pdf'"
      ],
      "text/markdown": [
       "'validation_diagnostics.pdf'"
      ],
      "text/plain": [
       "[1] \"validation_diagnostics.pdf\""
      ]
     },
     "metadata": {},
     "output_type": "display_data"
    }
   ],
   "source": [
    "dir(OUTPUT_DIR, \"*.pdf\") # plus validation diagnostics (see abc library documentation)"
   ]
  },
  {
   "cell_type": "code",
   "execution_count": 37,
   "id": "6d6c1d1f",
   "metadata": {},
   "outputs": [],
   "source": [
    "forecast_manager <- ResultsManager$new(simulation_manager = sim_manager,\n",
    "                                      simulation_results = PopulationResults$new(),\n",
    "                                      summary_metrics = c(\"p22\",\"p23\",\"p24\",\"p25\",\"p26\",\"p27\",\"p28\",\"p29\",\"p30\"),\n",
    "                                      summary_matrices = c(\"n\"),\n",
    "                                      summary_functions = list(\n",
    "                                        p22 = function(results) {\n",
    "                                          results$all$abundance[22]\n",
    "                                        },\n",
    "                                        p23 = function(results) {\n",
    "                                          results$all$abundance[23]\n",
    "                                        },\n",
    "                                        p24 = function(results) {\n",
    "                                          results$all$abundance[24]\n",
    "                                        },\n",
    "                                        p25 = function(results) {\n",
    "                                          results$all$abundance[25]\n",
    "                                        },\n",
    "                                        p26 = function(results) {\n",
    "                                          results$all$abundance[26]\n",
    "                                        },\n",
    "                                        p27 = function(results) {\n",
    "                                          results$all$abundance[27]\n",
    "                                        },\n",
    "                                        p28 = function(results) {\n",
    "                                          results$all$abundance[28]\n",
    "                                        },\n",
    "                                        p29 = function(results) {\n",
    "                                          results$all$abundance[29]\n",
    "                                        },\n",
    "                                        p30 = function(results) {\n",
    "                                          results$all$abundance[30]\n",
    "                                        },\n",
    "                                        n = \"all$abundance\"),\n",
    "                                      parallel_cores = 2)\n",
    "projection <- forecast_manager$generate()"
   ]
  },
  {
   "cell_type": "code",
   "execution_count": 44,
   "id": "aba546f8",
   "metadata": {},
   "outputs": [
    {
     "data": {
      "text/html": [
       "<table class=\"dataframe\">\n",
       "<caption>A data.frame: 25 × 10</caption>\n",
       "<thead>\n",
       "\t<tr><th></th><th scope=col>index</th><th scope=col>p2</th><th scope=col>p3</th><th scope=col>p4</th><th scope=col>p5</th><th scope=col>p6</th><th scope=col>p7</th><th scope=col>p8</th><th scope=col>p9</th><th scope=col>p10</th></tr>\n",
       "\t<tr><th></th><th scope=col>&lt;int&gt;</th><th scope=col>&lt;dbl&gt;</th><th scope=col>&lt;dbl&gt;</th><th scope=col>&lt;dbl&gt;</th><th scope=col>&lt;dbl&gt;</th><th scope=col>&lt;dbl&gt;</th><th scope=col>&lt;dbl&gt;</th><th scope=col>&lt;dbl&gt;</th><th scope=col>&lt;dbl&gt;</th><th scope=col>&lt;dbl&gt;</th></tr>\n",
       "</thead>\n",
       "<tbody>\n",
       "\t<tr><th scope=row>3</th><td>  3</td><td>14487</td><td>14412</td><td>14437</td><td>14366</td><td>14205</td><td>14396</td><td>14292</td><td>14321</td><td>14407</td></tr>\n",
       "\t<tr><th scope=row>6</th><td>  6</td><td>14511</td><td>14298</td><td>14046</td><td>14096</td><td>14245</td><td>13888</td><td>14101</td><td>14127</td><td>14199</td></tr>\n",
       "\t<tr><th scope=row>21</th><td> 21</td><td>16081</td><td>15784</td><td>15784</td><td>15570</td><td>15458</td><td>15728</td><td>15813</td><td>15834</td><td>16040</td></tr>\n",
       "\t<tr><th scope=row>23</th><td> 23</td><td>15399</td><td>15374</td><td>15513</td><td>15417</td><td>15213</td><td>15343</td><td>15277</td><td>14994</td><td>15039</td></tr>\n",
       "\t<tr><th scope=row>26</th><td> 26</td><td>16000</td><td>15675</td><td>15908</td><td>15681</td><td>15763</td><td>15921</td><td>15912</td><td>15948</td><td>15945</td></tr>\n",
       "\t<tr><th scope=row>29</th><td> 29</td><td>14877</td><td>14644</td><td>14427</td><td>14450</td><td>14479</td><td>14565</td><td>14543</td><td>14667</td><td>14722</td></tr>\n",
       "\t<tr><th scope=row>37</th><td> 37</td><td>14482</td><td>13992</td><td>13922</td><td>14035</td><td>13833</td><td>14042</td><td>13923</td><td>14006</td><td>14109</td></tr>\n",
       "\t<tr><th scope=row>42</th><td> 42</td><td>15900</td><td>15476</td><td>15451</td><td>15739</td><td>15617</td><td>15860</td><td>15664</td><td>15826</td><td>15822</td></tr>\n",
       "\t<tr><th scope=row>43</th><td> 43</td><td>15614</td><td>15255</td><td>15364</td><td>15160</td><td>15210</td><td>15125</td><td>15179</td><td>15045</td><td>15203</td></tr>\n",
       "\t<tr><th scope=row>44</th><td> 44</td><td>15684</td><td>15546</td><td>15367</td><td>15489</td><td>15438</td><td>15305</td><td>15534</td><td>15724</td><td>15664</td></tr>\n",
       "\t<tr><th scope=row>46</th><td> 46</td><td>16209</td><td>16001</td><td>15935</td><td>16112</td><td>16331</td><td>16266</td><td>16252</td><td>16354</td><td>16511</td></tr>\n",
       "\t<tr><th scope=row>48</th><td> 48</td><td>16499</td><td>16467</td><td>16507</td><td>16362</td><td>16428</td><td>16522</td><td>16515</td><td>16772</td><td>16540</td></tr>\n",
       "\t<tr><th scope=row>49</th><td> 49</td><td>14505</td><td>14194</td><td>14017</td><td>14068</td><td>13816</td><td>13903</td><td>13743</td><td>13770</td><td>13870</td></tr>\n",
       "\t<tr><th scope=row>57</th><td> 57</td><td>16401</td><td>16239</td><td>16304</td><td>16110</td><td>16104</td><td>16279</td><td>16154</td><td>16263</td><td>16244</td></tr>\n",
       "\t<tr><th scope=row>60</th><td> 60</td><td>16344</td><td>16135</td><td>16152</td><td>16119</td><td>15806</td><td>15989</td><td>16110</td><td>16145</td><td>16166</td></tr>\n",
       "\t<tr><th scope=row>62</th><td> 62</td><td>16435</td><td>16233</td><td>16352</td><td>16450</td><td>16511</td><td>16425</td><td>16783</td><td>16823</td><td>16557</td></tr>\n",
       "\t<tr><th scope=row>66</th><td> 66</td><td>16326</td><td>16254</td><td>16332</td><td>16148</td><td>16226</td><td>16428</td><td>16456</td><td>16382</td><td>16475</td></tr>\n",
       "\t<tr><th scope=row>68</th><td> 68</td><td>14829</td><td>14680</td><td>14821</td><td>14708</td><td>14635</td><td>14602</td><td>14562</td><td>14787</td><td>14670</td></tr>\n",
       "\t<tr><th scope=row>70</th><td> 70</td><td>15824</td><td>15297</td><td>15288</td><td>15483</td><td>15457</td><td>15431</td><td>15385</td><td>15658</td><td>15385</td></tr>\n",
       "\t<tr><th scope=row>71</th><td> 71</td><td>14459</td><td>14231</td><td>14262</td><td>14195</td><td>14228</td><td>14274</td><td>14635</td><td>14516</td><td>14618</td></tr>\n",
       "\t<tr><th scope=row>81</th><td> 81</td><td>15595</td><td>15243</td><td>15172</td><td>15117</td><td>15170</td><td>15212</td><td>15222</td><td>15127</td><td>15025</td></tr>\n",
       "\t<tr><th scope=row>92</th><td> 92</td><td>14755</td><td>14707</td><td>14794</td><td>14987</td><td>14861</td><td>14832</td><td>14899</td><td>15013</td><td>15002</td></tr>\n",
       "\t<tr><th scope=row>93</th><td> 93</td><td>16007</td><td>15530</td><td>15681</td><td>15617</td><td>15590</td><td>15514</td><td>15583</td><td>15484</td><td>15409</td></tr>\n",
       "\t<tr><th scope=row>94</th><td> 94</td><td>15002</td><td>14574</td><td>14342</td><td>14445</td><td>14380</td><td>14543</td><td>14705</td><td>14617</td><td>14590</td></tr>\n",
       "\t<tr><th scope=row>100</th><td>100</td><td>15038</td><td>14820</td><td>14931</td><td>14685</td><td>14817</td><td>14901</td><td>15106</td><td>14993</td><td>14976</td></tr>\n",
       "</tbody>\n",
       "</table>\n"
      ],
      "text/latex": [
       "A data.frame: 25 × 10\n",
       "\\begin{tabular}{r|llllllllll}\n",
       "  & index & p2 & p3 & p4 & p5 & p6 & p7 & p8 & p9 & p10\\\\\n",
       "  & <int> & <dbl> & <dbl> & <dbl> & <dbl> & <dbl> & <dbl> & <dbl> & <dbl> & <dbl>\\\\\n",
       "\\hline\n",
       "\t3 &   3 & 14487 & 14412 & 14437 & 14366 & 14205 & 14396 & 14292 & 14321 & 14407\\\\\n",
       "\t6 &   6 & 14511 & 14298 & 14046 & 14096 & 14245 & 13888 & 14101 & 14127 & 14199\\\\\n",
       "\t21 &  21 & 16081 & 15784 & 15784 & 15570 & 15458 & 15728 & 15813 & 15834 & 16040\\\\\n",
       "\t23 &  23 & 15399 & 15374 & 15513 & 15417 & 15213 & 15343 & 15277 & 14994 & 15039\\\\\n",
       "\t26 &  26 & 16000 & 15675 & 15908 & 15681 & 15763 & 15921 & 15912 & 15948 & 15945\\\\\n",
       "\t29 &  29 & 14877 & 14644 & 14427 & 14450 & 14479 & 14565 & 14543 & 14667 & 14722\\\\\n",
       "\t37 &  37 & 14482 & 13992 & 13922 & 14035 & 13833 & 14042 & 13923 & 14006 & 14109\\\\\n",
       "\t42 &  42 & 15900 & 15476 & 15451 & 15739 & 15617 & 15860 & 15664 & 15826 & 15822\\\\\n",
       "\t43 &  43 & 15614 & 15255 & 15364 & 15160 & 15210 & 15125 & 15179 & 15045 & 15203\\\\\n",
       "\t44 &  44 & 15684 & 15546 & 15367 & 15489 & 15438 & 15305 & 15534 & 15724 & 15664\\\\\n",
       "\t46 &  46 & 16209 & 16001 & 15935 & 16112 & 16331 & 16266 & 16252 & 16354 & 16511\\\\\n",
       "\t48 &  48 & 16499 & 16467 & 16507 & 16362 & 16428 & 16522 & 16515 & 16772 & 16540\\\\\n",
       "\t49 &  49 & 14505 & 14194 & 14017 & 14068 & 13816 & 13903 & 13743 & 13770 & 13870\\\\\n",
       "\t57 &  57 & 16401 & 16239 & 16304 & 16110 & 16104 & 16279 & 16154 & 16263 & 16244\\\\\n",
       "\t60 &  60 & 16344 & 16135 & 16152 & 16119 & 15806 & 15989 & 16110 & 16145 & 16166\\\\\n",
       "\t62 &  62 & 16435 & 16233 & 16352 & 16450 & 16511 & 16425 & 16783 & 16823 & 16557\\\\\n",
       "\t66 &  66 & 16326 & 16254 & 16332 & 16148 & 16226 & 16428 & 16456 & 16382 & 16475\\\\\n",
       "\t68 &  68 & 14829 & 14680 & 14821 & 14708 & 14635 & 14602 & 14562 & 14787 & 14670\\\\\n",
       "\t70 &  70 & 15824 & 15297 & 15288 & 15483 & 15457 & 15431 & 15385 & 15658 & 15385\\\\\n",
       "\t71 &  71 & 14459 & 14231 & 14262 & 14195 & 14228 & 14274 & 14635 & 14516 & 14618\\\\\n",
       "\t81 &  81 & 15595 & 15243 & 15172 & 15117 & 15170 & 15212 & 15222 & 15127 & 15025\\\\\n",
       "\t92 &  92 & 14755 & 14707 & 14794 & 14987 & 14861 & 14832 & 14899 & 15013 & 15002\\\\\n",
       "\t93 &  93 & 16007 & 15530 & 15681 & 15617 & 15590 & 15514 & 15583 & 15484 & 15409\\\\\n",
       "\t94 &  94 & 15002 & 14574 & 14342 & 14445 & 14380 & 14543 & 14705 & 14617 & 14590\\\\\n",
       "\t100 & 100 & 15038 & 14820 & 14931 & 14685 & 14817 & 14901 & 15106 & 14993 & 14976\\\\\n",
       "\\end{tabular}\n"
      ],
      "text/markdown": [
       "\n",
       "A data.frame: 25 × 10\n",
       "\n",
       "| <!--/--> | index &lt;int&gt; | p2 &lt;dbl&gt; | p3 &lt;dbl&gt; | p4 &lt;dbl&gt; | p5 &lt;dbl&gt; | p6 &lt;dbl&gt; | p7 &lt;dbl&gt; | p8 &lt;dbl&gt; | p9 &lt;dbl&gt; | p10 &lt;dbl&gt; |\n",
       "|---|---|---|---|---|---|---|---|---|---|---|\n",
       "| 3 |   3 | 14487 | 14412 | 14437 | 14366 | 14205 | 14396 | 14292 | 14321 | 14407 |\n",
       "| 6 |   6 | 14511 | 14298 | 14046 | 14096 | 14245 | 13888 | 14101 | 14127 | 14199 |\n",
       "| 21 |  21 | 16081 | 15784 | 15784 | 15570 | 15458 | 15728 | 15813 | 15834 | 16040 |\n",
       "| 23 |  23 | 15399 | 15374 | 15513 | 15417 | 15213 | 15343 | 15277 | 14994 | 15039 |\n",
       "| 26 |  26 | 16000 | 15675 | 15908 | 15681 | 15763 | 15921 | 15912 | 15948 | 15945 |\n",
       "| 29 |  29 | 14877 | 14644 | 14427 | 14450 | 14479 | 14565 | 14543 | 14667 | 14722 |\n",
       "| 37 |  37 | 14482 | 13992 | 13922 | 14035 | 13833 | 14042 | 13923 | 14006 | 14109 |\n",
       "| 42 |  42 | 15900 | 15476 | 15451 | 15739 | 15617 | 15860 | 15664 | 15826 | 15822 |\n",
       "| 43 |  43 | 15614 | 15255 | 15364 | 15160 | 15210 | 15125 | 15179 | 15045 | 15203 |\n",
       "| 44 |  44 | 15684 | 15546 | 15367 | 15489 | 15438 | 15305 | 15534 | 15724 | 15664 |\n",
       "| 46 |  46 | 16209 | 16001 | 15935 | 16112 | 16331 | 16266 | 16252 | 16354 | 16511 |\n",
       "| 48 |  48 | 16499 | 16467 | 16507 | 16362 | 16428 | 16522 | 16515 | 16772 | 16540 |\n",
       "| 49 |  49 | 14505 | 14194 | 14017 | 14068 | 13816 | 13903 | 13743 | 13770 | 13870 |\n",
       "| 57 |  57 | 16401 | 16239 | 16304 | 16110 | 16104 | 16279 | 16154 | 16263 | 16244 |\n",
       "| 60 |  60 | 16344 | 16135 | 16152 | 16119 | 15806 | 15989 | 16110 | 16145 | 16166 |\n",
       "| 62 |  62 | 16435 | 16233 | 16352 | 16450 | 16511 | 16425 | 16783 | 16823 | 16557 |\n",
       "| 66 |  66 | 16326 | 16254 | 16332 | 16148 | 16226 | 16428 | 16456 | 16382 | 16475 |\n",
       "| 68 |  68 | 14829 | 14680 | 14821 | 14708 | 14635 | 14602 | 14562 | 14787 | 14670 |\n",
       "| 70 |  70 | 15824 | 15297 | 15288 | 15483 | 15457 | 15431 | 15385 | 15658 | 15385 |\n",
       "| 71 |  71 | 14459 | 14231 | 14262 | 14195 | 14228 | 14274 | 14635 | 14516 | 14618 |\n",
       "| 81 |  81 | 15595 | 15243 | 15172 | 15117 | 15170 | 15212 | 15222 | 15127 | 15025 |\n",
       "| 92 |  92 | 14755 | 14707 | 14794 | 14987 | 14861 | 14832 | 14899 | 15013 | 15002 |\n",
       "| 93 |  93 | 16007 | 15530 | 15681 | 15617 | 15590 | 15514 | 15583 | 15484 | 15409 |\n",
       "| 94 |  94 | 15002 | 14574 | 14342 | 14445 | 14380 | 14543 | 14705 | 14617 | 14590 |\n",
       "| 100 | 100 | 15038 | 14820 | 14931 | 14685 | 14817 | 14901 | 15106 | 14993 | 14976 |\n",
       "\n"
      ],
      "text/plain": [
       "    index p2    p3    p4    p5    p6    p7    p8    p9    p10  \n",
       "3     3   14487 14412 14437 14366 14205 14396 14292 14321 14407\n",
       "6     6   14511 14298 14046 14096 14245 13888 14101 14127 14199\n",
       "21   21   16081 15784 15784 15570 15458 15728 15813 15834 16040\n",
       "23   23   15399 15374 15513 15417 15213 15343 15277 14994 15039\n",
       "26   26   16000 15675 15908 15681 15763 15921 15912 15948 15945\n",
       "29   29   14877 14644 14427 14450 14479 14565 14543 14667 14722\n",
       "37   37   14482 13992 13922 14035 13833 14042 13923 14006 14109\n",
       "42   42   15900 15476 15451 15739 15617 15860 15664 15826 15822\n",
       "43   43   15614 15255 15364 15160 15210 15125 15179 15045 15203\n",
       "44   44   15684 15546 15367 15489 15438 15305 15534 15724 15664\n",
       "46   46   16209 16001 15935 16112 16331 16266 16252 16354 16511\n",
       "48   48   16499 16467 16507 16362 16428 16522 16515 16772 16540\n",
       "49   49   14505 14194 14017 14068 13816 13903 13743 13770 13870\n",
       "57   57   16401 16239 16304 16110 16104 16279 16154 16263 16244\n",
       "60   60   16344 16135 16152 16119 15806 15989 16110 16145 16166\n",
       "62   62   16435 16233 16352 16450 16511 16425 16783 16823 16557\n",
       "66   66   16326 16254 16332 16148 16226 16428 16456 16382 16475\n",
       "68   68   14829 14680 14821 14708 14635 14602 14562 14787 14670\n",
       "70   70   15824 15297 15288 15483 15457 15431 15385 15658 15385\n",
       "71   71   14459 14231 14262 14195 14228 14274 14635 14516 14618\n",
       "81   81   15595 15243 15172 15117 15170 15212 15222 15127 15025\n",
       "92   92   14755 14707 14794 14987 14861 14832 14899 15013 15002\n",
       "93   93   16007 15530 15681 15617 15590 15514 15583 15484 15409\n",
       "94   94   15002 14574 14342 14445 14380 14543 14705 14617 14590\n",
       "100 100   15038 14820 14931 14685 14817 14901 15106 14993 14976"
      ]
     },
     "metadata": {},
     "output_type": "display_data"
    }
   ],
   "source": [
    "#showna\n",
    "validation_var=results_manager$summary_metric_data\n",
    "validation_var[weights$index,]"
   ]
  },
  {
   "cell_type": "code",
   "execution_count": 46,
   "id": "3c611a74",
   "metadata": {},
   "outputs": [
    {
     "data": {
      "text/html": [
       "<style>\n",
       ".list-inline {list-style: none; margin:0; padding: 0}\n",
       ".list-inline>li {display: inline-block}\n",
       ".list-inline>li:not(:last-child)::after {content: \"\\00b7\"; padding: 0 .5ex}\n",
       "</style>\n",
       "<ol class=list-inline><li>18755</li><li>17452</li><li>17674</li><li>17566</li><li>18421</li><li>16511</li><li>16369</li><li>17247</li><li>17422</li><li>18900</li><li>16154</li><li>17217</li><li>15607</li><li>16823</li><li>17701</li><li>16037</li><li>18525</li><li>18797</li><li>15542</li><li>16830</li><li>18282</li><li>17111</li><li>17791</li><li>16271</li><li>18110</li><li>17736</li><li>15569</li><li>17765</li><li>15938</li><li>17390</li><li>16321</li><li>17855</li><li>15759</li><li>15679</li><li>17180</li><li>17158</li><li>18929</li><li>17598</li><li>17983</li><li>16950</li><li>17929</li><li>16282</li><li>17353</li><li>18322</li><li>16178</li><li>16518</li><li>18679</li><li>17495</li><li>17636</li><li>16861</li><li>16022</li><li>15697</li><li>18720</li><li>15863</li><li>16570</li><li>16735</li><li>18052</li><li>18878</li><li>17547</li><li>18347</li><li>18853</li><li>17056</li><li>18087</li><li>17007</li><li>16650</li><li>16965</li><li>16092</li><li>17917</li><li>17296</li><li>17861</li><li>15904</li><li>15631</li><li>18483</li><li>18163</li><li>18235</li><li>16133</li><li>16614</li><li>18693</li><li>15725</li><li>16673</li><li>18404</li><li>16388</li><li>15803</li><li>16905</li><li>17090</li><li>18465</li><li>16418</li><li>18583</li><li>18168</li><li>16760</li><li>16473</li><li>15963</li><li>18007</li><li>17329</li><li>18627</li><li>16715</li><li>15849</li><li>18242</li><li>18550</li><li>16207</li></ol>\n"
      ],
      "text/latex": [
       "\\begin{enumerate*}\n",
       "\\item 18755\n",
       "\\item 17452\n",
       "\\item 17674\n",
       "\\item 17566\n",
       "\\item 18421\n",
       "\\item 16511\n",
       "\\item 16369\n",
       "\\item 17247\n",
       "\\item 17422\n",
       "\\item 18900\n",
       "\\item 16154\n",
       "\\item 17217\n",
       "\\item 15607\n",
       "\\item 16823\n",
       "\\item 17701\n",
       "\\item 16037\n",
       "\\item 18525\n",
       "\\item 18797\n",
       "\\item 15542\n",
       "\\item 16830\n",
       "\\item 18282\n",
       "\\item 17111\n",
       "\\item 17791\n",
       "\\item 16271\n",
       "\\item 18110\n",
       "\\item 17736\n",
       "\\item 15569\n",
       "\\item 17765\n",
       "\\item 15938\n",
       "\\item 17390\n",
       "\\item 16321\n",
       "\\item 17855\n",
       "\\item 15759\n",
       "\\item 15679\n",
       "\\item 17180\n",
       "\\item 17158\n",
       "\\item 18929\n",
       "\\item 17598\n",
       "\\item 17983\n",
       "\\item 16950\n",
       "\\item 17929\n",
       "\\item 16282\n",
       "\\item 17353\n",
       "\\item 18322\n",
       "\\item 16178\n",
       "\\item 16518\n",
       "\\item 18679\n",
       "\\item 17495\n",
       "\\item 17636\n",
       "\\item 16861\n",
       "\\item 16022\n",
       "\\item 15697\n",
       "\\item 18720\n",
       "\\item 15863\n",
       "\\item 16570\n",
       "\\item 16735\n",
       "\\item 18052\n",
       "\\item 18878\n",
       "\\item 17547\n",
       "\\item 18347\n",
       "\\item 18853\n",
       "\\item 17056\n",
       "\\item 18087\n",
       "\\item 17007\n",
       "\\item 16650\n",
       "\\item 16965\n",
       "\\item 16092\n",
       "\\item 17917\n",
       "\\item 17296\n",
       "\\item 17861\n",
       "\\item 15904\n",
       "\\item 15631\n",
       "\\item 18483\n",
       "\\item 18163\n",
       "\\item 18235\n",
       "\\item 16133\n",
       "\\item 16614\n",
       "\\item 18693\n",
       "\\item 15725\n",
       "\\item 16673\n",
       "\\item 18404\n",
       "\\item 16388\n",
       "\\item 15803\n",
       "\\item 16905\n",
       "\\item 17090\n",
       "\\item 18465\n",
       "\\item 16418\n",
       "\\item 18583\n",
       "\\item 18168\n",
       "\\item 16760\n",
       "\\item 16473\n",
       "\\item 15963\n",
       "\\item 18007\n",
       "\\item 17329\n",
       "\\item 18627\n",
       "\\item 16715\n",
       "\\item 15849\n",
       "\\item 18242\n",
       "\\item 18550\n",
       "\\item 16207\n",
       "\\end{enumerate*}\n"
      ],
      "text/markdown": [
       "1. 18755\n",
       "2. 17452\n",
       "3. 17674\n",
       "4. 17566\n",
       "5. 18421\n",
       "6. 16511\n",
       "7. 16369\n",
       "8. 17247\n",
       "9. 17422\n",
       "10. 18900\n",
       "11. 16154\n",
       "12. 17217\n",
       "13. 15607\n",
       "14. 16823\n",
       "15. 17701\n",
       "16. 16037\n",
       "17. 18525\n",
       "18. 18797\n",
       "19. 15542\n",
       "20. 16830\n",
       "21. 18282\n",
       "22. 17111\n",
       "23. 17791\n",
       "24. 16271\n",
       "25. 18110\n",
       "26. 17736\n",
       "27. 15569\n",
       "28. 17765\n",
       "29. 15938\n",
       "30. 17390\n",
       "31. 16321\n",
       "32. 17855\n",
       "33. 15759\n",
       "34. 15679\n",
       "35. 17180\n",
       "36. 17158\n",
       "37. 18929\n",
       "38. 17598\n",
       "39. 17983\n",
       "40. 16950\n",
       "41. 17929\n",
       "42. 16282\n",
       "43. 17353\n",
       "44. 18322\n",
       "45. 16178\n",
       "46. 16518\n",
       "47. 18679\n",
       "48. 17495\n",
       "49. 17636\n",
       "50. 16861\n",
       "51. 16022\n",
       "52. 15697\n",
       "53. 18720\n",
       "54. 15863\n",
       "55. 16570\n",
       "56. 16735\n",
       "57. 18052\n",
       "58. 18878\n",
       "59. 17547\n",
       "60. 18347\n",
       "61. 18853\n",
       "62. 17056\n",
       "63. 18087\n",
       "64. 17007\n",
       "65. 16650\n",
       "66. 16965\n",
       "67. 16092\n",
       "68. 17917\n",
       "69. 17296\n",
       "70. 17861\n",
       "71. 15904\n",
       "72. 15631\n",
       "73. 18483\n",
       "74. 18163\n",
       "75. 18235\n",
       "76. 16133\n",
       "77. 16614\n",
       "78. 18693\n",
       "79. 15725\n",
       "80. 16673\n",
       "81. 18404\n",
       "82. 16388\n",
       "83. 15803\n",
       "84. 16905\n",
       "85. 17090\n",
       "86. 18465\n",
       "87. 16418\n",
       "88. 18583\n",
       "89. 18168\n",
       "90. 16760\n",
       "91. 16473\n",
       "92. 15963\n",
       "93. 18007\n",
       "94. 17329\n",
       "95. 18627\n",
       "96. 16715\n",
       "97. 15849\n",
       "98. 18242\n",
       "99. 18550\n",
       "100. 16207\n",
       "\n",
       "\n"
      ],
      "text/plain": [
       "  [1] 18755 17452 17674 17566 18421 16511 16369 17247 17422 18900 16154 17217\n",
       " [13] 15607 16823 17701 16037 18525 18797 15542 16830 18282 17111 17791 16271\n",
       " [25] 18110 17736 15569 17765 15938 17390 16321 17855 15759 15679 17180 17158\n",
       " [37] 18929 17598 17983 16950 17929 16282 17353 18322 16178 16518 18679 17495\n",
       " [49] 17636 16861 16022 15697 18720 15863 16570 16735 18052 18878 17547 18347\n",
       " [61] 18853 17056 18087 17007 16650 16965 16092 17917 17296 17861 15904 15631\n",
       " [73] 18483 18163 18235 16133 16614 18693 15725 16673 18404 16388 15803 16905\n",
       " [85] 17090 18465 16418 18583 18168 16760 16473 15963 18007 17329 18627 16715\n",
       " [97] 15849 18242 18550 16207"
      ]
     },
     "metadata": {},
     "output_type": "display_data"
    }
   ],
   "source": [
    "sample_data$initial_n"
   ]
  },
  {
   "cell_type": "code",
   "execution_count": 45,
   "id": "547ed3e6",
   "metadata": {},
   "outputs": [
    {
     "data": {
      "text/html": [
       "<table class=\"dataframe\">\n",
       "<caption>A data.frame: 100 × 10</caption>\n",
       "<thead>\n",
       "\t<tr><th scope=col>index</th><th scope=col>p2</th><th scope=col>p3</th><th scope=col>p4</th><th scope=col>p5</th><th scope=col>p6</th><th scope=col>p7</th><th scope=col>p8</th><th scope=col>p9</th><th scope=col>p10</th></tr>\n",
       "\t<tr><th scope=col>&lt;int&gt;</th><th scope=col>&lt;dbl&gt;</th><th scope=col>&lt;dbl&gt;</th><th scope=col>&lt;dbl&gt;</th><th scope=col>&lt;dbl&gt;</th><th scope=col>&lt;dbl&gt;</th><th scope=col>&lt;dbl&gt;</th><th scope=col>&lt;dbl&gt;</th><th scope=col>&lt;dbl&gt;</th><th scope=col>&lt;dbl&gt;</th></tr>\n",
       "</thead>\n",
       "<tbody>\n",
       "\t<tr><td> 1</td><td> 5430</td><td> 5602</td><td> 5640</td><td> 5599</td><td> 5679</td><td> 5691</td><td> 5646</td><td> 5561</td><td> 5574</td></tr>\n",
       "\t<tr><td> 2</td><td> 8448</td><td> 8209</td><td> 7942</td><td> 7899</td><td> 7899</td><td> 7812</td><td> 7963</td><td> 7899</td><td> 7984</td></tr>\n",
       "\t<tr><td> 3</td><td>14487</td><td>14412</td><td>14437</td><td>14366</td><td>14205</td><td>14396</td><td>14292</td><td>14321</td><td>14407</td></tr>\n",
       "\t<tr><td> 4</td><td> 9961</td><td> 9781</td><td> 9584</td><td> 9357</td><td> 9534</td><td> 9607</td><td> 9536</td><td> 9706</td><td> 9517</td></tr>\n",
       "\t<tr><td> 5</td><td>11886</td><td>11516</td><td>11434</td><td>11269</td><td>11326</td><td>11314</td><td>11424</td><td>11396</td><td>11390</td></tr>\n",
       "\t<tr><td> 6</td><td>14511</td><td>14298</td><td>14046</td><td>14096</td><td>14245</td><td>13888</td><td>14101</td><td>14127</td><td>14199</td></tr>\n",
       "\t<tr><td> 7</td><td> 6847</td><td> 6594</td><td> 6405</td><td> 6341</td><td> 6341</td><td> 6448</td><td> 6442</td><td> 6379</td><td> 6440</td></tr>\n",
       "\t<tr><td> 8</td><td> 5745</td><td> 5780</td><td> 5763</td><td> 5636</td><td> 5768</td><td> 5913</td><td> 5838</td><td> 5815</td><td> 5892</td></tr>\n",
       "\t<tr><td> 9</td><td>11455</td><td>11262</td><td>11098</td><td>11127</td><td>11042</td><td>11045</td><td>11176</td><td>11277</td><td>11349</td></tr>\n",
       "\t<tr><td>10</td><td> 6165</td><td> 6090</td><td> 6067</td><td> 6158</td><td> 6119</td><td> 6089</td><td> 6194</td><td> 6141</td><td> 6247</td></tr>\n",
       "\t<tr><td>11</td><td>13551</td><td>13246</td><td>12925</td><td>12963</td><td>12771</td><td>13082</td><td>13006</td><td>12820</td><td>12895</td></tr>\n",
       "\t<tr><td>12</td><td>13692</td><td>13470</td><td>13264</td><td>13238</td><td>13213</td><td>13347</td><td>13271</td><td>13309</td><td>13383</td></tr>\n",
       "\t<tr><td>13</td><td>13489</td><td>13374</td><td>13334</td><td>13204</td><td>13178</td><td>13040</td><td>13086</td><td>13173</td><td>13206</td></tr>\n",
       "\t<tr><td>14</td><td>11933</td><td>11474</td><td>11133</td><td>11008</td><td>11172</td><td>11237</td><td>11271</td><td>11235</td><td>11135</td></tr>\n",
       "\t<tr><td>15</td><td>12413</td><td>12104</td><td>11888</td><td>11983</td><td>12061</td><td>12119</td><td>12132</td><td>12143</td><td>12115</td></tr>\n",
       "\t<tr><td>16</td><td> 7867</td><td> 7782</td><td> 7646</td><td> 7887</td><td> 7818</td><td> 7777</td><td> 7875</td><td> 7919</td><td> 7920</td></tr>\n",
       "\t<tr><td>17</td><td> 6444</td><td> 6430</td><td> 6414</td><td> 6407</td><td> 6406</td><td> 6376</td><td> 6445</td><td> 6413</td><td> 6382</td></tr>\n",
       "\t<tr><td>18</td><td> 5921</td><td> 5968</td><td> 5907</td><td> 5976</td><td> 5962</td><td> 6100</td><td> 6059</td><td> 6121</td><td> 6173</td></tr>\n",
       "\t<tr><td>19</td><td> 7859</td><td> 7575</td><td> 7490</td><td> 7517</td><td> 7615</td><td> 7545</td><td> 7529</td><td> 7485</td><td> 7467</td></tr>\n",
       "\t<tr><td>20</td><td> 9999</td><td> 9752</td><td> 9568</td><td> 9784</td><td> 9695</td><td> 9678</td><td> 9749</td><td> 9675</td><td> 9749</td></tr>\n",
       "\t<tr><td>21</td><td>16081</td><td>15784</td><td>15784</td><td>15570</td><td>15458</td><td>15728</td><td>15813</td><td>15834</td><td>16040</td></tr>\n",
       "\t<tr><td>22</td><td>11685</td><td>11243</td><td>10973</td><td>11142</td><td>10976</td><td>10837</td><td>10833</td><td>11015</td><td>11157</td></tr>\n",
       "\t<tr><td>23</td><td>15399</td><td>15374</td><td>15513</td><td>15417</td><td>15213</td><td>15343</td><td>15277</td><td>14994</td><td>15039</td></tr>\n",
       "\t<tr><td>24</td><td>13857</td><td>13684</td><td>13462</td><td>13514</td><td>13671</td><td>13403</td><td>13529</td><td>13715</td><td>13617</td></tr>\n",
       "\t<tr><td>25</td><td> 7782</td><td> 7403</td><td> 7224</td><td> 7210</td><td> 7228</td><td> 7131</td><td> 7326</td><td> 7369</td><td> 7219</td></tr>\n",
       "\t<tr><td>26</td><td>16000</td><td>15675</td><td>15908</td><td>15681</td><td>15763</td><td>15921</td><td>15912</td><td>15948</td><td>15945</td></tr>\n",
       "\t<tr><td>27</td><td>12856</td><td>12399</td><td>12252</td><td>12353</td><td>12492</td><td>12630</td><td>12565</td><td>12384</td><td>12617</td></tr>\n",
       "\t<tr><td>28</td><td>11194</td><td>10716</td><td>10587</td><td>10680</td><td>10647</td><td>10657</td><td>10422</td><td>10727</td><td>10658</td></tr>\n",
       "\t<tr><td>29</td><td>14877</td><td>14644</td><td>14427</td><td>14450</td><td>14479</td><td>14565</td><td>14543</td><td>14667</td><td>14722</td></tr>\n",
       "\t<tr><td>30</td><td>10331</td><td>10117</td><td>10052</td><td>10161</td><td>10056</td><td> 9877</td><td>10101</td><td> 9994</td><td> 9983</td></tr>\n",
       "\t<tr><td>⋮</td><td>⋮</td><td>⋮</td><td>⋮</td><td>⋮</td><td>⋮</td><td>⋮</td><td>⋮</td><td>⋮</td><td>⋮</td></tr>\n",
       "\t<tr><td> 71</td><td>14459</td><td>14231</td><td>14262</td><td>14195</td><td>14228</td><td>14274</td><td>14635</td><td>14516</td><td>14618</td></tr>\n",
       "\t<tr><td> 72</td><td> 7868</td><td> 7824</td><td> 7780</td><td> 7644</td><td> 7849</td><td> 7712</td><td> 7664</td><td> 7751</td><td> 7739</td></tr>\n",
       "\t<tr><td> 73</td><td>12047</td><td>11625</td><td>11559</td><td>11505</td><td>11480</td><td>11403</td><td>11686</td><td>11694</td><td>11682</td></tr>\n",
       "\t<tr><td> 74</td><td> 9674</td><td> 9162</td><td> 9187</td><td> 9163</td><td> 9318</td><td> 9243</td><td> 9072</td><td> 9272</td><td> 9302</td></tr>\n",
       "\t<tr><td> 75</td><td>10915</td><td>10679</td><td>10501</td><td>10382</td><td>10286</td><td>10185</td><td>10198</td><td>10169</td><td>10269</td></tr>\n",
       "\t<tr><td> 76</td><td> 6384</td><td> 6363</td><td> 6285</td><td> 6366</td><td> 6461</td><td> 6349</td><td> 6350</td><td> 6367</td><td> 6377</td></tr>\n",
       "\t<tr><td> 77</td><td> 8104</td><td> 7789</td><td> 7718</td><td> 7617</td><td> 7538</td><td> 7520</td><td> 7552</td><td> 7634</td><td> 7631</td></tr>\n",
       "\t<tr><td> 78</td><td> 6762</td><td> 6655</td><td> 6853</td><td> 6966</td><td> 7027</td><td> 7005</td><td> 6988</td><td> 7080</td><td> 7069</td></tr>\n",
       "\t<tr><td> 79</td><td> 8515</td><td> 8022</td><td> 7955</td><td> 7868</td><td> 7827</td><td> 7874</td><td> 8042</td><td> 8166</td><td> 7969</td></tr>\n",
       "\t<tr><td> 80</td><td>12999</td><td>12673</td><td>12698</td><td>12561</td><td>12665</td><td>12641</td><td>12563</td><td>12732</td><td>12588</td></tr>\n",
       "\t<tr><td> 81</td><td>15595</td><td>15243</td><td>15172</td><td>15117</td><td>15170</td><td>15212</td><td>15222</td><td>15127</td><td>15025</td></tr>\n",
       "\t<tr><td> 82</td><td> 6910</td><td> 6614</td><td> 6555</td><td> 6494</td><td> 6547</td><td> 6251</td><td> 6472</td><td> 6545</td><td> 6584</td></tr>\n",
       "\t<tr><td> 83</td><td>11201</td><td>11052</td><td>10816</td><td>10788</td><td>10685</td><td>10689</td><td>10832</td><td>10903</td><td>10985</td></tr>\n",
       "\t<tr><td> 84</td><td>11098</td><td>10438</td><td>10417</td><td>10478</td><td>10285</td><td>10407</td><td>10413</td><td>10617</td><td>10545</td></tr>\n",
       "\t<tr><td> 85</td><td>10389</td><td>10189</td><td> 9932</td><td> 9919</td><td> 9896</td><td> 9953</td><td> 9899</td><td> 9958</td><td> 9991</td></tr>\n",
       "\t<tr><td> 86</td><td> 6617</td><td> 6519</td><td> 6572</td><td> 6846</td><td> 6788</td><td> 6790</td><td> 6845</td><td> 6906</td><td> 6801</td></tr>\n",
       "\t<tr><td> 87</td><td>12377</td><td>12072</td><td>11978</td><td>11999</td><td>11978</td><td>12009</td><td>12046</td><td>12232</td><td>12151</td></tr>\n",
       "\t<tr><td> 88</td><td>12834</td><td>12463</td><td>12137</td><td>12100</td><td>12174</td><td>12035</td><td>12007</td><td>11928</td><td>12222</td></tr>\n",
       "\t<tr><td> 89</td><td>11338</td><td>11068</td><td>10761</td><td>10656</td><td>10665</td><td>10548</td><td>10656</td><td>10568</td><td>10629</td></tr>\n",
       "\t<tr><td> 90</td><td>13095</td><td>12780</td><td>12595</td><td>12458</td><td>12378</td><td>12448</td><td>12462</td><td>12779</td><td>12650</td></tr>\n",
       "\t<tr><td> 91</td><td> 7139</td><td> 7102</td><td> 7148</td><td> 7015</td><td> 7125</td><td> 7049</td><td> 7309</td><td> 7204</td><td> 7241</td></tr>\n",
       "\t<tr><td> 92</td><td>14755</td><td>14707</td><td>14794</td><td>14987</td><td>14861</td><td>14832</td><td>14899</td><td>15013</td><td>15002</td></tr>\n",
       "\t<tr><td> 93</td><td>16007</td><td>15530</td><td>15681</td><td>15617</td><td>15590</td><td>15514</td><td>15583</td><td>15484</td><td>15409</td></tr>\n",
       "\t<tr><td> 94</td><td>15002</td><td>14574</td><td>14342</td><td>14445</td><td>14380</td><td>14543</td><td>14705</td><td>14617</td><td>14590</td></tr>\n",
       "\t<tr><td> 95</td><td> 9915</td><td> 9488</td><td> 9316</td><td> 9357</td><td> 9169</td><td> 9283</td><td> 9498</td><td> 9279</td><td> 9377</td></tr>\n",
       "\t<tr><td> 96</td><td>12137</td><td>11628</td><td>11518</td><td>11350</td><td>11412</td><td>11424</td><td>11323</td><td>11334</td><td>11344</td></tr>\n",
       "\t<tr><td> 97</td><td>13253</td><td>13037</td><td>13186</td><td>12905</td><td>12802</td><td>12917</td><td>12925</td><td>12768</td><td>12907</td></tr>\n",
       "\t<tr><td> 98</td><td> 9202</td><td> 9039</td><td> 8904</td><td> 9036</td><td> 9063</td><td> 8900</td><td> 8963</td><td> 8927</td><td> 8821</td></tr>\n",
       "\t<tr><td> 99</td><td> 9431</td><td> 9143</td><td> 9108</td><td> 9247</td><td> 9079</td><td> 8982</td><td> 9144</td><td> 9117</td><td> 9192</td></tr>\n",
       "\t<tr><td>100</td><td>15038</td><td>14820</td><td>14931</td><td>14685</td><td>14817</td><td>14901</td><td>15106</td><td>14993</td><td>14976</td></tr>\n",
       "</tbody>\n",
       "</table>\n"
      ],
      "text/latex": [
       "A data.frame: 100 × 10\n",
       "\\begin{tabular}{llllllllll}\n",
       " index & p2 & p3 & p4 & p5 & p6 & p7 & p8 & p9 & p10\\\\\n",
       " <int> & <dbl> & <dbl> & <dbl> & <dbl> & <dbl> & <dbl> & <dbl> & <dbl> & <dbl>\\\\\n",
       "\\hline\n",
       "\t  1 &  5430 &  5602 &  5640 &  5599 &  5679 &  5691 &  5646 &  5561 &  5574\\\\\n",
       "\t  2 &  8448 &  8209 &  7942 &  7899 &  7899 &  7812 &  7963 &  7899 &  7984\\\\\n",
       "\t  3 & 14487 & 14412 & 14437 & 14366 & 14205 & 14396 & 14292 & 14321 & 14407\\\\\n",
       "\t  4 &  9961 &  9781 &  9584 &  9357 &  9534 &  9607 &  9536 &  9706 &  9517\\\\\n",
       "\t  5 & 11886 & 11516 & 11434 & 11269 & 11326 & 11314 & 11424 & 11396 & 11390\\\\\n",
       "\t  6 & 14511 & 14298 & 14046 & 14096 & 14245 & 13888 & 14101 & 14127 & 14199\\\\\n",
       "\t  7 &  6847 &  6594 &  6405 &  6341 &  6341 &  6448 &  6442 &  6379 &  6440\\\\\n",
       "\t  8 &  5745 &  5780 &  5763 &  5636 &  5768 &  5913 &  5838 &  5815 &  5892\\\\\n",
       "\t  9 & 11455 & 11262 & 11098 & 11127 & 11042 & 11045 & 11176 & 11277 & 11349\\\\\n",
       "\t 10 &  6165 &  6090 &  6067 &  6158 &  6119 &  6089 &  6194 &  6141 &  6247\\\\\n",
       "\t 11 & 13551 & 13246 & 12925 & 12963 & 12771 & 13082 & 13006 & 12820 & 12895\\\\\n",
       "\t 12 & 13692 & 13470 & 13264 & 13238 & 13213 & 13347 & 13271 & 13309 & 13383\\\\\n",
       "\t 13 & 13489 & 13374 & 13334 & 13204 & 13178 & 13040 & 13086 & 13173 & 13206\\\\\n",
       "\t 14 & 11933 & 11474 & 11133 & 11008 & 11172 & 11237 & 11271 & 11235 & 11135\\\\\n",
       "\t 15 & 12413 & 12104 & 11888 & 11983 & 12061 & 12119 & 12132 & 12143 & 12115\\\\\n",
       "\t 16 &  7867 &  7782 &  7646 &  7887 &  7818 &  7777 &  7875 &  7919 &  7920\\\\\n",
       "\t 17 &  6444 &  6430 &  6414 &  6407 &  6406 &  6376 &  6445 &  6413 &  6382\\\\\n",
       "\t 18 &  5921 &  5968 &  5907 &  5976 &  5962 &  6100 &  6059 &  6121 &  6173\\\\\n",
       "\t 19 &  7859 &  7575 &  7490 &  7517 &  7615 &  7545 &  7529 &  7485 &  7467\\\\\n",
       "\t 20 &  9999 &  9752 &  9568 &  9784 &  9695 &  9678 &  9749 &  9675 &  9749\\\\\n",
       "\t 21 & 16081 & 15784 & 15784 & 15570 & 15458 & 15728 & 15813 & 15834 & 16040\\\\\n",
       "\t 22 & 11685 & 11243 & 10973 & 11142 & 10976 & 10837 & 10833 & 11015 & 11157\\\\\n",
       "\t 23 & 15399 & 15374 & 15513 & 15417 & 15213 & 15343 & 15277 & 14994 & 15039\\\\\n",
       "\t 24 & 13857 & 13684 & 13462 & 13514 & 13671 & 13403 & 13529 & 13715 & 13617\\\\\n",
       "\t 25 &  7782 &  7403 &  7224 &  7210 &  7228 &  7131 &  7326 &  7369 &  7219\\\\\n",
       "\t 26 & 16000 & 15675 & 15908 & 15681 & 15763 & 15921 & 15912 & 15948 & 15945\\\\\n",
       "\t 27 & 12856 & 12399 & 12252 & 12353 & 12492 & 12630 & 12565 & 12384 & 12617\\\\\n",
       "\t 28 & 11194 & 10716 & 10587 & 10680 & 10647 & 10657 & 10422 & 10727 & 10658\\\\\n",
       "\t 29 & 14877 & 14644 & 14427 & 14450 & 14479 & 14565 & 14543 & 14667 & 14722\\\\\n",
       "\t 30 & 10331 & 10117 & 10052 & 10161 & 10056 &  9877 & 10101 &  9994 &  9983\\\\\n",
       "\t ⋮ & ⋮ & ⋮ & ⋮ & ⋮ & ⋮ & ⋮ & ⋮ & ⋮ & ⋮\\\\\n",
       "\t  71 & 14459 & 14231 & 14262 & 14195 & 14228 & 14274 & 14635 & 14516 & 14618\\\\\n",
       "\t  72 &  7868 &  7824 &  7780 &  7644 &  7849 &  7712 &  7664 &  7751 &  7739\\\\\n",
       "\t  73 & 12047 & 11625 & 11559 & 11505 & 11480 & 11403 & 11686 & 11694 & 11682\\\\\n",
       "\t  74 &  9674 &  9162 &  9187 &  9163 &  9318 &  9243 &  9072 &  9272 &  9302\\\\\n",
       "\t  75 & 10915 & 10679 & 10501 & 10382 & 10286 & 10185 & 10198 & 10169 & 10269\\\\\n",
       "\t  76 &  6384 &  6363 &  6285 &  6366 &  6461 &  6349 &  6350 &  6367 &  6377\\\\\n",
       "\t  77 &  8104 &  7789 &  7718 &  7617 &  7538 &  7520 &  7552 &  7634 &  7631\\\\\n",
       "\t  78 &  6762 &  6655 &  6853 &  6966 &  7027 &  7005 &  6988 &  7080 &  7069\\\\\n",
       "\t  79 &  8515 &  8022 &  7955 &  7868 &  7827 &  7874 &  8042 &  8166 &  7969\\\\\n",
       "\t  80 & 12999 & 12673 & 12698 & 12561 & 12665 & 12641 & 12563 & 12732 & 12588\\\\\n",
       "\t  81 & 15595 & 15243 & 15172 & 15117 & 15170 & 15212 & 15222 & 15127 & 15025\\\\\n",
       "\t  82 &  6910 &  6614 &  6555 &  6494 &  6547 &  6251 &  6472 &  6545 &  6584\\\\\n",
       "\t  83 & 11201 & 11052 & 10816 & 10788 & 10685 & 10689 & 10832 & 10903 & 10985\\\\\n",
       "\t  84 & 11098 & 10438 & 10417 & 10478 & 10285 & 10407 & 10413 & 10617 & 10545\\\\\n",
       "\t  85 & 10389 & 10189 &  9932 &  9919 &  9896 &  9953 &  9899 &  9958 &  9991\\\\\n",
       "\t  86 &  6617 &  6519 &  6572 &  6846 &  6788 &  6790 &  6845 &  6906 &  6801\\\\\n",
       "\t  87 & 12377 & 12072 & 11978 & 11999 & 11978 & 12009 & 12046 & 12232 & 12151\\\\\n",
       "\t  88 & 12834 & 12463 & 12137 & 12100 & 12174 & 12035 & 12007 & 11928 & 12222\\\\\n",
       "\t  89 & 11338 & 11068 & 10761 & 10656 & 10665 & 10548 & 10656 & 10568 & 10629\\\\\n",
       "\t  90 & 13095 & 12780 & 12595 & 12458 & 12378 & 12448 & 12462 & 12779 & 12650\\\\\n",
       "\t  91 &  7139 &  7102 &  7148 &  7015 &  7125 &  7049 &  7309 &  7204 &  7241\\\\\n",
       "\t  92 & 14755 & 14707 & 14794 & 14987 & 14861 & 14832 & 14899 & 15013 & 15002\\\\\n",
       "\t  93 & 16007 & 15530 & 15681 & 15617 & 15590 & 15514 & 15583 & 15484 & 15409\\\\\n",
       "\t  94 & 15002 & 14574 & 14342 & 14445 & 14380 & 14543 & 14705 & 14617 & 14590\\\\\n",
       "\t  95 &  9915 &  9488 &  9316 &  9357 &  9169 &  9283 &  9498 &  9279 &  9377\\\\\n",
       "\t  96 & 12137 & 11628 & 11518 & 11350 & 11412 & 11424 & 11323 & 11334 & 11344\\\\\n",
       "\t  97 & 13253 & 13037 & 13186 & 12905 & 12802 & 12917 & 12925 & 12768 & 12907\\\\\n",
       "\t  98 &  9202 &  9039 &  8904 &  9036 &  9063 &  8900 &  8963 &  8927 &  8821\\\\\n",
       "\t  99 &  9431 &  9143 &  9108 &  9247 &  9079 &  8982 &  9144 &  9117 &  9192\\\\\n",
       "\t 100 & 15038 & 14820 & 14931 & 14685 & 14817 & 14901 & 15106 & 14993 & 14976\\\\\n",
       "\\end{tabular}\n"
      ],
      "text/markdown": [
       "\n",
       "A data.frame: 100 × 10\n",
       "\n",
       "| index &lt;int&gt; | p2 &lt;dbl&gt; | p3 &lt;dbl&gt; | p4 &lt;dbl&gt; | p5 &lt;dbl&gt; | p6 &lt;dbl&gt; | p7 &lt;dbl&gt; | p8 &lt;dbl&gt; | p9 &lt;dbl&gt; | p10 &lt;dbl&gt; |\n",
       "|---|---|---|---|---|---|---|---|---|---|\n",
       "|  1 |  5430 |  5602 |  5640 |  5599 |  5679 |  5691 |  5646 |  5561 |  5574 |\n",
       "|  2 |  8448 |  8209 |  7942 |  7899 |  7899 |  7812 |  7963 |  7899 |  7984 |\n",
       "|  3 | 14487 | 14412 | 14437 | 14366 | 14205 | 14396 | 14292 | 14321 | 14407 |\n",
       "|  4 |  9961 |  9781 |  9584 |  9357 |  9534 |  9607 |  9536 |  9706 |  9517 |\n",
       "|  5 | 11886 | 11516 | 11434 | 11269 | 11326 | 11314 | 11424 | 11396 | 11390 |\n",
       "|  6 | 14511 | 14298 | 14046 | 14096 | 14245 | 13888 | 14101 | 14127 | 14199 |\n",
       "|  7 |  6847 |  6594 |  6405 |  6341 |  6341 |  6448 |  6442 |  6379 |  6440 |\n",
       "|  8 |  5745 |  5780 |  5763 |  5636 |  5768 |  5913 |  5838 |  5815 |  5892 |\n",
       "|  9 | 11455 | 11262 | 11098 | 11127 | 11042 | 11045 | 11176 | 11277 | 11349 |\n",
       "| 10 |  6165 |  6090 |  6067 |  6158 |  6119 |  6089 |  6194 |  6141 |  6247 |\n",
       "| 11 | 13551 | 13246 | 12925 | 12963 | 12771 | 13082 | 13006 | 12820 | 12895 |\n",
       "| 12 | 13692 | 13470 | 13264 | 13238 | 13213 | 13347 | 13271 | 13309 | 13383 |\n",
       "| 13 | 13489 | 13374 | 13334 | 13204 | 13178 | 13040 | 13086 | 13173 | 13206 |\n",
       "| 14 | 11933 | 11474 | 11133 | 11008 | 11172 | 11237 | 11271 | 11235 | 11135 |\n",
       "| 15 | 12413 | 12104 | 11888 | 11983 | 12061 | 12119 | 12132 | 12143 | 12115 |\n",
       "| 16 |  7867 |  7782 |  7646 |  7887 |  7818 |  7777 |  7875 |  7919 |  7920 |\n",
       "| 17 |  6444 |  6430 |  6414 |  6407 |  6406 |  6376 |  6445 |  6413 |  6382 |\n",
       "| 18 |  5921 |  5968 |  5907 |  5976 |  5962 |  6100 |  6059 |  6121 |  6173 |\n",
       "| 19 |  7859 |  7575 |  7490 |  7517 |  7615 |  7545 |  7529 |  7485 |  7467 |\n",
       "| 20 |  9999 |  9752 |  9568 |  9784 |  9695 |  9678 |  9749 |  9675 |  9749 |\n",
       "| 21 | 16081 | 15784 | 15784 | 15570 | 15458 | 15728 | 15813 | 15834 | 16040 |\n",
       "| 22 | 11685 | 11243 | 10973 | 11142 | 10976 | 10837 | 10833 | 11015 | 11157 |\n",
       "| 23 | 15399 | 15374 | 15513 | 15417 | 15213 | 15343 | 15277 | 14994 | 15039 |\n",
       "| 24 | 13857 | 13684 | 13462 | 13514 | 13671 | 13403 | 13529 | 13715 | 13617 |\n",
       "| 25 |  7782 |  7403 |  7224 |  7210 |  7228 |  7131 |  7326 |  7369 |  7219 |\n",
       "| 26 | 16000 | 15675 | 15908 | 15681 | 15763 | 15921 | 15912 | 15948 | 15945 |\n",
       "| 27 | 12856 | 12399 | 12252 | 12353 | 12492 | 12630 | 12565 | 12384 | 12617 |\n",
       "| 28 | 11194 | 10716 | 10587 | 10680 | 10647 | 10657 | 10422 | 10727 | 10658 |\n",
       "| 29 | 14877 | 14644 | 14427 | 14450 | 14479 | 14565 | 14543 | 14667 | 14722 |\n",
       "| 30 | 10331 | 10117 | 10052 | 10161 | 10056 |  9877 | 10101 |  9994 |  9983 |\n",
       "| ⋮ | ⋮ | ⋮ | ⋮ | ⋮ | ⋮ | ⋮ | ⋮ | ⋮ | ⋮ |\n",
       "|  71 | 14459 | 14231 | 14262 | 14195 | 14228 | 14274 | 14635 | 14516 | 14618 |\n",
       "|  72 |  7868 |  7824 |  7780 |  7644 |  7849 |  7712 |  7664 |  7751 |  7739 |\n",
       "|  73 | 12047 | 11625 | 11559 | 11505 | 11480 | 11403 | 11686 | 11694 | 11682 |\n",
       "|  74 |  9674 |  9162 |  9187 |  9163 |  9318 |  9243 |  9072 |  9272 |  9302 |\n",
       "|  75 | 10915 | 10679 | 10501 | 10382 | 10286 | 10185 | 10198 | 10169 | 10269 |\n",
       "|  76 |  6384 |  6363 |  6285 |  6366 |  6461 |  6349 |  6350 |  6367 |  6377 |\n",
       "|  77 |  8104 |  7789 |  7718 |  7617 |  7538 |  7520 |  7552 |  7634 |  7631 |\n",
       "|  78 |  6762 |  6655 |  6853 |  6966 |  7027 |  7005 |  6988 |  7080 |  7069 |\n",
       "|  79 |  8515 |  8022 |  7955 |  7868 |  7827 |  7874 |  8042 |  8166 |  7969 |\n",
       "|  80 | 12999 | 12673 | 12698 | 12561 | 12665 | 12641 | 12563 | 12732 | 12588 |\n",
       "|  81 | 15595 | 15243 | 15172 | 15117 | 15170 | 15212 | 15222 | 15127 | 15025 |\n",
       "|  82 |  6910 |  6614 |  6555 |  6494 |  6547 |  6251 |  6472 |  6545 |  6584 |\n",
       "|  83 | 11201 | 11052 | 10816 | 10788 | 10685 | 10689 | 10832 | 10903 | 10985 |\n",
       "|  84 | 11098 | 10438 | 10417 | 10478 | 10285 | 10407 | 10413 | 10617 | 10545 |\n",
       "|  85 | 10389 | 10189 |  9932 |  9919 |  9896 |  9953 |  9899 |  9958 |  9991 |\n",
       "|  86 |  6617 |  6519 |  6572 |  6846 |  6788 |  6790 |  6845 |  6906 |  6801 |\n",
       "|  87 | 12377 | 12072 | 11978 | 11999 | 11978 | 12009 | 12046 | 12232 | 12151 |\n",
       "|  88 | 12834 | 12463 | 12137 | 12100 | 12174 | 12035 | 12007 | 11928 | 12222 |\n",
       "|  89 | 11338 | 11068 | 10761 | 10656 | 10665 | 10548 | 10656 | 10568 | 10629 |\n",
       "|  90 | 13095 | 12780 | 12595 | 12458 | 12378 | 12448 | 12462 | 12779 | 12650 |\n",
       "|  91 |  7139 |  7102 |  7148 |  7015 |  7125 |  7049 |  7309 |  7204 |  7241 |\n",
       "|  92 | 14755 | 14707 | 14794 | 14987 | 14861 | 14832 | 14899 | 15013 | 15002 |\n",
       "|  93 | 16007 | 15530 | 15681 | 15617 | 15590 | 15514 | 15583 | 15484 | 15409 |\n",
       "|  94 | 15002 | 14574 | 14342 | 14445 | 14380 | 14543 | 14705 | 14617 | 14590 |\n",
       "|  95 |  9915 |  9488 |  9316 |  9357 |  9169 |  9283 |  9498 |  9279 |  9377 |\n",
       "|  96 | 12137 | 11628 | 11518 | 11350 | 11412 | 11424 | 11323 | 11334 | 11344 |\n",
       "|  97 | 13253 | 13037 | 13186 | 12905 | 12802 | 12917 | 12925 | 12768 | 12907 |\n",
       "|  98 |  9202 |  9039 |  8904 |  9036 |  9063 |  8900 |  8963 |  8927 |  8821 |\n",
       "|  99 |  9431 |  9143 |  9108 |  9247 |  9079 |  8982 |  9144 |  9117 |  9192 |\n",
       "| 100 | 15038 | 14820 | 14931 | 14685 | 14817 | 14901 | 15106 | 14993 | 14976 |\n",
       "\n"
      ],
      "text/plain": [
       "    index p2    p3    p4    p5    p6    p7    p8    p9    p10  \n",
       "1    1     5430  5602  5640  5599  5679  5691  5646  5561  5574\n",
       "2    2     8448  8209  7942  7899  7899  7812  7963  7899  7984\n",
       "3    3    14487 14412 14437 14366 14205 14396 14292 14321 14407\n",
       "4    4     9961  9781  9584  9357  9534  9607  9536  9706  9517\n",
       "5    5    11886 11516 11434 11269 11326 11314 11424 11396 11390\n",
       "6    6    14511 14298 14046 14096 14245 13888 14101 14127 14199\n",
       "7    7     6847  6594  6405  6341  6341  6448  6442  6379  6440\n",
       "8    8     5745  5780  5763  5636  5768  5913  5838  5815  5892\n",
       "9    9    11455 11262 11098 11127 11042 11045 11176 11277 11349\n",
       "10  10     6165  6090  6067  6158  6119  6089  6194  6141  6247\n",
       "11  11    13551 13246 12925 12963 12771 13082 13006 12820 12895\n",
       "12  12    13692 13470 13264 13238 13213 13347 13271 13309 13383\n",
       "13  13    13489 13374 13334 13204 13178 13040 13086 13173 13206\n",
       "14  14    11933 11474 11133 11008 11172 11237 11271 11235 11135\n",
       "15  15    12413 12104 11888 11983 12061 12119 12132 12143 12115\n",
       "16  16     7867  7782  7646  7887  7818  7777  7875  7919  7920\n",
       "17  17     6444  6430  6414  6407  6406  6376  6445  6413  6382\n",
       "18  18     5921  5968  5907  5976  5962  6100  6059  6121  6173\n",
       "19  19     7859  7575  7490  7517  7615  7545  7529  7485  7467\n",
       "20  20     9999  9752  9568  9784  9695  9678  9749  9675  9749\n",
       "21  21    16081 15784 15784 15570 15458 15728 15813 15834 16040\n",
       "22  22    11685 11243 10973 11142 10976 10837 10833 11015 11157\n",
       "23  23    15399 15374 15513 15417 15213 15343 15277 14994 15039\n",
       "24  24    13857 13684 13462 13514 13671 13403 13529 13715 13617\n",
       "25  25     7782  7403  7224  7210  7228  7131  7326  7369  7219\n",
       "26  26    16000 15675 15908 15681 15763 15921 15912 15948 15945\n",
       "27  27    12856 12399 12252 12353 12492 12630 12565 12384 12617\n",
       "28  28    11194 10716 10587 10680 10647 10657 10422 10727 10658\n",
       "29  29    14877 14644 14427 14450 14479 14565 14543 14667 14722\n",
       "30  30    10331 10117 10052 10161 10056  9877 10101  9994  9983\n",
       "⋮   ⋮     ⋮     ⋮     ⋮     ⋮     ⋮     ⋮     ⋮     ⋮     ⋮    \n",
       "71   71   14459 14231 14262 14195 14228 14274 14635 14516 14618\n",
       "72   72    7868  7824  7780  7644  7849  7712  7664  7751  7739\n",
       "73   73   12047 11625 11559 11505 11480 11403 11686 11694 11682\n",
       "74   74    9674  9162  9187  9163  9318  9243  9072  9272  9302\n",
       "75   75   10915 10679 10501 10382 10286 10185 10198 10169 10269\n",
       "76   76    6384  6363  6285  6366  6461  6349  6350  6367  6377\n",
       "77   77    8104  7789  7718  7617  7538  7520  7552  7634  7631\n",
       "78   78    6762  6655  6853  6966  7027  7005  6988  7080  7069\n",
       "79   79    8515  8022  7955  7868  7827  7874  8042  8166  7969\n",
       "80   80   12999 12673 12698 12561 12665 12641 12563 12732 12588\n",
       "81   81   15595 15243 15172 15117 15170 15212 15222 15127 15025\n",
       "82   82    6910  6614  6555  6494  6547  6251  6472  6545  6584\n",
       "83   83   11201 11052 10816 10788 10685 10689 10832 10903 10985\n",
       "84   84   11098 10438 10417 10478 10285 10407 10413 10617 10545\n",
       "85   85   10389 10189  9932  9919  9896  9953  9899  9958  9991\n",
       "86   86    6617  6519  6572  6846  6788  6790  6845  6906  6801\n",
       "87   87   12377 12072 11978 11999 11978 12009 12046 12232 12151\n",
       "88   88   12834 12463 12137 12100 12174 12035 12007 11928 12222\n",
       "89   89   11338 11068 10761 10656 10665 10548 10656 10568 10629\n",
       "90   90   13095 12780 12595 12458 12378 12448 12462 12779 12650\n",
       "91   91    7139  7102  7148  7015  7125  7049  7309  7204  7241\n",
       "92   92   14755 14707 14794 14987 14861 14832 14899 15013 15002\n",
       "93   93   16007 15530 15681 15617 15590 15514 15583 15484 15409\n",
       "94   94   15002 14574 14342 14445 14380 14543 14705 14617 14590\n",
       "95   95    9915  9488  9316  9357  9169  9283  9498  9279  9377\n",
       "96   96   12137 11628 11518 11350 11412 11424 11323 11334 11344\n",
       "97   97   13253 13037 13186 12905 12802 12917 12925 12768 12907\n",
       "98   98    9202  9039  8904  9036  9063  8900  8963  8927  8821\n",
       "99   99    9431  9143  9108  9247  9079  8982  9144  9117  9192\n",
       "100 100   15038 14820 14931 14685 14817 14901 15106 14993 14976"
      ]
     },
     "metadata": {},
     "output_type": "display_data"
    }
   ],
   "source": [
    "validation_var"
   ]
  },
  {
   "cell_type": "code",
   "execution_count": null,
   "id": "f142283e",
   "metadata": {},
   "outputs": [],
   "source": []
  }
 ],
 "metadata": {
  "kernelspec": {
   "display_name": "R",
   "language": "R",
   "name": "ir413"
  },
  "language_info": {
   "codemirror_mode": "r",
   "file_extension": ".r",
   "mimetype": "text/x-r-source",
   "name": "R",
   "pygments_lexer": "r",
   "version": "4.2.2"
  },
  "toc": {
   "base_numbering": 1,
   "nav_menu": {},
   "number_sections": true,
   "sideBar": true,
   "skip_h1_title": false,
   "title_cell": "Table of Contents",
   "title_sidebar": "Contents",
   "toc_cell": false,
   "toc_position": {
    "height": "calc(100% - 180px)",
    "left": "10px",
    "top": "150px",
    "width": "245.76px"
   },
   "toc_section_display": true,
   "toc_window_display": false
  }
 },
 "nbformat": 4,
 "nbformat_minor": 5
}
