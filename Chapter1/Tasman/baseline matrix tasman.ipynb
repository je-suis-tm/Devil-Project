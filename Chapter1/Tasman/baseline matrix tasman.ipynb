{
 "cells": [
  {
   "cell_type": "code",
   "execution_count": 1,
   "id": "2d01e808",
   "metadata": {},
   "outputs": [],
   "source": [
    "import os\n",
    "import pandas as pd\n",
    "import numpy as np\n",
    "os.chdir('C:/Users/tm/Downloads/utas/thesis/chapter1/tasman/poems')\n",
    "from scipy.optimize import curve_fit"
   ]
  },
  {
   "cell_type": "code",
   "execution_count": 2,
   "id": "cb8c746e",
   "metadata": {},
   "outputs": [],
   "source": [
    "#max capacity assuming one devil per sq km\n",
    "valid=pd.read_csv('validation.csv')\n",
    "K_max=len(valid[valid['target']==1])"
   ]
  },
  {
   "cell_type": "code",
   "execution_count": 3,
   "id": "546123ea",
   "metadata": {},
   "outputs": [],
   "source": [
    "#population size via cormack jolly seber\n",
    "population=pd.read_csv('population.csv')"
   ]
  },
  {
   "cell_type": "code",
   "execution_count": 4,
   "id": "87f55c4e",
   "metadata": {},
   "outputs": [],
   "source": [
    "#leslie matrix\n",
    "pre=[[0.        , 0.53061224, 0.76666667, 1.38709677, 0.88461538,\n",
    "        0.25     ],\n",
    "       [0.9521518 , 0.        , 0.        , 0.        , 0.        ,\n",
    "        0.        ],\n",
    "       [0.        , 0.9241624 , 0.        , 0.        , 0.        ,\n",
    "        0.        ],\n",
    "       [0.        , 0.        , 0.9043036 , 0.        , 0.        ,\n",
    "        0.        ],\n",
    "       [0.        , 0.        , 0.        , 0.88889992, 0.        ,\n",
    "        0.        ],\n",
    "       [0.        , 0.        , 0.        , 0.        , 0.87631419,\n",
    "        0.        ]]\n",
    "\n",
    "post=[[0.07407407, 0.212     , 1.59803922, 1.71052632, 1.55      ,\n",
    "        0.64772727],\n",
    "       [0.73785791, 0.        , 0.        , 0.        , 0.        ,\n",
    "        0.        ],\n",
    "       [0.        , 0.58451461, 0.        , 0.        , 0.        ,\n",
    "        0.        ],\n",
    "       [0.        , 0.        , 0.47571581, 0.        , 0.        ,\n",
    "        0.        ],\n",
    "       [0.        , 0.        , 0.        , 0.39132491, 0.        ,\n",
    "        0.        ],\n",
    "       [0.        , 0.        , 0.        , 0.        , 0.32237252,\n",
    "        0.        ]]"
   ]
  },
  {
   "cell_type": "code",
   "execution_count": 5,
   "id": "aad09e7b",
   "metadata": {},
   "outputs": [],
   "source": [
    "#compute density dependant function discount factor\n",
    "N1=population['population'].loc[1:4].mean()\n",
    "N2=population['population'].loc[6:10].mean()\n",
    "\n",
    "factor1=(1-N1/K_max)\n",
    "factor2=(1-N2/K_max)"
   ]
  },
  {
   "cell_type": "code",
   "execution_count": 6,
   "id": "217374db",
   "metadata": {},
   "outputs": [],
   "source": [
    "#simple density dependant function\n",
    "def density_func(x,baseline):\n",
    "    return [x[0]*baseline,x[1]*baseline]\n",
    "\n",
    "#using mle to estimate\n",
    "def get_dens_params(x,result):\n",
    "    popt,pcov=curve_fit(density_func,x,result,p0=(0.5))\n",
    "    return popt"
   ]
  },
  {
   "cell_type": "code",
   "execution_count": 7,
   "id": "4e5b3204",
   "metadata": {},
   "outputs": [],
   "source": [
    "#estimate fecundity rate\n",
    "fecundity_rate=[]\n",
    "for ind,val in enumerate(pre[0]):\n",
    "    if ind==0:\n",
    "        continue\n",
    "    \n",
    "    fecundity_rate.append(get_dens_params([factor1,factor2],\n",
    "                                              [post[0][ind],pre[0][ind]])[0])"
   ]
  },
  {
   "cell_type": "code",
   "execution_count": 8,
   "id": "b476172f",
   "metadata": {},
   "outputs": [],
   "source": [
    "#simple density dependant function with disease induced mortality\n",
    "def disease_func(x,b1,b2,b3,b4,b5,delta):    \n",
    "    baseline=[b1,b2,b3,b4,b5]\n",
    "    dens_result=np.r_[np.multiply(baseline,x[0]),np.multiply(baseline,x[1])]\n",
    "    result=np.subtract(dens_result,delta)\n",
    "    return result.tolist()\n",
    "\n",
    "#using mle to estimate\n",
    "def get_disease_params(x,result):\n",
    "    popt,pcov=curve_fit(disease_func,x,result,\n",
    "                        bounds=(0, [1.,1.,1.,1.,1.,1.,]),\n",
    "                       )\n",
    "    return popt"
   ]
  },
  {
   "cell_type": "code",
   "execution_count": 9,
   "id": "78349b8f",
   "metadata": {},
   "outputs": [],
   "source": [
    "#get survival rate\n",
    "diag1=np.diag(np.array(post)[1:,:-1])\n",
    "diag2=np.diag(np.array(pre)[1:,:-1])"
   ]
  },
  {
   "cell_type": "code",
   "execution_count": 10,
   "id": "5c5570fc",
   "metadata": {
    "scrolled": true
   },
   "outputs": [],
   "source": [
    "#get result\n",
    "ans=get_disease_params([factor1,factor2],np.r_[diag1,diag2].tolist())"
   ]
  },
  {
   "cell_type": "code",
   "execution_count": 11,
   "id": "81d9f0a8",
   "metadata": {},
   "outputs": [
    {
     "data": {
      "text/plain": [
       "array([[0.        , 0.48868483, 1.45345736, 1.94652364, 1.50702572,\n",
       "        0.54721797],\n",
       "       [1.        , 0.        , 0.        , 0.        , 0.        ,\n",
       "        0.        ],\n",
       "       [0.        , 0.97569292, 0.        , 0.        , 0.        ,\n",
       "        0.        ],\n",
       "       [0.        , 0.        , 0.89904489, 0.        , 0.        ,\n",
       "        0.        ],\n",
       "       [0.        , 0.        , 0.        , 0.83959206, 0.        ,\n",
       "        0.        ],\n",
       "       [0.        , 0.        , 0.        , 0.        , 0.79101556,\n",
       "        0.        ]])"
      ]
     },
     "execution_count": 11,
     "metadata": {},
     "output_type": "execute_result"
    }
   ],
   "source": [
    "#create leslie matrix\n",
    "baseline_diag=np.c_[np.diag(ans[:len(diag1)]),np.zeros((len(diag1),1))]\n",
    "\n",
    "baseline_first_row=np.array([0]+fecundity_rate).reshape(1,-1)\n",
    "\n",
    "np.r_[baseline_first_row,baseline_diag]"
   ]
  },
  {
   "cell_type": "code",
   "execution_count": 12,
   "id": "cf8742eb",
   "metadata": {},
   "outputs": [
    {
     "data": {
      "text/plain": [
       "2.8292257516704053e-08"
      ]
     },
     "execution_count": 12,
     "metadata": {},
     "output_type": "execute_result"
    }
   ],
   "source": [
    "#disease induced mortality\n",
    "ans[-1]"
   ]
  },
  {
   "cell_type": "code",
   "execution_count": null,
   "id": "a183e0eb",
   "metadata": {},
   "outputs": [],
   "source": []
  }
 ],
 "metadata": {
  "kernelspec": {
   "display_name": "Python 3 (ipykernel)",
   "language": "python",
   "name": "python3"
  },
  "language_info": {
   "codemirror_mode": {
    "name": "ipython",
    "version": 3
   },
   "file_extension": ".py",
   "mimetype": "text/x-python",
   "name": "python",
   "nbconvert_exporter": "python",
   "pygments_lexer": "ipython3",
   "version": "3.8.17"
  },
  "toc": {
   "base_numbering": 1,
   "nav_menu": {},
   "number_sections": true,
   "sideBar": true,
   "skip_h1_title": false,
   "title_cell": "Table of Contents",
   "title_sidebar": "Contents",
   "toc_cell": false,
   "toc_position": {},
   "toc_section_display": true,
   "toc_window_display": false
  }
 },
 "nbformat": 4,
 "nbformat_minor": 5
}
