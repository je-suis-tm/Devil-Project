{
 "cells": [
  {
   "cell_type": "markdown",
   "id": "18003931",
   "metadata": {},
   "source": [
    "### Jolly Seber \n",
    "\n",
    "&nbsp;\n",
    "\n",
    "Jolly-Seber model a statistical method to estimate the size of animal populations based upon mark-recapture data. The process is straight forward. In the first step, a sample of the population is captured and marked with chips or tags. After marking, the captured individuals are released back into the wild. After an interval of time, another sample is taken which may include both previously captured (marked) and new (unmarked) individuals. The model assumes equal capture probability between marked and unmarked so the ratio between marked and unmarked can derive the potential population size. However, the model assumes closed population without migration, birth or death. Many advanced models take into account of individual heterogeneity in capture and survival probabilities and time-varying capture and survival rates. These models can provide more accurate and precise population estimates while addressing the limitations of the basic Jolly-Seber model."
   ]
  },
  {
   "cell_type": "code",
   "execution_count": 1,
   "id": "06c08072",
   "metadata": {},
   "outputs": [],
   "source": [
    "import os\n",
    "import pandas as pd\n",
    "import numpy as np\n",
    "import statsmodels.api as sm\n",
    "os.chdir('C:/Users/tm/Downloads/utas/thesis/chapter1/tasman')"
   ]
  },
  {
   "cell_type": "markdown",
   "id": "1b944701",
   "metadata": {},
   "source": [
    "### cleanse"
   ]
  },
  {
   "cell_type": "code",
   "execution_count": 2,
   "id": "92deb3f6",
   "metadata": {
    "scrolled": true
   },
   "outputs": [
    {
     "name": "stderr",
     "output_type": "stream",
     "text": [
      "C:\\Users\\tm\\Anaconda3\\lib\\site-packages\\openpyxl\\styles\\stylesheet.py:226: UserWarning: Workbook contains no default style, apply openpyxl's default\n",
      "  warn(\"Workbook contains no default style, apply openpyxl's default\")\n",
      "C:\\Users\\tm\\Anaconda3\\lib\\site-packages\\openpyxl\\styles\\stylesheet.py:226: UserWarning: Workbook contains no default style, apply openpyxl's default\n",
      "  warn(\"Workbook contains no default style, apply openpyxl's default\")\n",
      "C:\\Users\\tm\\Anaconda3\\lib\\site-packages\\openpyxl\\styles\\stylesheet.py:226: UserWarning: Workbook contains no default style, apply openpyxl's default\n",
      "  warn(\"Workbook contains no default style, apply openpyxl's default\")\n",
      "C:\\Users\\tm\\Anaconda3\\lib\\site-packages\\openpyxl\\styles\\stylesheet.py:226: UserWarning: Workbook contains no default style, apply openpyxl's default\n",
      "  warn(\"Workbook contains no default style, apply openpyxl's default\")\n",
      "C:\\Users\\tm\\Anaconda3\\lib\\site-packages\\openpyxl\\styles\\stylesheet.py:226: UserWarning: Workbook contains no default style, apply openpyxl's default\n",
      "  warn(\"Workbook contains no default style, apply openpyxl's default\")\n",
      "C:\\Users\\tm\\Anaconda3\\lib\\site-packages\\openpyxl\\styles\\stylesheet.py:226: UserWarning: Workbook contains no default style, apply openpyxl's default\n",
      "  warn(\"Workbook contains no default style, apply openpyxl's default\")\n",
      "C:\\Users\\tm\\Anaconda3\\lib\\site-packages\\openpyxl\\styles\\stylesheet.py:226: UserWarning: Workbook contains no default style, apply openpyxl's default\n",
      "  warn(\"Workbook contains no default style, apply openpyxl's default\")\n",
      "C:\\Users\\tm\\Anaconda3\\lib\\site-packages\\openpyxl\\styles\\stylesheet.py:226: UserWarning: Workbook contains no default style, apply openpyxl's default\n",
      "  warn(\"Workbook contains no default style, apply openpyxl's default\")\n",
      "C:\\Users\\tm\\Anaconda3\\lib\\site-packages\\openpyxl\\styles\\stylesheet.py:226: UserWarning: Workbook contains no default style, apply openpyxl's default\n",
      "  warn(\"Workbook contains no default style, apply openpyxl's default\")\n",
      "C:\\Users\\tm\\Anaconda3\\lib\\site-packages\\openpyxl\\styles\\stylesheet.py:226: UserWarning: Workbook contains no default style, apply openpyxl's default\n",
      "  warn(\"Workbook contains no default style, apply openpyxl's default\")\n",
      "C:\\Users\\tm\\Anaconda3\\lib\\site-packages\\openpyxl\\styles\\stylesheet.py:226: UserWarning: Workbook contains no default style, apply openpyxl's default\n",
      "  warn(\"Workbook contains no default style, apply openpyxl's default\")\n",
      "C:\\Users\\tm\\Anaconda3\\lib\\site-packages\\openpyxl\\styles\\stylesheet.py:226: UserWarning: Workbook contains no default style, apply openpyxl's default\n",
      "  warn(\"Workbook contains no default style, apply openpyxl's default\")\n",
      "C:\\Users\\tm\\Anaconda3\\lib\\site-packages\\openpyxl\\styles\\stylesheet.py:226: UserWarning: Workbook contains no default style, apply openpyxl's default\n",
      "  warn(\"Workbook contains no default style, apply openpyxl's default\")\n",
      "C:\\Users\\tm\\Anaconda3\\lib\\site-packages\\openpyxl\\styles\\stylesheet.py:226: UserWarning: Workbook contains no default style, apply openpyxl's default\n",
      "  warn(\"Workbook contains no default style, apply openpyxl's default\")\n",
      "C:\\Users\\tm\\Anaconda3\\lib\\site-packages\\openpyxl\\styles\\stylesheet.py:226: UserWarning: Workbook contains no default style, apply openpyxl's default\n",
      "  warn(\"Workbook contains no default style, apply openpyxl's default\")\n",
      "C:\\Users\\tm\\Anaconda3\\lib\\site-packages\\openpyxl\\styles\\stylesheet.py:226: UserWarning: Workbook contains no default style, apply openpyxl's default\n",
      "  warn(\"Workbook contains no default style, apply openpyxl's default\")\n",
      "C:\\Users\\tm\\Anaconda3\\lib\\site-packages\\openpyxl\\styles\\stylesheet.py:226: UserWarning: Workbook contains no default style, apply openpyxl's default\n",
      "  warn(\"Workbook contains no default style, apply openpyxl's default\")\n",
      "C:\\Users\\tm\\Anaconda3\\lib\\site-packages\\openpyxl\\styles\\stylesheet.py:226: UserWarning: Workbook contains no default style, apply openpyxl's default\n",
      "  warn(\"Workbook contains no default style, apply openpyxl's default\")\n",
      "C:\\Users\\tm\\Anaconda3\\lib\\site-packages\\openpyxl\\styles\\stylesheet.py:226: UserWarning: Workbook contains no default style, apply openpyxl's default\n",
      "  warn(\"Workbook contains no default style, apply openpyxl's default\")\n",
      "C:\\Users\\tm\\Anaconda3\\lib\\site-packages\\openpyxl\\styles\\stylesheet.py:226: UserWarning: Workbook contains no default style, apply openpyxl's default\n",
      "  warn(\"Workbook contains no default style, apply openpyxl's default\")\n",
      "C:\\Users\\tm\\Anaconda3\\lib\\site-packages\\openpyxl\\styles\\stylesheet.py:226: UserWarning: Workbook contains no default style, apply openpyxl's default\n",
      "  warn(\"Workbook contains no default style, apply openpyxl's default\")\n",
      "C:\\Users\\tm\\Anaconda3\\lib\\site-packages\\openpyxl\\styles\\stylesheet.py:226: UserWarning: Workbook contains no default style, apply openpyxl's default\n",
      "  warn(\"Workbook contains no default style, apply openpyxl's default\")\n",
      "C:\\Users\\tm\\Anaconda3\\lib\\site-packages\\openpyxl\\styles\\stylesheet.py:226: UserWarning: Workbook contains no default style, apply openpyxl's default\n",
      "  warn(\"Workbook contains no default style, apply openpyxl's default\")\n",
      "C:\\Users\\tm\\Anaconda3\\lib\\site-packages\\openpyxl\\styles\\stylesheet.py:226: UserWarning: Workbook contains no default style, apply openpyxl's default\n",
      "  warn(\"Workbook contains no default style, apply openpyxl's default\")\n",
      "C:\\Users\\tm\\Anaconda3\\lib\\site-packages\\openpyxl\\styles\\stylesheet.py:226: UserWarning: Workbook contains no default style, apply openpyxl's default\n",
      "  warn(\"Workbook contains no default style, apply openpyxl's default\")\n",
      "C:\\Users\\tm\\Anaconda3\\lib\\site-packages\\openpyxl\\styles\\stylesheet.py:226: UserWarning: Workbook contains no default style, apply openpyxl's default\n",
      "  warn(\"Workbook contains no default style, apply openpyxl's default\")\n",
      "C:\\Users\\tm\\Anaconda3\\lib\\site-packages\\openpyxl\\styles\\stylesheet.py:226: UserWarning: Workbook contains no default style, apply openpyxl's default\n",
      "  warn(\"Workbook contains no default style, apply openpyxl's default\")\n",
      "C:\\Users\\tm\\Anaconda3\\lib\\site-packages\\openpyxl\\styles\\stylesheet.py:226: UserWarning: Workbook contains no default style, apply openpyxl's default\n",
      "  warn(\"Workbook contains no default style, apply openpyxl's default\")\n",
      "C:\\Users\\tm\\Anaconda3\\lib\\site-packages\\openpyxl\\styles\\stylesheet.py:226: UserWarning: Workbook contains no default style, apply openpyxl's default\n",
      "  warn(\"Workbook contains no default style, apply openpyxl's default\")\n",
      "C:\\Users\\tm\\Anaconda3\\lib\\site-packages\\openpyxl\\styles\\stylesheet.py:226: UserWarning: Workbook contains no default style, apply openpyxl's default\n",
      "  warn(\"Workbook contains no default style, apply openpyxl's default\")\n",
      "C:\\Users\\tm\\Anaconda3\\lib\\site-packages\\openpyxl\\styles\\stylesheet.py:226: UserWarning: Workbook contains no default style, apply openpyxl's default\n",
      "  warn(\"Workbook contains no default style, apply openpyxl's default\")\n",
      "C:\\Users\\tm\\Anaconda3\\lib\\site-packages\\openpyxl\\styles\\stylesheet.py:226: UserWarning: Workbook contains no default style, apply openpyxl's default\n",
      "  warn(\"Workbook contains no default style, apply openpyxl's default\")\n",
      "C:\\Users\\tm\\Anaconda3\\lib\\site-packages\\openpyxl\\styles\\stylesheet.py:226: UserWarning: Workbook contains no default style, apply openpyxl's default\n",
      "  warn(\"Workbook contains no default style, apply openpyxl's default\")\n",
      "C:\\Users\\tm\\Anaconda3\\lib\\site-packages\\openpyxl\\styles\\stylesheet.py:226: UserWarning: Workbook contains no default style, apply openpyxl's default\n",
      "  warn(\"Workbook contains no default style, apply openpyxl's default\")\n"
     ]
    }
   ],
   "source": [
    "dataset=[]\n",
    "for i in os.listdir('./Data collation for Forestier Peninsula'):\n",
    "    if 'xlsx' not in i:\n",
    "        filename=os.listdir(f'./Data collation for Forestier Peninsula/{i}')[0]\n",
    "        spreadsheet=pd.ExcelFile(f'./Data collation for Forestier Peninsula/{i}/{filename}')        \n",
    "        dataset.append(spreadsheet.parse(spreadsheet.sheet_names[0]))"
   ]
  },
  {
   "cell_type": "code",
   "execution_count": 3,
   "id": "e5639362",
   "metadata": {},
   "outputs": [],
   "source": [
    "df=pd.concat([i for i in dataset])"
   ]
  },
  {
   "cell_type": "code",
   "execution_count": 4,
   "id": "77740e7a",
   "metadata": {},
   "outputs": [],
   "source": [
    "df=df[~df['INDIVIDUAL'].isnull()]"
   ]
  },
  {
   "cell_type": "code",
   "execution_count": 5,
   "id": "9d0351c8",
   "metadata": {},
   "outputs": [],
   "source": [
    "#sort by date\n",
    "grande=df[['INDIVIDUAL','OBSERVATION_DATE',]].sort_values(\n",
    "    ['INDIVIDUAL','OBSERVATION_DATE'])\n",
    "grande.reset_index(inplace=True,drop=True)\n",
    "\n",
    "#datetimeindex\n",
    "grande['OBSERVATION_DATE']=pd.to_datetime(grande['OBSERVATION_DATE'])"
   ]
  },
  {
   "cell_type": "code",
   "execution_count": 6,
   "id": "f1578c5c",
   "metadata": {},
   "outputs": [],
   "source": [
    "#for each year,each devil only counts once\n",
    "grande['year']=grande['OBSERVATION_DATE'].dt.year\n",
    "pop_raw=grande.loc[grande[['year','INDIVIDUAL']].drop_duplicates().index]"
   ]
  },
  {
   "cell_type": "code",
   "execution_count": 7,
   "id": "41ef2a49",
   "metadata": {},
   "outputs": [],
   "source": [
    "#sort by year\n",
    "pop_raw=pop_raw.sort_values(['year','INDIVIDUAL'])"
   ]
  },
  {
   "cell_type": "code",
   "execution_count": 8,
   "id": "1d7b8e98",
   "metadata": {},
   "outputs": [],
   "source": [
    "#create a dictionary which host last capture and recent capture date\n",
    "dic={}\n",
    "for i in pop_raw['year'].unique():\n",
    "    for j in pop_raw['year'].unique():\n",
    "        if i<j:\n",
    "            dic[(i,j)]=0"
   ]
  },
  {
   "cell_type": "code",
   "execution_count": 9,
   "id": "1175e82b",
   "metadata": {},
   "outputs": [],
   "source": [
    "#find last capture and recent capture date for each individual\n",
    "for i in pop_raw['INDIVIDUAL'].unique():\n",
    "    subset=pop_raw[pop_raw['INDIVIDUAL']==i].copy()\n",
    "    if len(subset)>=2:\n",
    "        dic[tuple(subset['year'].iloc[:2].tolist())]+=1"
   ]
  },
  {
   "cell_type": "code",
   "execution_count": 10,
   "id": "1d823f95",
   "metadata": {},
   "outputs": [],
   "source": [
    "#compute recaptured animals in that year\n",
    "total_marked=[sum([dic[j] for j in dic if j[1]==i]) for i in pop_raw['year'].unique()]\n",
    "\n",
    "#compute total caught animals in that year\n",
    "total_caught=pop_raw.groupby('year').count()['INDIVIDUAL'].tolist()\n",
    "\n",
    "#compute the difference between caught and recaptured\n",
    "total_unmarked=[total_caught[i]-total_marked[i] for i in range(len(total_caught))]\n",
    "\n",
    "#always release animals caught\n",
    "total_released=total_caught"
   ]
  },
  {
   "cell_type": "code",
   "execution_count": 11,
   "id": "96ee5864",
   "metadata": {},
   "outputs": [],
   "source": [
    "total_caught_after=[]\n",
    "total_recapture=[]\n",
    "for i in pop_raw['year'].unique():\n",
    "    year_before=[j for j in pop_raw['year'].unique() if j<i]\n",
    "    year_after=[j for j in pop_raw['year'].unique() if j>i]\n",
    "    \n",
    "    #compute the animals caught before that year and recaptured after that year\n",
    "    total_caught_after.append(sum([dic[(j,k)] for j in year_before for k in year_after]))\n",
    "    \n",
    "    #compute the animals caught that year and recaptured after that year\n",
    "    total_recapture.append(sum([dic[(i,k)] for k in year_after]))"
   ]
  },
  {
   "cell_type": "code",
   "execution_count": 12,
   "id": "5ac5fd99",
   "metadata": {},
   "outputs": [],
   "source": [
    "#estimate the population\n",
    "# https://www.zoology.ubc.ca/~krebs/downloads/krebs_chapter_02_2021.pdf\n",
    "pop_est=[]\n",
    "for i in range(len(total_caught_after)):\n",
    "    portions_animals_marked=((total_marked[i]+1)/(total_released[i]+1))\n",
    "    estimated_marked_population=((total_released[i]+1)*total_caught_after[i])/(total_recapture[i]+1)+total_marked[i]\n",
    "    num=estimated_marked_population/portions_animals_marked\n",
    "    pop_est.append(num)"
   ]
  },
  {
   "cell_type": "code",
   "execution_count": 14,
   "id": "4c635240",
   "metadata": {},
   "outputs": [
    {
     "data": {
      "text/html": [
       "<div>\n",
       "<style scoped>\n",
       "    .dataframe tbody tr th:only-of-type {\n",
       "        vertical-align: middle;\n",
       "    }\n",
       "\n",
       "    .dataframe tbody tr th {\n",
       "        vertical-align: top;\n",
       "    }\n",
       "\n",
       "    .dataframe thead th {\n",
       "        text-align: right;\n",
       "    }\n",
       "</style>\n",
       "<table border=\"1\" class=\"dataframe\">\n",
       "  <thead>\n",
       "    <tr style=\"text-align: right;\">\n",
       "      <th></th>\n",
       "      <th>year</th>\n",
       "      <th>population</th>\n",
       "    </tr>\n",
       "  </thead>\n",
       "  <tbody>\n",
       "    <tr>\n",
       "      <th>0</th>\n",
       "      <td>2006</td>\n",
       "      <td>0.000000</td>\n",
       "    </tr>\n",
       "    <tr>\n",
       "      <th>1</th>\n",
       "      <td>2007</td>\n",
       "      <td>167.792208</td>\n",
       "    </tr>\n",
       "    <tr>\n",
       "      <th>2</th>\n",
       "      <td>2008</td>\n",
       "      <td>102.375000</td>\n",
       "    </tr>\n",
       "    <tr>\n",
       "      <th>3</th>\n",
       "      <td>2009</td>\n",
       "      <td>127.111111</td>\n",
       "    </tr>\n",
       "    <tr>\n",
       "      <th>4</th>\n",
       "      <td>2010</td>\n",
       "      <td>104.203390</td>\n",
       "    </tr>\n",
       "    <tr>\n",
       "      <th>5</th>\n",
       "      <td>2015</td>\n",
       "      <td>0.000000</td>\n",
       "    </tr>\n",
       "    <tr>\n",
       "      <th>6</th>\n",
       "      <td>2016</td>\n",
       "      <td>24.300000</td>\n",
       "    </tr>\n",
       "    <tr>\n",
       "      <th>7</th>\n",
       "      <td>2017</td>\n",
       "      <td>30.916667</td>\n",
       "    </tr>\n",
       "    <tr>\n",
       "      <th>8</th>\n",
       "      <td>2018</td>\n",
       "      <td>54.900000</td>\n",
       "    </tr>\n",
       "    <tr>\n",
       "      <th>9</th>\n",
       "      <td>2019</td>\n",
       "      <td>118.138340</td>\n",
       "    </tr>\n",
       "    <tr>\n",
       "      <th>10</th>\n",
       "      <td>2021</td>\n",
       "      <td>98.076923</td>\n",
       "    </tr>\n",
       "  </tbody>\n",
       "</table>\n",
       "</div>"
      ],
      "text/plain": [
       "    year  population\n",
       "0   2006    0.000000\n",
       "1   2007  167.792208\n",
       "2   2008  102.375000\n",
       "3   2009  127.111111\n",
       "4   2010  104.203390\n",
       "5   2015    0.000000\n",
       "6   2016   24.300000\n",
       "7   2017   30.916667\n",
       "8   2018   54.900000\n",
       "9   2019  118.138340\n",
       "10  2021   98.076923"
      ]
     },
     "execution_count": 14,
     "metadata": {},
     "output_type": "execute_result"
    }
   ],
   "source": [
    "export=pd.DataFrame()\n",
    "\n",
    "export['year']=pop_raw['year'].unique()\n",
    "\n",
    "export['population']=pop_est\n",
    "\n",
    "export.to_csv('./poems/population.csv',index=False)\n",
    "\n",
    "export"
   ]
  },
  {
   "cell_type": "code",
   "execution_count": null,
   "id": "31518a38",
   "metadata": {},
   "outputs": [],
   "source": []
  }
 ],
 "metadata": {
  "kernelspec": {
   "display_name": "Python 3 (ipykernel)",
   "language": "python",
   "name": "python3"
  },
  "language_info": {
   "codemirror_mode": {
    "name": "ipython",
    "version": 3
   },
   "file_extension": ".py",
   "mimetype": "text/x-python",
   "name": "python",
   "nbconvert_exporter": "python",
   "pygments_lexer": "ipython3",
   "version": "3.8.17"
  },
  "toc": {
   "base_numbering": 1,
   "nav_menu": {},
   "number_sections": true,
   "sideBar": true,
   "skip_h1_title": false,
   "title_cell": "Table of Contents",
   "title_sidebar": "Contents",
   "toc_cell": false,
   "toc_position": {},
   "toc_section_display": true,
   "toc_window_display": false
  }
 },
 "nbformat": 4,
 "nbformat_minor": 5
}
