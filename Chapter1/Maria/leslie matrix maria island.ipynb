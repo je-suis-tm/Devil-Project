{
 "cells": [
  {
   "cell_type": "markdown",
   "id": "18003931",
   "metadata": {},
   "source": [
    "### Leslie Matrix\n",
    "\n",
    "&nbsp;\n",
    "\n",
    "The Leslie matrix is a square matrix to model and analyze the dynamics of age-structured populations. It is a projection matrix to study the growth and stability of populations over time."
   ]
  },
  {
   "cell_type": "code",
   "execution_count": 1,
   "id": "06c08072",
   "metadata": {},
   "outputs": [],
   "source": [
    "import os\n",
    "import pandas as pd\n",
    "import numpy as np\n",
    "import statsmodels.api as sm\n",
    "os.chdir('C:/Users/tm/Downloads/utas/thesis/chapter1/maria')"
   ]
  },
  {
   "cell_type": "code",
   "execution_count": 2,
   "id": "1f70c87c",
   "metadata": {},
   "outputs": [],
   "source": [
    "#number of columns and rows in leslie matrix\n",
    "maxage=5"
   ]
  },
  {
   "cell_type": "markdown",
   "id": "1b944701",
   "metadata": {},
   "source": [
    "### cleanse"
   ]
  },
  {
   "cell_type": "code",
   "execution_count": 3,
   "id": "92deb3f6",
   "metadata": {},
   "outputs": [],
   "source": [
    "#read files\n",
    "df=pd.ExcelFile('Maria_Island_fundamentals_2012_to_2019_NRETas.xlsx').parse('Sheet0')"
   ]
  },
  {
   "cell_type": "code",
   "execution_count": 4,
   "id": "9d0351c8",
   "metadata": {},
   "outputs": [],
   "source": [
    "#sort by date\n",
    "grande=df[['INDIVIDUAL','OBSERVATION_DATE','BIRTH_DATE','NUMBER_ACTIVE_TEATS','GENDER']].sort_values(\n",
    "    ['INDIVIDUAL','OBSERVATION_DATE'])\n",
    "grande.reset_index(inplace=True,drop=True)\n",
    "\n",
    "#datetimeindex\n",
    "grande['OBSERVATION_DATE']=pd.to_datetime(grande['OBSERVATION_DATE'])\n",
    "grande['BIRTH_DATE']=pd.to_datetime(grande['BIRTH_DATE'])"
   ]
  },
  {
   "cell_type": "markdown",
   "id": "26b1c28a",
   "metadata": {},
   "source": [
    "### estimate transition rate"
   ]
  },
  {
   "cell_type": "code",
   "execution_count": 5,
   "id": "18cb7015",
   "metadata": {},
   "outputs": [],
   "source": [
    "#compute age\n",
    "grande['age']=(grande['OBSERVATION_DATE']-grande['BIRTH_DATE']).apply(lambda x:x.days//365)"
   ]
  },
  {
   "cell_type": "code",
   "execution_count": 6,
   "id": "f1578c5c",
   "metadata": {},
   "outputs": [],
   "source": [
    "#for each year,each devil only counts once\n",
    "grande['year']=grande['OBSERVATION_DATE'].dt.year\n",
    "agestructure=grande.loc[grande[['year','INDIVIDUAL']].drop_duplicates().index]"
   ]
  },
  {
   "cell_type": "code",
   "execution_count": 7,
   "id": "c0effb1f",
   "metadata": {},
   "outputs": [],
   "source": [
    "#count\n",
    "agesummary=agestructure.groupby('age').count()[['INDIVIDUAL']]\n",
    "agesummary.reset_index(inplace=True)"
   ]
  },
  {
   "cell_type": "code",
   "execution_count": 8,
   "id": "ac78529b",
   "metadata": {},
   "outputs": [],
   "source": [
    "#remove devil older than 10 yr which should be error\n",
    "agesummary=agesummary[agesummary['age']<=10]\n",
    "\n",
    "#move anything older than maxage yr into yr maxage category\n",
    "lastrow=agesummary['INDIVIDUAL'][agesummary['age']>=maxage].sum()\n",
    "agesummary['INDIVIDUAL'][agesummary['age']==maxage]=lastrow\n",
    "agesummary=agesummary.iloc[:maxage+1]"
   ]
  },
  {
   "cell_type": "code",
   "execution_count": 9,
   "id": "f4575766",
   "metadata": {},
   "outputs": [],
   "source": [
    "#estimate relationship between age and frequency\n",
    "#plus one to avoid log(0)\n",
    "agesummary['logage']=np.log(agesummary['age']+1)\n",
    "\n",
    "m=sm.OLS(agesummary['INDIVIDUAL'],sm.add_constant(agesummary['logage'])).fit()"
   ]
  },
  {
   "cell_type": "code",
   "execution_count": 10,
   "id": "5ed902d9",
   "metadata": {},
   "outputs": [],
   "source": [
    "#use fitted data to compute survivalship\n",
    "agesummary['smoothed data']=m.predict()\n",
    "agesummary['survivalship']=agesummary['smoothed data']/agesummary['smoothed data'].iloc[0]"
   ]
  },
  {
   "cell_type": "markdown",
   "id": "353eedc1",
   "metadata": {},
   "source": [
    "### estimate fecundity"
   ]
  },
  {
   "cell_type": "code",
   "execution_count": 11,
   "id": "1067ccbf",
   "metadata": {},
   "outputs": [],
   "source": [
    "#for each year,each devil only counts once\n",
    "fecundity=grande.groupby(['year','INDIVIDUAL']).max()[['NUMBER_ACTIVE_TEATS','age','GENDER']]\n",
    "fecundity.reset_index(inplace=True)"
   ]
  },
  {
   "cell_type": "code",
   "execution_count": 12,
   "id": "df992228",
   "metadata": {},
   "outputs": [],
   "source": [
    "#remove na female\n",
    "female=fecundity[fecundity['GENDER']=='Female'].copy()\n",
    "female=female.loc[female['NUMBER_ACTIVE_TEATS'].dropna().index]\n",
    "\n",
    "#set na male to zero\n",
    "male=fecundity[fecundity['GENDER']=='Male'].copy()\n",
    "fecundity=pd.concat([female,male])\n",
    "fecundity['NUMBER_ACTIVE_TEATS']=fecundity['NUMBER_ACTIVE_TEATS'].fillna(0)"
   ]
  },
  {
   "cell_type": "code",
   "execution_count": 13,
   "id": "8cc36ca3",
   "metadata": {},
   "outputs": [
    {
     "name": "stderr",
     "output_type": "stream",
     "text": [
      "C:\\Users\\tm\\AppData\\Local\\Temp\\ipykernel_12504\\162338182.py:2: FutureWarning: The default value of numeric_only in DataFrameGroupBy.mean is deprecated. In a future version, numeric_only will default to False. Either specify numeric_only or select only columns which should be valid for the function.\n",
      "  reproduction=fecundity.groupby('age').mean()\n"
     ]
    }
   ],
   "source": [
    "#comput mean fecundity\n",
    "reproduction=fecundity.groupby('age').mean()\n",
    "reproduction.reset_index(inplace=True)"
   ]
  },
  {
   "cell_type": "code",
   "execution_count": 14,
   "id": "2aec8f92",
   "metadata": {},
   "outputs": [],
   "source": [
    "#remove devil older than 10 yr which should be error\n",
    "reproduction=reproduction[reproduction['age']<=10]\n",
    "\n",
    "#move anything older than maxage yr into yr maxage category\n",
    "lastrow=reproduction['NUMBER_ACTIVE_TEATS'][reproduction['age']>=maxage].mean()\n",
    "reproduction['NUMBER_ACTIVE_TEATS'][reproduction['age']==maxage]=lastrow\n",
    "reproduction=reproduction.iloc[:maxage+1]"
   ]
  },
  {
   "cell_type": "markdown",
   "id": "208e7756",
   "metadata": {},
   "source": [
    "### compute leslie matrix"
   ]
  },
  {
   "cell_type": "code",
   "execution_count": 15,
   "id": "ac042ebb",
   "metadata": {},
   "outputs": [],
   "source": [
    "#generate leslie matrix\n",
    "lesliematrix=np.zeros((maxage+1,maxage+1))\n",
    "lesliematrix[0]=reproduction['NUMBER_ACTIVE_TEATS'].tolist()\n",
    "for i in range(1,maxage+1):\n",
    "    lesliematrix[i][i-1]=agesummary['survivalship'].iloc[i]"
   ]
  },
  {
   "cell_type": "code",
   "execution_count": 16,
   "id": "d7008ada",
   "metadata": {},
   "outputs": [
    {
     "name": "stdout",
     "output_type": "stream",
     "text": [
      "[0.         0.2020202  0.54444444 1.19444444 0.82608696 0.58333333]\n",
      "[0.78169418 0.         0.         0.         0.         0.        ]\n",
      "[0.         0.65399346 0.         0.         0.         0.        ]\n",
      "[0.         0.         0.56338836 0.         0.         0.        ]\n",
      "[0.         0.         0.         0.49310958 0.         0.        ]\n",
      "[0.         0.         0.         0.         0.43568764 0.        ]\n"
     ]
    }
   ],
   "source": [
    "#show\n",
    "for i in lesliematrix:\n",
    "    print(i)"
   ]
  },
  {
   "cell_type": "code",
   "execution_count": 17,
   "id": "6b88f4b1",
   "metadata": {},
   "outputs": [
    {
     "data": {
      "text/plain": [
       "0.9810010800520539"
      ]
     },
     "execution_count": 17,
     "metadata": {},
     "output_type": "execute_result"
    }
   ],
   "source": [
    "#dominant eigenvalue still smaller than one\n",
    "#the population eventually will decline\n",
    "max(np.abs(np.linalg.eigvals(lesliematrix)))"
   ]
  },
  {
   "cell_type": "code",
   "execution_count": null,
   "id": "6458be1a",
   "metadata": {},
   "outputs": [],
   "source": []
  }
 ],
 "metadata": {
  "kernelspec": {
   "display_name": "Python 3 (ipykernel)",
   "language": "python",
   "name": "python3"
  },
  "language_info": {
   "codemirror_mode": {
    "name": "ipython",
    "version": 3
   },
   "file_extension": ".py",
   "mimetype": "text/x-python",
   "name": "python",
   "nbconvert_exporter": "python",
   "pygments_lexer": "ipython3",
   "version": "3.8.8"
  },
  "toc": {
   "base_numbering": 1,
   "nav_menu": {},
   "number_sections": true,
   "sideBar": true,
   "skip_h1_title": false,
   "title_cell": "Table of Contents",
   "title_sidebar": "Contents",
   "toc_cell": false,
   "toc_position": {},
   "toc_section_display": true,
   "toc_window_display": false
  }
 },
 "nbformat": 4,
 "nbformat_minor": 5
}
