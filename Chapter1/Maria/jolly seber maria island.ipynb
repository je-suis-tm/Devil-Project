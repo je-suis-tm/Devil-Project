{
 "cells": [
  {
   "cell_type": "markdown",
   "id": "18003931",
   "metadata": {},
   "source": [
    "### Jolly Seber \n",
    "\n",
    "&nbsp;\n",
    "\n",
    "Jolly-Seber model a statistical method to estimate the size of animal populations based upon mark-recapture data. The process is straight forward. In the first step, a sample of the population is captured and marked with chips or tags. After marking, the captured individuals are released back into the wild. After an interval of time, another sample is taken which may include both previously captured (marked) and new (unmarked) individuals. The model assumes equal capture probability between marked and unmarked so the ratio between marked and unmarked can derive the potential population size. However, the model assumes closed population without migration, birth or death. Many advanced models take into account of individual heterogeneity in capture and survival probabilities and time-varying capture and survival rates. These models can provide more accurate and precise population estimates while addressing the limitations of the basic Jolly-Seber model."
   ]
  },
  {
   "cell_type": "code",
   "execution_count": 1,
   "id": "06c08072",
   "metadata": {},
   "outputs": [],
   "source": [
    "import os\n",
    "import pandas as pd\n",
    "import numpy as np\n",
    "import statsmodels.api as sm\n",
    "os.chdir('C:/Users/tm/Downloads/utas/thesis/chapter1/maria')"
   ]
  },
  {
   "cell_type": "markdown",
   "id": "1b944701",
   "metadata": {},
   "source": [
    "### cleanse"
   ]
  },
  {
   "cell_type": "code",
   "execution_count": 2,
   "id": "92deb3f6",
   "metadata": {},
   "outputs": [],
   "source": [
    "#read files\n",
    "df=pd.ExcelFile('Maria_Island_fundamentals_2012_to_2019_NRETas.xlsx').parse('Sheet0')"
   ]
  },
  {
   "cell_type": "code",
   "execution_count": 3,
   "id": "9d0351c8",
   "metadata": {},
   "outputs": [],
   "source": [
    "#sort by date\n",
    "grande=df[['INDIVIDUAL','OBSERVATION_DATE',]].sort_values(\n",
    "    ['INDIVIDUAL','OBSERVATION_DATE'])\n",
    "grande.reset_index(inplace=True,drop=True)\n",
    "\n",
    "#datetimeindex\n",
    "grande['OBSERVATION_DATE']=pd.to_datetime(grande['OBSERVATION_DATE'])"
   ]
  },
  {
   "cell_type": "code",
   "execution_count": 4,
   "id": "f1578c5c",
   "metadata": {},
   "outputs": [],
   "source": [
    "#for each year,each devil only counts once\n",
    "grande['year']=grande['OBSERVATION_DATE'].dt.year\n",
    "pop_raw=grande.loc[grande[['year','INDIVIDUAL']].drop_duplicates().index]"
   ]
  },
  {
   "cell_type": "code",
   "execution_count": 5,
   "id": "41ef2a49",
   "metadata": {},
   "outputs": [],
   "source": [
    "#sort by year\n",
    "pop_raw=pop_raw.sort_values(['year','INDIVIDUAL'])"
   ]
  },
  {
   "cell_type": "code",
   "execution_count": 6,
   "id": "77346e9a",
   "metadata": {},
   "outputs": [],
   "source": [
    "#create a dictionary which host last capture and recent capture date\n",
    "dic={}\n",
    "for i in pop_raw['year'].unique():\n",
    "    for j in pop_raw['year'].unique():\n",
    "        if i<j:\n",
    "            dic[(i,j)]=0"
   ]
  },
  {
   "cell_type": "code",
   "execution_count": 7,
   "id": "a2aae029",
   "metadata": {},
   "outputs": [],
   "source": [
    "#find last capture and recent capture date for each individual\n",
    "for i in pop_raw['INDIVIDUAL'].unique():\n",
    "    subset=pop_raw[pop_raw['INDIVIDUAL']==i].copy()\n",
    "    if len(subset)>=2:\n",
    "        dic[tuple(subset['year'].iloc[:2].tolist())]+=1"
   ]
  },
  {
   "cell_type": "code",
   "execution_count": 8,
   "id": "c3d71ee6",
   "metadata": {},
   "outputs": [],
   "source": [
    "#compute recaptured animals in that year\n",
    "total_marked=[sum([dic[j] for j in dic if j[1]==i]) for i in pop_raw['year'].unique()]\n",
    "\n",
    "#compute total caught animals in that year\n",
    "total_caught=pop_raw.groupby('year').count()['INDIVIDUAL'].tolist()\n",
    "\n",
    "#compute the difference between caught and recaptured\n",
    "total_unmarked=[total_caught[i]-total_marked[i] for i in range(len(total_caught))]\n",
    "\n",
    "#always release animals caught\n",
    "total_released=total_caught"
   ]
  },
  {
   "cell_type": "code",
   "execution_count": 9,
   "id": "426c4e04",
   "metadata": {},
   "outputs": [],
   "source": [
    "total_caught_after=[]\n",
    "total_recapture=[]\n",
    "for i in pop_raw['year'].unique():\n",
    "    year_before=[j for j in pop_raw['year'].unique() if j<i]\n",
    "    year_after=[j for j in pop_raw['year'].unique() if j>i]\n",
    "    \n",
    "    #compute the animals caught before that year and recaptured after that year\n",
    "    total_caught_after.append(sum([dic[(j,k)] for j in year_before for k in year_after]))\n",
    "    \n",
    "    #compute the animals caught that year and recaptured after that year\n",
    "    total_recapture.append(sum([dic[(i,k)] for k in year_after]))"
   ]
  },
  {
   "cell_type": "code",
   "execution_count": 10,
   "id": "17825c49",
   "metadata": {},
   "outputs": [],
   "source": [
    "#estimate the population\n",
    "pop_est=[]\n",
    "for i in range(1,len(total_caught_after)-1):\n",
    "    num=(total_released[i]*(total_caught_after[i])/(total_recapture[i])+total_marked[i])/((total_marked[i])/total_released[i])\n",
    "    pop_est.append(num)"
   ]
  },
  {
   "cell_type": "code",
   "execution_count": 11,
   "id": "f92e0a88",
   "metadata": {},
   "outputs": [
    {
     "data": {
      "text/plain": [
       "[32.0, 49.0, 105.85227272727273, 170.94137931034481, 112.0, 81.99999999999999]"
      ]
     },
     "execution_count": 11,
     "metadata": {},
     "output_type": "execute_result"
    }
   ],
   "source": [
    "pop_est"
   ]
  },
  {
   "cell_type": "code",
   "execution_count": null,
   "id": "6b88f4b1",
   "metadata": {},
   "outputs": [],
   "source": []
  }
 ],
 "metadata": {
  "kernelspec": {
   "display_name": "Python 3 (ipykernel)",
   "language": "python",
   "name": "python3"
  },
  "language_info": {
   "codemirror_mode": {
    "name": "ipython",
    "version": 3
   },
   "file_extension": ".py",
   "mimetype": "text/x-python",
   "name": "python",
   "nbconvert_exporter": "python",
   "pygments_lexer": "ipython3",
   "version": "3.8.17"
  },
  "toc": {
   "base_numbering": 1,
   "nav_menu": {},
   "number_sections": true,
   "sideBar": true,
   "skip_h1_title": false,
   "title_cell": "Table of Contents",
   "title_sidebar": "Contents",
   "toc_cell": false,
   "toc_position": {},
   "toc_section_display": true,
   "toc_window_display": false
  }
 },
 "nbformat": 4,
 "nbformat_minor": 5
}
