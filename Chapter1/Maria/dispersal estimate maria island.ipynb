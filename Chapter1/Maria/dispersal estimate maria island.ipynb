{
 "cells": [
  {
   "cell_type": "markdown",
   "id": "57908e2e",
   "metadata": {},
   "source": [
    "### Exponential Dispersal Function\n",
    "\n",
    "&nbsp;\n",
    "\n",
    "An exponential dispersal function describes the spatiotemporal dispersal of wildlife. The exponential function represents how the density decreases as you move away from its source. The model in this script is listed below.\n",
    "\n",
    "$$Y = p \\times \\mathrm{e}^{-\\frac{X}{b}}$$\n",
    "\n",
    "where\n",
    "\n",
    "Y denotes the probability of dispersal at a distance X from the source\n",
    "\n",
    "X denotes the distance from the source\n",
    "\n",
    "p denotes the proportion which does not disperse and stays at the source (X = 0)\n",
    "\n",
    "b denotes the average dispersal distance"
   ]
  },
  {
   "cell_type": "code",
   "execution_count": 1,
   "id": "06c08072",
   "metadata": {},
   "outputs": [],
   "source": [
    "import os\n",
    "import pandas as pd\n",
    "from pyproj import Proj\n",
    "import numpy as np\n",
    "import pyodbc\n",
    "import itertools\n",
    "from scipy.optimize import curve_fit\n",
    "os.chdir('C:/Users/tm/Downloads/utas/thesis/chapter1/maria')"
   ]
  },
  {
   "cell_type": "markdown",
   "id": "87099573",
   "metadata": {},
   "source": [
    "### funcs"
   ]
  },
  {
   "cell_type": "code",
   "execution_count": 2,
   "id": "9e47b6a1",
   "metadata": {},
   "outputs": [],
   "source": [
    "#gompertz curve equation\n",
    "def dispersal_func(X,p,b):\n",
    "    return p*np.exp(-X/b)\n",
    "\n",
    "#using mle to estimate\n",
    "def get_func_params(x,y):\n",
    "    popt,pcov=curve_fit(dispersal_func,x,y,p0=(0.5,np.mean(x)))\n",
    "    return popt"
   ]
  },
  {
   "cell_type": "code",
   "execution_count": 3,
   "id": "965a07bb",
   "metadata": {},
   "outputs": [],
   "source": [
    "#coordinates conversion\n",
    "def convert_easting_northing_to_lat_lon(easting, northing,):\n",
    "    proj = Proj('+proj=utm +zone=55 +south +ellps=GRS80 +units=m +no_defs')\n",
    "    lon, lat = proj(easting, northing, inverse=True)\n",
    "    return lat, lon\n",
    "\n",
    "#spherical distance computation by chatgpt\n",
    "def haversine_distance(lat1, lon1, lat2, lon2):\n",
    "    \n",
    "    # Convert degrees to radians\n",
    "    lat1_rad = np.radians(lat1)\n",
    "    lon1_rad = np.radians(lon1)\n",
    "    lat2_rad = np.radians(lat2)\n",
    "    lon2_rad = np.radians(lon2)\n",
    "\n",
    "    # Earth's radius in kilometers\n",
    "    radius = 6371\n",
    "\n",
    "    # Difference in latitudes and longitudes\n",
    "    delta_lat = lat2_rad - lat1_rad\n",
    "    delta_lon = lon2_rad - lon1_rad\n",
    "\n",
    "    # Haversine formula\n",
    "    a = np.sin(delta_lat / 2) ** 2 + np.cos(lat1_rad) * np.cos(lat2_rad) * np.sin(delta_lon / 2) ** 2\n",
    "    c = 2 * np.arctan2(np.sqrt(a), np.sqrt(1 - a))\n",
    "\n",
    "    # Calculate distance\n",
    "    distance = radius * c\n",
    "\n",
    "    return distance"
   ]
  },
  {
   "cell_type": "markdown",
   "id": "1b944701",
   "metadata": {},
   "source": [
    "### cleanse"
   ]
  },
  {
   "cell_type": "code",
   "execution_count": 4,
   "id": "92deb3f6",
   "metadata": {},
   "outputs": [],
   "source": [
    "#read files\n",
    "df=pd.ExcelFile('Maria_Island_fundamentals_2012_to_2019_NRETas.xlsx').parse('Sheet0')"
   ]
  },
  {
   "cell_type": "code",
   "execution_count": 5,
   "id": "a7795daa",
   "metadata": {},
   "outputs": [],
   "source": [
    "#convert coordinates\n",
    "df['lat'],df['lon']=convert_easting_northing_to_lat_lon(df['EASTING'], df['NORTHING'])"
   ]
  },
  {
   "cell_type": "code",
   "execution_count": 6,
   "id": "708c9c3e",
   "metadata": {},
   "outputs": [],
   "source": [
    "lonmin=147.992312;latmin=-42.755783;\n",
    "lonmax=148.252213;latmax=-42.564998;\n",
    "lat_centre =-42.653436; lon_centre = 148.095996;\n",
    "gridlen=20\n",
    "\n",
    "#locate where the devils are on a 20 by 20 raster\n",
    "lonunit=(lonmax-lonmin)/gridlen\n",
    "latunit=(latmax-latmin)/gridlen\n",
    "df['lat num']=(df['lat']-latmin)//latunit\n",
    "df['lon num']=(df['lon']-lonmin)//lonunit\n",
    "df['coordinates']=list(zip(df['lat num'].astype(int),df['lon num'].astype(int)))"
   ]
  },
  {
   "cell_type": "code",
   "execution_count": 7,
   "id": "8783557b",
   "metadata": {},
   "outputs": [],
   "source": [
    "#remove devils outside of maria island\n",
    "removal=[]\n",
    "for loc in df['coordinates'].unique():\n",
    "    if loc[0]>gridlen or loc[0]<0 or loc[1]>gridlen or loc[1]<0:\n",
    "        removal.append(loc)\n",
    "\n",
    "df=df[~df['coordinates'].isin(removal)]"
   ]
  },
  {
   "cell_type": "code",
   "execution_count": 8,
   "id": "9d0351c8",
   "metadata": {},
   "outputs": [],
   "source": [
    "#sort by date\n",
    "grande=df[['INDIVIDUAL','OBSERVATION_DATE','FIELD_TRIP','lat','lon','coordinates']].sort_values(['INDIVIDUAL','OBSERVATION_DATE'])\n",
    "\n",
    "#datetimeindex\n",
    "grande['OBSERVATION_DATE']=pd.to_datetime(grande['OBSERVATION_DATE'])"
   ]
  },
  {
   "cell_type": "code",
   "execution_count": 9,
   "id": "51a05cca",
   "metadata": {
    "scrolled": true
   },
   "outputs": [],
   "source": [
    "#only preserves animals that have been recaptured more than 300 days apart\n",
    "target_ids=[]\n",
    "for i in grande['INDIVIDUAL'].unique():\n",
    "    subset=grande[grande['INDIVIDUAL']==i].copy()\n",
    "    if len(subset)==1:\n",
    "        continue\n",
    "    counting=(subset['OBSERVATION_DATE'].iloc[-1]-subset['OBSERVATION_DATE'].iloc[0]).days\n",
    "    if counting<300:\n",
    "        continue\n",
    "    target_ids.append(i)\n",
    "freq=grande[grande['INDIVIDUAL'].isin(target_ids)]"
   ]
  },
  {
   "cell_type": "markdown",
   "id": "06688ea2",
   "metadata": {},
   "source": [
    "### compute X"
   ]
  },
  {
   "cell_type": "code",
   "execution_count": 10,
   "id": "db56cb0e",
   "metadata": {},
   "outputs": [],
   "source": [
    "#compute the distance of annual dispersal\n",
    "output=pd.DataFrame(columns=['trip id', 'trip range', 'devil id', 'distance','trip coordinates'])\n",
    "\n",
    "for i in freq['INDIVIDUAL'].unique():\n",
    "    subset=freq[freq['INDIVIDUAL']==i].copy()\n",
    "    combs=list(itertools.combinations(subset['OBSERVATION_DATE'],2))\n",
    "\n",
    "    #for each trip, only takes the first date of captured\n",
    "    for ind,val in enumerate(combs):\n",
    "        dif=(val[1]-val[0]).days\n",
    "        if dif>330 and dif<390:\n",
    "            id0=subset['FIELD_TRIP'][subset['OBSERVATION_DATE']==val[0]].iloc[0]\n",
    "            id1=subset['FIELD_TRIP'][subset['OBSERVATION_DATE']==val[1]].iloc[0]\n",
    "            combs[ind]=[str(id0)+'-'+str(id1),val]            \n",
    "    result=[j for j in combs if type(j)==list]\n",
    "    \n",
    "    dataset=pd.DataFrame(result,columns=['trip id','trip range'])\n",
    "    dataset=dataset.loc[dataset['trip id'].drop_duplicates().index]\n",
    "    dataset['devil id']=i\n",
    "\n",
    "    #compute spherical distance\n",
    "    arr1=[]\n",
    "    arr2=[]\n",
    "    arr3=[]\n",
    "    for k in dataset.index:\n",
    "        startdate=dataset['trip range'].loc[k][0]\n",
    "        enddate=dataset['trip range'].loc[k][1]\n",
    "\n",
    "        lat1=subset['lat'][subset['OBSERVATION_DATE']==startdate].iloc[0]\n",
    "        lon1=subset['lon'][subset['OBSERVATION_DATE']==startdate].iloc[0]\n",
    "        lat2=subset['lat'][subset['OBSERVATION_DATE']==enddate].iloc[0]\n",
    "        lon2=subset['lon'][subset['OBSERVATION_DATE']==enddate].iloc[0]\n",
    "        grid1=subset['coordinates'][subset['OBSERVATION_DATE']==startdate].iloc[0]\n",
    "        grid2=subset['coordinates'][subset['OBSERVATION_DATE']==enddate].iloc[0]\n",
    "\n",
    "        arr1.append(haversine_distance(lat1, lon1, lat2, lon2))\n",
    "        arr2.append((lat1, lon1, lat2, lon2))\n",
    "        arr3.append((grid1,grid2))\n",
    "    dataset['distance']=arr1\n",
    "    dataset['trip coordinates']=arr2\n",
    "    dataset['trip grid']=arr3\n",
    "    \n",
    "    output=pd.concat([output,dataset])\n",
    "\n",
    "output.reset_index(inplace=True,drop=True)"
   ]
  },
  {
   "cell_type": "markdown",
   "id": "a5cad8c0",
   "metadata": {},
   "source": [
    "### compute Y"
   ]
  },
  {
   "cell_type": "code",
   "execution_count": 11,
   "id": "410dc34d",
   "metadata": {},
   "outputs": [],
   "source": [
    "#keep one devil per trip\n",
    "raw=grande.sort_values([ 'FIELD_TRIP', 'OBSERVATION_DATE'])\n",
    "raw.reset_index(inplace=True,drop=True)\n",
    "raw=raw.loc[raw[['INDIVIDUAL','FIELD_TRIP','lat','lon']].drop_duplicates().index]\n",
    "\n",
    "#find starting point\n",
    "raw['de']=raw['coordinates']\n",
    "\n",
    "#find starting point\n",
    "output['de']=output['trip grid'].apply(lambda x:x[0])"
   ]
  },
  {
   "cell_type": "code",
   "execution_count": 12,
   "id": "f36bea3e",
   "metadata": {},
   "outputs": [],
   "source": [
    "# #count the devils recaptured at each starting point\n",
    "# numerator=output.groupby('trip grid').count()[['trip id']]\n",
    "# numerator['de']=[i[0] for i in numerator.index]\n",
    "# numerator['grid dist']=pd.Series(numerator.index).apply(lambda x: ((x[0][0]-x[1][0])**2+(x[0][1]-x[1][1])**2)**0.5).tolist()\n",
    "\n",
    "# #count the devils captured at each starting point\n",
    "# denominator=raw.groupby('de').count()[['lat']]\n",
    "# denominator.reset_index(inplace=True)\n",
    "\n",
    "# #compute probability\n",
    "# prob=numerator.merge(denominator,on='de',how='left')\n",
    "# prob.index=numerator.index\n",
    "# prob['prob']=prob['trip id']/len(output)\n",
    "\n",
    "# #merge\n",
    "# prob.reset_index(inplace=True)\n",
    "# prob=prob[['trip grid','prob']]"
   ]
  },
  {
   "cell_type": "code",
   "execution_count": 13,
   "id": "e70e1fff",
   "metadata": {},
   "outputs": [],
   "source": [
    "#compute grid distance\n",
    "output['grid dist']=output['trip grid'].apply(lambda x: ((x[0][0]-x[1][0])**2+(x[0][1]-x[1][1])**2)**0.5)"
   ]
  },
  {
   "cell_type": "code",
   "execution_count": 14,
   "id": "f8cc4f74",
   "metadata": {},
   "outputs": [],
   "source": [
    "#compute the probability of grid distance\n",
    "prob=output.groupby(['grid dist']).count()[['trip id']]\n",
    "prob['trip id']=prob['trip id']/prob['trip id'].sum()\n",
    "prob.columns=['prob']\n",
    "prob.reset_index(inplace=True)"
   ]
  },
  {
   "cell_type": "code",
   "execution_count": 15,
   "id": "f743c041",
   "metadata": {
    "scrolled": true
   },
   "outputs": [],
   "source": [
    "#merge\n",
    "output=output.merge(prob,on='grid dist',how='left')"
   ]
  },
  {
   "cell_type": "code",
   "execution_count": 16,
   "id": "ab510a24",
   "metadata": {},
   "outputs": [],
   "source": [
    "#convert km to m\n",
    "output['distance']*=1000"
   ]
  },
  {
   "cell_type": "code",
   "execution_count": 17,
   "id": "f9ef46b8",
   "metadata": {
    "scrolled": true
   },
   "outputs": [
    {
     "data": {
      "text/plain": [
       "array([1.74693683e-01, 3.30805479e+03])"
      ]
     },
     "execution_count": 17,
     "metadata": {},
     "output_type": "execute_result"
    }
   ],
   "source": [
    "#result\n",
    "get_func_params(output['distance'].tolist(),output['prob'].tolist())"
   ]
  },
  {
   "cell_type": "code",
   "execution_count": null,
   "id": "d7008ada",
   "metadata": {},
   "outputs": [],
   "source": []
  }
 ],
 "metadata": {
  "kernelspec": {
   "display_name": "Python 3 (ipykernel)",
   "language": "python",
   "name": "python3"
  },
  "language_info": {
   "codemirror_mode": {
    "name": "ipython",
    "version": 3
   },
   "file_extension": ".py",
   "mimetype": "text/x-python",
   "name": "python",
   "nbconvert_exporter": "python",
   "pygments_lexer": "ipython3",
   "version": "3.11.4"
  },
  "toc": {
   "base_numbering": 1,
   "nav_menu": {},
   "number_sections": true,
   "sideBar": true,
   "skip_h1_title": false,
   "title_cell": "Table of Contents",
   "title_sidebar": "Contents",
   "toc_cell": false,
   "toc_position": {},
   "toc_section_display": true,
   "toc_window_display": false
  }
 },
 "nbformat": 4,
 "nbformat_minor": 5
}
