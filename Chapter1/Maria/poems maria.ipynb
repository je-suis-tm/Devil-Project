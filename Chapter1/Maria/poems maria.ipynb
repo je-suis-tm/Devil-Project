{
 "cells": [
  {
   "cell_type": "markdown",
   "id": "9dd5113c",
   "metadata": {},
   "source": [
    "## Setup\n",
    "\n",
    "We begin by loading the *poems* package and setting our output directory."
   ]
  },
  {
   "cell_type": "code",
   "execution_count": 1,
   "id": "87e4776a",
   "metadata": {},
   "outputs": [],
   "source": [
    "setwd('C:/Users/tm/Downloads/utas/thesis/chapter1/maria/poems')\n",
    "library(poems)\n",
    "OUTPUT_DIR='C:/Users/tm/Downloads/utas/thesis/chapter1/maria/poems'"
   ]
  },
  {
   "cell_type": "markdown",
   "id": "0a57820a",
   "metadata": {},
   "source": [
    "### read data"
   ]
  },
  {
   "cell_type": "code",
   "execution_count": 2,
   "id": "84ac1868",
   "metadata": {},
   "outputs": [],
   "source": [
    "#this is the land area of maria island\n",
    "baselayer=read.csv('baselayer.csv')\n",
    "baselayer=subset(baselayer, grid == 0)\n",
    "landarea=c(as.numeric(row.names(baselayer)))"
   ]
  },
  {
   "cell_type": "code",
   "execution_count": 3,
   "id": "77e72496",
   "metadata": {},
   "outputs": [],
   "source": [
    "#population size\n",
    "#estimated via cormack jolly seber\n",
    "# https://github.com/je-suis-tm/Devil-Project/blob/main/Chapter1/Maria/jolly%20seber%20maria%20island.ipynb\n",
    "population_est=read.csv('population.csv')\n",
    "population_size=as.array(population_est$population)"
   ]
  },
  {
   "cell_type": "code",
   "execution_count": 4,
   "id": "7cb08048",
   "metadata": {},
   "outputs": [],
   "source": [
    "#habitat suitability map\n",
    "#estimated via vegetation,altitude and seabird colony\n",
    "# https://github.com/je-suis-tm/Devil-Project/blob/main/Chapter1/Maria/habitat%20suitability%20maria%20island%20billie.ipynb\n",
    "suitability=read.csv('suitability.csv')"
   ]
  },
  {
   "cell_type": "code",
   "execution_count": 5,
   "id": "c27716b0",
   "metadata": {},
   "outputs": [],
   "source": [
    "#set the floor of habitat suitability to 0.7\n",
    "suitability$pred=(suitability$pred-min(suitability$pred))/(max(suitability$pred)-min(suitability$pred))*(1-0.7)+0.7"
   ]
  },
  {
   "cell_type": "markdown",
   "id": "9c65e035",
   "metadata": {},
   "source": [
    "## Workflow\n",
    "\n",
    "The *poems* workflow, which implements a pattern-oriented modeling (POM) approach \n",
    "(Grimm et al., 2005), is achieved via a framework of interoperable components:\n",
    "\n",
    "\n",
    "The workflow is summarized by the following six steps:\n",
    "\n",
    "1. Build the population model for the study region.\n",
    "1. Build generators for dynamically generating model parameters.\n",
    "1. Sample model and generator parameters for each simulation.\n",
    "1. Build a simulation manager to run each simulation.\n",
    "1. Build a results manager to generate summary results (metrics).\n",
    "1. Build a validator to select a model ensemble.\n",
    "\n",
    "### Step 1: Build the population model for the study region\n",
    "Create a model template using the *PopulationModel* class. If the model is spatially\n",
    "explicit, then define the study region via the *Region* class. All fixed model inputs,\n",
    "such as environmental correlations, as well as any user-defined functions for processes\n",
    "such as harvesting, should be set at this stage.\n",
    "\n",
    "We could create these components in any order and set model parameters separately, but \n",
    "let's setup our study region, generate environmental correlations, and define a harvest\n",
    "function prior to initializing the template model with all the fixed parameters.\n",
    "\n",
    "##### Study region\n",
    "First, we'll define our study region maria island with some longitude-latitude\n",
    "coordinates."
   ]
  },
  {
   "cell_type": "code",
   "execution_count": 6,
   "id": "802c9b41",
   "metadata": {},
   "outputs": [
    {
     "data": {
      "image/png": "[encoded data removed]",
      "text/plain": [
       "Plot with title \"maria island\""
      ]
     },
     "metadata": {
      "image/png": {
       "height": 420,
       "width": 420
      }
     },
     "output_type": "display_data"
    }
   ],
   "source": [
    "#build the raster of maria island\n",
    "coordinates <- data.frame(x = rep(seq(147.992312, 148.252213, 0.01299515), 20),\n",
    "                          y = rep(seq(-42.755783, -42.564998, 0.00953926),each= 20))\n",
    "template_raster <- Region$new(coordinates = coordinates)$region_raster # full extent\n",
    "template_raster[][-landarea] <- NA \n",
    "\n",
    "region <- Region$new(template_raster = template_raster)\n",
    "\n",
    "raster::plot(region$region_raster, main = \"maria island\",\n",
    "             xlab = \"Longitude (degrees)\", ylab = \"Latitude (degrees)\",\n",
    "             colNA = \"blue\",)"
   ]
  },
  {
   "cell_type": "markdown",
   "id": "6df0281d",
   "metadata": {},
   "source": [
    "##### Environmental correlation\n",
    "Next, we'll define a distance-based spatial correlation for applying environmental \n",
    "stochasticity within our model. The generated correlation data is compacted for \n",
    "computational efficiency (with large-scale models)."
   ]
  },
  {
   "cell_type": "code",
   "execution_count": 7,
   "id": "f2539a41",
   "metadata": {},
   "outputs": [],
   "source": [
    "# Distance-based environmental correlation (via a compacted Cholesky decomposition)\n",
    "env_corr <- SpatialCorrelation$new(region = region, amplitude = 0.4, breadth = 500)\n",
    "correlation <- env_corr$get_compact_decomposition(decimals = 2)"
   ]
  },
  {
   "cell_type": "markdown",
   "id": "9d5ad1f2",
   "metadata": {},
   "source": [
    "##### Template model\n",
    "Finally, we can build our template model with these and other fixed parameters.\n",
    "\n",
    "leslie matrix [annual]\n",
    "\n",
    "[0.         0.202  0.5444 1.1944 0.826 0.5833]\n",
    "\n",
    "[0.78169418 0.         0.         0.         0.         0.        ]\n",
    "\n",
    "[0.         0.65399346 0.         0.         0.         0.        ]\n",
    "\n",
    "[0.         0.         0.56338836 0.         0.         0.        ]\n",
    "\n",
    "[0.         0.         0.         0.49310958 0.         0.        ]\n",
    "\n",
    "[0.         0.         0.         0.         0.43568764 0.        ]\n",
    "\n",
    "this matrix is estimated via mark recapture data from billie\n",
    "\n",
    "\n",
    "https://github.com/je-suis-tm/Devil-Project/blob/main/Chapter1/Maria/leslie%20matrix%20maria%20island.ipynb"
   ]
  },
  {
   "cell_type": "code",
   "execution_count": 8,
   "id": "7318670d",
   "metadata": {},
   "outputs": [],
   "source": [
    "leslie_matrix=c(0.  ,   0.2020202,  0.54444444, 1.19444444, 0.82608696, 0.58333333, 0.78169418, 0.   ,0.,\n",
    "       0.   , 0.   , 0.   , 0.   , 0.65399346, 0.   , 0.   , 0.   , 0.   ,\n",
    "       0.   , 0.   , 0.56338836, 0.   , 0.   , 0.   , 0.   , 0.   , 0.   ,\n",
    "       0.49310958, 0.   , 0.   , 0.   , 0.   , 0.   , 0.   , 0.43568764  , 0.    )\n",
    "agegroup=c(\"y0\",\"y1\",\"y2\",\"y3\",\"y4\",\"y5\")"
   ]
  },
  {
   "cell_type": "code",
   "execution_count": 9,
   "id": "15a1190f",
   "metadata": {},
   "outputs": [],
   "source": [
    "# Population (simulation) model template for fixed parameters\n",
    "stage_matrix <- matrix(leslie_matrix, nrow = 6, ncol = 6, byrow = TRUE,\n",
    "                       dimnames = list(agegroup,agegroup ))\n",
    "#stage_matrix # examine\n",
    "model_template <- PopulationModel$new(region = region,\n",
    "                                      time_steps = 7, # years\n",
    "                                      populations = region$region_cells, \n",
    "                                      stages = 6,\n",
    "                                      stage_matrix = stage_matrix,\n",
    "                                      demographic_stochasticity = TRUE,\n",
    "                                      standard_deviation = 0.05,\n",
    "                                      correlation = correlation,\n",
    "                                      density_dependence = \"logistic\",\n",
    "                                      results_selection = c(\"abundance\"),)"
   ]
  },
  {
   "cell_type": "markdown",
   "id": "dab97159",
   "metadata": {},
   "source": [
    "### Step 2: Build generators for dynamically generating model parameters\n",
    "Some model parameters are single values, whilst others are represented as arrays and\n",
    "other multi-value data structures. Usually, we don't wish to sample each individual \n",
    "value within these multi-value parameters (in step 3), but to generate them dynamically\n",
    "via one or more intermediate sampled parameters. Here we build generators for model \n",
    "initial abundance, carrying capacity, and dispersal.\n",
    "\n",
    "##### Habitat suitability\n",
    "Firstly, our initial abundance and carrying capacity generator utilizes an example\n",
    "(mock) habitat suitability for our defined study region. "
   ]
  },
  {
   "cell_type": "code",
   "execution_count": 10,
   "id": "8e4993e7",
   "metadata": {
    "scrolled": false
   },
   "outputs": [
    {
     "data": {
      "image/png": "[encoded data removed]",
      "text/plain": [
       "Plot with title \"Example habitat suitability\""
      ]
     },
     "metadata": {
      "image/png": {
       "height": 420,
       "width": 420
      }
     },
     "output_type": "display_data"
    }
   ],
   "source": [
    "# Example habitat suitability\n",
    "example_hs=suitability$pred\n",
    "example_hs_raster <- region$region_raster\n",
    "example_hs_raster[region$region_indices] <- example_hs\n",
    "raster::plot(example_hs_raster, main = \"Example habitat suitability\",\n",
    "             xlab = \"Longitude (degrees)\", ylab = \"Latitude (degrees)\",\n",
    "             colNA = \"blue\")"
   ]
  },
  {
   "cell_type": "markdown",
   "id": "089ddad7",
   "metadata": {},
   "source": [
    "##### Initial abundance and carrying capacity generator\n",
    "The generator utilizes generic template functionality for user-defined custom\n",
    "functions. It uses sampled input parameters (initial total abundance and maximum cell\n",
    "density), along with habitat suitability, to generate the desired output model \n",
    "parameters (initial abundance and carrying capacity) via these user-defined functions. \n",
    "Generators can also be configured to read values from files or generate values via \n",
    "probabilistic distributions. "
   ]
  },
  {
   "cell_type": "code",
   "execution_count": 11,
   "id": "3fe57f95",
   "metadata": {},
   "outputs": [],
   "source": [
    "# Initial abundance and carrying capacity generated via example habitat suitability\n",
    "capacity_gen <- Generator$new(description = \"Capacity generator\",\n",
    "                              example_hs = example_hs, # template attached\n",
    "                              inputs = c(\"initial_n\", \"density_max\"),\n",
    "                              outputs = c(\"initial_abundance\", \"carrying_capacity\"))\n",
    "capacity_gen$add_generative_requirements(list(initial_abundance = \"function\",\n",
    "                                              carrying_capacity = \"function\"))\n",
    "capacity_gen$add_function_template(\"initial_abundance\",\n",
    "                                   function_def = function(params) {\n",
    "                                       settleprob=rep(0,length(params$example_hs))\n",
    "                                       for (i in 1:10)\n",
    "                                           {settleprob[i]=0.8}\n",
    "                                       stats::rmultinom(1, size = params$initial_n,\n",
    "                                                      prob = settleprob)[,1]\n",
    "                                       \n",
    "#                                        #introduced devils are established at the north of the island\n",
    "#                                        init_abund<<-rep(0, length(params$example_hs))\n",
    "\n",
    "#                                         init_abund[1]=3\n",
    "#                                         init_abund[2]=2\n",
    "#                                         init_abund[3]=7\n",
    "#                                         init_abund[4]=2\n",
    "#                                         init_abund[5]=1\n",
    "#                                        init_abund\n",
    "                                   },\n",
    "                                   call_params = c(\"initial_n\", \"example_hs\"))\n",
    "capacity_gen$add_function_template(\"carrying_capacity\",\n",
    "                                   function_def = function(params) {\n",
    "                                     round(params$density_max*params$example_hs)\n",
    "                                   },\n",
    "                                   call_params = c(\"density_max\", \"example_hs\"))\n",
    "#capacity_gen$generate(input_values = list(initial_n = 15, density_max = 15)) # test"
   ]
  },
  {
   "cell_type": "markdown",
   "id": "804635e2",
   "metadata": {},
   "source": [
    "##### Dispersal generator\n",
    "Our dispersal generator uses default functionality for generating dispersal rates \n",
    "between cells. Its sampled inputs parameterize the distance-based dispersal function\n",
    "(proportion dispersing and breadth of dispersal). The generator can be configured with \n",
    "a dispersal friction helper class object, which calculates equivalent dispersal \n",
    "distances for frictional landscapes and coastlines. Here it is used to ensure dispersal \n",
    "is not performed directly across the \"water\" in Maria island. The \n",
    "generated dispersal data is calculated via pre-calculated distance data and compacted\n",
    "for computational efficiency (with large-scale models)."
   ]
  },
  {
   "cell_type": "markdown",
   "id": "7c508ef8",
   "metadata": {},
   "source": [
    "Maria island is 20km * 13km. Dispersal is estimated via mark recapture data from billie. Devils which got recaptured one year apart are taken into the dataset to estimate the annual dispersal distance. \n",
    "\n",
    "https://github.com/je-suis-tm/Devil-Project/blob/main/Chapter1/Maria/dispersal%20estimate%20maria%20island.ipynb"
   ]
  },
  {
   "cell_type": "code",
   "execution_count": 12,
   "id": "1077f095",
   "metadata": {},
   "outputs": [
    {
     "name": "stderr",
     "output_type": "stream",
     "text": [
      "as(<dsCMatrix>, \"dgTMatrix\") is deprecated since Matrix 1.5-0; do as(as(., \"generalMatrix\"), \"TsparseMatrix\") instead\n",
      "\n"
     ]
    }
   ],
   "source": [
    "# Distance-based dispersal generator\n",
    "dispersal_gen <- DispersalGenerator$new(region = region,\n",
    "                                        dispersal_max_distance = 15000, # in m \n",
    "                                        dispersal_friction = DispersalFriction$new(),\n",
    "                                        inputs = c(\"dispersal_p\", \"dispersal_b\"),\n",
    "                                        decimals = 5)\n",
    "dispersal_gen$calculate_distance_data() # pre-calculate\n",
    "test_dispersal <- dispersal_gen$generate(input_values = list(dispersal_p = 0.174693683, \n",
    "                                                             dispersal_b = 3308.05479))\n",
    "#head(test_dispersal$dispersal_data[[1]])"
   ]
  },
  {
   "cell_type": "markdown",
   "id": "61c49a94",
   "metadata": {},
   "source": [
    "### Step 3: Sample model and generator parameters for each simulation\n",
    "In order to explore the model parameter space to find the best models, we generate\n",
    "Latin hypercube samples of model and generator parameters to be simulated, using the\n",
    "*LatinHypercubeSampler* class. This class has functionality for generating sample\n",
    "parameters via Uniform, Normal, Lognormal, Beta, and Triangular distributions."
   ]
  },
  {
   "cell_type": "code",
   "execution_count": 13,
   "id": "25da1402",
   "metadata": {
    "scrolled": true
   },
   "outputs": [],
   "source": [
    "# Generate sampled values for variable model parameters via LHS\n",
    "lhs_gen <- LatinHypercubeSampler$new()\n",
    "\n",
    "#logistic growth model 0.74\n",
    "# https://github.com/je-suis-tm/Devil-Project/blob/main/Chapter1/Maria/logistic%20population%20growth%20maria%20island.ipynb\n",
    "lhs_gen$set_uniform_parameter(\"growth_rate_max\", lower = 0.2, upper = 0.9, decimals = 2)\n",
    "lhs_gen$set_uniform_parameter(\"initial_n\", lower = 10, upper = 30, decimals = 0)\n",
    "\n",
    "lhs_gen$set_uniform_parameter(\"density_max\", lower = 0.1, upper = 5, decimals = 0)\n",
    "lhs_gen$set_uniform_parameter(\"dispersal_p\", lower = 0.09, upper = 0.3, decimals = 4)\n",
    "lhs_gen$set_uniform_parameter(\"dispersal_b\", lower = 1000, upper = 7000, decimals = 2)\n",
    "sample_data <- lhs_gen$generate_samples(number = 100)\n",
    "\n",
    "#save as pickle\n",
    "save(sample_data, file=\"sample data.Rda\")"
   ]
  },
  {
   "cell_type": "markdown",
   "id": "01d3a46a",
   "metadata": {},
   "source": [
    "### Step 4: Build a simulation manager to run each simulation\n",
    "We now wish to run a simulation for each set (or row) of sampled parameters. The\n",
    "*SimulationManager* class manages the generation of parameters (via the generators),\n",
    "the running the model simulations, and writing simulation results to disk. It also\n",
    "maintains a log of each simulation's success and any errors or warnings encountered."
   ]
  },
  {
   "cell_type": "code",
   "execution_count": 14,
   "id": "5175e5b3",
   "metadata": {},
   "outputs": [
    {
     "data": {
      "text/html": [
       "'92 of 100 sample models ran and saved results successfully with warnings'"
      ],
      "text/latex": [
       "'92 of 100 sample models ran and saved results successfully with warnings'"
      ],
      "text/markdown": [
       "'92 of 100 sample models ran and saved results successfully with warnings'"
      ],
      "text/plain": [
       "[1] \"92 of 100 sample models ran and saved results successfully with warnings\""
      ]
     },
     "metadata": {},
     "output_type": "display_data"
    }
   ],
   "source": [
    "# Create a simulation manager and run the sampled model simulations\n",
    "sim_manager <- SimulationManager$new(sample_data = sample_data,\n",
    "                                     model_template = model_template,\n",
    "                                     generators = list(capacity_gen, dispersal_gen),\n",
    "                                     parallel_cores = 2,\n",
    "                                     results_dir = OUTPUT_DIR)\n",
    "run_output <- sim_manager$run(results_dir = tempdir())\n",
    "run_output$summary\n",
    "#dir(OUTPUT_DIR, \"*.RData\") # includes result files \n",
    "#dir(OUTPUT_DIR, \"*.txt\") # plus simulation log"
   ]
  },
  {
   "cell_type": "markdown",
   "id": "36d1000b",
   "metadata": {},
   "source": [
    "Note that the output directory contains a R-data result files for each sample simulation\n",
    "and a simulation log file.\n",
    "\n",
    "### Step 5: Build a results manager to generate summary results (metrics)\n",
    "We now wish to collate summary results for each of our simulations via the \n",
    "*ResultsManager* class. This manager loads the results from each sample simulation into\n",
    "an intermediate *PopulationResults* class object, which dynamically generates further \n",
    "results. We need to define functions for calculating summary metrics, as well as any \n",
    "matrices (one row of values per simulation) that we may be interested in examining. Each\n",
    "metric (or matrix) is associated with a user-defined function that utilizes results object \n",
    "attributes, or alternatively direct access to an attribute may be defined via a string.\n",
    "Once generated, the result metrics (a data frame) and/or matrices (a list) can be \n",
    "accessed via the manager. We may utilize the collated results in a variety of ways. \n",
    "However, with the objective of selecting the best models, we wish to compare (or \n",
    "validate) these result metrics to (with) known or desired target patterns (in step 6)."
   ]
  },
  {
   "cell_type": "code",
   "execution_count": 15,
   "id": "adcd5483",
   "metadata": {
    "scrolled": false
   },
   "outputs": [
    {
     "data": {
      "text/html": [
       "'92 of 100 summary metrics/matrices generated from sample results successfully'"
      ],
      "text/latex": [
       "'92 of 100 summary metrics/matrices generated from sample results successfully'"
      ],
      "text/markdown": [
       "'92 of 100 summary metrics/matrices generated from sample results successfully'"
      ],
      "text/plain": [
       "[1] \"92 of 100 summary metrics/matrices generated from sample results successfully\""
      ]
     },
     "metadata": {},
     "output_type": "display_data"
    }
   ],
   "source": [
    "results_manager <- ResultsManager$new(simulation_manager = sim_manager,\n",
    "                                      simulation_results = PopulationResults$new(),\n",
    "                                      summary_metrics = c(\"p2\",\"p3\",\"p4\",\"p5\",\"p6\",\"p7\"),\n",
    "                                      summary_matrices = c(\"n\"),\n",
    "                                      summary_functions = list(\n",
    "                                        p2 = function(results) {\n",
    "                                          results$all$abundance[2]\n",
    "                                        },\n",
    "                                        p3 = function(results) {\n",
    "                                          results$all$abundance[3]\n",
    "                                        },\n",
    "                                        p4 = function(results) {\n",
    "                                          results$all$abundance[4]\n",
    "                                        },\n",
    "                                        p5 = function(results) {\n",
    "                                          results$all$abundance[5]\n",
    "                                        },\n",
    "                                        p6 = function(results) {\n",
    "                                          results$all$abundance[6]\n",
    "                                        },\n",
    "                                        p7 = function(results) {\n",
    "                                          results$all$abundance[7]\n",
    "                                        },\n",
    "                                        n = \"all$abundance\"),\n",
    "                                      parallel_cores = 2)\n",
    "gen_output <- results_manager$generate()\n",
    "gen_output$summary\n",
    "#dir(OUTPUT_DIR, \"*.txt\") # plus generation log\n",
    "# results_manager$summary_metric_data\n",
    "# results_manager$summary_matrix_list"
   ]
  },
  {
   "cell_type": "code",
   "execution_count": 16,
   "id": "d0df290e",
   "metadata": {},
   "outputs": [],
   "source": [
    "#save as pickle\n",
    "save(results_manager, file=\"models.Rda\")"
   ]
  },
  {
   "cell_type": "markdown",
   "id": "c19bd8b6",
   "metadata": {},
   "source": [
    "### Step 6: Build a validator to select a model ensemble\n",
    "We now select and analyze our 'best' models via a *Validator* class object, which by\n",
    "default utilizes an approximate Bayesian computation (ABC) approach (Beaumont, Zhang, \n",
    "& Balding, 2002) provided by the *abc* library (Csillery et al., 2015). The validator\n",
    "can be configured appropriately for a problem domain (see the *abc* documentation). \n",
    "Here we use the default configuration to select the best 3 models, along with a weight\n",
    "value, which is indicative of the congruence between each model's summary metrics and \n",
    "the corresponding target patterns. Also provided (with the default settings) is a \n",
    "diagnostic output (PDF) file, containing statistical information for analyzing the \n",
    "contribution of model parameters in the selection/validation process (see the *abc* \n",
    "documentation). For our simple demonstration the metrics and corresponding targets are \n",
    "relatively trivial, having the aim of producing stable population abundances with high \n",
    "harvest. However, the package facilitates the use more complex spatio-temporal metrics \n",
    "and targets (demonstrated in more advanced vignettes)."
   ]
  },
  {
   "cell_type": "markdown",
   "id": "bb4989de",
   "metadata": {},
   "source": [
    "[15, 14, 27, 99, 92, 96, 103]"
   ]
  },
  {
   "cell_type": "code",
   "execution_count": 17,
   "id": "0a7d304d",
   "metadata": {},
   "outputs": [],
   "source": [
    "#load pickle files so no need to retrain\n",
    "load(\"models.Rda\")\n",
    "load(\"sample data.Rda\")"
   ]
  },
  {
   "cell_type": "code",
   "execution_count": 18,
   "id": "fe341289",
   "metadata": {
    "scrolled": true
   },
   "outputs": [
    {
     "data": {
      "text/html": [
       "<table class=\"dataframe\">\n",
       "<caption>A data.frame: 8 × 7</caption>\n",
       "<thead>\n",
       "\t<tr><th></th><th scope=col>index</th><th scope=col>p2</th><th scope=col>p3</th><th scope=col>p4</th><th scope=col>p5</th><th scope=col>p6</th><th scope=col>p7</th></tr>\n",
       "\t<tr><th></th><th scope=col>&lt;int&gt;</th><th scope=col>&lt;dbl&gt;</th><th scope=col>&lt;dbl&gt;</th><th scope=col>&lt;dbl&gt;</th><th scope=col>&lt;dbl&gt;</th><th scope=col>&lt;dbl&gt;</th><th scope=col>&lt;dbl&gt;</th></tr>\n",
       "</thead>\n",
       "<tbody>\n",
       "\t<tr><th scope=row>15</th><td>15</td><td>NA</td><td>NA</td><td>NA</td><td>NA</td><td>NA</td><td>NA</td></tr>\n",
       "\t<tr><th scope=row>18</th><td>18</td><td>NA</td><td>NA</td><td>NA</td><td>NA</td><td>NA</td><td>NA</td></tr>\n",
       "\t<tr><th scope=row>29</th><td>29</td><td>NA</td><td>NA</td><td>NA</td><td>NA</td><td>NA</td><td>NA</td></tr>\n",
       "\t<tr><th scope=row>37</th><td>37</td><td>NA</td><td>NA</td><td>NA</td><td>NA</td><td>NA</td><td>NA</td></tr>\n",
       "\t<tr><th scope=row>41</th><td>41</td><td>NA</td><td>NA</td><td>NA</td><td>NA</td><td>NA</td><td>NA</td></tr>\n",
       "\t<tr><th scope=row>54</th><td>54</td><td>NA</td><td>NA</td><td>NA</td><td>NA</td><td>NA</td><td>NA</td></tr>\n",
       "\t<tr><th scope=row>81</th><td>81</td><td>NA</td><td>NA</td><td>NA</td><td>NA</td><td>NA</td><td>NA</td></tr>\n",
       "\t<tr><th scope=row>99</th><td>99</td><td>NA</td><td>NA</td><td>NA</td><td>NA</td><td>NA</td><td>NA</td></tr>\n",
       "</tbody>\n",
       "</table>\n"
      ],
      "text/latex": [
       "A data.frame: 8 × 7\n",
       "\\begin{tabular}{r|lllllll}\n",
       "  & index & p2 & p3 & p4 & p5 & p6 & p7\\\\\n",
       "  & <int> & <dbl> & <dbl> & <dbl> & <dbl> & <dbl> & <dbl>\\\\\n",
       "\\hline\n",
       "\t15 & 15 & NA & NA & NA & NA & NA & NA\\\\\n",
       "\t18 & 18 & NA & NA & NA & NA & NA & NA\\\\\n",
       "\t29 & 29 & NA & NA & NA & NA & NA & NA\\\\\n",
       "\t37 & 37 & NA & NA & NA & NA & NA & NA\\\\\n",
       "\t41 & 41 & NA & NA & NA & NA & NA & NA\\\\\n",
       "\t54 & 54 & NA & NA & NA & NA & NA & NA\\\\\n",
       "\t81 & 81 & NA & NA & NA & NA & NA & NA\\\\\n",
       "\t99 & 99 & NA & NA & NA & NA & NA & NA\\\\\n",
       "\\end{tabular}\n"
      ],
      "text/markdown": [
       "\n",
       "A data.frame: 8 × 7\n",
       "\n",
       "| <!--/--> | index &lt;int&gt; | p2 &lt;dbl&gt; | p3 &lt;dbl&gt; | p4 &lt;dbl&gt; | p5 &lt;dbl&gt; | p6 &lt;dbl&gt; | p7 &lt;dbl&gt; |\n",
       "|---|---|---|---|---|---|---|---|\n",
       "| 15 | 15 | NA | NA | NA | NA | NA | NA |\n",
       "| 18 | 18 | NA | NA | NA | NA | NA | NA |\n",
       "| 29 | 29 | NA | NA | NA | NA | NA | NA |\n",
       "| 37 | 37 | NA | NA | NA | NA | NA | NA |\n",
       "| 41 | 41 | NA | NA | NA | NA | NA | NA |\n",
       "| 54 | 54 | NA | NA | NA | NA | NA | NA |\n",
       "| 81 | 81 | NA | NA | NA | NA | NA | NA |\n",
       "| 99 | 99 | NA | NA | NA | NA | NA | NA |\n",
       "\n"
      ],
      "text/plain": [
       "   index p2 p3 p4 p5 p6 p7\n",
       "15 15    NA NA NA NA NA NA\n",
       "18 18    NA NA NA NA NA NA\n",
       "29 29    NA NA NA NA NA NA\n",
       "37 37    NA NA NA NA NA NA\n",
       "41 41    NA NA NA NA NA NA\n",
       "54 54    NA NA NA NA NA NA\n",
       "81 81    NA NA NA NA NA NA\n",
       "99 99    NA NA NA NA NA NA"
      ]
     },
     "metadata": {},
     "output_type": "display_data"
    }
   ],
   "source": [
    "#showna\n",
    "validation_target=results_manager$summary_metric_data\n",
    "validation_target[!complete.cases(validation_target),]"
   ]
  },
  {
   "cell_type": "code",
   "execution_count": 19,
   "id": "28bb5860",
   "metadata": {},
   "outputs": [],
   "source": [
    "#list of na\n",
    "remove_index=which(!complete.cases(validation_target))"
   ]
  },
  {
   "cell_type": "code",
   "execution_count": 20,
   "id": "0fa4be72",
   "metadata": {},
   "outputs": [],
   "source": [
    "# Create a validator for selecting the 'best' example models\n",
    "if (length(remove_index)==0)    {\n",
    "    validator <- Validator$new(simulation_parameters = sample_data,\n",
    "                           simulation_summary_metrics =\n",
    "                             validation_target[-1],\n",
    "                           observed_metric_targets = c(p2=14,p3=27,p4=99,p5=92,p6=96,p7=103),\n",
    "                           output_dir = OUTPUT_DIR)\n",
    "\n",
    "} else    {\n",
    "    validator <- Validator$new(simulation_parameters = sample_data[-remove_index,],\n",
    "                           simulation_summary_metrics =\n",
    "                             validation_target[-remove_index,][-1],\n",
    "                           observed_metric_targets = c(p2=14,p3=27,p4=99,p5=92,p6=96,p7=103),\n",
    "                           output_dir = OUTPUT_DIR)\n",
    "}"
   ]
  },
  {
   "cell_type": "code",
   "execution_count": 21,
   "id": "d8715081",
   "metadata": {
    "scrolled": false
   },
   "outputs": [
    {
     "name": "stdout",
     "output_type": "stream",
     "text": [
      "12345678910\n",
      "12345678910\n"
     ]
    },
    {
     "name": "stderr",
     "output_type": "stream",
     "text": [
      "Warning message:\n",
      "\"Validation function generated warning: All parameters are \"none\" transformed.\"\n"
     ]
    }
   ],
   "source": [
    "validator$run(tolerance = 0.25, output_diagnostics = TRUE)"
   ]
  },
  {
   "cell_type": "code",
   "execution_count": 22,
   "id": "fa8b553e",
   "metadata": {},
   "outputs": [],
   "source": [
    "#rescale weights as they dont sum up to one\n",
    "weights=validator$selected_simulations \n",
    "weights$weight=weights$weight/sum(weights$weight)"
   ]
  },
  {
   "cell_type": "code",
   "execution_count": 23,
   "id": "538db267",
   "metadata": {
    "scrolled": true
   },
   "outputs": [
    {
     "data": {
      "text/html": [
       "<style>\n",
       ".dl-inline {width: auto; margin:0; padding: 0}\n",
       ".dl-inline>dt, .dl-inline>dd {float: none; width: auto; display: inline-block}\n",
       ".dl-inline>dt::after {content: \":\\0020\"; padding-right: .5ex}\n",
       ".dl-inline>dt:not(:first-of-type) {padding-left: .5ex}\n",
       "</style><dl class=dl-inline><dt>growth_rate_max</dt><dd>0.544106175421576</dd><dt>initial_n</dt><dd>19.4178409121148</dd><dt>density_max</dt><dd>1.90192343903571</dd><dt>dispersal_p</dt><dd>0.218097077981951</dd><dt>dispersal_b</dt><dd>3339.1949521882</dd></dl>\n"
      ],
      "text/latex": [
       "\\begin{description*}\n",
       "\\item[growth\\textbackslash{}\\_rate\\textbackslash{}\\_max] 0.544106175421576\n",
       "\\item[initial\\textbackslash{}\\_n] 19.4178409121148\n",
       "\\item[density\\textbackslash{}\\_max] 1.90192343903571\n",
       "\\item[dispersal\\textbackslash{}\\_p] 0.218097077981951\n",
       "\\item[dispersal\\textbackslash{}\\_b] 3339.1949521882\n",
       "\\end{description*}\n"
      ],
      "text/markdown": [
       "growth_rate_max\n",
       ":   0.544106175421576initial_n\n",
       ":   19.4178409121148density_max\n",
       ":   1.90192343903571dispersal_p\n",
       ":   0.218097077981951dispersal_b\n",
       ":   3339.1949521882\n",
       "\n"
      ],
      "text/plain": [
       "growth_rate_max       initial_n     density_max     dispersal_p     dispersal_b \n",
       "      0.5441062      19.4178409       1.9019234       0.2180971    3339.1949522 "
      ]
     },
     "metadata": {},
     "output_type": "display_data"
    }
   ],
   "source": [
    "#get result\n",
    "colSums(sample_data[weights$index,]*replicate(length(sample_data), weights$weight))"
   ]
  },
  {
   "cell_type": "code",
   "execution_count": 24,
   "id": "e675fc3b",
   "metadata": {},
   "outputs": [
    {
     "data": {
      "text/html": [
       "'validation_diagnostics.pdf'"
      ],
      "text/latex": [
       "'validation\\_diagnostics.pdf'"
      ],
      "text/markdown": [
       "'validation_diagnostics.pdf'"
      ],
      "text/plain": [
       "[1] \"validation_diagnostics.pdf\""
      ]
     },
     "metadata": {},
     "output_type": "display_data"
    }
   ],
   "source": [
    "dir(OUTPUT_DIR, \"*.pdf\") # plus validation diagnostics (see abc library documentation)"
   ]
  },
  {
   "cell_type": "markdown",
   "id": "a74f6be4",
   "metadata": {},
   "source": [
    "We encourage the user to examine the generated diagnostics (PDF) output file, and to\n",
    "become acquainted with the analysis that this information facilitates (see the *abc* \n",
    "documentation). As our simple example only uses two metrics/targets, we can visualize\n",
    "the congruence of the selected models with the targets via a simple plot."
   ]
  },
  {
   "cell_type": "code",
   "execution_count": 25,
   "id": "aba546f8",
   "metadata": {},
   "outputs": [],
   "source": [
    "# install.packages('rmarkdown')\n",
    "\n",
    "# library(rmarkdown)\n",
    "\n",
    "# setwd(\"C:/Users/tm/Downloads/\")\n",
    "\n",
    "# input <- \"poems maria.ipynb\"\n",
    "\n",
    "# # First convert to .Rmd...\n",
    "# convert_ipynb(input)"
   ]
  }
 ],
 "metadata": {
  "kernelspec": {
   "display_name": "R",
   "language": "R",
   "name": "ir413"
  },
  "language_info": {
   "codemirror_mode": "r",
   "file_extension": ".r",
   "mimetype": "text/x-r-source",
   "name": "R",
   "pygments_lexer": "r",
   "version": "4.2.2"
  },
  "toc": {
   "base_numbering": 1,
   "nav_menu": {},
   "number_sections": true,
   "sideBar": true,
   "skip_h1_title": false,
   "title_cell": "Table of Contents",
   "title_sidebar": "Contents",
   "toc_cell": false,
   "toc_position": {
    "height": "calc(100% - 180px)",
    "left": "10px",
    "top": "150px",
    "width": "245.76px"
   },
   "toc_section_display": true,
   "toc_window_display": false
  }
 },
 "nbformat": 4,
 "nbformat_minor": 5
}
