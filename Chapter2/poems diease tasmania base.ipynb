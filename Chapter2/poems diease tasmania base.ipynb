{
 "cells": [
  {
   "cell_type": "markdown",
   "id": "9dd5113c",
   "metadata": {},
   "source": [
    "## Setup\n",
    "\n",
    "We begin by loading the *poems* package and setting our output directory."
   ]
  },
  {
   "cell_type": "code",
   "execution_count": 1,
   "id": "5caaeb18",
   "metadata": {},
   "outputs": [],
   "source": [
    "setwd('C:/Users/tm/Downloads/utas/thesis/chapter1/tasmania/poems')\n",
    "library(poems)\n",
    "OUTPUT_DIR='C:/Users/tm/Downloads/utas/thesis/chapter2/tasmania/poems'\n",
    "\n",
    "# function to round to any arbitrary value\n",
    "round_any <- function(x, accuracy, f = round) {\n",
    "  f(x/ accuracy) * accuracy\n",
    "}"
   ]
  },
  {
   "cell_type": "markdown",
   "id": "ade45baf",
   "metadata": {},
   "source": [
    "### read data"
   ]
  },
  {
   "cell_type": "code",
   "execution_count": 2,
   "id": "93424340",
   "metadata": {},
   "outputs": [],
   "source": [
    "#this is the land area of tasmania\n",
    "baselayer=read.csv('baselayer.csv')\n",
    "baselayer=subset(baselayer, grid == 0)\n",
    "landarea=c(as.numeric(row.names(baselayer)))"
   ]
  },
  {
   "cell_type": "code",
   "execution_count": 3,
   "id": "fb4ea873",
   "metadata": {},
   "outputs": [],
   "source": [
    "#1985-1995\n",
    "# Cunningham et al., 2021\n",
    "population_size=c(34475,\n",
    " 35924,\n",
    " 38256,\n",
    " 41029,\n",
    " 43487,\n",
    " 44622,\n",
    " 46387,\n",
    " 48845,\n",
    " 50105,\n",
    " 51618,\n",
    " 52437,\n",
    " 53067)"
   ]
  },
  {
   "cell_type": "code",
   "execution_count": 4,
   "id": "edd839c9",
   "metadata": {},
   "outputs": [],
   "source": [
    "#habitat suitability map\n",
    "#estimated via vegetation,altitude and seabird colony\n",
    "# https://github.com/je-suis-tm/Devil-Project/blob/main/Chapter1/Tasman/habitat%20suitability%20tasman.ipynb\n",
    "suitability=read.csv('suitability.csv')\n",
    "\n",
    "\n",
    "floornum=0.1\n",
    "suitability$pred=(suitability$pred-min(suitability$pred))/(max(suitability$pred)-min(suitability$pred))*(1-floornum)+floornum"
   ]
  },
  {
   "cell_type": "code",
   "execution_count": 5,
   "id": "be4af9fe",
   "metadata": {},
   "outputs": [],
   "source": [
    "#this is the validation area of R drive\n",
    "valid_all=read.csv('valid_all.csv')\n",
    "\n",
    "# Subset valid dataframe based on landarea\n",
    "valid_all=subset(valid_all, index %in% landarea)\n",
    "\n",
    "#reindex based on landarea\n",
    "identity_all=match(valid_all$index,landarea)"
   ]
  },
  {
   "cell_type": "code",
   "execution_count": 6,
   "id": "46ab9b2b",
   "metadata": {},
   "outputs": [],
   "source": [
    "#this is the validation ratio of disease\n",
    "valid_disease=read.csv('valid_disease.csv')\n",
    "\n",
    "# Subset valid dataframe based on landarea\n",
    "valid_disease=subset(valid_disease, index %in% landarea)\n",
    "\n",
    "#reindex based on landarea\n",
    "identity_disease=match(valid_disease$index,landarea)"
   ]
  },
  {
   "cell_type": "markdown",
   "id": "e21ef793",
   "metadata": {},
   "source": [
    "### known variables"
   ]
  },
  {
   "cell_type": "code",
   "execution_count": 7,
   "id": "d858fc5b",
   "metadata": {},
   "outputs": [],
   "source": [
    "#dispersal portion and avg distance\n",
    "known_dispersal_p=0.4\n",
    "known_dispersal_b=7"
   ]
  },
  {
   "cell_type": "code",
   "execution_count": 8,
   "id": "6e90bf17",
   "metadata": {},
   "outputs": [],
   "source": [
    "#baseline matrix is estimated via mark recapture data \n",
    "# https://github.com/je-suis-tm/Devil-Project/blob/main/Chapter1/Tasman/baseline%20matrix%2tasman.ipynb\n",
    "leslie_matrix=c(0.        , 0.489, 1.4539, 1.947, 1.5079,0.547 ,\n",
    "                1, 0.        , 0.        , 0.        ,\n",
    "       0.        , 0.        , 0.        , 0.976 , 0.        ,\n",
    "       0.        , 0.        , 0.        , 0.        , 0.        ,\n",
    "       0.899, 0.        , 0.        , 0.        , 0.        ,\n",
    "       0.        , 0.        , 0.84, 0.        , 0.        ,\n",
    "       0.        , 0.        , 0.        , 0.        , 0.791,\n",
    "       0.791      )\n",
    "agegroup=c(\"y0\",\"y1\",\"y2\",\"y3\",\"y4\",\"y5\")"
   ]
  },
  {
   "cell_type": "code",
   "execution_count": 9,
   "id": "a4f346ae",
   "metadata": {},
   "outputs": [],
   "source": [
    "#how many grid cells\n",
    "gridlen=35\n",
    "\n",
    "#coordinates extreme value\n",
    "lonmin=144.165967\n",
    "latmin=-43.833736\n",
    "lonmax=148.576978\n",
    "latmax=-40.349895"
   ]
  },
  {
   "cell_type": "code",
   "execution_count": 10,
   "id": "4734bb8e",
   "metadata": {},
   "outputs": [],
   "source": [
    "#model start year\n",
    "baseyear=1985\n",
    "\n",
    "#years of simulation\n",
    "simulation_years=40\n",
    "\n",
    "#simulation timeframe per round\n",
    "simulation_intervals=1\n",
    "\n",
    "#number of simulations\n",
    "num_of_sims=10000\n",
    "\n",
    "#max density 2 per sq km, in female model divided by two\n",
    "maxden=114\n",
    "\n",
    "#initial abundance\n",
    "initial_population=14332\n",
    "\n",
    "#area name\n",
    "areaname='Tasmania'\n",
    "\n",
    "#max growth rate\n",
    "growth_rate_max=0.26"
   ]
  },
  {
   "cell_type": "markdown",
   "id": "9c65e035",
   "metadata": {},
   "source": [
    "## Workflow\n",
    "\n",
    "The *poems* workflow, which implements a pattern-oriented modeling (POM) approach \n",
    "(Grimm et al., 2005), is achieved via a framework of interoperable components:\n",
    "\n",
    "\n",
    "The workflow is summarized by the following six steps:\n",
    "\n",
    "1. Build the population model for the study region.\n",
    "1. Build generators for dynamically generating model parameters.\n",
    "1. Sample model and generator parameters for each simulation.\n",
    "1. Build a simulation manager to run each simulation.\n",
    "1. Build a results manager to generate summary results (metrics).\n",
    "1. Build a validator to select a model ensemble.\n",
    "\n",
    "### Step 1: Build the population model for the study region\n",
    "Create a model template using the *PopulationModel* class. If the model is spatially\n",
    "explicit, then define the study region via the *Region* class. All fixed model inputs,\n",
    "such as environmental correlations, as well as any user-defined functions for processes\n",
    "such as harvesting, should be set at this stage.\n",
    "\n",
    "We could create these components in any order and set model parameters separately, but \n",
    "let's setup our study region, generate environmental correlations, and define a harvest\n",
    "function prior to initializing the template model with all the fixed parameters.\n",
    "\n",
    "##### Study region\n",
    "First, we'll define our study region (denoted U Island) with some longitude-latitude\n",
    "coordinates."
   ]
  },
  {
   "cell_type": "code",
   "execution_count": 11,
   "id": "9f68293f",
   "metadata": {},
   "outputs": [
    {
     "data": {
      "text/html": [
       "0.126028885714286"
      ],
      "text/latex": [
       "0.126028885714286"
      ],
      "text/markdown": [
       "0.126028885714286"
      ],
      "text/plain": [
       "[1] 0.1260289"
      ]
     },
     "metadata": {},
     "output_type": "display_data"
    },
    {
     "data": {
      "text/html": [
       "0.0995383142857144"
      ],
      "text/latex": [
       "0.0995383142857144"
      ],
      "text/markdown": [
       "0.0995383142857144"
      ],
      "text/plain": [
       "[1] 0.09953831"
      ]
     },
     "metadata": {},
     "output_type": "display_data"
    }
   ],
   "source": [
    "(lonmax-lonmin)/gridlen\n",
    "(latmax-latmin)/gridlen"
   ]
  },
  {
   "cell_type": "code",
   "execution_count": 12,
   "id": "802c9b41",
   "metadata": {},
   "outputs": [
    {
     "data": {
      "image/png": "[encoded data removed]",
      "text/plain": [
       "Plot with title \"Tasmania\""
      ]
     },
     "metadata": {
      "image/png": {
       "height": 420,
       "width": 420
      }
     },
     "output_type": "display_data"
    }
   ],
   "source": [
    "#build the raster of channel\n",
    "coordinates <- data.frame(x = rep(seq(lonmin, lonmax, 0.127028885714286), gridlen),\n",
    "                          y = rep(seq(latmin, latmax, 0.1005383142857144),each= gridlen))\n",
    "template_raster <- Region$new(coordinates = coordinates)$region_raster # full extent\n",
    "template_raster[][-landarea] <- NA \n",
    "\n",
    "region <- Region$new(template_raster = template_raster)\n",
    "\n",
    "raster::plot(region$region_raster, main = areaname,\n",
    "             xlab = \"Longitude (degrees)\", ylab = \"Latitude (degrees)\",\n",
    "             colNA = \"blue\",)"
   ]
  },
  {
   "cell_type": "markdown",
   "id": "6df0281d",
   "metadata": {},
   "source": [
    "##### Environmental correlation\n",
    "Next, we'll define a distance-based spatial correlation for applying environmental \n",
    "stochasticity within our model. The generated correlation data is compacted for \n",
    "computational efficiency (with large-scale models)."
   ]
  },
  {
   "cell_type": "code",
   "execution_count": 13,
   "id": "f2539a41",
   "metadata": {},
   "outputs": [],
   "source": [
    "# Distance-based environmental correlation (via a compacted Cholesky decomposition)\n",
    "env_corr <- SpatialCorrelation$new(region = region, amplitude = 0.4, breadth = 500)\n",
    "correlation <- env_corr$get_compact_decomposition(decimals = 2)"
   ]
  },
  {
   "cell_type": "markdown",
   "id": "9d5ad1f2",
   "metadata": {},
   "source": [
    "##### Template model\n",
    "Finally, we can build our template model with these and other fixed parameters."
   ]
  },
  {
   "cell_type": "code",
   "execution_count": 14,
   "id": "15a1190f",
   "metadata": {},
   "outputs": [],
   "source": [
    "# Build a stage matrix generator based on density dependant growth\n",
    "stage_matrix_gen <- Generator$new(\n",
    "  description = \"stage matrix\",\n",
    "  region_indices=region$region_indices,\n",
    "  growth_rate_max=growth_rate_max,\n",
    "  base_matrix = matrix(leslie_matrix, nrow = length(agegroup), ncol = length(agegroup), byrow = TRUE,\n",
    "                       dimnames = list(agegroup,agegroup )),\n",
    "  inputs = c(\"initial_n\", \"density_max\"),\n",
    "  outputs = c(\"stage_matrix\"),\n",
    "  generative_requirements = list(stage_matrix = \"function\"))\n",
    "stage_matrix_gen$add_function_template(\n",
    "  \"stage_matrix\",\n",
    "  function_def = function (params) {\n",
    "    return(params$base_matrix*(1-params$initial_n/(params$density_max*length(params$region_indices))))\n",
    "  },\n",
    "  call_params = c(\"base_matrix\", \"growth_rate_max\",\"initial_n\", \"density_max\",\"region_indices\"))"
   ]
  },
  {
   "cell_type": "markdown",
   "id": "dab97159",
   "metadata": {},
   "source": [
    "### Step 2: Build generators for dynamically generating model parameters\n",
    "Some model parameters are single values, whilst others are represented as arrays and\n",
    "other multi-value data structures. Usually, we don't wish to sample each individual \n",
    "value within these multi-value parameters (in step 3), but to generate them dynamically\n",
    "via one or more intermediate sampled parameters. Here we build generators for model \n",
    "initial abundance, carrying capacity, and dispersal.\n",
    "\n",
    "##### Habitat suitability\n",
    "Firstly, our initial abundance and carrying capacity generator utilizes an example\n",
    "(mock) habitat suitability for our defined study region. "
   ]
  },
  {
   "cell_type": "code",
   "execution_count": 61,
   "id": "b0e26dac",
   "metadata": {},
   "outputs": [
    {
     "data": {
      "image/png": "[encoded data removed]",
      "text/plain": [
       "Plot with title \"Example habitat suitability\""
      ]
     },
     "metadata": {
      "image/png": {
       "height": 420,
       "width": 420
      }
     },
     "output_type": "display_data"
    }
   ],
   "source": [
    "# Example habitat suitability\n",
    "example_hs_raster <- region$region_raster\n",
    "example_hs_raster[region$region_indices] <- 0\n",
    "example_hs_raster[75] <- 1\n",
    "example_hs_raster[347] <- 1\n",
    "\n",
    "\n",
    "raster::plot(example_hs_raster, main = \"Example habitat suitability\",\n",
    "             xlab = \"Longitude (degrees)\", ylab = \"Latitude (degrees)\",\n",
    "             colNA = \"blue\")"
   ]
  },
  {
   "cell_type": "code",
   "execution_count": 16,
   "id": "8e4993e7",
   "metadata": {},
   "outputs": [
    {
     "data": {
      "image/png": "[encoded data removed]",
      "text/plain": [
       "Plot with title \"Habitat suitability of Tasmania\""
      ]
     },
     "metadata": {
      "image/png": {
       "height": 420,
       "width": 420
      }
     },
     "output_type": "display_data"
    }
   ],
   "source": [
    "# Example habitat suitability\n",
    "example_hs=suitability$pred\n",
    "example_hs_raster <- region$region_raster\n",
    "example_hs_raster[region$region_indices] <- example_hs\n",
    "raster::plot(example_hs_raster, main = \"Habitat suitability of Tasmania\",\n",
    "#              xlab = \"Longitude (degrees)\", ylab = \"Latitude (degrees)\",\n",
    "             colNA = \"white\", axes = FALSE)"
   ]
  },
  {
   "cell_type": "markdown",
   "id": "089ddad7",
   "metadata": {},
   "source": [
    "##### Initial abundance and carrying capacity generator\n",
    "The generator utilizes generic template functionality for user-defined custom\n",
    "functions. It uses sampled input parameters (initial total abundance and maximum cell\n",
    "density), along with habitat suitability, to generate the desired output model \n",
    "parameters (initial abundance and carrying capacity) via these user-defined functions. \n",
    "Generators can also be configured to read values from files or generate values via \n",
    "probabilistic distributions. "
   ]
  },
  {
   "cell_type": "code",
   "execution_count": 17,
   "id": "3fe57f95",
   "metadata": {},
   "outputs": [],
   "source": [
    "# Initial abundance and carrying capacity generated via example habitat suitability\n",
    "capacity_gen <- Generator$new(description = \"Capacity generator\",\n",
    "                              example_hs = example_hs, # template attached\n",
    "                              initial_n=initial_population,\n",
    "                              maxden=maxden,\n",
    "                              outputs = c(\"initial_abundance\", \"carrying_capacity\"))\n",
    "capacity_gen$add_generative_requirements(list(initial_abundance = \"function\",\n",
    "                                              carrying_capacity = \"function\"))\n",
    "capacity_gen$add_function_template(\"initial_abundance\",\n",
    "                                   function_def = function(params) {\n",
    "                                    round(params$initial_n/sum(params$example_hs)*params$example_hs)\n",
    "                                   },\n",
    "                                   call_params = c(\"example_hs\",\"initial_n\"))\n",
    "capacity_gen$add_function_template(\"carrying_capacity\",\n",
    "                                   function_def = function(params) {\n",
    "                                     round(params$maxden*params$example_hs)\n",
    "                                   },\n",
    "                                   call_params = c(\"example_hs\",'maxden'))"
   ]
  },
  {
   "cell_type": "markdown",
   "id": "302e7391",
   "metadata": {},
   "source": [
    "##### Dispersal generator\n",
    "Our dispersal generator uses default functionality for generating dispersal rates \n",
    "between cells. Its sampled inputs parameterize the distance-based dispersal function\n",
    "(proportion dispersing and breadth of dispersal). The generator can be configured with \n",
    "a dispersal friction helper class object, which calculates equivalent dispersal \n",
    "distances for frictional landscapes and coastlines. Here it is used to ensure dispersal \n",
    "is not performed directly across the \"water\" in our example U-shaped island. The \n",
    "generated dispersal data is calculated via pre-calculated distance data and compacted\n",
    "for computational efficiency (with large-scale models)."
   ]
  },
  {
   "cell_type": "code",
   "execution_count": 18,
   "id": "a2b33df8",
   "metadata": {},
   "outputs": [],
   "source": [
    "# Distance-based dispersal generator\n",
    "dispersal_gen <- DispersalGenerator$new(\n",
    "  region = region,\n",
    "  dispersal_max_distance = 350, # in km \n",
    "  distance_scale = 1000,\n",
    "  dispersal_friction = DispersalFriction$new(),\n",
    "  inputs = c(\"dispersal_p\", \"dispersal_b\"),\n",
    "    input_values = list(\n",
    "  dispersal_p = 0,\n",
    "  dispersal_b = known_dispersal_b\n",
    "),decimals = 5\n",
    ")\n",
    "\n",
    "dispersal_gen$calculate_distance_data() # pre-calculate"
   ]
  },
  {
   "cell_type": "markdown",
   "id": "472811cc",
   "metadata": {},
   "source": [
    "### Translocation function\n",
    "\n",
    "Here we define the custom `translocation` function. It's simply a `list`\n",
    "object, with a nested function that uses parameters from the model to\n",
    "make changes to the simulated populations.\n"
   ]
  },
  {
   "cell_type": "code",
   "execution_count": 19,
   "id": "9a70cc76",
   "metadata": {},
   "outputs": [],
   "source": [
    "#get dispersal probability\n",
    "test_dispersal <- dispersal_gen$generate(input_values = list(\n",
    "  dispersal_p = known_dispersal_p,\n",
    "  dispersal_b = known_dispersal_b\n",
    "))\n",
    "\n",
    "prob_mat=test_dispersal$dispersal_data\n",
    "trans_input <- prob_mat[[1]]\n",
    "\n"
   ]
  },
  {
   "cell_type": "code",
   "execution_count": 120,
   "id": "47b98dfc",
   "metadata": {},
   "outputs": [],
   "source": [
    "# User-defined translocation function (list-nested) and alias ####\n",
    "\n",
    "translocation <- list(\n",
    "  \n",
    "  # Function parameters (passed to function in params list)\n",
    "  trans_input=trans_input, #dispersal probability matrix\n",
    "  region_indices = region$region_indices,\n",
    "  transmission_rate=0.81,\n",
    "  progression_rate=0.76,\n",
    "  mortality_rate=0.4,\n",
    "  disease_timestep=10,\n",
    "  disease_cell=347,\n",
    "  simulation_years=simulation_years,\n",
    "  prob_threshold=0.004,\n",
    "  new_prob=0.07,\n",
    "  jump_num=294,\n",
    "    \n",
    "  ####################################################\n",
    "    \n",
    "  # Function definition\n",
    "  translocation_function = function(params) {\n",
    "      \n",
    "    # Unpack parameters (used at every time step)\n",
    "    trans_input <- params$trans_input\n",
    "    simulation_years <- params$simulation_years\n",
    "    simulator <- params$simulator\n",
    "    stages <- params$stages\n",
    "    populations <- params$populations\n",
    "    region_indices <- params$region_indices\n",
    "    tm <- params$tm # timestep\n",
    "    sa <- params$stage_abundance\n",
    "    disease_timestep<-params$disease_timestep\n",
    "    disease_cell<-params$disease_cell\n",
    "    transmission_rate<-params$transmission_rate\n",
    "    progression_rate<-params$progression_rate\n",
    "    mortality_rate<-params$mortality_rate\n",
    "    prob_threshold<-params$prob_threshold\n",
    "    new_prob<-params$new_prob\n",
    "    jump_num<-params$jump_num\n",
    "      \n",
    "    ####################################################\n",
    "      \n",
    "    #initialize variables\n",
    "    new_sa <- array(sa, c(stages, populations))\n",
    "    intro_timesteps=2:simulation_years\n",
    "      \n",
    "    #exclude infants\n",
    "    infant_row=new_sa[1,]\n",
    "    new_sa=new_sa[-1,]\n",
    "    total_abun=colSums(new_sa) \n",
    "      \n",
    "    ####################################################\n",
    "    \n",
    "    # initialize summary metric\n",
    "    if (tm == 1) { \n",
    "      simulator$results$susceptible <- array(0, c(length(region_indices), params$time_steps))\n",
    "      simulator$results$exposed <- array(0, c(length(region_indices), params$time_steps))\n",
    "      simulator$results$infected <- array(0, c(length(region_indices), params$time_steps))\n",
    "      simulator$results$mortality <- array(0, c(length(region_indices), params$time_steps))\n",
    "      simulator$results$population <- array(0, c(length(region_indices), params$time_steps)) \n",
    "      simulator$results$infants <- array(0, c(length(region_indices), params$time_steps))       \n",
    "      simulator$results$susceptible[,tm]=total_abun\n",
    "      simulator$results$population[,tm]=total_abun   \n",
    "    }\n",
    "    simulator$results$infants[,tm]=infant_row\n",
    "      \n",
    "    ####################################################\n",
    "      \n",
    "    # apply natural life and death to sei     \n",
    "    if (tm>1){\n",
    "        \n",
    "    #initialize summary metrics\n",
    "    natural_death=total_abun-simulator$results$population[,tm-1]\n",
    "    natural_life=total_abun-simulator$results$population[,tm-1]\n",
    "    simulator$results$susceptible[,tm]=simulator$results$susceptible[,tm-1]\n",
    "    simulator$results$exposed[,tm]=simulator$results$exposed[,tm-1]\n",
    "    simulator$results$infected[,tm]=simulator$results$infected[,tm-1]\n",
    "        \n",
    "    #natural increase comes from infants to adults\n",
    "    #only susceptible increases\n",
    "    natural_death[natural_death>0]=0\n",
    "    natural_life[natural_life<0]=0    \n",
    "      \n",
    "    #proportionally apply natural death into sei\n",
    "    s_now=simulator$results$susceptible[,tm]+natural_life\n",
    "    e_now=simulator$results$exposed[,tm]\n",
    "    i_now=simulator$results$infected[,tm]\n",
    "    s_num=round(s_now/total_abun*natural_death)\n",
    "    e_num=round(e_now/total_abun*natural_death)\n",
    "    i_num=round(i_now/total_abun*natural_death)\n",
    "    \n",
    "    #rounding error add back\n",
    "    rounding_error=natural_death-s_num-e_num-i_num      \n",
    "    s_num=s_num+rounding_error\n",
    "      \n",
    "    #rounding error does not cause sei into negative\n",
    "    s_now=s_now+s_num\n",
    "    if (length(s_now[s_now<0])>0){\n",
    "        rounding_passon=s_now\n",
    "        s_now[s_now<0]=0\n",
    "        rounding_passon[rounding_passon>0]=0\n",
    "        e_num=e_num+rounding_passon\n",
    "    }\n",
    "    e_now=e_now+e_num\n",
    "    if (length(e_now[e_now<0])>0){\n",
    "        rounding_passon=e_now\n",
    "        e_now[e_now<0]=0\n",
    "        rounding_passon[rounding_passon>0]=0\n",
    "        i_num=i_num+rounding_passon\n",
    "    }\n",
    "    i_now=i_now+i_num\n",
    "      \n",
    "    #update sei\n",
    "    simulator$results$susceptible[,tm]=s_now\n",
    "    simulator$results$exposed[,tm]=e_now\n",
    "    simulator$results$infected[,tm]=i_now\n",
    "    }\n",
    "    \n",
    "    \n",
    "    ####################################################\n",
    "      \n",
    "    # work on mortality and infected transition first\n",
    "    if (tm>disease_timestep){\n",
    "        \n",
    "        #infected converted to dead\n",
    "        mortality_new=ceiling(simulator$results$infected[,tm]*mortality_rate)\n",
    "        simulator$results$mortality[,tm]=mortality_new\n",
    "        simulator$results$infected[,tm]=simulator$results$infected[,tm]-mortality_new    \n",
    "        \n",
    "        #brute force to insert death into age groups from oldest to youngest\n",
    "        itr_rownum=nrow(new_sa)\n",
    "        while (itr_rownum>0)\n",
    "            {\n",
    "            new_sa[itr_rownum,]=new_sa[itr_rownum,]-mortality_new\n",
    "            if (length(new_sa[new_sa<0])>0)\n",
    "                {\n",
    "                mortality_new=new_sa[itr_rownum,]\n",
    "                new_sa[new_sa<0]=0\n",
    "                mortality_new[mortality_new>0]=0\n",
    "                mortality_new[mortality_new<0]=-mortality_new[mortality_new<0]\n",
    "                itr_rownum=itr_rownum-1\n",
    "            } else {\n",
    "                break\n",
    "            }\n",
    "        }      \n",
    "        total_abun=colSums(new_sa)\n",
    "        simulator$results$population[,tm]=total_abun\n",
    "        \n",
    "        ####################################################\n",
    "        \n",
    "        #exposed converted to infected\n",
    "        infected_new=ceiling(simulator$results$exposed[,tm]*progression_rate)\n",
    "        simulator$results$exposed[,tm]=simulator$results$exposed[,tm]-infected_new\n",
    "        simulator$results$infected[,tm]=simulator$results$infected[,tm]+infected_new\n",
    "        \n",
    "        ####################################################        \n",
    "        \n",
    "        #update susceptible\n",
    "        simulator$results$susceptible[,tm]=total_abun-simulator$results$infected[,tm]-simulator$results$exposed[,tm]\n",
    "        \n",
    "    }\n",
    "          \n",
    "    ####################################################\n",
    "      \n",
    "    # dispersal at timestep\n",
    "    if (tm %in% intro_timesteps) {\n",
    "        \n",
    "        \n",
    "        ####################################################\n",
    "        \n",
    "        # levy flight long distance dispersal jump\n",
    "        levy_flight=data.frame(trans_input)\n",
    "        \n",
    "        #Find rows where dispersal_rate < prob_threshold\n",
    "        rows_to_change <- which(levy_flight$dispersal_rate < prob_threshold)\n",
    "\n",
    "        #Randomly sample rows (or fewer if there are not enough rows)\n",
    "        sampled_rows <- sample(rows_to_change, size = min(jump_num, length(rows_to_change)))\n",
    "\n",
    "        #Update the dispersal_rate for those sampled rows to new_prob\n",
    "        levy_flight$dispersal_rate[sampled_rows] <- new_prob\n",
    "        \n",
    "        ####################################################\n",
    "        \n",
    "        # Group by 'source_pop' and sum the groups\n",
    "        groupaggr <- aggregate(. ~ source_pop, data = levy_flight, FUN = sum)\n",
    "        \n",
    "        # Generate random values and add a new column 'rand'\n",
    "        groupaggr$rand <- runif(nrow(groupaggr))\n",
    "\n",
    "        # Add a 'signal' column based on the condition\n",
    "        groupaggr$signal <- ifelse(groupaggr$rand < groupaggr$dispersal_rate, 1, 0)\n",
    "\n",
    "        # Filter the original DataFrame based on the 'signal' column in 'groupaggr'\n",
    "        signal_populations <- groupaggr[groupaggr$signal == 1, \"source_pop\"]\n",
    "        move_data <- levy_flight[levy_flight$source_pop %in% signal_populations, ]     \n",
    "        \n",
    "        #get dispersal population based on dispersal rate\n",
    "        values=total_abun[signal_populations]\n",
    "        keys=signal_populations\n",
    "        my_dict <- setNames(as.list(values), keys)\n",
    "        move_data$abund=my_dict[as.character(move_data$source_pop)]    \n",
    "        move_data$abund=as.integer(move_data$abund)\n",
    "        move_data$disper=as.integer(move_data$abund*move_data$dispersal_rate)\n",
    "        move_data=move_data[move_data$disper!=0,]\n",
    "        \n",
    "        ####################################################\n",
    "\n",
    "        #dispersal is valid\n",
    "        if (nrow(move_data)!=0) {        \n",
    "\n",
    "            #update age group with dispersal\n",
    "            for (i in 1:nrow(move_data)) {\n",
    "\n",
    "                # get index of from and to\n",
    "                ind_to <- move_data[i, \"target_pop\"]\n",
    "                ind_from <- move_data[i, \"source_pop\"]\n",
    "\n",
    "                #ratio for allocation to different age group\n",
    "                stage_weights=new_sa[,ind_from]/total_abun[ind_from]                \n",
    "                change_sa=matrix(round(move_data[i,\"disper\"]*stage_weights),nrow=nrow(new_sa))  \n",
    "\n",
    "                #rounding error add back\n",
    "                rounding_error=move_data[i,\"disper\"]-sum(change_sa) \n",
    "                \n",
    "                #brute force to add rounding errors into age groups from oldest to youngest\n",
    "                itr_rownum=nrow(change_sa)\n",
    "                while (itr_rownum>0)\n",
    "                    {\n",
    "                    change_sa[itr_rownum,]=change_sa[itr_rownum,]+rounding_error\n",
    "                    if (change_sa[itr_rownum,]<0 | new_sa[itr_rownum,ind_from]<change_sa[itr_rownum,])\n",
    "                        {\n",
    "                        rounding_error=change_sa[itr_rownum,]\n",
    "                        change_sa[itr_rownum,]=0\n",
    "                        itr_rownum=itr_rownum-1\n",
    "                    } else {\n",
    "                        break\n",
    "                    }\n",
    "                }                      \n",
    "                \n",
    "                #update age group\n",
    "                new_sa[,ind_from]=new_sa[,ind_from]-change_sa\n",
    "                new_sa[,ind_to]=new_sa[,ind_to]+change_sa\n",
    "                total_abun=colSums(new_sa)  \n",
    "                simulator$results$population[,tm]=total_abun\n",
    "                \n",
    "                ###########################################################\n",
    "\n",
    "                #update sei with dispersal\n",
    "                if (tm>disease_timestep){\n",
    "\n",
    "                #get sei proportion of the dispersal\n",
    "                susceptible_ratio=simulator$results$susceptible[ind_from,tm]/total_abun[ind_from]\n",
    "                exposed_ratio=simulator$results$exposed[ind_from,tm]/total_abun[ind_from]\n",
    "                infected_ratio=simulator$results$infected[ind_from,tm]/total_abun[ind_from]    \n",
    "                s_num=round(move_data[i,\"disper\"]*susceptible_ratio)\n",
    "                e_num=round(move_data[i,\"disper\"]*exposed_ratio)\n",
    "                i_num=round(move_data[i,\"disper\"]*infected_ratio)                    \n",
    "\n",
    "                #rounding error add back\n",
    "                rounding_error=move_data[i,\"disper\"]-s_num-e_num-i_num\n",
    "                if (s_num+rounding_error<0){\n",
    "                    rounding_error=s_num+rounding_error                \n",
    "                    s_num=0\n",
    "                    if (e_num+rounding_error<0){\n",
    "                        rounding_error=e_num+rounding_error\n",
    "                        e_num=0\n",
    "                        i_num=i_num+rounding_error\n",
    "                    } else {\n",
    "                        e_num=e_num+rounding_error\n",
    "                    }\n",
    "                } else {\n",
    "                    s_num=s_num+rounding_error\n",
    "                }\n",
    "                    \n",
    "                #add dispersal to sei dataset            \n",
    "                if (simulator$results$susceptible[ind_from,tm]<s_num){\n",
    "                    e_num=e_num+simulator$results$susceptible[ind_from,tm]-s_num\n",
    "                    s_num=simulator$results$susceptible[ind_from,tm]\n",
    "                    simulator$results$susceptible[ind_from,tm]=0\n",
    "                } else {\n",
    "                    simulator$results$susceptible[ind_from,tm]=simulator$results$susceptible[ind_from,tm]-s_num\n",
    "                }\n",
    "                if (simulator$results$exposed[ind_from,tm]<e_num){\n",
    "                    i_num=i_num+simulator$results$exposed[ind_from,tm]-e_num\n",
    "                    e_num=simulator$results$exposed[ind_from,tm]\n",
    "                    simulator$results$exposed[ind_from,tm]=0\n",
    "                } else {\n",
    "                    simulator$results$exposed[ind_from,tm]=simulator$results$exposed[ind_from,tm]-e_num\n",
    "                }    \n",
    "                simulator$results$infected[ind_from,tm]=simulator$results$infected[ind_from,tm]-i_num\n",
    "                simulator$results$susceptible[ind_to,tm]=simulator$results$susceptible[ind_to,tm]+s_num\n",
    "                simulator$results$exposed[ind_to,tm]=simulator$results$exposed[ind_to,tm]+e_num  \n",
    "                simulator$results$infected[ind_to,tm]=simulator$results$infected[ind_to,tm]+i_num \n",
    "                    \n",
    "                ###########################################################\n",
    "            \n",
    "                #check if infected disperses\n",
    "                if (i_num>0){\n",
    "                    exposed_new=round(transmission_rate*i_num*simulator$results$susceptible[ind_to,tm])\n",
    "                    \n",
    "                    #check if exposed is created then add exposed and subtract susceptible\n",
    "                    if (exposed_new>0){\n",
    "\n",
    "                        #check if new exposed exceeds susceptible\n",
    "                        if (exposed_new>simulator$results$susceptible[ind_to,tm]){\n",
    "                            exposed_new=simulator$results$susceptible[ind_to,tm]                  \n",
    "                        } \n",
    "                        simulator$results$exposed[ind_to,tm]=simulator$results$exposed[ind_to,tm]+exposed_new\n",
    "                        simulator$results$susceptible[ind_to,tm]=simulator$results$susceptible[ind_to,tm]-exposed_new}\n",
    "                    }\n",
    "                }\n",
    "            }\n",
    "        }\n",
    "    }\n",
    "            \n",
    "        \n",
    "    ###########################################################\n",
    "        \n",
    "    #calc summary metrics before disease       \n",
    "    if (tm>0 && tm<=disease_timestep){\n",
    "        simulator$results$population[,tm]=total_abun\n",
    "        simulator$results$susceptible[,tm]=total_abun   \n",
    "        } \n",
    "      \n",
    "    ###########################################################\n",
    "        \n",
    "    #calc summary metrics at the start of disease     \n",
    "    if (tm==disease_timestep) {\n",
    "        \n",
    "        simulator$results$infected[disease_cell,tm]=simulator$results$susceptible[disease_cell,tm]          \n",
    "        simulator$results$susceptible[disease_cell,tm]=0\n",
    "        }\n",
    "      \n",
    "    ###########################################################\n",
    "        \n",
    "\n",
    "    return(rbind(infant_row, new_sa))\n",
    "  }\n",
    ")"
   ]
  },
  {
   "cell_type": "code",
   "execution_count": 121,
   "id": "b1425406",
   "metadata": {},
   "outputs": [],
   "source": [
    "translocation_aliases = list(trans_input = \"translocation$trans_input\",\n",
    "                              simulation_years=\"translocation$simulation_years\",\n",
    "                              region_indices = \"translocation$region_indices\",\n",
    "                              transmission_rate=\"translocation$transmission_rate\",\n",
    "                              progression_rate=\"translocation$progression_rate\",\n",
    "                              mortality_rate=\"translocation$mortality_rate\",\n",
    "                              disease_cell=\"translocation$disease_cell\",\n",
    "                              disease_timestep=\"translocation$disease_timestep\",\n",
    "                              prob_threhsold=\"translocation$prob_threhsold\",\n",
    "                              new_prob=\"translocation$new_prob\",\n",
    "                              jump_num=\"translocation$jump_num\")"
   ]
  },
  {
   "cell_type": "markdown",
   "id": "a4b51609",
   "metadata": {},
   "source": [
    "### Testing Setup"
   ]
  },
  {
   "cell_type": "code",
   "execution_count": 122,
   "id": "dd5de372",
   "metadata": {},
   "outputs": [],
   "source": [
    "stage_matrix=stage_matrix_gen$generate(input_values = list(\n",
    "  initial_n = initial_population,\n",
    "  density_max = maxden\n",
    "))$stage_matrix"
   ]
  },
  {
   "cell_type": "code",
   "execution_count": 123,
   "id": "be81452b",
   "metadata": {},
   "outputs": [],
   "source": [
    "model_template <- PopulationModel$new(region = region,\n",
    "                                      time_steps = simulation_years, # years\n",
    "                                      populations = region$region_cells, \n",
    "                                      years_per_step = simulation_intervals,\n",
    "                                      stages = nrow(stage_matrix),\n",
    "                                      stage_matrix = stage_matrix,\n",
    "                                      demographic_stochasticity = FALSE,\n",
    "                                      #standard_deviation = 0.01,\n",
    "                                      correlation = correlation,\n",
    "                                      density_dependence = \"logistic\",\n",
    "                                      results_selection = c(\"abundance\",\"abundance_stages\"),\n",
    "                                      translocation = translocation,\n",
    "                                      simulation_order = c(\"transition\", \"dispersal\",  \"translocation\",\"results\"),\n",
    "                                      attribute_aliases = translocation_aliases\n",
    "                                     )"
   ]
  },
  {
   "cell_type": "code",
   "execution_count": 124,
   "id": "1078dc6d",
   "metadata": {},
   "outputs": [],
   "source": [
    "example=capacity_gen$generate()"
   ]
  },
  {
   "cell_type": "code",
   "execution_count": 125,
   "id": "6ec14e6e",
   "metadata": {
    "scrolled": true
   },
   "outputs": [],
   "source": [
    "model <- model_template$clone()\n",
    "model$set_attributes(initial_abundance=example$initial_abundance,\n",
    "                     carrying_capacity=example$carrying_capacity,           \n",
    "                     translocation = translocation,random_seed = 20230210)\n",
    "# run poems simulator\n",
    "results <- population_simulator(model)"
   ]
  },
  {
   "cell_type": "code",
   "execution_count": 126,
   "id": "d7075730",
   "metadata": {
    "scrolled": false
   },
   "outputs": [
    {
     "data": {
      "text/html": [
       "TRUE"
      ],
      "text/latex": [
       "TRUE"
      ],
      "text/markdown": [
       "TRUE"
      ],
      "text/plain": [
       "[1] TRUE"
      ]
     },
     "metadata": {},
     "output_type": "display_data"
    }
   ],
   "source": [
    "all(results$population+results$infants==results$abundance)"
   ]
  },
  {
   "cell_type": "code",
   "execution_count": 127,
   "id": "c7a65f6d",
   "metadata": {
    "scrolled": true
   },
   "outputs": [
    {
     "data": {
      "text/html": [
       "TRUE"
      ],
      "text/latex": [
       "TRUE"
      ],
      "text/markdown": [
       "TRUE"
      ],
      "text/plain": [
       "[1] TRUE"
      ]
     },
     "metadata": {},
     "output_type": "display_data"
    }
   ],
   "source": [
    "all(results$susceptible+results$exposed+results$infected==results$population)"
   ]
  },
  {
   "cell_type": "code",
   "execution_count": 128,
   "id": "72cd174b",
   "metadata": {},
   "outputs": [
    {
     "data": {
      "image/png": "[encoded data removed]",
      "text/plain": [
       "Plot with title \"Simulation of DFT1 epidemiological dynamics\""
      ]
     },
     "metadata": {
      "image/png": {
       "height": 420,
       "width": 420
      }
     },
     "output_type": "display_data"
    }
   ],
   "source": [
    "plot(1:simulation_years, colSums(results$susceptible), type = \"l\", col = \"green\", lwd = 2, ylim = c(0, 23000),\n",
    "    main=\"Simulation of DFT1 epidemiological dynamics\",xaxt=\"n\",xlab=\"Year\", ylab=\"Population\")\n",
    "lines(1:simulation_years, colSums(results$exposed), col = \"blue\", lwd = 2, )\n",
    "lines(1:simulation_years, colSums(results$infected), col = \"orange\", lwd = 2, )\n",
    "lines(1:simulation_years, colSums(results$mortality), col = \"red\", lwd = 2, )\n",
    "legend(\"topright\", legend = c(\"susceptible\", \"exposed\", \"infected\", \"mortality\"), \n",
    "       col = c(\"green\", \"blue\", \"orange\",\"red\"), lty = 1, lwd = 2)\n",
    "axis(1, at=c(0, 10, 20, 30, 40), labels=c(1985,1995,2005,2015,2025))"
   ]
  },
  {
   "cell_type": "code",
   "execution_count": 129,
   "id": "f5f5610f",
   "metadata": {},
   "outputs": [
    {
     "data": {
      "text/html": [
       "<style>\n",
       ".list-inline {list-style: none; margin:0; padding: 0}\n",
       ".list-inline>li {display: inline-block}\n",
       ".list-inline>li:not(:last-child)::after {content: \"\\00b7\"; padding: 0 .5ex}\n",
       "</style>\n",
       "<ol class=list-inline><li>0</li><li>0</li><li>0</li><li>0</li><li>0</li><li>0</li><li>0</li><li>0</li><li>0</li><li>38</li><li>22</li><li>13</li><li>59</li><li>45</li><li>208</li><li>318</li><li>387</li><li>851</li><li>1806</li><li>2953</li><li>4239</li><li>5641</li><li>6430</li><li>6714</li><li>6510</li><li>6130</li><li>5567</li><li>5119</li><li>4287</li><li>3562</li><li>2836</li><li>2256</li><li>1854</li><li>1795</li><li>1832</li><li>2145</li><li>2878</li><li>3878</li><li>4606</li><li>5513</li></ol>\n"
      ],
      "text/latex": [
       "\\begin{enumerate*}\n",
       "\\item 0\n",
       "\\item 0\n",
       "\\item 0\n",
       "\\item 0\n",
       "\\item 0\n",
       "\\item 0\n",
       "\\item 0\n",
       "\\item 0\n",
       "\\item 0\n",
       "\\item 38\n",
       "\\item 22\n",
       "\\item 13\n",
       "\\item 59\n",
       "\\item 45\n",
       "\\item 208\n",
       "\\item 318\n",
       "\\item 387\n",
       "\\item 851\n",
       "\\item 1806\n",
       "\\item 2953\n",
       "\\item 4239\n",
       "\\item 5641\n",
       "\\item 6430\n",
       "\\item 6714\n",
       "\\item 6510\n",
       "\\item 6130\n",
       "\\item 5567\n",
       "\\item 5119\n",
       "\\item 4287\n",
       "\\item 3562\n",
       "\\item 2836\n",
       "\\item 2256\n",
       "\\item 1854\n",
       "\\item 1795\n",
       "\\item 1832\n",
       "\\item 2145\n",
       "\\item 2878\n",
       "\\item 3878\n",
       "\\item 4606\n",
       "\\item 5513\n",
       "\\end{enumerate*}\n"
      ],
      "text/markdown": [
       "1. 0\n",
       "2. 0\n",
       "3. 0\n",
       "4. 0\n",
       "5. 0\n",
       "6. 0\n",
       "7. 0\n",
       "8. 0\n",
       "9. 0\n",
       "10. 38\n",
       "11. 22\n",
       "12. 13\n",
       "13. 59\n",
       "14. 45\n",
       "15. 208\n",
       "16. 318\n",
       "17. 387\n",
       "18. 851\n",
       "19. 1806\n",
       "20. 2953\n",
       "21. 4239\n",
       "22. 5641\n",
       "23. 6430\n",
       "24. 6714\n",
       "25. 6510\n",
       "26. 6130\n",
       "27. 5567\n",
       "28. 5119\n",
       "29. 4287\n",
       "30. 3562\n",
       "31. 2836\n",
       "32. 2256\n",
       "33. 1854\n",
       "34. 1795\n",
       "35. 1832\n",
       "36. 2145\n",
       "37. 2878\n",
       "38. 3878\n",
       "39. 4606\n",
       "40. 5513\n",
       "\n",
       "\n"
      ],
      "text/plain": [
       " [1]    0    0    0    0    0    0    0    0    0   38   22   13   59   45  208\n",
       "[16]  318  387  851 1806 2953 4239 5641 6430 6714 6510 6130 5567 5119 4287 3562\n",
       "[31] 2836 2256 1854 1795 1832 2145 2878 3878 4606 5513"
      ]
     },
     "metadata": {},
     "output_type": "display_data"
    }
   ],
   "source": [
    "colSums(results$infected)"
   ]
  },
  {
   "cell_type": "code",
   "execution_count": 130,
   "id": "061b5aff",
   "metadata": {},
   "outputs": [
    {
     "data": {
      "text/html": [
       "648"
      ],
      "text/latex": [
       "648"
      ],
      "text/markdown": [
       "648"
      ],
      "text/plain": [
       "[1] 648"
      ]
     },
     "metadata": {},
     "output_type": "display_data"
    }
   ],
   "source": [
    "length(unique(which(results$infected != 0, arr.ind = TRUE)[,1]))"
   ]
  },
  {
   "cell_type": "markdown",
   "id": "61c49a94",
   "metadata": {},
   "source": [
    "Note that there is no dispersal rate between cells 1 and 2 as there is \"water\" between \n",
    "those cells, and consequently dispersal between those cells must travel around the \n",
    "U-shaped island, which can't be achieved in one simulation time-step since the \"round\" \n",
    "distance between those cells is greater than 3000 m.\n",
    "\n",
    "### Step 3: Sample model and generator parameters for each simulation\n",
    "In order to explore the model parameter space to find the best models, we generate\n",
    "Latin hypercube samples of model and generator parameters to be simulated, using the\n",
    "*LatinHypercubeSampler* class. This class has functionality for generating sample\n",
    "parameters via Uniform, Normal, Lognormal, Beta, and Triangular distributions.\n",
    "For our example we only generate 12 samples. We encourage the user to generate hundreds,\n",
    "or thousands, of samples."
   ]
  },
  {
   "cell_type": "code",
   "execution_count": 31,
   "id": "015f655c",
   "metadata": {},
   "outputs": [],
   "source": [
    "setwd('C:/Users/tm/Downloads/utas/thesis/chapter2/tasmania/poems')"
   ]
  },
  {
   "cell_type": "code",
   "execution_count": 32,
   "id": "25da1402",
   "metadata": {},
   "outputs": [],
   "source": [
    "# Generate sampled values for variable model parameters via LHS\n",
    "lhs_gen <- LatinHypercubeSampler$new()\n",
    "lhs_gen$set_class_parameter(\"dispersal_p\",c(0.01,0.0,0.0,0.0))\n",
    "lhs_gen$set_class_parameter(\"dispersal_b\",c(700,701))\n",
    "lhs_gen$set_uniform_parameter(\"transmission_rate\", lower = 0.4, upper = 1.00, decimals = 2)\n",
    "lhs_gen$set_uniform_parameter(\"progression_rate\", lower = 0.4, upper = 1.00, decimals = 2)\n",
    "lhs_gen$set_uniform_parameter(\"mortality_rate\", lower = 0.4, upper = 1.00, decimals = 2)\n",
    "lhs_gen$set_uniform_parameter(\"disease_timestep\", lower = 5, upper = simulation_years-20, decimals = 0)\n",
    "lhs_gen$set_uniform_parameter(\"disease_cell\", lower = 1, upper = length(region$region_indices), decimals = 0)\n",
    "lhs_gen$set_uniform_parameter(\"prob_threshold\", lower = quantile(trans_input$dispersal_rate, 0.4),\n",
    "                              upper = quantile(trans_input$dispersal_rate, 0.9), decimals = 6)\n",
    "lhs_gen$set_uniform_parameter(\"new_prob\", lower = 0.01, upper = max(trans_input$dispersal_rate), decimals = 3)\n",
    "lhs_gen$set_uniform_parameter(\"jump_num\", lower = 50, upper = 500, decimals = 0)\n",
    "sample_data <- lhs_gen$generate_samples(number = num_of_sims, random_seed = 123)\n",
    "\n",
    "#save as pickle\n",
    "save(sample_data, file=\"sample data.Rda\")"
   ]
  },
  {
   "cell_type": "markdown",
   "id": "01d3a46a",
   "metadata": {},
   "source": [
    "### Step 4: Build a simulation manager to run each simulation\n",
    "We now wish to run a simulation for each set (or row) of sampled parameters. The\n",
    "*SimulationManager* class manages the generation of parameters (via the generators),\n",
    "the running the model simulations, and writing simulation results to disk. It also\n",
    "maintains a log of each simulation's success and any errors or warnings encountered."
   ]
  },
  {
   "cell_type": "code",
   "execution_count": 33,
   "id": "07a9b806",
   "metadata": {},
   "outputs": [
    {
     "data": {
      "text/html": [
       "'10000 of 10000 sample models ran and saved results successfully'"
      ],
      "text/latex": [
       "'10000 of 10000 sample models ran and saved results successfully'"
      ],
      "text/markdown": [
       "'10000 of 10000 sample models ran and saved results successfully'"
      ],
      "text/plain": [
       "[1] \"10000 of 10000 sample models ran and saved results successfully\""
      ]
     },
     "metadata": {},
     "output_type": "display_data"
    }
   ],
   "source": [
    "# Create a simulation manager and run the sampled model simulations\n",
    "sim_manager <- SimulationManager$new(sample_data = sample_data,\n",
    "                                     model_template = model_template,\n",
    "                                     generators = list(capacity_gen, dispersal_gen),\n",
    "                                     parallel_cores = 6,\n",
    "                                     results_dir = OUTPUT_DIR)\n",
    "run_output <- sim_manager$run(results_dir = tempdir())\n",
    "run_output$summary"
   ]
  },
  {
   "cell_type": "markdown",
   "id": "36d1000b",
   "metadata": {},
   "source": [
    "Note that the output directory contains a R-data result files for each sample simulation\n",
    "and a simulation log file.\n",
    "\n",
    "### Step 5: Build a results manager to generate summary results (metrics)\n",
    "We now wish to collate summary results for each of our simulations via the \n",
    "*ResultsManager* class. This manager loads the results from each sample simulation into\n",
    "an intermediate *PopulationResults* class object, which dynamically generates further \n",
    "results. We need to define functions for calculating summary metrics, as well as any \n",
    "matrices (one row of values per simulation) that we may be interested in examining. Each\n",
    "metric (or matrix) is associated with a user-defined function that utilizes results object \n",
    "attributes, or alternatively direct access to an attribute may be defined via a string.\n",
    "Once generated, the result metrics (a data frame) and/or matrices (a list) can be \n",
    "accessed via the manager. We may utilize the collated results in a variety of ways. \n",
    "However, with the objective of selecting the best models, we wish to compare (or \n",
    "validate) these result metrics to (with) known or desired target patterns (in step 6)."
   ]
  },
  {
   "cell_type": "code",
   "execution_count": 34,
   "id": "adcd5483",
   "metadata": {
    "scrolled": true
   },
   "outputs": [
    {
     "data": {
      "text/html": [
       "'0 of 10000 summary metrics/matrices generated from sample results successfully'"
      ],
      "text/latex": [
       "'0 of 10000 summary metrics/matrices generated from sample results successfully'"
      ],
      "text/markdown": [
       "'0 of 10000 summary metrics/matrices generated from sample results successfully'"
      ],
      "text/plain": [
       "[1] \"0 of 10000 summary metrics/matrices generated from sample results successfully\""
      ]
     },
     "metadata": {},
     "output_type": "display_data"
    }
   ],
   "source": [
    "results_manager <- ResultsManager$new(simulation_manager = sim_manager,\n",
    "                                      simulation_results = PopulationResults$new(results = run_output),\n",
    "                                      summary_metrics = paste0(\"p\", 1:length(rownames(valid_all))),\n",
    "                                      summary_matrices = c(\"n\",'susceptible','exposed',\"infected\", \"mortality\"),\n",
    "                                      summary_functions = list(\n",
    "                                        susceptible = function(results) {\n",
    "                                         results$get_attribute(\"susceptible\")}\n",
    "                                        ,\n",
    "                                        exposed = function(results) {\n",
    "                                         results$get_attribute(\"exposed\")}\n",
    "                                        ,\n",
    "                                        infected = function(results) {\n",
    "                                         results$get_attribute(\"infected\")}\n",
    "                                        ,\n",
    "                                        mortality = function(results) {\n",
    "                                         results$get_attribute(\"mortality\")}\n",
    "                                        ,\n",
    "                                        n = \"abundance\"),\n",
    "                                      parallel_cores = 6)\n",
    "gen_output <- results_manager$generate()\n",
    "gen_output$summary"
   ]
  },
  {
   "cell_type": "code",
   "execution_count": 35,
   "id": "2573d5c4",
   "metadata": {},
   "outputs": [],
   "source": [
    "#all sites\n",
    "tid=valid_all$year-baseyear\n",
    "sid=identity_all\n",
    "raw_mat=results_manager$summary_matrix_list$n\n",
    "\n",
    "#find validation target in abundance matrix\n",
    "valid_target <- matrix(ncol = length(rownames(valid_all)), nrow = num_of_sims)  \n",
    "for (i in 1:length(rownames(valid_all))) {\n",
    "  valid_target[,i] <- raw_mat[,(tid[i]-1)*length(landarea)+sid[i]]}\n",
    "results_manager$summary_metric_data[paste0(\"p\", 1:length(rownames(valid_all)))]=valid_target"
   ]
  },
  {
   "cell_type": "code",
   "execution_count": 36,
   "id": "35705c2e",
   "metadata": {},
   "outputs": [],
   "source": [
    "#disease sites\n",
    "tid=valid_disease$year-baseyear\n",
    "sid=identity_disease\n",
    "s_mat=results_manager$summary_matrix_list$susceptible\n",
    "e_mat=results_manager$summary_matrix_list$exposed\n",
    "i_mat=results_manager$summary_matrix_list$infected\n",
    "\n",
    "i_mat=results_manager$summary_matrix_list$infected\n",
    "\n",
    "#find validation target in abundance matrix\n",
    "valid_target <- matrix(ncol = length(rownames(valid_disease)), nrow = num_of_sims)  \n",
    "for (i in 1:length(rownames(valid_disease))) {\n",
    "  valid_target[,i] <- i_mat[,(tid[i]-1)*length(landarea)+sid[i]]/(\n",
    "      s_mat[,(tid[i]-1)*length(landarea)+sid[i]]+e_mat[\n",
    "          ,(tid[i]-1)*length(landarea)+sid[i]]+i_mat[,(tid[i]-1)*length(landarea)+sid[i]])\n",
    "}\n",
    "results_manager$summary_metric_data[paste0(\"rho\", 1:length(rownames(valid_disease)))]=valid_target"
   ]
  },
  {
   "cell_type": "code",
   "execution_count": 37,
   "id": "ccc983aa",
   "metadata": {},
   "outputs": [],
   "source": [
    "#save as pickle\n",
    "save(results_manager, file=\"models.Rda\")"
   ]
  },
  {
   "cell_type": "markdown",
   "id": "c19bd8b6",
   "metadata": {},
   "source": [
    "### Step 6: Build a validator to select a model ensemble\n",
    "We now select and analyze our 'best' models via a *Validator* class object, which by\n",
    "default utilizes an approximate Bayesian computation (ABC) approach (Beaumont, Zhang, \n",
    "& Balding, 2002) provided by the *abc* library (Csillery et al., 2015). The validator\n",
    "can be configured appropriately for a problem domain (see the *abc* documentation). \n",
    "Here we use the default configuration to select the best 3 models, along with a weight\n",
    "value, which is indicative of the congruence between each model's summary metrics and \n",
    "the corresponding target patterns. Also provided (with the default settings) is a \n",
    "diagnostic output (PDF) file, containing statistical information for analyzing the \n",
    "contribution of model parameters in the selection/validation process (see the *abc* \n",
    "documentation). For our simple demonstration the metrics and corresponding targets are \n",
    "relatively trivial, having the aim of producing stable population abundances with high \n",
    "harvest. However, the package facilitates the use more complex spatio-temporal metrics \n",
    "and targets (demonstrated in more advanced vignettes)."
   ]
  },
  {
   "cell_type": "code",
   "execution_count": 38,
   "id": "270e02b2",
   "metadata": {},
   "outputs": [],
   "source": [
    "#load pickle files so no need to retrain\n",
    "load(\"models.Rda\")\n",
    "load(\"sample data.Rda\")"
   ]
  },
  {
   "cell_type": "code",
   "execution_count": 39,
   "id": "712768f7",
   "metadata": {},
   "outputs": [],
   "source": [
    "#get population est\n",
    "obs_targets=valid_all$population\n",
    "names(obs_targets)=paste0(\"p\", 1:length(rownames(valid_all)))\n",
    "\n",
    "#female model\n",
    "obs_targets=as.integer(obs_targets/2)\n",
    "\n",
    "#add disease ratio\n",
    "obs_targets<-c(obs_targets,valid_disease$ratio)"
   ]
  },
  {
   "cell_type": "code",
   "execution_count": 40,
   "id": "aefc8c9e",
   "metadata": {},
   "outputs": [],
   "source": [
    "# zz=results_manager$summary_metric_data\n",
    "\n",
    "# random_columns <- sample(ncol(zz), 190)\n",
    "\n",
    "# # Subset the data frame using the selected columns\n",
    "# zz <- zz[, random_columns]\n",
    "\n",
    "# yy=obs_targets[random_columns]"
   ]
  },
  {
   "cell_type": "code",
   "execution_count": 41,
   "id": "fa8b1ca6",
   "metadata": {},
   "outputs": [],
   "source": [
    "summary_stats=results_manager$summary_metric_data[-1]\n",
    "\n",
    "pca_result <- prcomp(summary_stats, scale. = TRUE)  # scale. = TRUE to standardize the data\n",
    "\n",
    "# Step 2: Examine the proportion of variance explained by each component\n",
    "explained_variance <- summary(pca_result)$importance[2,]  # Proportion of variance for each PC\n",
    "\n",
    "# Step 3: Calculate the cumulative variance explained\n",
    "cumulative_variance <- cumsum(explained_variance)\n",
    "\n",
    "# Step 4: Find the number of components that explain at least 95% variance\n",
    "num_components <- which(cumulative_variance >= 0.95)[1]\n",
    "num_components=180\n",
    "summary_stats_reduced=pca_result$x[, 1:num_components]\n",
    "\n",
    "obs_stats=matrix(obs_targets, nrow = 1)\n",
    "colnames(obs_stats) = colnames(summary_stats)\n",
    "\n",
    "new_row_pca <- predict(pca_result, newdata =obs_stats)[, 1:num_components]"
   ]
  },
  {
   "cell_type": "code",
   "execution_count": 42,
   "id": "0df0cc47",
   "metadata": {
    "scrolled": true
   },
   "outputs": [
    {
     "name": "stdout",
     "output_type": "stream",
     "text": [
      "12345678910\n",
      "12345678910\n"
     ]
    },
    {
     "name": "stderr",
     "output_type": "stream",
     "text": [
      "Warning message:\n",
      "\"Validation function generated warning: All parameters are \"none\" transformed.\"\n"
     ]
    },
    {
     "data": {
      "text/html": [
       "'validation_diagnostics.pdf'"
      ],
      "text/latex": [
       "'validation\\_diagnostics.pdf'"
      ],
      "text/markdown": [
       "'validation_diagnostics.pdf'"
      ],
      "text/plain": [
       "[1] \"validation_diagnostics.pdf\""
      ]
     },
     "metadata": {},
     "output_type": "display_data"
    }
   ],
   "source": [
    "# Create a validator for selecting the 'best' example models\n",
    "validator <- Validator$new(simulation_parameters = sample_data,\n",
    "                           simulation_summary_metrics =\n",
    "                             summary_stats_reduced,\n",
    "                           observed_metric_targets = new_row_pca,\n",
    "                           output_dir = OUTPUT_DIR)\n",
    "validator$run(tolerance = 0.01, output_diagnostics = TRUE)\n",
    "dir(OUTPUT_DIR, \"*.pdf\") # plus validation diagnostics (see abc library documentation)"
   ]
  },
  {
   "cell_type": "markdown",
   "id": "a74f6be4",
   "metadata": {},
   "source": [
    "We encourage the user to examine the generated diagnostics (PDF) output file, and to\n",
    "become acquainted with the analysis that this information facilitates (see the *abc* \n",
    "documentation). As our simple example only uses two metrics/targets, we can visualize\n",
    "the congruence of the selected models with the targets via a simple plot."
   ]
  },
  {
   "cell_type": "code",
   "execution_count": 43,
   "id": "69b0f2b7",
   "metadata": {},
   "outputs": [],
   "source": [
    "#rescale weights as they dont sum up to one\n",
    "weights=validator$selected_simulations \n",
    "weights$weight=weights$weight/sum(weights$weight)"
   ]
  },
  {
   "cell_type": "code",
   "execution_count": 44,
   "id": "2c13113a",
   "metadata": {},
   "outputs": [],
   "source": [
    "#get posterior weighted avg, min and max\n",
    "selected_data=sample_data[weights$index,]\n",
    "\n",
    "posterior_max=sapply(selected_data, function(x) max(x, na.rm = TRUE))\n",
    "posterior_min=sapply(selected_data, function(x) min(x, na.rm = TRUE))\n",
    "posterior_p80=sapply(selected_data, function(x) quantile(x, probs = 0.80, na.rm = TRUE))                    \n",
    "posterior_p20=sapply(selected_data, function(x) quantile(x, probs = 0.20, na.rm = TRUE))\n",
    "posterior_mean=colSums(sample_data[weights$index,]*replicate(length(sample_data), weights$weight))\n",
    "\n",
    "#get prior avg, min and max\n",
    "prior_max=sapply(results_manager$sample_data, function(x) max(x, na.rm = TRUE))\n",
    "prior_min=sapply(results_manager$sample_data, function(x) min(x, na.rm = TRUE))\n",
    "prior_p80=sapply(results_manager$sample_data, function(x) quantile(x, probs = 0.80, na.rm = TRUE))\n",
    "prior_p20=sapply(results_manager$sample_data, function(x) quantile(x, probs = 0.20, na.rm = TRUE))\n",
    "prior_mean=sapply(results_manager$sample_data, function(x) mean(x, na.rm = TRUE))\n",
    "\n",
    "#create dataframe into a designated format\n",
    "prior <- data.frame(  \n",
    "    prior = paste(prior_mean, \n",
    "                   \"(\", prior_p20, \"-\",prior_p80, \")\") )\n",
    "\n",
    "posterior <- data.frame( posterior = paste(posterior_mean, \n",
    "                   \"(\", posterior_p20, \"-\",posterior_p80, \")\") )\n",
    "\n",
    "#add index column\n",
    "params_distrib=cbind(prior,posterior)\n",
    "row.names(params_distrib)=names(prior_mean)"
   ]
  },
  {
   "cell_type": "code",
   "execution_count": 50,
   "id": "f19b0f81",
   "metadata": {},
   "outputs": [],
   "source": [
    "#add %change from prior to posterior\n",
    "params_distrib$change=posterior_mean/prior_mean-1"
   ]
  },
  {
   "cell_type": "code",
   "execution_count": 51,
   "id": "aa59e289",
   "metadata": {},
   "outputs": [
    {
     "name": "stderr",
     "output_type": "stream",
     "text": [
      "Warning message:\n",
      "\"package 'BayesFactor' was built under R version 4.4.2\"\n",
      "Loading required package: coda\n",
      "\n",
      "Warning message:\n",
      "\"package 'coda' was built under R version 4.4.2\"\n",
      "Loading required package: Matrix\n",
      "\n",
      "************\n",
      "Welcome to BayesFactor 0.9.12-4.7. If you have questions, please contact Richard Morey (richarddmorey@gmail.com).\n",
      "\n",
      "Type BFManual() to open the manual.\n",
      "************\n",
      "\n"
     ]
    }
   ],
   "source": [
    "#install.packages(\"BayesFactor\")\n",
    "\n",
    "# Load the package\n",
    "library(BayesFactor)\n",
    "\n",
    "\n",
    "#test stats for distribution diff between prior and posterior\n",
    "pval=c()\n",
    "for (col_name in colnames(sample_data))\n",
    "{\n",
    "    # Perform the t-test using BayesFactor\n",
    "    bf_result <- ttestBF(x = sample_data[col_name][[1]], y = selected_data[col_name][[1]])\n",
    "\n",
    "    # Extract the Bayes Factor value\n",
    "    bf_value <- extractBF(bf_result)\n",
    "\n",
    "    pval=c(pval,bf_value$bf)\n",
    "}\n",
    "\n",
    "params_distrib$bayes=pval\n",
    "\n",
    "# #test stats for distribution diff between prior and posterior\n",
    "# pval=c()\n",
    "# for (col_name in colnames(sample_data))\n",
    "# {\n",
    "#     ks_test=ks.test(sample_data[col_name][[1]],selected_data[col_name][[1]])\n",
    "#     pval=c(pval,ks_test$p.value)\n",
    "# }"
   ]
  },
  {
   "cell_type": "code",
   "execution_count": 45,
   "id": "9fa71954",
   "metadata": {},
   "outputs": [
    {
     "data": {
      "text/html": [
       "'100 out of 10000'"
      ],
      "text/latex": [
       "'100 out of 10000'"
      ],
      "text/markdown": [
       "'100 out of 10000'"
      ],
      "text/plain": [
       "[1] \"100 out of 10000\""
      ]
     },
     "metadata": {},
     "output_type": "display_data"
    }
   ],
   "source": [
    "paste(length(rownames(selected_data)),\"out of\",num_of_sims)"
   ]
  },
  {
   "cell_type": "code",
   "execution_count": 52,
   "id": "65966d4c",
   "metadata": {},
   "outputs": [
    {
     "data": {
      "text/html": [
       "<table class=\"dataframe\">\n",
       "<caption>A data.frame: 8 × 4</caption>\n",
       "<thead>\n",
       "\t<tr><th></th><th scope=col>prior</th><th scope=col>posterior</th><th scope=col>change</th><th scope=col>bayes</th></tr>\n",
       "\t<tr><th></th><th scope=col>&lt;chr&gt;</th><th scope=col>&lt;chr&gt;</th><th scope=col>&lt;dbl&gt;</th><th scope=col>&lt;dbl&gt;</th></tr>\n",
       "</thead>\n",
       "<tbody>\n",
       "\t<tr><th scope=row>transmission_rate</th><td>0.699999 ( 0.52 - 0.88 )             </td><td>0.808576443684461 ( 0.608 - 0.94 )           </td><td> 0.15511086</td><td>1.349845e+02</td></tr>\n",
       "\t<tr><th scope=row>progression_rate</th><td>0.700002 ( 0.52 - 0.88 )             </td><td>0.758229447717037 ( 0.54 - 0.9 )             </td><td> 0.08318183</td><td>1.759824e-01</td></tr>\n",
       "\t<tr><th scope=row>mortality_rate</th><td>0.699996 ( 0.52 - 0.88 )             </td><td>0.478268939936261 ( 0.43 - 0.802 )           </td><td>-0.31675475</td><td>7.402064e+05</td></tr>\n",
       "\t<tr><th scope=row>disease_timestep</th><td>12.4998 ( 8 - 17 )                   </td><td>16.6899807769436 ( 11 - 19 )                 </td><td> 0.33521983</td><td>4.825359e+06</td></tr>\n",
       "\t<tr><th scope=row>disease_cell</th><td>325.5015 ( 131 - 520 )               </td><td>280.941554819424 ( 148.6 - 503.6 )           </td><td>-0.13689628</td><td>1.200513e-01</td></tr>\n",
       "\t<tr><th scope=row>prob_threshold</th><td>0.0042049963 ( 0.0017368 - 0.006674 )</td><td>0.00399168511061955 ( 0.0019414 - 0.0062482 )</td><td>-0.05072803</td><td>1.126262e-01</td></tr>\n",
       "\t<tr><th scope=row>new_prob</th><td>0.0465501 ( 0.025 - 0.068 )          </td><td>0.0652824634768085 ( 0.0528 - 0.079 )        </td><td> 0.40241296</td><td>1.395079e+14</td></tr>\n",
       "\t<tr><th scope=row>jump_num</th><td>274.9998 ( 140 - 410 )               </td><td>294.156574932923 ( 221.2 - 441 )             </td><td> 0.06966105</td><td>1.389679e+02</td></tr>\n",
       "</tbody>\n",
       "</table>\n"
      ],
      "text/latex": [
       "A data.frame: 8 × 4\n",
       "\\begin{tabular}{r|llll}\n",
       "  & prior & posterior & change & bayes\\\\\n",
       "  & <chr> & <chr> & <dbl> & <dbl>\\\\\n",
       "\\hline\n",
       "\ttransmission\\_rate & 0.699999 ( 0.52 - 0.88 )              & 0.808576443684461 ( 0.608 - 0.94 )            &  0.15511086 & 1.349845e+02\\\\\n",
       "\tprogression\\_rate & 0.700002 ( 0.52 - 0.88 )              & 0.758229447717037 ( 0.54 - 0.9 )              &  0.08318183 & 1.759824e-01\\\\\n",
       "\tmortality\\_rate & 0.699996 ( 0.52 - 0.88 )              & 0.478268939936261 ( 0.43 - 0.802 )            & -0.31675475 & 7.402064e+05\\\\\n",
       "\tdisease\\_timestep & 12.4998 ( 8 - 17 )                    & 16.6899807769436 ( 11 - 19 )                  &  0.33521983 & 4.825359e+06\\\\\n",
       "\tdisease\\_cell & 325.5015 ( 131 - 520 )                & 280.941554819424 ( 148.6 - 503.6 )            & -0.13689628 & 1.200513e-01\\\\\n",
       "\tprob\\_threshold & 0.0042049963 ( 0.0017368 - 0.006674 ) & 0.00399168511061955 ( 0.0019414 - 0.0062482 ) & -0.05072803 & 1.126262e-01\\\\\n",
       "\tnew\\_prob & 0.0465501 ( 0.025 - 0.068 )           & 0.0652824634768085 ( 0.0528 - 0.079 )         &  0.40241296 & 1.395079e+14\\\\\n",
       "\tjump\\_num & 274.9998 ( 140 - 410 )                & 294.156574932923 ( 221.2 - 441 )              &  0.06966105 & 1.389679e+02\\\\\n",
       "\\end{tabular}\n"
      ],
      "text/markdown": [
       "\n",
       "A data.frame: 8 × 4\n",
       "\n",
       "| <!--/--> | prior &lt;chr&gt; | posterior &lt;chr&gt; | change &lt;dbl&gt; | bayes &lt;dbl&gt; |\n",
       "|---|---|---|---|---|\n",
       "| transmission_rate | 0.699999 ( 0.52 - 0.88 )              | 0.808576443684461 ( 0.608 - 0.94 )            |  0.15511086 | 1.349845e+02 |\n",
       "| progression_rate | 0.700002 ( 0.52 - 0.88 )              | 0.758229447717037 ( 0.54 - 0.9 )              |  0.08318183 | 1.759824e-01 |\n",
       "| mortality_rate | 0.699996 ( 0.52 - 0.88 )              | 0.478268939936261 ( 0.43 - 0.802 )            | -0.31675475 | 7.402064e+05 |\n",
       "| disease_timestep | 12.4998 ( 8 - 17 )                    | 16.6899807769436 ( 11 - 19 )                  |  0.33521983 | 4.825359e+06 |\n",
       "| disease_cell | 325.5015 ( 131 - 520 )                | 280.941554819424 ( 148.6 - 503.6 )            | -0.13689628 | 1.200513e-01 |\n",
       "| prob_threshold | 0.0042049963 ( 0.0017368 - 0.006674 ) | 0.00399168511061955 ( 0.0019414 - 0.0062482 ) | -0.05072803 | 1.126262e-01 |\n",
       "| new_prob | 0.0465501 ( 0.025 - 0.068 )           | 0.0652824634768085 ( 0.0528 - 0.079 )         |  0.40241296 | 1.395079e+14 |\n",
       "| jump_num | 274.9998 ( 140 - 410 )                | 294.156574932923 ( 221.2 - 441 )              |  0.06966105 | 1.389679e+02 |\n",
       "\n"
      ],
      "text/plain": [
       "                  prior                                \n",
       "transmission_rate 0.699999 ( 0.52 - 0.88 )             \n",
       "progression_rate  0.700002 ( 0.52 - 0.88 )             \n",
       "mortality_rate    0.699996 ( 0.52 - 0.88 )             \n",
       "disease_timestep  12.4998 ( 8 - 17 )                   \n",
       "disease_cell      325.5015 ( 131 - 520 )               \n",
       "prob_threshold    0.0042049963 ( 0.0017368 - 0.006674 )\n",
       "new_prob          0.0465501 ( 0.025 - 0.068 )          \n",
       "jump_num          274.9998 ( 140 - 410 )               \n",
       "                  posterior                                     change     \n",
       "transmission_rate 0.808576443684461 ( 0.608 - 0.94 )             0.15511086\n",
       "progression_rate  0.758229447717037 ( 0.54 - 0.9 )               0.08318183\n",
       "mortality_rate    0.478268939936261 ( 0.43 - 0.802 )            -0.31675475\n",
       "disease_timestep  16.6899807769436 ( 11 - 19 )                   0.33521983\n",
       "disease_cell      280.941554819424 ( 148.6 - 503.6 )            -0.13689628\n",
       "prob_threshold    0.00399168511061955 ( 0.0019414 - 0.0062482 ) -0.05072803\n",
       "new_prob          0.0652824634768085 ( 0.0528 - 0.079 )          0.40241296\n",
       "jump_num          294.156574932923 ( 221.2 - 441 )               0.06966105\n",
       "                  bayes       \n",
       "transmission_rate 1.349845e+02\n",
       "progression_rate  1.759824e-01\n",
       "mortality_rate    7.402064e+05\n",
       "disease_timestep  4.825359e+06\n",
       "disease_cell      1.200513e-01\n",
       "prob_threshold    1.126262e-01\n",
       "new_prob          1.395079e+14\n",
       "jump_num          1.389679e+02"
      ]
     },
     "metadata": {},
     "output_type": "display_data"
    }
   ],
   "source": [
    "params_distrib[3:nrow(params_distrib),]\n"
   ]
  },
  {
   "cell_type": "code",
   "execution_count": 47,
   "id": "b05499e2",
   "metadata": {},
   "outputs": [],
   "source": [
    "# Example data frame with min, max, and median values\n",
    "data_summary <- data.frame(category=factor(row.names(params_distrib)),\n",
    "  min = 2*(posterior_p20-prior_min)/(prior_max-prior_min)-1,\n",
    "  median = 2*(posterior_mean-prior_min)/(prior_max-prior_min)-1,\n",
    "  max = 2*(posterior_p80-prior_min)/(prior_max-prior_min)-1\n",
    ")\n",
    "\n",
    "row.names(data_summary)=NULL\n",
    "\n",
    "#add prior\n",
    "new_row <- data.frame(\n",
    "  category = factor(c(\"prior\")),\n",
    "  min = -0.6,\n",
    "  median = 0,\n",
    "  max = 0.6\n",
    ")\n",
    "data_summary=rbind(new_row,data_summary)"
   ]
  },
  {
   "cell_type": "code",
   "execution_count": 48,
   "id": "305c4d12",
   "metadata": {},
   "outputs": [],
   "source": [
    "# data_summary <- data_summary[data_summary$category != 'dispersal_p', ]\n",
    "# data_summary <- data_summary[data_summary$category != 'dispersal_b', ]"
   ]
  },
  {
   "cell_type": "code",
   "execution_count": 49,
   "id": "90f1483c",
   "metadata": {},
   "outputs": [
    {
     "name": "stderr",
     "output_type": "stream",
     "text": [
      "Warning message:\n",
      "\"package 'ggplot2' was built under R version 4.4.1\"\n"
     ]
    },
    {
     "data": {
      "image/png": "[encoded data removed]",
      "text/plain": [
       "plot without title"
      ]
     },
     "metadata": {
      "image/png": {
       "height": 420,
       "width": 420
      }
     },
     "output_type": "display_data"
    }
   ],
   "source": [
    "# Create the plot\n",
    "library(ggplot2)\n",
    "p <- ggplot(data_summary, aes(y = category)) +\n",
    "  geom_rect(aes(xmin = min, xmax = max, ymin = as.numeric(category) - 0.4, ymax = as.numeric(category) + 0.4), \n",
    "            fill = \"lightblue\", color = \"black\") +  # Draw the box\n",
    "  geom_point(aes(x = median), color = \"red\", size = 3) +  # Mark the median\n",
    "  labs(x = \"p20-80\", y = \"variables\", title = \"prior vs posterior\") +\n",
    "  theme_minimal() +\n",
    "  xlim(- 1, 1)  # Adjust these values as needed\n",
    "\n",
    "# Print the plot\n",
    "print(p)"
   ]
  },
  {
   "cell_type": "code",
   "execution_count": null,
   "id": "2191767d",
   "metadata": {},
   "outputs": [],
   "source": []
  }
 ],
 "metadata": {
  "kernelspec": {
   "display_name": "R440",
   "language": "R",
   "name": "ir"
  },
  "language_info": {
   "codemirror_mode": "r",
   "file_extension": ".r",
   "mimetype": "text/x-r-source",
   "name": "R",
   "pygments_lexer": "r",
   "version": "4.4.0"
  },
  "toc": {
   "base_numbering": 1,
   "nav_menu": {},
   "number_sections": true,
   "sideBar": true,
   "skip_h1_title": false,
   "title_cell": "Table of Contents",
   "title_sidebar": "Contents",
   "toc_cell": false,
   "toc_position": {
    "height": "calc(100% - 180px)",
    "left": "10px",
    "top": "150px",
    "width": "307.188px"
   },
   "toc_section_display": true,
   "toc_window_display": false
  }
 },
 "nbformat": 4,
 "nbformat_minor": 5
}
